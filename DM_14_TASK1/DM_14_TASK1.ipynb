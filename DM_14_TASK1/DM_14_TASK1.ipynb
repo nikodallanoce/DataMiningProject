{
  "nbformat": 4,
  "nbformat_minor": 0,
  "metadata": {
    "colab": {
      "name": "DM_14_TASK1.ipynb",
      "provenance": [],
      "collapsed_sections": [
        "QptPXm81YsDp"
      ],
      "toc_visible": true
    },
    "kernelspec": {
      "name": "python3",
      "display_name": "Python 3"
    },
    "language_info": {
      "name": "python"
    }
  },
  "cells": [
    {
      "cell_type": "markdown",
      "metadata": {
        "id": "LWPlELK-iHca"
      },
      "source": [
        ""
      ]
    },
    {
      "cell_type": "markdown",
      "metadata": {
        "id": "DgGIb0deFWrk"
      },
      "source": [
        "**Data Mining Project, midterm 2021/2022**\n",
        "\n",
        "\n"
      ]
    },
    {
      "cell_type": "markdown",
      "metadata": {
        "id": "wKXfDR2pLRQC"
      },
      "source": [
        "**Authors:** Niko Dalla Noce, Alessandro Ristori, Giuseppe Lombardi"
      ]
    },
    {
      "cell_type": "markdown",
      "metadata": {
        "id": "t56AnW_YPBXr"
      },
      "source": [
        "#**Task 1.1 Data Understanding**"
      ]
    },
    {
      "cell_type": "markdown",
      "metadata": {
        "id": "KMDwrfRjG9MO"
      },
      "source": [
        "##**Importing libraries and extracting datasets**"
      ]
    },
    {
      "cell_type": "markdown",
      "metadata": {
        "id": "qQX0sTZFRftK"
      },
      "source": [
        "First we have to import the necessary libraries to work within our project."
      ]
    },
    {
      "cell_type": "code",
      "metadata": {
        "id": "dd1wddFIFTnq"
      },
      "source": [
        "import numpy as np\n",
        "import pandas as pd\n",
        "import matplotlib as plt\n",
        "import scipy"
      ],
      "execution_count": 1,
      "outputs": []
    },
    {
      "cell_type": "markdown",
      "metadata": {
        "id": "ke7iFPmtRtas"
      },
      "source": [
        "We assume that the dataset is inside a zip file, so we need to extract it."
      ]
    },
    {
      "cell_type": "code",
      "metadata": {
        "id": "wYq79RC6lfRF"
      },
      "source": [
        "import zipfile\n",
        "with zipfile.ZipFile(\"prj_data.zip\", 'r') as zip_ref:\n",
        "     zip_ref.extractall()"
      ],
      "execution_count": 2,
      "outputs": []
    },
    {
      "cell_type": "markdown",
      "metadata": {
        "id": "wpZzWIYlSySO"
      },
      "source": [
        "**Load the datasets**\n",
        "\n",
        "Read the data from the three csv files, each one is assigned to a different dataframe for now."
      ]
    },
    {
      "cell_type": "code",
      "metadata": {
        "id": "fOQVbE94E32o"
      },
      "source": [
        "df_male = pd.read_csv(\"male_players.csv\", sep=\",\")  # dataframe of male players\n",
        "df_female = pd.read_csv(\"female_players.csv\", sep=\",\")  # dataframe of female players\n",
        "df_matches = pd.read_csv(\"tennis_matches.csv\", sep=\",\", index_col=0)  # matches dataframe"
      ],
      "execution_count": 3,
      "outputs": []
    },
    {
      "cell_type": "markdown",
      "metadata": {
        "id": "DNCryxOURMvu"
      },
      "source": [
        "##**Data semantics**"
      ]
    },
    {
      "cell_type": "markdown",
      "metadata": {
        "id": "VNIraM1QSZxS"
      },
      "source": [
        "###**Some informations about the dataset**\n",
        "\n",
        "The players' dataframes, men and women, contain only the name and surname of the players (most of them are retired from the competitions and can't be found in any match record). That's why we decided to focus our work only on the match dataframe for now."
      ]
    },
    {
      "cell_type": "code",
      "metadata": {
        "id": "71aLk45CQR_t",
        "colab": {
          "base_uri": "https://localhost:8080/",
          "height": 324
        },
        "outputId": "8d1cccba-3236-489f-cd36-4fb447da312d"
      },
      "source": [
        "df_matches.head()"
      ],
      "execution_count": 4,
      "outputs": [
        {
          "output_type": "execute_result",
          "data": {
            "text/html": [
              "<div>\n",
              "<style scoped>\n",
              "    .dataframe tbody tr th:only-of-type {\n",
              "        vertical-align: middle;\n",
              "    }\n",
              "\n",
              "    .dataframe tbody tr th {\n",
              "        vertical-align: top;\n",
              "    }\n",
              "\n",
              "    .dataframe thead th {\n",
              "        text-align: right;\n",
              "    }\n",
              "</style>\n",
              "<table border=\"1\" class=\"dataframe\">\n",
              "  <thead>\n",
              "    <tr style=\"text-align: right;\">\n",
              "      <th></th>\n",
              "      <th>tourney_id</th>\n",
              "      <th>tourney_name</th>\n",
              "      <th>surface</th>\n",
              "      <th>draw_size</th>\n",
              "      <th>tourney_level</th>\n",
              "      <th>tourney_date</th>\n",
              "      <th>match_num</th>\n",
              "      <th>winner_id</th>\n",
              "      <th>winner_entry</th>\n",
              "      <th>winner_name</th>\n",
              "      <th>winner_hand</th>\n",
              "      <th>winner_ht</th>\n",
              "      <th>winner_ioc</th>\n",
              "      <th>winner_age</th>\n",
              "      <th>loser_id</th>\n",
              "      <th>loser_entry</th>\n",
              "      <th>loser_name</th>\n",
              "      <th>loser_hand</th>\n",
              "      <th>loser_ht</th>\n",
              "      <th>loser_ioc</th>\n",
              "      <th>loser_age</th>\n",
              "      <th>score</th>\n",
              "      <th>best_of</th>\n",
              "      <th>round</th>\n",
              "      <th>minutes</th>\n",
              "      <th>w_ace</th>\n",
              "      <th>w_df</th>\n",
              "      <th>w_svpt</th>\n",
              "      <th>w_1stIn</th>\n",
              "      <th>w_1stWon</th>\n",
              "      <th>w_2ndWon</th>\n",
              "      <th>w_SvGms</th>\n",
              "      <th>w_bpSaved</th>\n",
              "      <th>w_bpFaced</th>\n",
              "      <th>l_ace</th>\n",
              "      <th>l_df</th>\n",
              "      <th>l_svpt</th>\n",
              "      <th>l_1stIn</th>\n",
              "      <th>l_1stWon</th>\n",
              "      <th>l_2ndWon</th>\n",
              "      <th>l_SvGms</th>\n",
              "      <th>l_bpSaved</th>\n",
              "      <th>l_bpFaced</th>\n",
              "      <th>winner_rank</th>\n",
              "      <th>winner_rank_points</th>\n",
              "      <th>loser_rank</th>\n",
              "      <th>loser_rank_points</th>\n",
              "      <th>tourney_spectators</th>\n",
              "      <th>tourney_revenue</th>\n",
              "    </tr>\n",
              "  </thead>\n",
              "  <tbody>\n",
              "    <tr>\n",
              "      <th>0</th>\n",
              "      <td>2019-M020</td>\n",
              "      <td>Brisbane</td>\n",
              "      <td>Hard</td>\n",
              "      <td>32.0</td>\n",
              "      <td>A</td>\n",
              "      <td>20181231.0</td>\n",
              "      <td>300.0</td>\n",
              "      <td>105453.0</td>\n",
              "      <td>NaN</td>\n",
              "      <td>Kei Nishikori</td>\n",
              "      <td>R</td>\n",
              "      <td>178.0</td>\n",
              "      <td>JPN</td>\n",
              "      <td>95.000000</td>\n",
              "      <td>106421.0</td>\n",
              "      <td>NaN</td>\n",
              "      <td>Daniil Medvedev</td>\n",
              "      <td>R</td>\n",
              "      <td>198.0</td>\n",
              "      <td>RUS</td>\n",
              "      <td>22.885695</td>\n",
              "      <td>6-4 3-6 6-2</td>\n",
              "      <td>3.0</td>\n",
              "      <td>F</td>\n",
              "      <td>124.0</td>\n",
              "      <td>3.0</td>\n",
              "      <td>3.0</td>\n",
              "      <td>77.0</td>\n",
              "      <td>44.0</td>\n",
              "      <td>31.0</td>\n",
              "      <td>17.0</td>\n",
              "      <td>13.0</td>\n",
              "      <td>3.0</td>\n",
              "      <td>6.0</td>\n",
              "      <td>8.0</td>\n",
              "      <td>6.0</td>\n",
              "      <td>100.0</td>\n",
              "      <td>54.0</td>\n",
              "      <td>34.0</td>\n",
              "      <td>20.0</td>\n",
              "      <td>14.0</td>\n",
              "      <td>10.0</td>\n",
              "      <td>15.0</td>\n",
              "      <td>9.0</td>\n",
              "      <td>3590.0</td>\n",
              "      <td>16.0</td>\n",
              "      <td>1977.0</td>\n",
              "      <td>3928.0</td>\n",
              "      <td>742618.69</td>\n",
              "    </tr>\n",
              "    <tr>\n",
              "      <th>1</th>\n",
              "      <td>2019-M020</td>\n",
              "      <td>Brisbane</td>\n",
              "      <td>Hard</td>\n",
              "      <td>32.0</td>\n",
              "      <td>A</td>\n",
              "      <td>20181231.0</td>\n",
              "      <td>299.0</td>\n",
              "      <td>106421.0</td>\n",
              "      <td>NaN</td>\n",
              "      <td>Daniil Medvedev</td>\n",
              "      <td>R</td>\n",
              "      <td>198.0</td>\n",
              "      <td>RUS</td>\n",
              "      <td>22.885695</td>\n",
              "      <td>104542.0</td>\n",
              "      <td>PR</td>\n",
              "      <td>Jo-Wilfried Tsonga</td>\n",
              "      <td>R</td>\n",
              "      <td>188.0</td>\n",
              "      <td>FRA</td>\n",
              "      <td>33.705681</td>\n",
              "      <td>7-6(6) 6-2</td>\n",
              "      <td>3.0</td>\n",
              "      <td>SF</td>\n",
              "      <td>82.0</td>\n",
              "      <td>10.0</td>\n",
              "      <td>1.0</td>\n",
              "      <td>52.0</td>\n",
              "      <td>33.0</td>\n",
              "      <td>28.0</td>\n",
              "      <td>14.0</td>\n",
              "      <td>10.0</td>\n",
              "      <td>0.0</td>\n",
              "      <td>1.0</td>\n",
              "      <td>17.0</td>\n",
              "      <td>2.0</td>\n",
              "      <td>77.0</td>\n",
              "      <td>52.0</td>\n",
              "      <td>36.0</td>\n",
              "      <td>7.0</td>\n",
              "      <td>10.0</td>\n",
              "      <td>10.0</td>\n",
              "      <td>13.0</td>\n",
              "      <td>16.0</td>\n",
              "      <td>1977.0</td>\n",
              "      <td>239.0</td>\n",
              "      <td>200.0</td>\n",
              "      <td>3928.0</td>\n",
              "      <td>742618.69</td>\n",
              "    </tr>\n",
              "    <tr>\n",
              "      <th>2</th>\n",
              "      <td>2019-M020</td>\n",
              "      <td>Brisbane</td>\n",
              "      <td>Hard</td>\n",
              "      <td>32.0</td>\n",
              "      <td>A</td>\n",
              "      <td>20181231.0</td>\n",
              "      <td>298.0</td>\n",
              "      <td>105453.0</td>\n",
              "      <td>NaN</td>\n",
              "      <td>Kei Nishikori</td>\n",
              "      <td>R</td>\n",
              "      <td>178.0</td>\n",
              "      <td>JPN</td>\n",
              "      <td>29.004791</td>\n",
              "      <td>104871.0</td>\n",
              "      <td>NaN</td>\n",
              "      <td>Jeremy Chardy</td>\n",
              "      <td>R</td>\n",
              "      <td>188.0</td>\n",
              "      <td>FRA</td>\n",
              "      <td>31.882272</td>\n",
              "      <td>6-2 6-2</td>\n",
              "      <td>3.0</td>\n",
              "      <td>SF</td>\n",
              "      <td>66.0</td>\n",
              "      <td>2.0</td>\n",
              "      <td>2.0</td>\n",
              "      <td>47.0</td>\n",
              "      <td>33.0</td>\n",
              "      <td>26.0</td>\n",
              "      <td>9.0</td>\n",
              "      <td>8.0</td>\n",
              "      <td>2.0</td>\n",
              "      <td>2.0</td>\n",
              "      <td>10.0</td>\n",
              "      <td>3.0</td>\n",
              "      <td>46.0</td>\n",
              "      <td>27.0</td>\n",
              "      <td>15.0</td>\n",
              "      <td>6.0</td>\n",
              "      <td>8.0</td>\n",
              "      <td>1.0</td>\n",
              "      <td>5.0</td>\n",
              "      <td>9.0</td>\n",
              "      <td>3590.0</td>\n",
              "      <td>40.0</td>\n",
              "      <td>1050.0</td>\n",
              "      <td>3928.0</td>\n",
              "      <td>742618.69</td>\n",
              "    </tr>\n",
              "    <tr>\n",
              "      <th>3</th>\n",
              "      <td>2019-M020</td>\n",
              "      <td>Brisbane</td>\n",
              "      <td>Hard</td>\n",
              "      <td>32.0</td>\n",
              "      <td>A</td>\n",
              "      <td>20181231.0</td>\n",
              "      <td>297.0</td>\n",
              "      <td>104542.0</td>\n",
              "      <td>PR</td>\n",
              "      <td>Jo-Wilfried Tsonga</td>\n",
              "      <td>R</td>\n",
              "      <td>188.0</td>\n",
              "      <td>FRA</td>\n",
              "      <td>33.705681</td>\n",
              "      <td>200282.0</td>\n",
              "      <td>NaN</td>\n",
              "      <td>Alex De Minaur</td>\n",
              "      <td>R</td>\n",
              "      <td>183.0</td>\n",
              "      <td>AUS</td>\n",
              "      <td>19.868583</td>\n",
              "      <td>6-4 7-6(2)</td>\n",
              "      <td>3.0</td>\n",
              "      <td>QF</td>\n",
              "      <td>106.0</td>\n",
              "      <td>12.0</td>\n",
              "      <td>2.0</td>\n",
              "      <td>68.0</td>\n",
              "      <td>43.0</td>\n",
              "      <td>34.0</td>\n",
              "      <td>15.0</td>\n",
              "      <td>11.0</td>\n",
              "      <td>4.0</td>\n",
              "      <td>5.0</td>\n",
              "      <td>1.0</td>\n",
              "      <td>2.0</td>\n",
              "      <td>81.0</td>\n",
              "      <td>60.0</td>\n",
              "      <td>38.0</td>\n",
              "      <td>9.0</td>\n",
              "      <td>11.0</td>\n",
              "      <td>4.0</td>\n",
              "      <td>6.0</td>\n",
              "      <td>239.0</td>\n",
              "      <td>200.0</td>\n",
              "      <td>31.0</td>\n",
              "      <td>1298.0</td>\n",
              "      <td>3928.0</td>\n",
              "      <td>742618.69</td>\n",
              "    </tr>\n",
              "    <tr>\n",
              "      <th>4</th>\n",
              "      <td>2019-M020</td>\n",
              "      <td>Brisbane</td>\n",
              "      <td>Hard</td>\n",
              "      <td>32.0</td>\n",
              "      <td>A</td>\n",
              "      <td>20181231.0</td>\n",
              "      <td>296.0</td>\n",
              "      <td>106421.0</td>\n",
              "      <td>NaN</td>\n",
              "      <td>Daniil Medvedev</td>\n",
              "      <td>R</td>\n",
              "      <td>198.0</td>\n",
              "      <td>RUS</td>\n",
              "      <td>22.885695</td>\n",
              "      <td>105683.0</td>\n",
              "      <td>NaN</td>\n",
              "      <td>Milos Raonic</td>\n",
              "      <td>R</td>\n",
              "      <td>196.0</td>\n",
              "      <td>CAN</td>\n",
              "      <td>28.010951</td>\n",
              "      <td>6-7(2) 6-3 6-4</td>\n",
              "      <td>3.0</td>\n",
              "      <td>QF</td>\n",
              "      <td>129.0</td>\n",
              "      <td>12.0</td>\n",
              "      <td>3.0</td>\n",
              "      <td>105.0</td>\n",
              "      <td>68.0</td>\n",
              "      <td>48.0</td>\n",
              "      <td>25.0</td>\n",
              "      <td>16.0</td>\n",
              "      <td>8.0</td>\n",
              "      <td>8.0</td>\n",
              "      <td>29.0</td>\n",
              "      <td>5.0</td>\n",
              "      <td>94.0</td>\n",
              "      <td>56.0</td>\n",
              "      <td>46.0</td>\n",
              "      <td>19.0</td>\n",
              "      <td>15.0</td>\n",
              "      <td>2.0</td>\n",
              "      <td>4.0</td>\n",
              "      <td>16.0</td>\n",
              "      <td>1977.0</td>\n",
              "      <td>18.0</td>\n",
              "      <td>1855.0</td>\n",
              "      <td>3928.0</td>\n",
              "      <td>742618.69</td>\n",
              "    </tr>\n",
              "  </tbody>\n",
              "</table>\n",
              "</div>"
            ],
            "text/plain": [
              "  tourney_id tourney_name  ... tourney_spectators  tourney_revenue\n",
              "0  2019-M020     Brisbane  ...             3928.0        742618.69\n",
              "1  2019-M020     Brisbane  ...             3928.0        742618.69\n",
              "2  2019-M020     Brisbane  ...             3928.0        742618.69\n",
              "3  2019-M020     Brisbane  ...             3928.0        742618.69\n",
              "4  2019-M020     Brisbane  ...             3928.0        742618.69\n",
              "\n",
              "[5 rows x 49 columns]"
            ]
          },
          "metadata": {},
          "execution_count": 4
        }
      ]
    },
    {
      "cell_type": "markdown",
      "metadata": {
        "id": "Zzd1Gc1grx75"
      },
      "source": [
        "We found that the last records of the matches dataset (the Taipei tournament) are missing a lot of values."
      ]
    },
    {
      "cell_type": "code",
      "metadata": {
        "id": "KnewjXfwqqJt",
        "colab": {
          "base_uri": "https://localhost:8080/",
          "height": 307
        },
        "outputId": "029294af-0cd7-440c-ea36-355d286a8e7e"
      },
      "source": [
        "df_matches.tail()"
      ],
      "execution_count": 5,
      "outputs": [
        {
          "output_type": "execute_result",
          "data": {
            "text/html": [
              "<div>\n",
              "<style scoped>\n",
              "    .dataframe tbody tr th:only-of-type {\n",
              "        vertical-align: middle;\n",
              "    }\n",
              "\n",
              "    .dataframe tbody tr th {\n",
              "        vertical-align: top;\n",
              "    }\n",
              "\n",
              "    .dataframe thead th {\n",
              "        text-align: right;\n",
              "    }\n",
              "</style>\n",
              "<table border=\"1\" class=\"dataframe\">\n",
              "  <thead>\n",
              "    <tr style=\"text-align: right;\">\n",
              "      <th></th>\n",
              "      <th>tourney_id</th>\n",
              "      <th>tourney_name</th>\n",
              "      <th>surface</th>\n",
              "      <th>draw_size</th>\n",
              "      <th>tourney_level</th>\n",
              "      <th>tourney_date</th>\n",
              "      <th>match_num</th>\n",
              "      <th>winner_id</th>\n",
              "      <th>winner_entry</th>\n",
              "      <th>winner_name</th>\n",
              "      <th>winner_hand</th>\n",
              "      <th>winner_ht</th>\n",
              "      <th>winner_ioc</th>\n",
              "      <th>winner_age</th>\n",
              "      <th>loser_id</th>\n",
              "      <th>loser_entry</th>\n",
              "      <th>loser_name</th>\n",
              "      <th>loser_hand</th>\n",
              "      <th>loser_ht</th>\n",
              "      <th>loser_ioc</th>\n",
              "      <th>loser_age</th>\n",
              "      <th>score</th>\n",
              "      <th>best_of</th>\n",
              "      <th>round</th>\n",
              "      <th>minutes</th>\n",
              "      <th>w_ace</th>\n",
              "      <th>w_df</th>\n",
              "      <th>w_svpt</th>\n",
              "      <th>w_1stIn</th>\n",
              "      <th>w_1stWon</th>\n",
              "      <th>w_2ndWon</th>\n",
              "      <th>w_SvGms</th>\n",
              "      <th>w_bpSaved</th>\n",
              "      <th>w_bpFaced</th>\n",
              "      <th>l_ace</th>\n",
              "      <th>l_df</th>\n",
              "      <th>l_svpt</th>\n",
              "      <th>l_1stIn</th>\n",
              "      <th>l_1stWon</th>\n",
              "      <th>l_2ndWon</th>\n",
              "      <th>l_SvGms</th>\n",
              "      <th>l_bpSaved</th>\n",
              "      <th>l_bpFaced</th>\n",
              "      <th>winner_rank</th>\n",
              "      <th>winner_rank_points</th>\n",
              "      <th>loser_rank</th>\n",
              "      <th>loser_rank_points</th>\n",
              "      <th>tourney_spectators</th>\n",
              "      <th>tourney_revenue</th>\n",
              "    </tr>\n",
              "  </thead>\n",
              "  <tbody>\n",
              "    <tr>\n",
              "      <th>186123</th>\n",
              "      <td>NaN</td>\n",
              "      <td>NaN</td>\n",
              "      <td>Hard</td>\n",
              "      <td>32.0</td>\n",
              "      <td>NaN</td>\n",
              "      <td>20171113.0</td>\n",
              "      <td>250.0</td>\n",
              "      <td>NaN</td>\n",
              "      <td>NaN</td>\n",
              "      <td>NaN</td>\n",
              "      <td>NaN</td>\n",
              "      <td>NaN</td>\n",
              "      <td>NaN</td>\n",
              "      <td>26.206708</td>\n",
              "      <td>206075.0</td>\n",
              "      <td>NaN</td>\n",
              "      <td>NaN</td>\n",
              "      <td>NaN</td>\n",
              "      <td>NaN</td>\n",
              "      <td>NaN</td>\n",
              "      <td>26.90486</td>\n",
              "      <td>3-6 6-2 6-3</td>\n",
              "      <td>NaN</td>\n",
              "      <td>NaN</td>\n",
              "      <td>NaN</td>\n",
              "      <td>NaN</td>\n",
              "      <td>1.0</td>\n",
              "      <td>NaN</td>\n",
              "      <td>49.0</td>\n",
              "      <td>38.0</td>\n",
              "      <td>16.0</td>\n",
              "      <td>NaN</td>\n",
              "      <td>7.0</td>\n",
              "      <td>NaN</td>\n",
              "      <td>1.0</td>\n",
              "      <td>3.0</td>\n",
              "      <td>93.0</td>\n",
              "      <td>NaN</td>\n",
              "      <td>NaN</td>\n",
              "      <td>NaN</td>\n",
              "      <td>NaN</td>\n",
              "      <td>7.0</td>\n",
              "      <td>11.0</td>\n",
              "      <td>NaN</td>\n",
              "      <td>322.0</td>\n",
              "      <td>280.0</td>\n",
              "      <td>183.0</td>\n",
              "      <td>NaN</td>\n",
              "      <td>NaN</td>\n",
              "    </tr>\n",
              "    <tr>\n",
              "      <th>186124</th>\n",
              "      <td>NaN</td>\n",
              "      <td>Taipei</td>\n",
              "      <td>NaN</td>\n",
              "      <td>32.0</td>\n",
              "      <td>C</td>\n",
              "      <td>20171113.0</td>\n",
              "      <td>NaN</td>\n",
              "      <td>NaN</td>\n",
              "      <td>NaN</td>\n",
              "      <td>Veronika Kudermetova</td>\n",
              "      <td>NaN</td>\n",
              "      <td>175.0</td>\n",
              "      <td>NaN</td>\n",
              "      <td>NaN</td>\n",
              "      <td>214562.0</td>\n",
              "      <td>WC</td>\n",
              "      <td>Ingrid Neel</td>\n",
              "      <td>NaN</td>\n",
              "      <td>NaN</td>\n",
              "      <td>USA</td>\n",
              "      <td>NaN</td>\n",
              "      <td>7-6(3) 6-2</td>\n",
              "      <td>NaN</td>\n",
              "      <td>NaN</td>\n",
              "      <td>71.0</td>\n",
              "      <td>10.0</td>\n",
              "      <td>8.0</td>\n",
              "      <td>63.0</td>\n",
              "      <td>NaN</td>\n",
              "      <td>32.0</td>\n",
              "      <td>NaN</td>\n",
              "      <td>10.0</td>\n",
              "      <td>2.0</td>\n",
              "      <td>5.0</td>\n",
              "      <td>NaN</td>\n",
              "      <td>NaN</td>\n",
              "      <td>68.0</td>\n",
              "      <td>NaN</td>\n",
              "      <td>NaN</td>\n",
              "      <td>NaN</td>\n",
              "      <td>NaN</td>\n",
              "      <td>NaN</td>\n",
              "      <td>NaN</td>\n",
              "      <td>255.0</td>\n",
              "      <td>217.0</td>\n",
              "      <td>704.0</td>\n",
              "      <td>NaN</td>\n",
              "      <td>NaN</td>\n",
              "      <td>NaN</td>\n",
              "    </tr>\n",
              "    <tr>\n",
              "      <th>186125</th>\n",
              "      <td>NaN</td>\n",
              "      <td>NaN</td>\n",
              "      <td>NaN</td>\n",
              "      <td>NaN</td>\n",
              "      <td>C</td>\n",
              "      <td>NaN</td>\n",
              "      <td>NaN</td>\n",
              "      <td>NaN</td>\n",
              "      <td>NaN</td>\n",
              "      <td>Dalila Jakupovic</td>\n",
              "      <td>NaN</td>\n",
              "      <td>NaN</td>\n",
              "      <td>NaN</td>\n",
              "      <td>26.642026</td>\n",
              "      <td>201674.0</td>\n",
              "      <td>NaN</td>\n",
              "      <td>NaN</td>\n",
              "      <td>R</td>\n",
              "      <td>NaN</td>\n",
              "      <td>UZB</td>\n",
              "      <td>NaN</td>\n",
              "      <td>NaN</td>\n",
              "      <td>3.0</td>\n",
              "      <td>NaN</td>\n",
              "      <td>70.0</td>\n",
              "      <td>NaN</td>\n",
              "      <td>2.0</td>\n",
              "      <td>55.0</td>\n",
              "      <td>NaN</td>\n",
              "      <td>NaN</td>\n",
              "      <td>NaN</td>\n",
              "      <td>NaN</td>\n",
              "      <td>6.0</td>\n",
              "      <td>8.0</td>\n",
              "      <td>1.0</td>\n",
              "      <td>4.0</td>\n",
              "      <td>NaN</td>\n",
              "      <td>NaN</td>\n",
              "      <td>NaN</td>\n",
              "      <td>NaN</td>\n",
              "      <td>NaN</td>\n",
              "      <td>NaN</td>\n",
              "      <td>11.0</td>\n",
              "      <td>NaN</td>\n",
              "      <td>NaN</td>\n",
              "      <td>NaN</td>\n",
              "      <td>NaN</td>\n",
              "      <td>NaN</td>\n",
              "      <td>NaN</td>\n",
              "    </tr>\n",
              "    <tr>\n",
              "      <th>186126</th>\n",
              "      <td>NaN</td>\n",
              "      <td>NaN</td>\n",
              "      <td>NaN</td>\n",
              "      <td>32.0</td>\n",
              "      <td>C</td>\n",
              "      <td>20171113.0</td>\n",
              "      <td>NaN</td>\n",
              "      <td>NaN</td>\n",
              "      <td>NaN</td>\n",
              "      <td>Vitalia Diatchenko</td>\n",
              "      <td>NaN</td>\n",
              "      <td>170.0</td>\n",
              "      <td>RUS</td>\n",
              "      <td>NaN</td>\n",
              "      <td>NaN</td>\n",
              "      <td>NaN</td>\n",
              "      <td>NaN</td>\n",
              "      <td>NaN</td>\n",
              "      <td>NaN</td>\n",
              "      <td>NaN</td>\n",
              "      <td>NaN</td>\n",
              "      <td>0-6 6-2 6-4</td>\n",
              "      <td>3.0</td>\n",
              "      <td>NaN</td>\n",
              "      <td>115.0</td>\n",
              "      <td>NaN</td>\n",
              "      <td>8.0</td>\n",
              "      <td>NaN</td>\n",
              "      <td>NaN</td>\n",
              "      <td>NaN</td>\n",
              "      <td>NaN</td>\n",
              "      <td>NaN</td>\n",
              "      <td>3.0</td>\n",
              "      <td>NaN</td>\n",
              "      <td>NaN</td>\n",
              "      <td>0.0</td>\n",
              "      <td>75.0</td>\n",
              "      <td>NaN</td>\n",
              "      <td>NaN</td>\n",
              "      <td>13.0</td>\n",
              "      <td>NaN</td>\n",
              "      <td>3.0</td>\n",
              "      <td>NaN</td>\n",
              "      <td>176.0</td>\n",
              "      <td>NaN</td>\n",
              "      <td>NaN</td>\n",
              "      <td>NaN</td>\n",
              "      <td>3535.0</td>\n",
              "      <td>NaN</td>\n",
              "    </tr>\n",
              "    <tr>\n",
              "      <th>186127</th>\n",
              "      <td>NaN</td>\n",
              "      <td>Taipei</td>\n",
              "      <td>Hard</td>\n",
              "      <td>32.0</td>\n",
              "      <td>C</td>\n",
              "      <td>20171113.0</td>\n",
              "      <td>NaN</td>\n",
              "      <td>NaN</td>\n",
              "      <td>NaN</td>\n",
              "      <td>Priscilla Hon</td>\n",
              "      <td>NaN</td>\n",
              "      <td>NaN</td>\n",
              "      <td>AUS</td>\n",
              "      <td>19.512663</td>\n",
              "      <td>NaN</td>\n",
              "      <td>NaN</td>\n",
              "      <td>NaN</td>\n",
              "      <td>NaN</td>\n",
              "      <td>NaN</td>\n",
              "      <td>USA</td>\n",
              "      <td>NaN</td>\n",
              "      <td>6-4 6-4</td>\n",
              "      <td>NaN</td>\n",
              "      <td>NaN</td>\n",
              "      <td>NaN</td>\n",
              "      <td>NaN</td>\n",
              "      <td>NaN</td>\n",
              "      <td>NaN</td>\n",
              "      <td>NaN</td>\n",
              "      <td>NaN</td>\n",
              "      <td>NaN</td>\n",
              "      <td>NaN</td>\n",
              "      <td>NaN</td>\n",
              "      <td>6.0</td>\n",
              "      <td>8.0</td>\n",
              "      <td>NaN</td>\n",
              "      <td>NaN</td>\n",
              "      <td>43.0</td>\n",
              "      <td>25.0</td>\n",
              "      <td>9.0</td>\n",
              "      <td>10.0</td>\n",
              "      <td>4.0</td>\n",
              "      <td>8.0</td>\n",
              "      <td>NaN</td>\n",
              "      <td>NaN</td>\n",
              "      <td>181.0</td>\n",
              "      <td>322.0</td>\n",
              "      <td>3535.0</td>\n",
              "      <td>638954.72</td>\n",
              "    </tr>\n",
              "  </tbody>\n",
              "</table>\n",
              "</div>"
            ],
            "text/plain": [
              "       tourney_id tourney_name  ... tourney_spectators  tourney_revenue\n",
              "186123        NaN          NaN  ...                NaN              NaN\n",
              "186124        NaN       Taipei  ...                NaN              NaN\n",
              "186125        NaN          NaN  ...                NaN              NaN\n",
              "186126        NaN          NaN  ...             3535.0              NaN\n",
              "186127        NaN       Taipei  ...             3535.0        638954.72\n",
              "\n",
              "[5 rows x 49 columns]"
            ]
          },
          "metadata": {},
          "execution_count": 5
        }
      ]
    },
    {
      "cell_type": "code",
      "metadata": {
        "id": "7C2CaR47M1E7",
        "colab": {
          "base_uri": "https://localhost:8080/"
        },
        "outputId": "494424b5-e73d-47fa-f198-2a24decd0262"
      },
      "source": [
        "df_matches.info()"
      ],
      "execution_count": 6,
      "outputs": [
        {
          "output_type": "stream",
          "name": "stdout",
          "text": [
            "<class 'pandas.core.frame.DataFrame'>\n",
            "Int64Index: 186128 entries, 0 to 186127\n",
            "Data columns (total 49 columns):\n",
            " #   Column              Non-Null Count   Dtype  \n",
            "---  ------              --------------   -----  \n",
            " 0   tourney_id          186073 non-null  object \n",
            " 1   tourney_name        186103 non-null  object \n",
            " 2   surface             185940 non-null  object \n",
            " 3   draw_size           186099 non-null  float64\n",
            " 4   tourney_level       186099 non-null  object \n",
            " 5   tourney_date        186100 non-null  float64\n",
            " 6   match_num           186101 non-null  float64\n",
            " 7   winner_id           186073 non-null  float64\n",
            " 8   winner_entry        25827 non-null   object \n",
            " 9   winner_name         186101 non-null  object \n",
            " 10  winner_hand         186082 non-null  object \n",
            " 11  winner_ht           49341 non-null   float64\n",
            " 12  winner_ioc          186099 non-null  object \n",
            " 13  winner_age          183275 non-null  float64\n",
            " 14  loser_id            186100 non-null  float64\n",
            " 15  loser_entry         44154 non-null   object \n",
            " 16  loser_name          186097 non-null  object \n",
            " 17  loser_hand          186030 non-null  object \n",
            " 18  loser_ht            38348 non-null   float64\n",
            " 19  loser_ioc           186102 non-null  object \n",
            " 20  loser_age           179590 non-null  float64\n",
            " 21  score               185929 non-null  object \n",
            " 22  best_of             186099 non-null  float64\n",
            " 23  round               186098 non-null  object \n",
            " 24  minutes             81660 non-null   float64\n",
            " 25  w_ace               82310 non-null   float64\n",
            " 26  w_df                82312 non-null   float64\n",
            " 27  w_svpt              82310 non-null   float64\n",
            " 28  w_1stIn             82310 non-null   float64\n",
            " 29  w_1stWon            82312 non-null   float64\n",
            " 30  w_2ndWon            82309 non-null   float64\n",
            " 31  w_SvGms             82311 non-null   float64\n",
            " 32  w_bpSaved           82315 non-null   float64\n",
            " 33  w_bpFaced           82312 non-null   float64\n",
            " 34  l_ace               82313 non-null   float64\n",
            " 35  l_df                82319 non-null   float64\n",
            " 36  l_svpt              82315 non-null   float64\n",
            " 37  l_1stIn             82304 non-null   float64\n",
            " 38  l_1stWon            82311 non-null   float64\n",
            " 39  l_2ndWon            82312 non-null   float64\n",
            " 40  l_SvGms             82318 non-null   float64\n",
            " 41  l_bpSaved           82311 non-null   float64\n",
            " 42  l_bpFaced           82306 non-null   float64\n",
            " 43  winner_rank         166719 non-null  float64\n",
            " 44  winner_rank_points  166701 non-null  float64\n",
            " 45  loser_rank          150845 non-null  float64\n",
            " 46  loser_rank_points   150828 non-null  float64\n",
            " 47  tourney_spectators  186101 non-null  float64\n",
            " 48  tourney_revenue     186102 non-null  float64\n",
            "dtypes: float64(35), object(14)\n",
            "memory usage: 71.0+ MB\n"
          ]
        }
      ]
    },
    {
      "cell_type": "markdown",
      "metadata": {
        "id": "uJdgciZtC9_O"
      },
      "source": [
        "###**Type casting**\n",
        "\n",
        "Most of the attributes have a wrong type, we need to fix it."
      ]
    },
    {
      "cell_type": "code",
      "metadata": {
        "id": "xBLopP0brHT-",
        "colab": {
          "base_uri": "https://localhost:8080/"
        },
        "outputId": "2a901a43-0442-4722-ed2a-57d6bf43ebe8"
      },
      "source": [
        "df_matches.dtypes"
      ],
      "execution_count": 7,
      "outputs": [
        {
          "output_type": "execute_result",
          "data": {
            "text/plain": [
              "tourney_id             object\n",
              "tourney_name           object\n",
              "surface                object\n",
              "draw_size             float64\n",
              "tourney_level          object\n",
              "tourney_date          float64\n",
              "match_num             float64\n",
              "winner_id             float64\n",
              "winner_entry           object\n",
              "winner_name            object\n",
              "winner_hand            object\n",
              "winner_ht             float64\n",
              "winner_ioc             object\n",
              "winner_age            float64\n",
              "loser_id              float64\n",
              "loser_entry            object\n",
              "loser_name             object\n",
              "loser_hand             object\n",
              "loser_ht              float64\n",
              "loser_ioc              object\n",
              "loser_age             float64\n",
              "score                  object\n",
              "best_of               float64\n",
              "round                  object\n",
              "minutes               float64\n",
              "w_ace                 float64\n",
              "w_df                  float64\n",
              "w_svpt                float64\n",
              "w_1stIn               float64\n",
              "w_1stWon              float64\n",
              "w_2ndWon              float64\n",
              "w_SvGms               float64\n",
              "w_bpSaved             float64\n",
              "w_bpFaced             float64\n",
              "l_ace                 float64\n",
              "l_df                  float64\n",
              "l_svpt                float64\n",
              "l_1stIn               float64\n",
              "l_1stWon              float64\n",
              "l_2ndWon              float64\n",
              "l_SvGms               float64\n",
              "l_bpSaved             float64\n",
              "l_bpFaced             float64\n",
              "winner_rank           float64\n",
              "winner_rank_points    float64\n",
              "loser_rank            float64\n",
              "loser_rank_points     float64\n",
              "tourney_spectators    float64\n",
              "tourney_revenue       float64\n",
              "dtype: object"
            ]
          },
          "metadata": {},
          "execution_count": 7
        }
      ]
    },
    {
      "cell_type": "code",
      "metadata": {
        "id": "wxbFBqe3DTXU",
        "colab": {
          "base_uri": "https://localhost:8080/"
        },
        "outputId": "c8f777b7-72f5-4071-e215-e6b9cebc739a"
      },
      "source": [
        "df_matches['tourney_date']= df_matches['tourney_date'].astype(pd.Int32Dtype(), errors='ignore').astype(pd.StringDtype())\n",
        "df_matches['tourney_date'] = pd.to_datetime(df_matches['tourney_date'], errors='coerce', format='%Y%m%d')\n",
        "df_matches.iloc[:, [3, 6, 7, 11, 14, 18, 22]] = df_matches.iloc[:, [3, 6, 7, 11, 14, 18, 22]].astype(\"Int64\", errors=\"ignore\")\n",
        "df_matches.iloc[:, 24:48] = df_matches.iloc[:, 24:48].astype(\"Int64\", errors=\"ignore\")\n",
        "df_matches.dtypes"
      ],
      "execution_count": 8,
      "outputs": [
        {
          "output_type": "execute_result",
          "data": {
            "text/plain": [
              "tourney_id                    object\n",
              "tourney_name                  object\n",
              "surface                       object\n",
              "draw_size                      Int64\n",
              "tourney_level                 object\n",
              "tourney_date          datetime64[ns]\n",
              "match_num                      Int64\n",
              "winner_id                      Int64\n",
              "winner_entry                  object\n",
              "winner_name                   object\n",
              "winner_hand                   object\n",
              "winner_ht                      Int64\n",
              "winner_ioc                    object\n",
              "winner_age                   float64\n",
              "loser_id                       Int64\n",
              "loser_entry                   object\n",
              "loser_name                    object\n",
              "loser_hand                    object\n",
              "loser_ht                       Int64\n",
              "loser_ioc                     object\n",
              "loser_age                    float64\n",
              "score                         object\n",
              "best_of                        Int64\n",
              "round                         object\n",
              "minutes                        Int64\n",
              "w_ace                          Int64\n",
              "w_df                           Int64\n",
              "w_svpt                         Int64\n",
              "w_1stIn                        Int64\n",
              "w_1stWon                       Int64\n",
              "w_2ndWon                       Int64\n",
              "w_SvGms                        Int64\n",
              "w_bpSaved                      Int64\n",
              "w_bpFaced                      Int64\n",
              "l_ace                          Int64\n",
              "l_df                           Int64\n",
              "l_svpt                         Int64\n",
              "l_1stIn                        Int64\n",
              "l_1stWon                       Int64\n",
              "l_2ndWon                       Int64\n",
              "l_SvGms                        Int64\n",
              "l_bpSaved                      Int64\n",
              "l_bpFaced                      Int64\n",
              "winner_rank                    Int64\n",
              "winner_rank_points             Int64\n",
              "loser_rank                     Int64\n",
              "loser_rank_points              Int64\n",
              "tourney_spectators             Int64\n",
              "tourney_revenue              float64\n",
              "dtype: object"
            ]
          },
          "metadata": {},
          "execution_count": 8
        }
      ]
    },
    {
      "cell_type": "markdown",
      "metadata": {
        "id": "dOAHSmkhw6z2"
      },
      "source": [
        "###**Dropping Duplicates**\n",
        "\n",
        "Since there shouldn't be any duplitcated matches, we need to find and drop them."
      ]
    },
    {
      "cell_type": "code",
      "metadata": {
        "id": "f8juhOn4xDDO",
        "colab": {
          "base_uri": "https://localhost:8080/",
          "height": 638
        },
        "outputId": "9a85a6d7-b216-4299-baef-92929aefcea3"
      },
      "source": [
        "ndupl = df_matches.duplicated()\n",
        "ndupl = df_matches[ndupl]\n",
        "print(\"Number of duplicated matches: {0}\".format(len(ndupl)))\n",
        "ndupl"
      ],
      "execution_count": 9,
      "outputs": [
        {
          "output_type": "stream",
          "name": "stdout",
          "text": [
            "Number of duplicated matches: 309\n"
          ]
        },
        {
          "output_type": "execute_result",
          "data": {
            "text/html": [
              "<div>\n",
              "<style scoped>\n",
              "    .dataframe tbody tr th:only-of-type {\n",
              "        vertical-align: middle;\n",
              "    }\n",
              "\n",
              "    .dataframe tbody tr th {\n",
              "        vertical-align: top;\n",
              "    }\n",
              "\n",
              "    .dataframe thead th {\n",
              "        text-align: right;\n",
              "    }\n",
              "</style>\n",
              "<table border=\"1\" class=\"dataframe\">\n",
              "  <thead>\n",
              "    <tr style=\"text-align: right;\">\n",
              "      <th></th>\n",
              "      <th>tourney_id</th>\n",
              "      <th>tourney_name</th>\n",
              "      <th>surface</th>\n",
              "      <th>draw_size</th>\n",
              "      <th>tourney_level</th>\n",
              "      <th>tourney_date</th>\n",
              "      <th>match_num</th>\n",
              "      <th>winner_id</th>\n",
              "      <th>winner_entry</th>\n",
              "      <th>winner_name</th>\n",
              "      <th>winner_hand</th>\n",
              "      <th>winner_ht</th>\n",
              "      <th>winner_ioc</th>\n",
              "      <th>winner_age</th>\n",
              "      <th>loser_id</th>\n",
              "      <th>loser_entry</th>\n",
              "      <th>loser_name</th>\n",
              "      <th>loser_hand</th>\n",
              "      <th>loser_ht</th>\n",
              "      <th>loser_ioc</th>\n",
              "      <th>loser_age</th>\n",
              "      <th>score</th>\n",
              "      <th>best_of</th>\n",
              "      <th>round</th>\n",
              "      <th>minutes</th>\n",
              "      <th>w_ace</th>\n",
              "      <th>w_df</th>\n",
              "      <th>w_svpt</th>\n",
              "      <th>w_1stIn</th>\n",
              "      <th>w_1stWon</th>\n",
              "      <th>w_2ndWon</th>\n",
              "      <th>w_SvGms</th>\n",
              "      <th>w_bpSaved</th>\n",
              "      <th>w_bpFaced</th>\n",
              "      <th>l_ace</th>\n",
              "      <th>l_df</th>\n",
              "      <th>l_svpt</th>\n",
              "      <th>l_1stIn</th>\n",
              "      <th>l_1stWon</th>\n",
              "      <th>l_2ndWon</th>\n",
              "      <th>l_SvGms</th>\n",
              "      <th>l_bpSaved</th>\n",
              "      <th>l_bpFaced</th>\n",
              "      <th>winner_rank</th>\n",
              "      <th>winner_rank_points</th>\n",
              "      <th>loser_rank</th>\n",
              "      <th>loser_rank_points</th>\n",
              "      <th>tourney_spectators</th>\n",
              "      <th>tourney_revenue</th>\n",
              "    </tr>\n",
              "  </thead>\n",
              "  <tbody>\n",
              "    <tr>\n",
              "      <th>12066</th>\n",
              "      <td>2017-1059</td>\n",
              "      <td>Taipei</td>\n",
              "      <td>Hard</td>\n",
              "      <td>32</td>\n",
              "      <td>C</td>\n",
              "      <td>2017-11-13</td>\n",
              "      <td>243</td>\n",
              "      <td>214562</td>\n",
              "      <td>WC</td>\n",
              "      <td>Ingrid Neel</td>\n",
              "      <td>U</td>\n",
              "      <td>&lt;NA&gt;</td>\n",
              "      <td>USA</td>\n",
              "      <td>19.411362</td>\n",
              "      <td>203475</td>\n",
              "      <td>NaN</td>\n",
              "      <td>Carol Zhao</td>\n",
              "      <td>R</td>\n",
              "      <td>&lt;NA&gt;</td>\n",
              "      <td>CAN</td>\n",
              "      <td>22.401095</td>\n",
              "      <td>6-7(7) 7-6(6) 6-2</td>\n",
              "      <td>3</td>\n",
              "      <td>Q1</td>\n",
              "      <td>154</td>\n",
              "      <td>7</td>\n",
              "      <td>10</td>\n",
              "      <td>124</td>\n",
              "      <td>84</td>\n",
              "      <td>53</td>\n",
              "      <td>14</td>\n",
              "      <td>16</td>\n",
              "      <td>7</td>\n",
              "      <td>13</td>\n",
              "      <td>9</td>\n",
              "      <td>17</td>\n",
              "      <td>151</td>\n",
              "      <td>90</td>\n",
              "      <td>54</td>\n",
              "      <td>21</td>\n",
              "      <td>16</td>\n",
              "      <td>14</td>\n",
              "      <td>22</td>\n",
              "      <td>704</td>\n",
              "      <td>27</td>\n",
              "      <td>150</td>\n",
              "      <td>390</td>\n",
              "      <td>3535</td>\n",
              "      <td>638954.72</td>\n",
              "    </tr>\n",
              "    <tr>\n",
              "      <th>12067</th>\n",
              "      <td>2017-1059</td>\n",
              "      <td>Taipei</td>\n",
              "      <td>Hard</td>\n",
              "      <td>32</td>\n",
              "      <td>C</td>\n",
              "      <td>2017-11-13</td>\n",
              "      <td>244</td>\n",
              "      <td>206368</td>\n",
              "      <td>NaN</td>\n",
              "      <td>Veronika Kudermetova</td>\n",
              "      <td>R</td>\n",
              "      <td>175</td>\n",
              "      <td>RUS</td>\n",
              "      <td>20.555784</td>\n",
              "      <td>203576</td>\n",
              "      <td>NaN</td>\n",
              "      <td>Kai Lin Zhang</td>\n",
              "      <td>R</td>\n",
              "      <td>&lt;NA&gt;</td>\n",
              "      <td>CHN</td>\n",
              "      <td>27.791923</td>\n",
              "      <td>7-6(2) 7-5</td>\n",
              "      <td>3</td>\n",
              "      <td>Q1</td>\n",
              "      <td>104</td>\n",
              "      <td>4</td>\n",
              "      <td>6</td>\n",
              "      <td>87</td>\n",
              "      <td>54</td>\n",
              "      <td>36</td>\n",
              "      <td>13</td>\n",
              "      <td>12</td>\n",
              "      <td>5</td>\n",
              "      <td>10</td>\n",
              "      <td>0</td>\n",
              "      <td>8</td>\n",
              "      <td>82</td>\n",
              "      <td>50</td>\n",
              "      <td>23</td>\n",
              "      <td>15</td>\n",
              "      <td>12</td>\n",
              "      <td>3</td>\n",
              "      <td>9</td>\n",
              "      <td>255</td>\n",
              "      <td>217</td>\n",
              "      <td>208</td>\n",
              "      <td>274</td>\n",
              "      <td>3535</td>\n",
              "      <td>638954.72</td>\n",
              "    </tr>\n",
              "    <tr>\n",
              "      <th>12068</th>\n",
              "      <td>2017-1059</td>\n",
              "      <td>Taipei</td>\n",
              "      <td>Hard</td>\n",
              "      <td>32</td>\n",
              "      <td>C</td>\n",
              "      <td>2017-11-13</td>\n",
              "      <td>245</td>\n",
              "      <td>203435</td>\n",
              "      <td>NaN</td>\n",
              "      <td>Dalila Jakupovic</td>\n",
              "      <td>R</td>\n",
              "      <td>&lt;NA&gt;</td>\n",
              "      <td>SLO</td>\n",
              "      <td>26.642026</td>\n",
              "      <td>211874</td>\n",
              "      <td>NaN</td>\n",
              "      <td>Victoria Rodriguez</td>\n",
              "      <td>U</td>\n",
              "      <td>&lt;NA&gt;</td>\n",
              "      <td>MEX</td>\n",
              "      <td>22.562628</td>\n",
              "      <td>6-2 6-3</td>\n",
              "      <td>3</td>\n",
              "      <td>Q1</td>\n",
              "      <td>69</td>\n",
              "      <td>0</td>\n",
              "      <td>2</td>\n",
              "      <td>46</td>\n",
              "      <td>29</td>\n",
              "      <td>19</td>\n",
              "      <td>8</td>\n",
              "      <td>9</td>\n",
              "      <td>2</td>\n",
              "      <td>5</td>\n",
              "      <td>0</td>\n",
              "      <td>3</td>\n",
              "      <td>60</td>\n",
              "      <td>42</td>\n",
              "      <td>19</td>\n",
              "      <td>6</td>\n",
              "      <td>8</td>\n",
              "      <td>5</td>\n",
              "      <td>11</td>\n",
              "      <td>242</td>\n",
              "      <td>228</td>\n",
              "      <td>262</td>\n",
              "      <td>204</td>\n",
              "      <td>3535</td>\n",
              "      <td>638954.72</td>\n",
              "    </tr>\n",
              "    <tr>\n",
              "      <th>12069</th>\n",
              "      <td>2017-1059</td>\n",
              "      <td>Taipei</td>\n",
              "      <td>Hard</td>\n",
              "      <td>32</td>\n",
              "      <td>C</td>\n",
              "      <td>2017-11-13</td>\n",
              "      <td>246</td>\n",
              "      <td>201674</td>\n",
              "      <td>NaN</td>\n",
              "      <td>Sabina Sharipova</td>\n",
              "      <td>R</td>\n",
              "      <td>&lt;NA&gt;</td>\n",
              "      <td>UZB</td>\n",
              "      <td>23.192334</td>\n",
              "      <td>214541</td>\n",
              "      <td>NaN</td>\n",
              "      <td>Fanny Stollar</td>\n",
              "      <td>R</td>\n",
              "      <td>172</td>\n",
              "      <td>HUN</td>\n",
              "      <td>19.003422</td>\n",
              "      <td>6-1 7-6(2)</td>\n",
              "      <td>3</td>\n",
              "      <td>Q1</td>\n",
              "      <td>80</td>\n",
              "      <td>2</td>\n",
              "      <td>4</td>\n",
              "      <td>71</td>\n",
              "      <td>43</td>\n",
              "      <td>30</td>\n",
              "      <td>13</td>\n",
              "      <td>10</td>\n",
              "      <td>3</td>\n",
              "      <td>6</td>\n",
              "      <td>4</td>\n",
              "      <td>7</td>\n",
              "      <td>80</td>\n",
              "      <td>45</td>\n",
              "      <td>27</td>\n",
              "      <td>10</td>\n",
              "      <td>9</td>\n",
              "      <td>7</td>\n",
              "      <td>12</td>\n",
              "      <td>196</td>\n",
              "      <td>299</td>\n",
              "      <td>238</td>\n",
              "      <td>231</td>\n",
              "      <td>3535</td>\n",
              "      <td>638954.72</td>\n",
              "    </tr>\n",
              "    <tr>\n",
              "      <th>12070</th>\n",
              "      <td>2017-1059</td>\n",
              "      <td>Taipei</td>\n",
              "      <td>Hard</td>\n",
              "      <td>32</td>\n",
              "      <td>C</td>\n",
              "      <td>2017-11-13</td>\n",
              "      <td>247</td>\n",
              "      <td>211411</td>\n",
              "      <td>NaN</td>\n",
              "      <td>Nina Stojanovic</td>\n",
              "      <td>R</td>\n",
              "      <td>&lt;NA&gt;</td>\n",
              "      <td>SRB</td>\n",
              "      <td>21.289528</td>\n",
              "      <td>204291</td>\n",
              "      <td>NaN</td>\n",
              "      <td>Na Lae Han</td>\n",
              "      <td>L</td>\n",
              "      <td>&lt;NA&gt;</td>\n",
              "      <td>KOR</td>\n",
              "      <td>25.355236</td>\n",
              "      <td>7-6(3) 6-3</td>\n",
              "      <td>3</td>\n",
              "      <td>Q1</td>\n",
              "      <td>91</td>\n",
              "      <td>5</td>\n",
              "      <td>3</td>\n",
              "      <td>79</td>\n",
              "      <td>49</td>\n",
              "      <td>34</td>\n",
              "      <td>11</td>\n",
              "      <td>11</td>\n",
              "      <td>4</td>\n",
              "      <td>8</td>\n",
              "      <td>0</td>\n",
              "      <td>4</td>\n",
              "      <td>68</td>\n",
              "      <td>41</td>\n",
              "      <td>23</td>\n",
              "      <td>9</td>\n",
              "      <td>10</td>\n",
              "      <td>2</td>\n",
              "      <td>7</td>\n",
              "      <td>230</td>\n",
              "      <td>243</td>\n",
              "      <td>250</td>\n",
              "      <td>221</td>\n",
              "      <td>3535</td>\n",
              "      <td>638954.72</td>\n",
              "    </tr>\n",
              "    <tr>\n",
              "      <th>...</th>\n",
              "      <td>...</td>\n",
              "      <td>...</td>\n",
              "      <td>...</td>\n",
              "      <td>...</td>\n",
              "      <td>...</td>\n",
              "      <td>...</td>\n",
              "      <td>...</td>\n",
              "      <td>...</td>\n",
              "      <td>...</td>\n",
              "      <td>...</td>\n",
              "      <td>...</td>\n",
              "      <td>...</td>\n",
              "      <td>...</td>\n",
              "      <td>...</td>\n",
              "      <td>...</td>\n",
              "      <td>...</td>\n",
              "      <td>...</td>\n",
              "      <td>...</td>\n",
              "      <td>...</td>\n",
              "      <td>...</td>\n",
              "      <td>...</td>\n",
              "      <td>...</td>\n",
              "      <td>...</td>\n",
              "      <td>...</td>\n",
              "      <td>...</td>\n",
              "      <td>...</td>\n",
              "      <td>...</td>\n",
              "      <td>...</td>\n",
              "      <td>...</td>\n",
              "      <td>...</td>\n",
              "      <td>...</td>\n",
              "      <td>...</td>\n",
              "      <td>...</td>\n",
              "      <td>...</td>\n",
              "      <td>...</td>\n",
              "      <td>...</td>\n",
              "      <td>...</td>\n",
              "      <td>...</td>\n",
              "      <td>...</td>\n",
              "      <td>...</td>\n",
              "      <td>...</td>\n",
              "      <td>...</td>\n",
              "      <td>...</td>\n",
              "      <td>...</td>\n",
              "      <td>...</td>\n",
              "      <td>...</td>\n",
              "      <td>...</td>\n",
              "      <td>...</td>\n",
              "      <td>...</td>\n",
              "    </tr>\n",
              "    <tr>\n",
              "      <th>177376</th>\n",
              "      <td>2020-1103</td>\n",
              "      <td>Indian Wells 125K</td>\n",
              "      <td>Hard</td>\n",
              "      <td>64</td>\n",
              "      <td>C</td>\n",
              "      <td>2020-03-02</td>\n",
              "      <td>221</td>\n",
              "      <td>203398</td>\n",
              "      <td>NaN</td>\n",
              "      <td>Danielle Lao</td>\n",
              "      <td>R</td>\n",
              "      <td>&lt;NA&gt;</td>\n",
              "      <td>USA</td>\n",
              "      <td>28.763860</td>\n",
              "      <td>213949</td>\n",
              "      <td>WC</td>\n",
              "      <td>Hanna Chang</td>\n",
              "      <td>U</td>\n",
              "      <td>&lt;NA&gt;</td>\n",
              "      <td>USA</td>\n",
              "      <td>22.015058</td>\n",
              "      <td>6-1 5-7 6-2</td>\n",
              "      <td>3</td>\n",
              "      <td>Q1</td>\n",
              "      <td>170</td>\n",
              "      <td>0</td>\n",
              "      <td>3</td>\n",
              "      <td>119</td>\n",
              "      <td>86</td>\n",
              "      <td>54</td>\n",
              "      <td>16</td>\n",
              "      <td>14</td>\n",
              "      <td>12</td>\n",
              "      <td>15</td>\n",
              "      <td>3</td>\n",
              "      <td>7</td>\n",
              "      <td>84</td>\n",
              "      <td>52</td>\n",
              "      <td>30</td>\n",
              "      <td>14</td>\n",
              "      <td>13</td>\n",
              "      <td>3</td>\n",
              "      <td>9</td>\n",
              "      <td>198</td>\n",
              "      <td>296</td>\n",
              "      <td>295</td>\n",
              "      <td>184</td>\n",
              "      <td>4638</td>\n",
              "      <td>1164466.18</td>\n",
              "    </tr>\n",
              "    <tr>\n",
              "      <th>177377</th>\n",
              "      <td>2020-1103</td>\n",
              "      <td>Indian Wells 125K</td>\n",
              "      <td>Hard</td>\n",
              "      <td>64</td>\n",
              "      <td>C</td>\n",
              "      <td>2020-03-02</td>\n",
              "      <td>222</td>\n",
              "      <td>201534</td>\n",
              "      <td>NaN</td>\n",
              "      <td>Asia Muhammed</td>\n",
              "      <td>R</td>\n",
              "      <td>&lt;NA&gt;</td>\n",
              "      <td>USA</td>\n",
              "      <td>28.911704</td>\n",
              "      <td>215064</td>\n",
              "      <td>WC</td>\n",
              "      <td>Maria Mateas</td>\n",
              "      <td>U</td>\n",
              "      <td>&lt;NA&gt;</td>\n",
              "      <td>USA</td>\n",
              "      <td>20.616016</td>\n",
              "      <td>7-5 2-6 6-3</td>\n",
              "      <td>3</td>\n",
              "      <td>Q1</td>\n",
              "      <td>157</td>\n",
              "      <td>3</td>\n",
              "      <td>4</td>\n",
              "      <td>100</td>\n",
              "      <td>60</td>\n",
              "      <td>32</td>\n",
              "      <td>14</td>\n",
              "      <td>14</td>\n",
              "      <td>13</td>\n",
              "      <td>22</td>\n",
              "      <td>0</td>\n",
              "      <td>6</td>\n",
              "      <td>100</td>\n",
              "      <td>75</td>\n",
              "      <td>39</td>\n",
              "      <td>6</td>\n",
              "      <td>15</td>\n",
              "      <td>10</td>\n",
              "      <td>20</td>\n",
              "      <td>194</td>\n",
              "      <td>304</td>\n",
              "      <td>413</td>\n",
              "      <td>103</td>\n",
              "      <td>4638</td>\n",
              "      <td>1164466.18</td>\n",
              "    </tr>\n",
              "    <tr>\n",
              "      <th>177378</th>\n",
              "      <td>2020-1103</td>\n",
              "      <td>Indian Wells 125K</td>\n",
              "      <td>Hard</td>\n",
              "      <td>64</td>\n",
              "      <td>C</td>\n",
              "      <td>2020-03-02</td>\n",
              "      <td>221</td>\n",
              "      <td>203398</td>\n",
              "      <td>NaN</td>\n",
              "      <td>Danielle Lao</td>\n",
              "      <td>R</td>\n",
              "      <td>&lt;NA&gt;</td>\n",
              "      <td>USA</td>\n",
              "      <td>28.763860</td>\n",
              "      <td>213949</td>\n",
              "      <td>WC</td>\n",
              "      <td>Hanna Chang</td>\n",
              "      <td>U</td>\n",
              "      <td>&lt;NA&gt;</td>\n",
              "      <td>USA</td>\n",
              "      <td>22.015058</td>\n",
              "      <td>6-1 5-7 6-2</td>\n",
              "      <td>3</td>\n",
              "      <td>Q1</td>\n",
              "      <td>170</td>\n",
              "      <td>0</td>\n",
              "      <td>3</td>\n",
              "      <td>119</td>\n",
              "      <td>86</td>\n",
              "      <td>54</td>\n",
              "      <td>16</td>\n",
              "      <td>14</td>\n",
              "      <td>12</td>\n",
              "      <td>15</td>\n",
              "      <td>3</td>\n",
              "      <td>7</td>\n",
              "      <td>84</td>\n",
              "      <td>52</td>\n",
              "      <td>30</td>\n",
              "      <td>14</td>\n",
              "      <td>13</td>\n",
              "      <td>3</td>\n",
              "      <td>9</td>\n",
              "      <td>198</td>\n",
              "      <td>296</td>\n",
              "      <td>295</td>\n",
              "      <td>184</td>\n",
              "      <td>4638</td>\n",
              "      <td>1164466.18</td>\n",
              "    </tr>\n",
              "    <tr>\n",
              "      <th>177379</th>\n",
              "      <td>2020-1103</td>\n",
              "      <td>Indian Wells 125K</td>\n",
              "      <td>Hard</td>\n",
              "      <td>64</td>\n",
              "      <td>C</td>\n",
              "      <td>2020-03-02</td>\n",
              "      <td>222</td>\n",
              "      <td>201534</td>\n",
              "      <td>NaN</td>\n",
              "      <td>Asia Muhammed</td>\n",
              "      <td>R</td>\n",
              "      <td>&lt;NA&gt;</td>\n",
              "      <td>USA</td>\n",
              "      <td>28.911704</td>\n",
              "      <td>215064</td>\n",
              "      <td>WC</td>\n",
              "      <td>Maria Mateas</td>\n",
              "      <td>U</td>\n",
              "      <td>&lt;NA&gt;</td>\n",
              "      <td>USA</td>\n",
              "      <td>20.616016</td>\n",
              "      <td>7-5 2-6 6-3</td>\n",
              "      <td>3</td>\n",
              "      <td>Q1</td>\n",
              "      <td>157</td>\n",
              "      <td>3</td>\n",
              "      <td>4</td>\n",
              "      <td>100</td>\n",
              "      <td>60</td>\n",
              "      <td>32</td>\n",
              "      <td>14</td>\n",
              "      <td>14</td>\n",
              "      <td>13</td>\n",
              "      <td>22</td>\n",
              "      <td>0</td>\n",
              "      <td>6</td>\n",
              "      <td>100</td>\n",
              "      <td>75</td>\n",
              "      <td>39</td>\n",
              "      <td>6</td>\n",
              "      <td>15</td>\n",
              "      <td>10</td>\n",
              "      <td>20</td>\n",
              "      <td>194</td>\n",
              "      <td>304</td>\n",
              "      <td>413</td>\n",
              "      <td>103</td>\n",
              "      <td>4638</td>\n",
              "      <td>1164466.18</td>\n",
              "    </tr>\n",
              "    <tr>\n",
              "      <th>177380</th>\n",
              "      <td>2020-1103</td>\n",
              "      <td>Indian Wells 125K</td>\n",
              "      <td>Hard</td>\n",
              "      <td>64</td>\n",
              "      <td>C</td>\n",
              "      <td>2020-03-02</td>\n",
              "      <td>221</td>\n",
              "      <td>203398</td>\n",
              "      <td>NaN</td>\n",
              "      <td>Danielle Lao</td>\n",
              "      <td>R</td>\n",
              "      <td>&lt;NA&gt;</td>\n",
              "      <td>USA</td>\n",
              "      <td>28.763860</td>\n",
              "      <td>213949</td>\n",
              "      <td>WC</td>\n",
              "      <td>Hanna Chang</td>\n",
              "      <td>U</td>\n",
              "      <td>&lt;NA&gt;</td>\n",
              "      <td>USA</td>\n",
              "      <td>22.015058</td>\n",
              "      <td>6-1 5-7 6-2</td>\n",
              "      <td>3</td>\n",
              "      <td>Q1</td>\n",
              "      <td>170</td>\n",
              "      <td>0</td>\n",
              "      <td>3</td>\n",
              "      <td>119</td>\n",
              "      <td>86</td>\n",
              "      <td>54</td>\n",
              "      <td>16</td>\n",
              "      <td>14</td>\n",
              "      <td>12</td>\n",
              "      <td>15</td>\n",
              "      <td>3</td>\n",
              "      <td>7</td>\n",
              "      <td>84</td>\n",
              "      <td>52</td>\n",
              "      <td>30</td>\n",
              "      <td>14</td>\n",
              "      <td>13</td>\n",
              "      <td>3</td>\n",
              "      <td>9</td>\n",
              "      <td>198</td>\n",
              "      <td>296</td>\n",
              "      <td>295</td>\n",
              "      <td>184</td>\n",
              "      <td>4638</td>\n",
              "      <td>1164466.18</td>\n",
              "    </tr>\n",
              "  </tbody>\n",
              "</table>\n",
              "<p>309 rows × 49 columns</p>\n",
              "</div>"
            ],
            "text/plain": [
              "       tourney_id       tourney_name  ... tourney_spectators  tourney_revenue\n",
              "12066   2017-1059             Taipei  ...               3535        638954.72\n",
              "12067   2017-1059             Taipei  ...               3535        638954.72\n",
              "12068   2017-1059             Taipei  ...               3535        638954.72\n",
              "12069   2017-1059             Taipei  ...               3535        638954.72\n",
              "12070   2017-1059             Taipei  ...               3535        638954.72\n",
              "...           ...                ...  ...                ...              ...\n",
              "177376  2020-1103  Indian Wells 125K  ...               4638       1164466.18\n",
              "177377  2020-1103  Indian Wells 125K  ...               4638       1164466.18\n",
              "177378  2020-1103  Indian Wells 125K  ...               4638       1164466.18\n",
              "177379  2020-1103  Indian Wells 125K  ...               4638       1164466.18\n",
              "177380  2020-1103  Indian Wells 125K  ...               4638       1164466.18\n",
              "\n",
              "[309 rows x 49 columns]"
            ]
          },
          "metadata": {},
          "execution_count": 9
        }
      ]
    },
    {
      "cell_type": "markdown",
      "metadata": {
        "id": "EYiijlPeS_27"
      },
      "source": [
        "We can drop all the duplicates now."
      ]
    },
    {
      "cell_type": "code",
      "metadata": {
        "id": "K_Hmn7oHxEg4"
      },
      "source": [
        "df_matches = df_matches.drop_duplicates()"
      ],
      "execution_count": 10,
      "outputs": []
    },
    {
      "cell_type": "markdown",
      "metadata": {
        "id": "Xe18p_QYmYf6"
      },
      "source": [
        "###**Dealing with Missing Values**\n",
        "\n",
        "We have to deal with missing values for each attribute."
      ]
    },
    {
      "cell_type": "code",
      "metadata": {
        "colab": {
          "base_uri": "https://localhost:8080/"
        },
        "id": "YPI0LMdrKn6t",
        "outputId": "4ef9f1dc-e966-41f8-8bf8-105a808bbac8"
      },
      "source": [
        "print(\"NULL FIELDS:\")\n",
        "print(df_matches.isnull().any())"
      ],
      "execution_count": 11,
      "outputs": [
        {
          "output_type": "stream",
          "name": "stdout",
          "text": [
            "NULL FIELDS:\n",
            "tourney_id            True\n",
            "tourney_name          True\n",
            "surface               True\n",
            "draw_size             True\n",
            "tourney_level         True\n",
            "tourney_date          True\n",
            "match_num             True\n",
            "winner_id             True\n",
            "winner_entry          True\n",
            "winner_name           True\n",
            "winner_hand           True\n",
            "winner_ht             True\n",
            "winner_ioc            True\n",
            "winner_age            True\n",
            "loser_id              True\n",
            "loser_entry           True\n",
            "loser_name            True\n",
            "loser_hand            True\n",
            "loser_ht              True\n",
            "loser_ioc             True\n",
            "loser_age             True\n",
            "score                 True\n",
            "best_of               True\n",
            "round                 True\n",
            "minutes               True\n",
            "w_ace                 True\n",
            "w_df                  True\n",
            "w_svpt                True\n",
            "w_1stIn               True\n",
            "w_1stWon              True\n",
            "w_2ndWon              True\n",
            "w_SvGms               True\n",
            "w_bpSaved             True\n",
            "w_bpFaced             True\n",
            "l_ace                 True\n",
            "l_df                  True\n",
            "l_svpt                True\n",
            "l_1stIn               True\n",
            "l_1stWon              True\n",
            "l_2ndWon              True\n",
            "l_SvGms               True\n",
            "l_bpSaved             True\n",
            "l_bpFaced             True\n",
            "winner_rank           True\n",
            "winner_rank_points    True\n",
            "loser_rank            True\n",
            "loser_rank_points     True\n",
            "tourney_spectators    True\n",
            "tourney_revenue       True\n",
            "dtype: bool\n"
          ]
        }
      ]
    },
    {
      "cell_type": "markdown",
      "metadata": {
        "id": "a34JaMxHoDns"
      },
      "source": [
        "**Fixing tourney_id**\n",
        "\n",
        "The attribute tourney_id has missing values in corrispondece with only the Taipei tournament (which doesn't have many more values), moreover we found that this event is already in the dataset with better filled records, we decided to drop it from the dataframe."
      ]
    },
    {
      "cell_type": "code",
      "metadata": {
        "colab": {
          "base_uri": "https://localhost:8080/"
        },
        "id": "ntBNpohOh5Vh",
        "outputId": "118886ea-a9be-4e40-d1ce-4dcd4fe7222f"
      },
      "source": [
        "df_matches = df_matches.dropna(subset=[\"tourney_id\"])\n",
        "df_matches.isnull().any()"
      ],
      "execution_count": 12,
      "outputs": [
        {
          "output_type": "execute_result",
          "data": {
            "text/plain": [
              "tourney_id            False\n",
              "tourney_name          False\n",
              "surface                True\n",
              "draw_size             False\n",
              "tourney_level         False\n",
              "tourney_date          False\n",
              "match_num             False\n",
              "winner_id             False\n",
              "winner_entry           True\n",
              "winner_name           False\n",
              "winner_hand            True\n",
              "winner_ht              True\n",
              "winner_ioc            False\n",
              "winner_age             True\n",
              "loser_id              False\n",
              "loser_entry            True\n",
              "loser_name            False\n",
              "loser_hand             True\n",
              "loser_ht               True\n",
              "loser_ioc             False\n",
              "loser_age              True\n",
              "score                  True\n",
              "best_of               False\n",
              "round                 False\n",
              "minutes                True\n",
              "w_ace                  True\n",
              "w_df                   True\n",
              "w_svpt                 True\n",
              "w_1stIn                True\n",
              "w_1stWon               True\n",
              "w_2ndWon               True\n",
              "w_SvGms                True\n",
              "w_bpSaved              True\n",
              "w_bpFaced              True\n",
              "l_ace                  True\n",
              "l_df                   True\n",
              "l_svpt                 True\n",
              "l_1stIn                True\n",
              "l_1stWon               True\n",
              "l_2ndWon               True\n",
              "l_SvGms                True\n",
              "l_bpSaved              True\n",
              "l_bpFaced              True\n",
              "winner_rank            True\n",
              "winner_rank_points     True\n",
              "loser_rank             True\n",
              "loser_rank_points      True\n",
              "tourney_spectators    False\n",
              "tourney_revenue       False\n",
              "dtype: bool"
            ]
          },
          "metadata": {},
          "execution_count": 12
        }
      ]
    },
    {
      "cell_type": "markdown",
      "metadata": {
        "id": "3ASTHoCliJpG"
      },
      "source": [
        "Come possiamo notare, eliminando il torneo di Taipei molti attributi sono adesso senza valori nulli, questo ci rende l'analisi ancora più semplice. Inoltre, tale torneo è già presente nel dataset e con valori corretti, perciò la sua eliminazione non influisce negativamente sul nostro lavoro."
      ]
    },
    {
      "cell_type": "markdown",
      "metadata": {
        "id": "ASG91UssoO85"
      },
      "source": [
        "**Fixing surface**\n",
        "\n",
        "We try to solve the null values in the \"surface\" feature, first we count how many tournaments and matches have no surfaces for pure statistical reasons. If a tournament is missing the surface we can retrieve it if at least one match of the same tournament has it."
      ]
    },
    {
      "cell_type": "code",
      "metadata": {
        "colab": {
          "base_uri": "https://localhost:8080/"
        },
        "id": "FWuIJunMgRoy",
        "outputId": "60eefe7d-d832-43de-a5b5-211c8d28148b"
      },
      "source": [
        "# tournaments with no surface\n",
        "tourney_no_surface = df_matches[pd.isnull(df_matches['surface'])]['tourney_id'].unique()\n",
        "\n",
        "# matches with no surface\n",
        "matches_no_surface = df_matches[df_matches['tourney_id'].isin(tourney_no_surface)][['tourney_id', 'surface']]\n",
        "\n",
        "print(\"Number of tournaments without a surface: {0}\".format(len(tourney_no_surface)))\n",
        "print(\"Number of matches without a surface: {0}\".format(len(matches_no_surface)))\n",
        "print(\"Number of tournaments for which we can retrieve the surface: {0}\".\n",
        "      format(len(matches_no_surface[matches_no_surface['surface'].notnull()])))"
      ],
      "execution_count": 48,
      "outputs": [
        {
          "output_type": "stream",
          "name": "stdout",
          "text": [
            "Number of tournaments without a surface: 62\n",
            "Number of matches without a surface: 162\n",
            "Number of tournaments for which we can retrieve the surface: 0\n"
          ]
        }
      ]
    },
    {
      "cell_type": "markdown",
      "metadata": {
        "id": "DqWAQVoNAkXT"
      },
      "source": [
        "Unluckily there are no tournaments for which we can retrieve the surface, so we chose to sample such values from the distribution of the surfaces."
      ]
    },
    {
      "cell_type": "code",
      "metadata": {
        "colab": {
          "base_uri": "https://localhost:8080/"
        },
        "id": "XSFXni34Ai2-",
        "outputId": "b58d7bc6-3621-46aa-af8e-1ad1e205c6f9"
      },
      "source": [
        "# all possible values of \"surface\" attribute normalized\n",
        "surface_distribution = df_matches[\"surface\"].value_counts(normalize=True)\n",
        "print(\"Distribution of each surface:\\n{0}\\n\".format(surface_distribution))\n",
        "print(\"Distribution of each surface cumulative:\\n{0}\\n\".format(surface_distribution.cumsum()))\n",
        "\n",
        "for tourney in tourney_no_surface:\n",
        "  sampled_surface = surface_distribution.sample(weights=surface_distribution, axis=0).index[0]\n",
        "  print(\"Tournament: {0}, Surface sampled: {1}\".format(tourney, sampled_surface))\n",
        "  print(df_matches[df_matches[\"tourney_id\"]==tourney][[\"tourney_id\", \"surface\"]])\n",
        "  df_matches[df_matches[\"tourney_id\"]==tourney][\"surface\"].fillna(sampled_surface)\n",
        "  print(df_matches[df_matches[\"tourney_id\"]==tourney][[\"tourney_id\", \"surface\"]])\n",
        "  break"
      ],
      "execution_count": 96,
      "outputs": [
        {
          "output_type": "stream",
          "name": "stdout",
          "text": [
            "Distribution of each surface:\n",
            "Hard      0.511503\n",
            "Clay      0.436488\n",
            "Grass     0.035560\n",
            "Carpet    0.016449\n",
            "Name: surface, dtype: float64\n",
            "\n",
            "Distribution of each surface cumulative:\n",
            "Hard      0.511503\n",
            "Clay      0.947991\n",
            "Grass     0.983551\n",
            "Carpet    1.000000\n",
            "Name: surface, dtype: float64\n",
            "\n",
            "Tournament: 2017-W-FC-2017-G2-AM-A-M-ECU-CUB-01, Surface sampled: Hard\n",
            "                                tourney_id surface\n",
            "86167  2017-W-FC-2017-G2-AM-A-M-ECU-CUB-01     NaN\n",
            "86168  2017-W-FC-2017-G2-AM-A-M-ECU-CUB-01     NaN\n",
            "                                tourney_id surface\n",
            "86167  2017-W-FC-2017-G2-AM-A-M-ECU-CUB-01     NaN\n",
            "86168  2017-W-FC-2017-G2-AM-A-M-ECU-CUB-01     NaN\n"
          ]
        }
      ]
    },
    {
      "cell_type": "markdown",
      "metadata": {
        "id": "vUfPODBSiU6X"
      },
      "source": [
        "**Fixing winner_hand and loser_hand**\n",
        "\n",
        "Gestisco i valori mancanti per la feature 'winner_hand'. Cerco di capire se la mano preferita manca solo per alcuni record oppure non appare mai in corrispondenza di quel determinato giocatore. Inoltre, provo a verificare se la mano che è null per tali giocatori vincenti è ancora null quando appaiono tra i perdenti."
      ]
    },
    {
      "cell_type": "code",
      "metadata": {
        "colab": {
          "base_uri": "https://localhost:8080/"
        },
        "id": "kTjZyR7Ej8ee",
        "outputId": "5bf50856-094d-4eea-dcd7-35ec22b4a5be"
      },
      "source": [
        "winner_null_hand = df_matches[pd.isnull(df_matches['winner_hand'])]['winner_name'].unique()\n",
        "w = df_matches[df_matches['winner_name'].isin(winner_null_hand)][['winner_name', 'winner_hand']]\n",
        "print(w)\n",
        "print()\n",
        "l = df_matches[df_matches['loser_name'].isin(winner_null_hand)][['loser_name', 'loser_hand']]\n",
        "print(l)"
      ],
      "execution_count": 14,
      "outputs": [
        {
          "output_type": "stream",
          "name": "stdout",
          "text": [
            "                    winner_name winner_hand\n",
            "6801                 Hady Habib         NaN\n",
            "7947                 Hady Habib         NaN\n",
            "11257                Hady Habib         NaN\n",
            "11260                Hady Habib         NaN\n",
            "76305             Jose Olivares         NaN\n",
            "76312             Jose Olivares         NaN\n",
            "78141          Nicolas Xiviller         NaN\n",
            "80440             Jose Olivares         NaN\n",
            "80450             Jose Olivares         NaN\n",
            "111617            Jose Olivares         NaN\n",
            "115781            Jose Olivares         NaN\n",
            "116742               Hady Habib         NaN\n",
            "162670         Sebastian Arcila         NaN\n",
            "162673           Ignacio Garcia         NaN\n",
            "162908             Bruno Britez         NaN\n",
            "162931  Jean Jacques Rakotohasy         NaN\n",
            "\n",
            "              loser_name loser_hand\n",
            "5850          Hady Habib        NaN\n",
            "5853          Hady Habib        NaN\n",
            "6808      Ignacio Garcia        NaN\n",
            "6810    Sebastian Arcila        NaN\n",
            "6811      Ignacio Garcia        NaN\n",
            "61729     Ignacio Garcia        NaN\n",
            "61730     Ignacio Garcia        NaN\n",
            "67538   Nicolas Xiviller        NaN\n",
            "72876      Jose Olivares        NaN\n",
            "76303       Bruno Britez        NaN\n",
            "76319      Jose Olivares        NaN\n",
            "78149   Nicolas Xiviller        NaN\n",
            "80436       Bruno Britez        NaN\n",
            "80455      Jose Olivares        NaN\n",
            "82739   Sebastian Arcila        NaN\n",
            "82749      Jose Olivares        NaN\n",
            "83574         Hady Habib        NaN\n",
            "83769       Bruno Britez        NaN\n",
            "104192     Jose Olivares        NaN\n",
            "111628     Jose Olivares        NaN\n",
            "113088     Jose Olivares        NaN\n",
            "115483  Nicolas Xiviller        NaN\n",
            "115791     Jose Olivares        NaN\n",
            "116750        Hady Habib        NaN\n",
            "162609     Jose Olivares        NaN\n",
            "162612     Jose Olivares        NaN\n",
            "162662      Bruno Britez        NaN\n",
            "162672  Sebastian Arcila        NaN\n",
            "162873     Jose Olivares        NaN\n",
            "162906      Bruno Britez        NaN\n"
          ]
        }
      ]
    },
    {
      "cell_type": "markdown",
      "metadata": {
        "id": "51qkWY76m3Qy"
      },
      "source": [
        "Ripeto la medesima analisi, ma all'inverso. Infatti cerco tra i perdenti quei giocatori che hanno un valore NaN nella feature 'loser_hand' e procedo in maniera analoga."
      ]
    },
    {
      "cell_type": "code",
      "metadata": {
        "colab": {
          "base_uri": "https://localhost:8080/"
        },
        "id": "e-sPiQ0XlvGL",
        "outputId": "31b25b42-3db1-4148-cb97-76f64b279ff6"
      },
      "source": [
        "loser_null_hand = df_matches[pd.isnull(df_matches['loser_hand'])]['loser_name'].unique()\n",
        "l = df_matches[df_matches['loser_name'].isin(loser_null_hand)][['loser_name', 'loser_hand']]\n",
        "print(l)\n",
        "print()\n",
        "w = df_matches[df_matches['winner_name'].isin(loser_null_hand)][['winner_name', 'winner_hand']]\n",
        "print(w)"
      ],
      "execution_count": null,
      "outputs": [
        {
          "output_type": "stream",
          "name": "stdout",
          "text": [
            "                     loser_name loser_hand\n",
            "5850                 Hady Habib        NaN\n",
            "5853                 Hady Habib        NaN\n",
            "5876        Sebastian Dominguez        NaN\n",
            "6734            Xavier Lawrence        NaN\n",
            "6741               Minjong Park        NaN\n",
            "...                         ...        ...\n",
            "162906             Bruno Britez        NaN\n",
            "163019        Illia Biloborodko        NaN\n",
            "163024              Adam Hornby        NaN\n",
            "163068   Matthew Foster Estwick        NaN\n",
            "166700  Isabel Pascual Montalvo        NaN\n",
            "\n",
            "[74 rows x 2 columns]\n",
            "\n",
            "             winner_name winner_hand\n",
            "6801          Hady Habib         NaN\n",
            "7947          Hady Habib         NaN\n",
            "11257         Hady Habib         NaN\n",
            "11260         Hady Habib         NaN\n",
            "76305      Jose Olivares         NaN\n",
            "76312      Jose Olivares         NaN\n",
            "78141   Nicolas Xiviller         NaN\n",
            "80440      Jose Olivares         NaN\n",
            "80450      Jose Olivares         NaN\n",
            "111617     Jose Olivares         NaN\n",
            "112473   Giuseppe Tresca           U\n",
            "115781     Jose Olivares         NaN\n",
            "116742        Hady Habib         NaN\n",
            "162670  Sebastian Arcila         NaN\n",
            "162673    Ignacio Garcia         NaN\n",
            "162908      Bruno Britez         NaN\n"
          ]
        }
      ]
    },
    {
      "cell_type": "markdown",
      "metadata": {
        "id": "kUWBNSPn_lAw"
      },
      "source": [
        "Per quanto riguarda la mano preferita dai giocatori vincenti e perdenti, i loro possibili valori sono 'L', 'R', 'U'. Molti record hanno però dei valori nulli e ciò equivale almeno ad assumere che il loro valore possa essere sostituito con 'U', di unknown."
      ]
    },
    {
      "cell_type": "code",
      "metadata": {
        "id": "bC49yTxMAu3P"
      },
      "source": [
        "df_matches['winner_hand'].fillna('U', inplace=True)\n",
        "df_matches['loser_hand'].fillna('U', inplace=True)"
      ],
      "execution_count": null,
      "outputs": []
    },
    {
      "cell_type": "markdown",
      "metadata": {
        "id": "55nQB-gLSSuB"
      },
      "source": [
        "Provo a vedere se alcuni giocatori che hanno la mano uguale ad 'U' in realtà hanno la mano preferita in altre occorrenze all'interno del dataset."
      ]
    },
    {
      "cell_type": "code",
      "metadata": {
        "id": "cKyMSyckStjI"
      },
      "source": [
        "winner_ukn_hand = df_matches[df_matches['winner_hand'] == 'U']['winner_name'].unique()\n",
        "w = df_matches[df_matches['winner_name'].isin(winner_ukn_hand)][['winner_name', 'winner_hand']]\n",
        "w = w[w['winner_hand'] != 'U'].drop_duplicates()\n",
        "\n",
        "l = df_matches[df_matches['loser_name'].isin(winner_ukn_hand)][['loser_name', 'loser_hand']]\n",
        "l = l[l['loser_hand'] != 'U'].drop_duplicates()\n",
        "\n",
        "l.rename(columns={'loser_name': 'player', 'loser_hand': 'hand'}, inplace=True)\n",
        "w.rename(columns={'winner_name': 'player', 'winner_hand': 'hand'}, inplace=True)\n",
        "\n",
        "tot = pd.concat([l, w]).drop_duplicates()\n",
        "\n",
        "for i, x in tot.iterrows():\n",
        "  hand = x['hand']\n",
        "  df_matches.loc[df_matches['winner_name'] == x['player'], 'winner_hand'] = hand"
      ],
      "execution_count": null,
      "outputs": []
    },
    {
      "cell_type": "code",
      "metadata": {
        "id": "l35utVYKThHt"
      },
      "source": [
        "loser_ukn_hand = df_matches[df_matches['loser_hand'] == 'U']['loser_name'].unique()\n",
        "w = df_matches[df_matches['winner_name'].isin(loser_ukn_hand)][['winner_name', 'winner_hand']]\n",
        "w = w[w['winner_hand'] != 'U'].drop_duplicates()\n",
        "\n",
        "l = df_matches[df_matches['loser_name'].isin(loser_ukn_hand)][['loser_name', 'loser_hand']]\n",
        "l = l[l['loser_hand'] != 'U'].drop_duplicates()\n",
        "\n",
        "l.rename(columns={'loser_name': 'player', 'loser_hand': 'hand'}, inplace=True)\n",
        "w.rename(columns={'winner_name': 'player', 'winner_hand': 'hand'}, inplace=True)\n",
        "\n",
        "tot = pd.concat([l, w]).drop_duplicates()\n",
        "\n",
        "for i, x in tot.iterrows():\n",
        "    hand = x['hand']\n",
        "    df_matches.loc[df_matches['loser_name'] == x['player'], 'loser_hand'] = hand"
      ],
      "execution_count": null,
      "outputs": []
    },
    {
      "cell_type": "code",
      "metadata": {
        "colab": {
          "base_uri": "https://localhost:8080/"
        },
        "id": "zZMHJz5wddjX",
        "outputId": "9cecf138-9478-4ba2-e043-78e705cc9fb1"
      },
      "source": [
        "df_matches.isnull().any()"
      ],
      "execution_count": null,
      "outputs": [
        {
          "output_type": "execute_result",
          "data": {
            "text/plain": [
              "tourney_id            False\n",
              "tourney_name          False\n",
              "surface                True\n",
              "draw_size             False\n",
              "tourney_level         False\n",
              "tourney_date          False\n",
              "match_num             False\n",
              "winner_id             False\n",
              "winner_entry           True\n",
              "winner_name           False\n",
              "winner_hand           False\n",
              "winner_ht              True\n",
              "winner_ioc            False\n",
              "winner_age             True\n",
              "loser_id              False\n",
              "loser_entry            True\n",
              "loser_name            False\n",
              "loser_hand            False\n",
              "loser_ht               True\n",
              "loser_ioc             False\n",
              "loser_age              True\n",
              "score                  True\n",
              "best_of               False\n",
              "round                 False\n",
              "minutes                True\n",
              "w_ace                  True\n",
              "w_df                   True\n",
              "w_svpt                 True\n",
              "w_1stIn                True\n",
              "w_1stWon               True\n",
              "w_2ndWon               True\n",
              "w_SvGms                True\n",
              "w_bpSaved              True\n",
              "w_bpFaced              True\n",
              "l_ace                  True\n",
              "l_df                   True\n",
              "l_svpt                 True\n",
              "l_1stIn                True\n",
              "l_1stWon               True\n",
              "l_2ndWon               True\n",
              "l_SvGms                True\n",
              "l_bpSaved              True\n",
              "l_bpFaced              True\n",
              "winner_rank            True\n",
              "winner_rank_points     True\n",
              "loser_rank             True\n",
              "loser_rank_points      True\n",
              "tourney_spectators    False\n",
              "tourney_revenue       False\n",
              "dtype: bool"
            ]
          },
          "metadata": {},
          "execution_count": 24
        }
      ]
    },
    {
      "cell_type": "markdown",
      "metadata": {
        "id": "mo2vpTixm3I_"
      },
      "source": [
        "###**Outlier Detection**"
      ]
    },
    {
      "cell_type": "markdown",
      "metadata": {
        "id": "kEccOdrupaTa"
      },
      "source": [
        "Calcolo il primo quartile, il terzo quartile delle features e gli interquartili"
      ]
    },
    {
      "cell_type": "code",
      "metadata": {
        "id": "n65fFNCSpLAT"
      },
      "source": [
        "Q1 = df_matches.quantile(0.25)\n",
        "Q3 = df_matches.quantile(0.75)\n",
        "IQR = Q3 - Q1\n",
        "print(IQR)"
      ],
      "execution_count": null,
      "outputs": []
    },
    {
      "cell_type": "markdown",
      "metadata": {
        "id": "5POmyJXOTMuG"
      },
      "source": [
        "Definisco i Lower Bound e gli Upper Bound per ogni features"
      ]
    },
    {
      "cell_type": "code",
      "metadata": {
        "id": "WQa6ChmfTBgE"
      },
      "source": [
        "L = Q1 - 1.5 * IQR\n",
        "U = Q3 + 1.5 * IQR"
      ],
      "execution_count": null,
      "outputs": []
    },
    {
      "cell_type": "markdown",
      "metadata": {
        "id": "753XOo8FqBbo"
      },
      "source": [
        "Attributo altezza del winner ('winner_ht')"
      ]
    },
    {
      "cell_type": "code",
      "metadata": {
        "id": "IEOPhEZxp01k"
      },
      "source": [
        "df_matches.boxplot(column=[\"winner_ht\", 'loser_ht']);"
      ],
      "execution_count": null,
      "outputs": []
    },
    {
      "cell_type": "markdown",
      "metadata": {
        "id": "GcV4g_9aqj_L"
      },
      "source": [
        "C'è qualche valore molto basso"
      ]
    },
    {
      "cell_type": "code",
      "metadata": {
        "id": "Ic8Xjh4Up9Is"
      },
      "source": [
        "df_matches[['winner_ht', 'loser_ht']].plot.hist(stacked=True, bins=100);"
      ],
      "execution_count": null,
      "outputs": []
    },
    {
      "cell_type": "markdown",
      "metadata": {
        "id": "PmNjrpnvrQhx"
      },
      "source": [
        "Cerco players troppo alti o troppo bassi"
      ]
    },
    {
      "cell_type": "code",
      "metadata": {
        "id": "MtzkVLthqWvq"
      },
      "source": [
        "df_matches[(df_matches['winner_ht'] < (Q1['winner_ht'] - 3 * IQR['winner_ht'])) |(df_matches['winner_ht'] > (Q3['winner_ht'] + 3 * IQR['winner_ht']))]['winner_ht']"
      ],
      "execution_count": null,
      "outputs": []
    },
    {
      "cell_type": "code",
      "metadata": {
        "id": "9G5OPArTrA87"
      },
      "source": [
        "df_matches[(df_matches['winner_ht'] < (Q1['winner_ht'] - 3 * IQR['winner_ht'])) |(df_matches['winner_ht'] > (Q3['winner_ht'] + 3 * IQR['winner_ht']))]['winner_name'].unique()"
      ],
      "execution_count": null,
      "outputs": []
    },
    {
      "cell_type": "markdown",
      "metadata": {
        "id": "P8XpsHibrZil"
      },
      "source": [
        "Sostituisco il valore troppo basso con il Lower Bound L\n",
        "\n",
        "---\n",
        "\n"
      ]
    },
    {
      "cell_type": "code",
      "metadata": {
        "id": "Cb8JZt-3qyVO"
      },
      "source": [
        "df_matches.loc[(df_matches['winner_ht'] < (Q1['winner_ht'] - 3 * IQR['winner_ht'])),'winner_ht'] = int(max(L['winner_ht'], L['loser_ht']))"
      ],
      "execution_count": null,
      "outputs": []
    },
    {
      "cell_type": "code",
      "metadata": {
        "id": "Auf9uCpq7So0"
      },
      "source": [
        "df_matches.loc[(df_matches['loser_ht'] < (Q1['loser_ht'] - 3 * IQR['loser_ht'])),'loser_ht'] = int(max(L['winner_ht'], L['loser_ht']))"
      ],
      "execution_count": null,
      "outputs": []
    },
    {
      "cell_type": "markdown",
      "metadata": {
        "id": "2705vzHSsaTF"
      },
      "source": [
        "Ci sono ancora giocatori molto alti (ma lo sono realmente)"
      ]
    },
    {
      "cell_type": "code",
      "metadata": {
        "id": "vtcIOXZasUFE"
      },
      "source": [
        "df_matches[(df_matches['winner_ht'] > (U['winner_ht'])]['winner_name'].unique()"
      ],
      "execution_count": null,
      "outputs": []
    },
    {
      "cell_type": "markdown",
      "metadata": {
        "id": "H7gXQup_tCY_"
      },
      "source": [
        "C'è ancora un player molto basso (la sua vera altezza è un'altra). Cosa fare?"
      ]
    },
    {
      "cell_type": "code",
      "metadata": {
        "id": "V_q4jBIus0oB"
      },
      "source": [
        "df_matches[(df_matches['winner_ht'] < (Q3['winner_ht'] - 3 * IQR['winner_ht']))]['winner_name'].unique()"
      ],
      "execution_count": null,
      "outputs": []
    },
    {
      "cell_type": "code",
      "metadata": {
        "id": "-rQyOj5ZtBEs"
      },
      "source": [
        "df_matches.loc[df_matches['winner_name'] == 'Ilija Vucic','winner_ht']"
      ],
      "execution_count": null,
      "outputs": []
    },
    {
      "cell_type": "code",
      "metadata": {
        "id": "t5ODYfIRHarn"
      },
      "source": [
        "df_matches.boxplot(column=[\"winner_age\", \"loser_age\"]);"
      ],
      "execution_count": null,
      "outputs": []
    },
    {
      "cell_type": "code",
      "metadata": {
        "id": "W44eQdy5zjJk"
      },
      "source": [
        "df_matches[(df_matches['winner_age'] < (Q1['winner_age'] - 3 * IQR['winner_age'])) |(df_matches['winner_age'] > (Q3['winner_age'] + 3 * IQR['winner_age']))]['winner_age']"
      ],
      "execution_count": null,
      "outputs": []
    },
    {
      "cell_type": "markdown",
      "metadata": {
        "id": "79uqfHw_tdev"
      },
      "source": [
        "##Correlations"
      ]
    },
    {
      "cell_type": "code",
      "metadata": {
        "id": "4-pcQy37xZKW"
      },
      "source": [
        "categorical_features = ['tourney_id','tourney_name','surface','tourney_level', 'tourney_date','match_num', 'winner_id', 'winner_entry', 'winner_name', 'winner_hand', 'winner_ioc', 'loser_id', 'loser_entry', 'loser_name', 'loser_hand', 'loser_ioc', 'score', 'round']\n",
        "numerical_features = ['draw_size', 'winner_ht',\t'winner_age', 'loser_ht',\t'loser_age', 'best_of',\t'minutes', 'w_ace',\t'w_df',\t'w_svpt',\t'w_1stIn', 'w_1stWon', 'w_2ndWon', 'w_SvGms', 'w_bpSaved', 'w_bpFaced',\t'l_ace', 'l_df', 'l_svpt', 'l_1stIn',\t'l_1stWon',\t'l_2ndWon',\t'l_SvGms', 'l_bpSaved',\t'l_bpFaced', 'winner_rank',\t'winner_rank_points',\t'loser_rank',\t'loser_rank_points', 'tourney_spectators', 'tourney_revenue']"
      ],
      "execution_count": null,
      "outputs": []
    },
    {
      "cell_type": "code",
      "metadata": {
        "id": "CSsve1Meo9GV"
      },
      "source": [
        "df_matches_numerical=df_matches[numerical_features]"
      ],
      "execution_count": null,
      "outputs": []
    },
    {
      "cell_type": "code",
      "metadata": {
        "id": "1vPD_l3JECHZ"
      },
      "source": [
        "df_matches_numerical.corr()"
      ],
      "execution_count": null,
      "outputs": []
    },
    {
      "cell_type": "markdown",
      "metadata": {
        "id": "oP5QnHAI0wu_"
      },
      "source": [
        "Searching highly-corraleted features"
      ]
    },
    {
      "cell_type": "code",
      "metadata": {
        "id": "mOtTn7gUL4Rf",
        "colab": {
          "base_uri": "https://localhost:8080/",
          "height": 229
        },
        "outputId": "357b4399-05b3-4bf9-8b5d-973340ddfe46"
      },
      "source": [
        "features = df_matches_numerical.columns\n",
        "correl_matrix = np.array(df_matches_numerical.corr())\n",
        "correl_attrib = []\n",
        "n_row, n_col = correl_matrix.shape[0], correl_matrix.shape[1]\n",
        "\n",
        "CORREL_THRESHOLD = 0.9\n",
        "\n",
        "for i in range(n_row):\n",
        "    for j in range(i + 1, n_col):\n",
        "        if correl_matrix[i, j] > CORREL_THRESHOLD or correl_matrix[i, j] < -CORREL_THRESHOLD:\n",
        "            correl_attrib.append((features[i], features[j]))\n",
        "\n",
        "correl_attrib"
      ],
      "execution_count": 15,
      "outputs": [
        {
          "output_type": "error",
          "ename": "NameError",
          "evalue": "ignored",
          "traceback": [
            "\u001b[0;31m---------------------------------------------------------------------------\u001b[0m",
            "\u001b[0;31mNameError\u001b[0m                                 Traceback (most recent call last)",
            "\u001b[0;32m<ipython-input-15-003a104a4f23>\u001b[0m in \u001b[0;36m<module>\u001b[0;34m()\u001b[0m\n\u001b[0;32m----> 1\u001b[0;31m \u001b[0mfeatures\u001b[0m \u001b[0;34m=\u001b[0m \u001b[0mdf_matches_numerical\u001b[0m\u001b[0;34m.\u001b[0m\u001b[0mcolumns\u001b[0m\u001b[0;34m\u001b[0m\u001b[0;34m\u001b[0m\u001b[0m\n\u001b[0m\u001b[1;32m      2\u001b[0m \u001b[0mcorrel_matrix\u001b[0m \u001b[0;34m=\u001b[0m \u001b[0mnp\u001b[0m\u001b[0;34m.\u001b[0m\u001b[0marray\u001b[0m\u001b[0;34m(\u001b[0m\u001b[0mdf_matches_numerical\u001b[0m\u001b[0;34m.\u001b[0m\u001b[0mcorr\u001b[0m\u001b[0;34m(\u001b[0m\u001b[0;34m)\u001b[0m\u001b[0;34m)\u001b[0m\u001b[0;34m\u001b[0m\u001b[0;34m\u001b[0m\u001b[0m\n\u001b[1;32m      3\u001b[0m \u001b[0mcorrel_attrib\u001b[0m \u001b[0;34m=\u001b[0m \u001b[0;34m[\u001b[0m\u001b[0;34m]\u001b[0m\u001b[0;34m\u001b[0m\u001b[0;34m\u001b[0m\u001b[0m\n\u001b[1;32m      4\u001b[0m \u001b[0mn_row\u001b[0m\u001b[0;34m,\u001b[0m \u001b[0mn_col\u001b[0m \u001b[0;34m=\u001b[0m \u001b[0mcorrel_matrix\u001b[0m\u001b[0;34m.\u001b[0m\u001b[0mshape\u001b[0m\u001b[0;34m[\u001b[0m\u001b[0;36m0\u001b[0m\u001b[0;34m]\u001b[0m\u001b[0;34m,\u001b[0m \u001b[0mcorrel_matrix\u001b[0m\u001b[0;34m.\u001b[0m\u001b[0mshape\u001b[0m\u001b[0;34m[\u001b[0m\u001b[0;36m1\u001b[0m\u001b[0;34m]\u001b[0m\u001b[0;34m\u001b[0m\u001b[0;34m\u001b[0m\u001b[0m\n\u001b[1;32m      5\u001b[0m \u001b[0;34m\u001b[0m\u001b[0m\n",
            "\u001b[0;31mNameError\u001b[0m: name 'df_matches_numerical' is not defined"
          ]
        }
      ]
    },
    {
      "cell_type": "markdown",
      "metadata": {
        "id": "DCSRNVTPyL99"
      },
      "source": [
        "**\"Categorical\" features**"
      ]
    },
    {
      "cell_type": "code",
      "metadata": {
        "id": "w1ECY8rTx9vH"
      },
      "source": [
        "df_matches_categorical = df_matches[categorical_features]"
      ],
      "execution_count": null,
      "outputs": []
    },
    {
      "cell_type": "code",
      "metadata": {
        "id": "hU5W4XZIyB4Z"
      },
      "source": [
        "df_matches_categorical.head()"
      ],
      "execution_count": null,
      "outputs": []
    },
    {
      "cell_type": "markdown",
      "metadata": {
        "id": "VNJBOy8yaaBJ"
      },
      "source": [
        "#**Questa parte è data preparation** Now let's create a new dataset for the players"
      ]
    },
    {
      "cell_type": "code",
      "metadata": {
        "id": "BZRjE9bdHGQb"
      },
      "source": [
        "players_w = df_matches[[\"winner_name\"]].rename(columns={\"winner_name\":\"Name\"})  # player names extracted from the winners\n",
        "players_l = df_matches[[\"loser_name\"]].rename(columns={\"loser_name\":\"Name\"})  # player names extracted from the losers\n",
        "\n",
        "# first we append the losers list to the winners one\n",
        "df_players = players_w.append(players_l)\n",
        "\n",
        "# the redundant records are dropped and a new dataframe is built from the list of players\n",
        "df_players = df_players.drop_duplicates()\n",
        "print(\"{0}\\n\".format(df_players.info()))\n",
        "print(df_players.isnull().any())"
      ],
      "execution_count": null,
      "outputs": []
    },
    {
      "cell_type": "markdown",
      "metadata": {
        "id": "ogdnqPTuc1tn"
      },
      "source": [
        "There's only one record with no value, let's drop it."
      ]
    },
    {
      "cell_type": "code",
      "metadata": {
        "id": "QAIcXsQtc9ML"
      },
      "source": [
        "df_players = df_players.dropna()\n",
        "df_players.isnull().any()"
      ],
      "execution_count": null,
      "outputs": []
    },
    {
      "cell_type": "markdown",
      "metadata": {
        "id": "bgy50XNjdPG9"
      },
      "source": [
        "The new dataframe has only one attribute, as the head() method shows."
      ]
    },
    {
      "cell_type": "code",
      "metadata": {
        "id": "KThHHeOLdVfk"
      },
      "source": [
        "df_players.head()"
      ],
      "execution_count": null,
      "outputs": []
    },
    {
      "cell_type": "markdown",
      "metadata": {
        "id": "B3B1tUkpdklQ"
      },
      "source": [
        "Now, we need to know if a player is male or female, that's when df_male and df_female come to help us."
      ]
    },
    {
      "cell_type": "code",
      "metadata": {
        "id": "wS5AeE5HEn10"
      },
      "source": [
        "def players_from_sex(df_players_sex, df_players_matches):\n",
        "  \"\"\"\n",
        "  Obtain the players of a specific sex given a dataset of that sex\n",
        "  :param df_players_sex: players dataframe (M or F) from where we obtain the sex\n",
        "  :param df_players_matches: players dataframe built from the matches\n",
        "  :return players: list of players (M or F)\n",
        "  :return index: players indexes (M or F)\n",
        "  \"\"\"\n",
        "  players_name = list(df_players_sex[\"name\"])\n",
        "  players_surname = list(df_players_sex[\"surname\"])\n",
        "    \n",
        "  #lista di players nome e cognome da df_players\n",
        "  players = list()\n",
        "  for n, s in zip(players_name, players_surname):\n",
        "    players.append(\"{0} {1}\".format(n, s))\n",
        "\n",
        "  players = df_players_matches[df_players_matches[\"Name\"].isin(players)]\n",
        "\n",
        "  players_indexes = players.index\n",
        "\n",
        "  return list(players[\"Name\"]), players_indexes"
      ],
      "execution_count": null,
      "outputs": []
    },
    {
      "cell_type": "code",
      "metadata": {
        "id": "IKH0F5e1FQDF"
      },
      "source": [
        "[players_m, i_male_found] = players_from_sex(df_male, df_players)\n",
        "[players_f, i_female_found] = players_from_sex(df_female, df_players)\n",
        "\n",
        "# players for which we have found the sex\n",
        "players_sex_found = players_m+players_f\n",
        "\n",
        "# players that belong to both datasets\n",
        "players_both_sex = list(set(players_m) & set(players_f))\n",
        "print(\"Players found in both datasets (male and female):\\n{0}\\n\".format(players_both_sex))\n",
        "\n",
        "# players with no sex\n",
        "players_sex_not_found = df_players[~df_players[\"Name\"].isin(players_sex_found)]\n",
        "\n",
        "# some stats about what we found\n",
        "print(\"Number of male players: {0}\".format(len(players_m)))\n",
        "print(\"Number of female players: {0}\".format(len(players_f)))\n",
        "print(\"Number of players: {0}\".format(len(df_players)))\n",
        "print(\"Number of players with no sex known: {0}\\n\".format(len(players_sex_not_found)))\n",
        "players_sex_not_found"
      ],
      "execution_count": null,
      "outputs": []
    },
    {
      "cell_type": "markdown",
      "metadata": {
        "id": "pjogrc12iDd-"
      },
      "source": [
        "All of the players with no known sex are in one of the datasets (male or female) but their name is written differently (e.g.: uppercase in matches but undercase in males), so we need to assign them a sex by looking at the tournaments they took part."
      ]
    },
    {
      "cell_type": "code",
      "metadata": {
        "id": "3oi7eFuiFXsx"
      },
      "source": [
        "# let's insert a new attribute (sex) and assign the right values\n",
        "df_players.loc[i_male_found, 'Sex'] = 'M'\n",
        "df_players.loc[i_female_found, 'Sex'] = 'F'\n",
        "df_players.info()"
      ],
      "execution_count": null,
      "outputs": []
    },
    {
      "cell_type": "markdown",
      "metadata": {
        "id": "9WZm2A-6kNKE"
      },
      "source": [
        "To obtain the sex of those players with no known sex we can take a look at the tournaments' levels they took part in, since there's only one type that is shared by both sexes."
      ]
    },
    {
      "cell_type": "code",
      "metadata": {
        "id": "HJgusOmyi_26"
      },
      "source": [
        "# tournament levels for each sex\n",
        "male_t = {'M', 'G', 'C', 'A', 'S', 'F'}\n",
        "female_t = {'P', 'PM', 'I', 'T1', '15', '25', '60', '100', '80', '10', '50', '75'}\n",
        "\n",
        "players_sex_not_found_i = players_sex_not_found.index\n",
        "for player, i in zip(players_sex_not_found[\"Name\"], players_sex_not_found_i):\n",
        "  player_matches_info = df_matches[df_matches['loser_name']==player]\n",
        "  player_t_levels = set(player_matches_info[\"tourney_level\"].dropna())\n",
        "  if len(player_t_levels.intersection(male_t)) > 0:\n",
        "    sex = \"M\"\n",
        "    players_m.insert(i, player)\n",
        "  else:\n",
        "    if len(player_t_levels.intersection(female_t)) > 0:\n",
        "      sex = \"F\"\n",
        "      players_f.insert(i, player)\n",
        "    else:\n",
        "      sex = \"Not known\"\n",
        "  \n",
        "  df_players.loc[i, \"Sex\"] = sex\n",
        "  print(\"{0} {1}\".format(player, sex))"
      ],
      "execution_count": null,
      "outputs": []
    },
    {
      "cell_type": "markdown",
      "metadata": {
        "id": "ux9G8kLHl2Zd"
      },
      "source": [
        "Now there are no more missing values for the sex attribute and each player is either M or F."
      ]
    },
    {
      "cell_type": "code",
      "metadata": {
        "id": "-H6sfY2vl7Ge"
      },
      "source": [
        "df_players.info()"
      ],
      "execution_count": null,
      "outputs": []
    },
    {
      "cell_type": "markdown",
      "metadata": {
        "id": "7baOmWcgma2r"
      },
      "source": [
        "We still need to work on those players who appear in both the male and female datasets."
      ]
    },
    {
      "cell_type": "code",
      "metadata": {
        "id": "PC72HVc5puMW"
      },
      "source": [
        "players_both_sex = df_players[df_players[\"Name\"].isin(players_both_sex)]\n",
        "players_both_sex_i = players_both_sex.index\n",
        "players_both_sex"
      ],
      "execution_count": null,
      "outputs": []
    },
    {
      "cell_type": "markdown",
      "metadata": {
        "id": "eq237BrFqeK6"
      },
      "source": [
        "**Non funziona**"
      ]
    },
    {
      "cell_type": "code",
      "metadata": {
        "id": "X2KonZG1m1wO"
      },
      "source": [
        "players_both_sex_i = players_both_sex.index\n",
        "for player, i in zip(players_both_sex[\"Name\"], players_both_sex_i):\n",
        "  player_matches_info = df_matches[df_matches['loser_name']==player]\n",
        "  player_t_levels = set(player_matches_info[\"tourney_level\"].dropna())\n",
        "  if len(player_t_levels.intersection(male_t)) > 0 & len(player_t_levels.intersection(female_t)) == 0:\n",
        "    sex = \"M\"\n",
        "    players_m.remove(player)\n",
        "  else:\n",
        "    if len(player_t_levels.intersection(female_t)) > 0 & len(player_t_levels.intersection(male_t)) == 0:\n",
        "      sex = \"F\"\n",
        "      players_f.remove(player)\n",
        "    else:\n",
        "      sex = \"Not known\"\n",
        "  \n",
        "  df_players.loc[i, \"Sex\"] = sex\n",
        "  print(\"{0} {1}\".format(player, sex))"
      ],
      "execution_count": null,
      "outputs": []
    },
    {
      "cell_type": "markdown",
      "metadata": {
        "id": "vuYFeeSjpTIN"
      },
      "source": [
        "Every player has just one sex after our work.\n",
        "\n"
      ]
    },
    {
      "cell_type": "code",
      "metadata": {
        "id": "sf0e0oq7oolq"
      },
      "source": [
        "print(len(players_f))\n",
        "print(len(players_m))\n",
        "print(len(df_players))"
      ],
      "execution_count": null,
      "outputs": []
    },
    {
      "cell_type": "markdown",
      "metadata": {
        "id": "QptPXm81YsDp"
      },
      "source": [
        "#**Cambiare tutto da qui in poi**"
      ]
    },
    {
      "cell_type": "markdown",
      "metadata": {
        "id": "zIxPK4bhS8WU"
      },
      "source": [
        "Let's take a look to the players dataframes by calling the head() method, which shows the first five lines of the dataframes."
      ]
    },
    {
      "cell_type": "code",
      "metadata": {
        "id": "XxfxJQpfW0Vq"
      },
      "source": [
        "df_male.head()"
      ],
      "execution_count": null,
      "outputs": []
    },
    {
      "cell_type": "code",
      "metadata": {
        "id": "jD7W8KJvXrnt"
      },
      "source": [
        "df_female.head()"
      ],
      "execution_count": null,
      "outputs": []
    },
    {
      "cell_type": "markdown",
      "metadata": {
        "id": "5iIwVrtjYgip"
      },
      "source": [
        "Let's now use the info() method to obtain information on the two player datasets."
      ]
    },
    {
      "cell_type": "code",
      "metadata": {
        "id": "msG57FzNXIL0"
      },
      "source": [
        "print(\"Male players dataframe info\")\n",
        "df_male.info()\n",
        "print(\"\\nFemale players dataframe info\")\n",
        "df_female.info()"
      ],
      "execution_count": null,
      "outputs": []
    },
    {
      "cell_type": "markdown",
      "metadata": {
        "id": "6yNWsMY0YxB-"
      },
      "source": [
        "As we can see from the previous infos, there are null values both in the male and female dataset."
      ]
    },
    {
      "cell_type": "code",
      "metadata": {
        "id": "ZYCUQlp5ZQ7-"
      },
      "source": [
        "print(\"Male players dataframe null values:\\n{0}\".format(df_male.isnull().any()))\n",
        "print(\"\\nFemale players dataframe null values:\\n{0}\".format(df_female.isnull().any()))"
      ],
      "execution_count": null,
      "outputs": []
    },
    {
      "cell_type": "markdown",
      "metadata": {
        "id": "TAPdLGDDaw-V"
      },
      "source": [
        "We need to drop such elements with null values."
      ]
    },
    {
      "cell_type": "code",
      "metadata": {
        "id": "FMhph-Ima0YC"
      },
      "source": [
        "df_male = df_male.dropna()\n",
        "df_female = df_female.dropna()\n",
        "print(\"Male players dataframe info:\")\n",
        "df_male.info()\n",
        "print(\"\\nFemale players dataframe info:\")\n",
        "df_female.info()"
      ],
      "execution_count": null,
      "outputs": []
    },
    {
      "cell_type": "markdown",
      "metadata": {
        "id": "K7PMDe7EcFlG"
      },
      "source": [
        "There could be duplicates in the same dataset, but we know that there's a possibility that two players could share the same name and surname, so we won't change anything."
      ]
    },
    {
      "cell_type": "markdown",
      "metadata": {
        "id": "M1TTywgJckQk"
      },
      "source": [
        "But, there are elements where the values are missing, or incomplete, but not null (look at df_female.head()), we need to remove such elements."
      ]
    },
    {
      "cell_type": "code",
      "metadata": {
        "id": "JgK_anRadhp-"
      },
      "source": [
        "elements_not_to_keep = [\"Unknown\", \"??\"]\n",
        "df_male = df_male[df_male[\"name\"].str.len()>1]\n",
        "df_male = df_male[df_male[\"surname\"].str.len()>1]\n",
        "df_male = df_male[~df_male[\"name\"].isin(elements_not_to_keep)]\n",
        "df_male = df_male[~df_male[\"surname\"].isin(elements_not_to_keep)]\n",
        "df_male.info()\n",
        "# df_male[df_male[\"name\"].isin([\"??\"])]\n",
        "# df_male.where(df_male.name.str.len()==1)\n",
        "# Ci sono altri elementi che non sono compatibili, andrebbero visti a mano"
      ],
      "execution_count": null,
      "outputs": []
    }
  ]
}