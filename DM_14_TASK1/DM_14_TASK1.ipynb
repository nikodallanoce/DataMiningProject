{
  "nbformat": 4,
  "nbformat_minor": 0,
  "metadata": {
    "colab": {
      "name": "DM_14_TASK1.ipynb",
      "provenance": [],
      "collapsed_sections": []
    },
    "kernelspec": {
      "name": "python3",
      "display_name": "Python 3"
    },
    "language_info": {
      "name": "python"
    }
  },
  "cells": [
    {
      "cell_type": "markdown",
      "metadata": {
        "id": "DgGIb0deFWrk"
      },
      "source": [
        "**Data Mining Project, midterm 2021/2022**\n",
        "**Authors:** Niko Dalla Noce, Alessandro Ristori, Giuseppe Lombardi\n",
        "**Date:**\n",
        "\n",
        "\n"
      ]
    },
    {
      "cell_type": "markdown",
      "metadata": {
        "id": "RCKQj3mRGVFt"
      },
      "source": [
        "#**Task 1: Data Understanding and Data Preparation**"
      ]
    },
    {
      "cell_type": "markdown",
      "metadata": {
        "id": "KMDwrfRjG9MO"
      },
      "source": [
        "**Importing libraries**"
      ]
    },
    {
      "cell_type": "code",
      "metadata": {
        "id": "dd1wddFIFTnq"
      },
      "source": [
        "import numpy as np\n",
        "import pandas as pd\n",
        "import matplotlib as plt\n",
        "import scipy\n",
        "\n",
        "import zipfile\n",
        "with zipfile.ZipFile(\"prj_data.zip\", 'r') as zip_ref:\n",
        "     zip_ref.extractall()"
      ],
      "execution_count": 1,
      "outputs": []
    },
    {
      "cell_type": "markdown",
      "metadata": {
        "id": "wpZzWIYlSySO"
      },
      "source": [
        "**Load the datasets**"
      ]
    },
    {
      "cell_type": "markdown",
      "metadata": {
        "id": "6nVkIZPNWsAl"
      },
      "source": [
        "Read the data from the three csv files, each one is assigned to a different datafram for now."
      ]
    },
    {
      "cell_type": "code",
      "metadata": {
        "id": "BZRjE9bdHGQb",
        "colab": {
          "base_uri": "https://localhost:8080/"
        },
        "outputId": "267c949a-2455-4ef9-ad26-5d833d39767f"
      },
      "source": [
        "df_male = pd.read_csv(\"dataset/male_players.csv\", sep=\",\")\n",
        "df_female = pd.read_csv(\"dataset/female_players.csv\", sep=\",\")\n",
        "df_matches = pd.read_csv(\"dataset/tennis_matches.csv\", sep=\",\")\n",
        "df_matches.info()"
      ],
      "execution_count": 6,
      "outputs": [
        {
          "output_type": "stream",
          "name": "stdout",
          "text": [
            "<class 'pandas.core.frame.DataFrame'>\n",
            "RangeIndex: 186128 entries, 0 to 186127\n",
            "Data columns (total 50 columns):\n",
            " #   Column              Non-Null Count   Dtype  \n",
            "---  ------              --------------   -----  \n",
            " 0   Unnamed: 0          186128 non-null  int64  \n",
            " 1   tourney_id          186073 non-null  object \n",
            " 2   tourney_name        186103 non-null  object \n",
            " 3   surface             185940 non-null  object \n",
            " 4   draw_size           186099 non-null  float64\n",
            " 5   tourney_level       186099 non-null  object \n",
            " 6   tourney_date        186100 non-null  float64\n",
            " 7   match_num           186101 non-null  float64\n",
            " 8   winner_id           186073 non-null  float64\n",
            " 9   winner_entry        25827 non-null   object \n",
            " 10  winner_name         186101 non-null  object \n",
            " 11  winner_hand         186082 non-null  object \n",
            " 12  winner_ht           49341 non-null   float64\n",
            " 13  winner_ioc          186099 non-null  object \n",
            " 14  winner_age          183275 non-null  float64\n",
            " 15  loser_id            186100 non-null  float64\n",
            " 16  loser_entry         44154 non-null   object \n",
            " 17  loser_name          186097 non-null  object \n",
            " 18  loser_hand          186030 non-null  object \n",
            " 19  loser_ht            38348 non-null   float64\n",
            " 20  loser_ioc           186102 non-null  object \n",
            " 21  loser_age           179590 non-null  float64\n",
            " 22  score               185929 non-null  object \n",
            " 23  best_of             186099 non-null  float64\n",
            " 24  round               186098 non-null  object \n",
            " 25  minutes             81660 non-null   float64\n",
            " 26  w_ace               82310 non-null   float64\n",
            " 27  w_df                82312 non-null   float64\n",
            " 28  w_svpt              82310 non-null   float64\n",
            " 29  w_1stIn             82310 non-null   float64\n",
            " 30  w_1stWon            82312 non-null   float64\n",
            " 31  w_2ndWon            82309 non-null   float64\n",
            " 32  w_SvGms             82311 non-null   float64\n",
            " 33  w_bpSaved           82315 non-null   float64\n",
            " 34  w_bpFaced           82312 non-null   float64\n",
            " 35  l_ace               82313 non-null   float64\n",
            " 36  l_df                82319 non-null   float64\n",
            " 37  l_svpt              82315 non-null   float64\n",
            " 38  l_1stIn             82304 non-null   float64\n",
            " 39  l_1stWon            82311 non-null   float64\n",
            " 40  l_2ndWon            82312 non-null   float64\n",
            " 41  l_SvGms             82318 non-null   float64\n",
            " 42  l_bpSaved           82311 non-null   float64\n",
            " 43  l_bpFaced           82306 non-null   float64\n",
            " 44  winner_rank         166719 non-null  float64\n",
            " 45  winner_rank_points  166701 non-null  float64\n",
            " 46  loser_rank          150845 non-null  float64\n",
            " 47  loser_rank_points   150828 non-null  float64\n",
            " 48  tourney_spectators  186101 non-null  float64\n",
            " 49  tourney_revenue     186102 non-null  float64\n",
            "dtypes: float64(35), int64(1), object(14)\n",
            "memory usage: 71.0+ MB\n"
          ]
        }
      ]
    },
    {
      "cell_type": "markdown",
      "metadata": {
        "id": "zIxPK4bhS8WU"
      },
      "source": [
        "Let's take a look to the players dataframes by calling the head() method, which shows the first five lines of the dataframes."
      ]
    },
    {
      "cell_type": "code",
      "metadata": {
        "colab": {
          "base_uri": "https://localhost:8080/",
          "height": 203
        },
        "id": "XxfxJQpfW0Vq",
        "outputId": "9e838b89-88b8-442d-b824-5f0f935c2951"
      },
      "source": [
        "df_male.head()"
      ],
      "execution_count": null,
      "outputs": [
        {
          "output_type": "execute_result",
          "data": {
            "text/html": [
              "<div>\n",
              "<style scoped>\n",
              "    .dataframe tbody tr th:only-of-type {\n",
              "        vertical-align: middle;\n",
              "    }\n",
              "\n",
              "    .dataframe tbody tr th {\n",
              "        vertical-align: top;\n",
              "    }\n",
              "\n",
              "    .dataframe thead th {\n",
              "        text-align: right;\n",
              "    }\n",
              "</style>\n",
              "<table border=\"1\" class=\"dataframe\">\n",
              "  <thead>\n",
              "    <tr style=\"text-align: right;\">\n",
              "      <th></th>\n",
              "      <th>name</th>\n",
              "      <th>surname</th>\n",
              "    </tr>\n",
              "  </thead>\n",
              "  <tbody>\n",
              "    <tr>\n",
              "      <th>0</th>\n",
              "      <td>Gardnar</td>\n",
              "      <td>Mulloy</td>\n",
              "    </tr>\n",
              "    <tr>\n",
              "      <th>1</th>\n",
              "      <td>Pancho</td>\n",
              "      <td>Segura</td>\n",
              "    </tr>\n",
              "    <tr>\n",
              "      <th>2</th>\n",
              "      <td>Frank</td>\n",
              "      <td>Sedgman</td>\n",
              "    </tr>\n",
              "    <tr>\n",
              "      <th>3</th>\n",
              "      <td>Giuseppe</td>\n",
              "      <td>Merlo</td>\n",
              "    </tr>\n",
              "    <tr>\n",
              "      <th>4</th>\n",
              "      <td>Richard Pancho</td>\n",
              "      <td>Gonzales</td>\n",
              "    </tr>\n",
              "  </tbody>\n",
              "</table>\n",
              "</div>"
            ],
            "text/plain": [
              "             name   surname\n",
              "0         Gardnar    Mulloy\n",
              "1          Pancho    Segura\n",
              "2           Frank   Sedgman\n",
              "3        Giuseppe     Merlo\n",
              "4  Richard Pancho  Gonzales"
            ]
          },
          "metadata": {},
          "execution_count": 278
        }
      ]
    },
    {
      "cell_type": "code",
      "metadata": {
        "colab": {
          "base_uri": "https://localhost:8080/",
          "height": 203
        },
        "id": "jD7W8KJvXrnt",
        "outputId": "2e212b47-122f-4ecb-cb2a-cc17f300f491"
      },
      "source": [
        "df_female.head()"
      ],
      "execution_count": null,
      "outputs": [
        {
          "output_type": "execute_result",
          "data": {
            "text/html": [
              "<div>\n",
              "<style scoped>\n",
              "    .dataframe tbody tr th:only-of-type {\n",
              "        vertical-align: middle;\n",
              "    }\n",
              "\n",
              "    .dataframe tbody tr th {\n",
              "        vertical-align: top;\n",
              "    }\n",
              "\n",
              "    .dataframe thead th {\n",
              "        text-align: right;\n",
              "    }\n",
              "</style>\n",
              "<table border=\"1\" class=\"dataframe\">\n",
              "  <thead>\n",
              "    <tr style=\"text-align: right;\">\n",
              "      <th></th>\n",
              "      <th>name</th>\n",
              "      <th>surname</th>\n",
              "    </tr>\n",
              "  </thead>\n",
              "  <tbody>\n",
              "    <tr>\n",
              "      <th>0</th>\n",
              "      <td>Bobby</td>\n",
              "      <td>Riggs</td>\n",
              "    </tr>\n",
              "    <tr>\n",
              "      <th>1</th>\n",
              "      <td>X</td>\n",
              "      <td>X</td>\n",
              "    </tr>\n",
              "    <tr>\n",
              "      <th>2</th>\n",
              "      <td>Martina</td>\n",
              "      <td>Hingis</td>\n",
              "    </tr>\n",
              "    <tr>\n",
              "      <th>3</th>\n",
              "      <td>Mirjana</td>\n",
              "      <td>Lucic</td>\n",
              "    </tr>\n",
              "    <tr>\n",
              "      <th>4</th>\n",
              "      <td>Justine</td>\n",
              "      <td>Henin</td>\n",
              "    </tr>\n",
              "  </tbody>\n",
              "</table>\n",
              "</div>"
            ],
            "text/plain": [
              "      name surname\n",
              "0    Bobby   Riggs\n",
              "1        X       X\n",
              "2  Martina  Hingis\n",
              "3  Mirjana   Lucic\n",
              "4  Justine   Henin"
            ]
          },
          "metadata": {},
          "execution_count": 279
        }
      ]
    },
    {
      "cell_type": "markdown",
      "metadata": {
        "id": "5iIwVrtjYgip"
      },
      "source": [
        "Let's now use the info() method to obtain information on the two player datasets."
      ]
    },
    {
      "cell_type": "code",
      "metadata": {
        "colab": {
          "base_uri": "https://localhost:8080/"
        },
        "id": "msG57FzNXIL0",
        "outputId": "190bd978-a60a-48e7-8f7c-34b23985e6df"
      },
      "source": [
        "print(\"Male players dataframe info\")\n",
        "df_male.info()\n",
        "print(\"\\nFemale players dataframe info\")\n",
        "df_female.info()"
      ],
      "execution_count": null,
      "outputs": [
        {
          "output_type": "stream",
          "name": "stdout",
          "text": [
            "Male players dataframe info\n",
            "<class 'pandas.core.frame.DataFrame'>\n",
            "RangeIndex: 55208 entries, 0 to 55207\n",
            "Data columns (total 2 columns):\n",
            " #   Column   Non-Null Count  Dtype \n",
            "---  ------   --------------  ----- \n",
            " 0   name     55031 non-null  object\n",
            " 1   surname  55166 non-null  object\n",
            "dtypes: object(2)\n",
            "memory usage: 862.8+ KB\n",
            "\n",
            "Female players dataframe info\n",
            "<class 'pandas.core.frame.DataFrame'>\n",
            "RangeIndex: 46172 entries, 0 to 46171\n",
            "Data columns (total 2 columns):\n",
            " #   Column   Non-Null Count  Dtype \n",
            "---  ------   --------------  ----- \n",
            " 0   name     44505 non-null  object\n",
            " 1   surname  46172 non-null  object\n",
            "dtypes: object(2)\n",
            "memory usage: 721.6+ KB\n"
          ]
        }
      ]
    },
    {
      "cell_type": "markdown",
      "metadata": {
        "id": "6yNWsMY0YxB-"
      },
      "source": [
        "As we can see from the previous infos, there are null values both in the male and female dataset."
      ]
    },
    {
      "cell_type": "code",
      "metadata": {
        "colab": {
          "base_uri": "https://localhost:8080/"
        },
        "id": "ZYCUQlp5ZQ7-",
        "outputId": "a04032c2-aa02-4ae2-bfd2-fc04dd708720"
      },
      "source": [
        "print(\"Male players dataframe null values:\\n{0}\".format(df_male.isnull().any()))\n",
        "print(\"\\nFemale players dataframe null values:\\n{0}\".format(df_female.isnull().any()))"
      ],
      "execution_count": null,
      "outputs": [
        {
          "output_type": "stream",
          "name": "stdout",
          "text": [
            "Male players dataframe null values:\n",
            "name       True\n",
            "surname    True\n",
            "dtype: bool\n",
            "\n",
            "Female players dataframe null values:\n",
            "name        True\n",
            "surname    False\n",
            "dtype: bool\n"
          ]
        }
      ]
    },
    {
      "cell_type": "markdown",
      "metadata": {
        "id": "TAPdLGDDaw-V"
      },
      "source": [
        "We need to drop such elements with null values."
      ]
    },
    {
      "cell_type": "code",
      "metadata": {
        "colab": {
          "base_uri": "https://localhost:8080/"
        },
        "id": "FMhph-Ima0YC",
        "outputId": "e89b1c03-9360-47e3-f6d1-69e307c048f3"
      },
      "source": [
        "df_male = df_male.dropna()\n",
        "df_female = df_female.dropna()\n",
        "print(\"Male players dataframe info:\")\n",
        "df_male.info()\n",
        "print(\"\\nFemale players dataframe info:\")\n",
        "df_female.info()"
      ],
      "execution_count": null,
      "outputs": [
        {
          "output_type": "stream",
          "name": "stdout",
          "text": [
            "Male players dataframe info:\n",
            "<class 'pandas.core.frame.DataFrame'>\n",
            "Int64Index: 55031 entries, 0 to 55207\n",
            "Data columns (total 2 columns):\n",
            " #   Column   Non-Null Count  Dtype \n",
            "---  ------   --------------  ----- \n",
            " 0   name     55031 non-null  object\n",
            " 1   surname  55031 non-null  object\n",
            "dtypes: object(2)\n",
            "memory usage: 1.3+ MB\n",
            "\n",
            "Female players dataframe info:\n",
            "<class 'pandas.core.frame.DataFrame'>\n",
            "Int64Index: 44505 entries, 0 to 46171\n",
            "Data columns (total 2 columns):\n",
            " #   Column   Non-Null Count  Dtype \n",
            "---  ------   --------------  ----- \n",
            " 0   name     44505 non-null  object\n",
            " 1   surname  44505 non-null  object\n",
            "dtypes: object(2)\n",
            "memory usage: 1.0+ MB\n"
          ]
        }
      ]
    },
    {
      "cell_type": "markdown",
      "metadata": {
        "id": "K7PMDe7EcFlG"
      },
      "source": [
        "There could be duplicates in the same dataset, but we know that there's a possibility that two players could share the same name and surname, so we won't change anything."
      ]
    },
    {
      "cell_type": "markdown",
      "metadata": {
        "id": "M1TTywgJckQk"
      },
      "source": [
        "But, there are elements where the values are missing, or incomplete, but not null (look at df_female.head()), we need to remove such elements."
      ]
    },
    {
      "cell_type": "code",
      "metadata": {
        "colab": {
          "base_uri": "https://localhost:8080/"
        },
        "id": "JgK_anRadhp-",
        "outputId": "467249ed-fb23-4384-96c1-ba6dad8e18f5"
      },
      "source": [
        "elements_not_to_keep = [\"Unknown\", \"??\"]\n",
        "df_male = df_male[df_male[\"name\"].str.len()>1]\n",
        "df_male = df_male[df_male[\"surname\"].str.len()>1]\n",
        "df_male = df_male[~df_male[\"name\"].isin(elements_not_to_keep)]\n",
        "df_male = df_male[~df_male[\"surname\"].isin(elements_not_to_keep)]\n",
        "df_male.info()\n",
        "# df_male[df_male[\"name\"].isin([\"??\"])]\n",
        "# df_male.where(df_male.name.str.len()==1)\n",
        "# Ci sono altri elementi che non sono compatibili, andrebbero visti a mano"
      ],
      "execution_count": null,
      "outputs": [
        {
          "output_type": "stream",
          "name": "stdout",
          "text": [
            "<class 'pandas.core.frame.DataFrame'>\n",
            "Int64Index: 53965 entries, 0 to 55207\n",
            "Data columns (total 2 columns):\n",
            " #   Column   Non-Null Count  Dtype \n",
            "---  ------   --------------  ----- \n",
            " 0   name     53965 non-null  object\n",
            " 1   surname  53965 non-null  object\n",
            "dtypes: object(2)\n",
            "memory usage: 1.2+ MB\n"
          ]
        }
      ]
    }
  ]
}