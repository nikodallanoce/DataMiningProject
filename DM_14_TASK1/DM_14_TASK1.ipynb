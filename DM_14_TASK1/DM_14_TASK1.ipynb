{
  "nbformat": 4,
  "nbformat_minor": 0,
  "metadata": {
    "colab": {
      "name": "DM_14_TASK1.ipynb",
      "provenance": [],
      "collapsed_sections": [
        "QptPXm81YsDp"
      ]
    },
    "kernelspec": {
      "name": "python3",
      "display_name": "Python 3"
    },
    "language_info": {
      "name": "python"
    }
  },
  "cells": [
    {
      "cell_type": "markdown",
      "metadata": {
        "id": "DgGIb0deFWrk"
      },
      "source": [
        "**Data Mining Project, midterm 2021/2022**\n",
        "\n",
        "\n"
      ]
    },
    {
      "cell_type": "markdown",
      "metadata": {
        "id": "wKXfDR2pLRQC"
      },
      "source": [
        "**Authors:** Niko Dalla Noce, Alessandro Ristori, Giuseppe Lombardi"
      ]
    },
    {
      "cell_type": "markdown",
      "metadata": {
        "id": "RCKQj3mRGVFt"
      },
      "source": [
        "#**Task 1: Data Understanding and Data Preparation**"
      ]
    },
    {
      "cell_type": "markdown",
      "metadata": {
        "id": "t56AnW_YPBXr"
      },
      "source": [
        "##**Task 1.1 Data Understanding**"
      ]
    },
    {
      "cell_type": "markdown",
      "metadata": {
        "id": "KMDwrfRjG9MO"
      },
      "source": [
        "**Importing libraries and extracting datasets**"
      ]
    },
    {
      "cell_type": "code",
      "metadata": {
        "id": "dd1wddFIFTnq"
      },
      "source": [
        "import numpy as np\n",
        "import pandas as pd\n",
        "import matplotlib as plt\n",
        "import scipy\n",
        "\n",
        "import zipfile\n",
        "with zipfile.ZipFile(\"prj_data.zip\", 'r') as zip_ref:\n",
        "     zip_ref.extractall()"
      ],
      "execution_count": 1,
      "outputs": []
    },
    {
      "cell_type": "markdown",
      "metadata": {
        "id": "wpZzWIYlSySO"
      },
      "source": [
        "**Load the datasets**"
      ]
    },
    {
      "cell_type": "markdown",
      "metadata": {
        "id": "6nVkIZPNWsAl"
      },
      "source": [
        "Read the data from the three csv files, each one is assigned to a different dataframe for now."
      ]
    },
    {
      "cell_type": "code",
      "metadata": {
        "id": "fOQVbE94E32o"
      },
      "source": [
        "df_male = pd.read_csv(\"male_players.csv\", sep=\",\")  # dataframe of male players\n",
        "df_female = pd.read_csv(\"female_players.csv\", sep=\",\")  # dataframe of female players\n",
        "df_matches = pd.read_csv(\"tennis_matches.csv\", sep=\",\")  # matches dataframe"
      ],
      "execution_count": 2,
      "outputs": []
    },
    {
      "cell_type": "markdown",
      "metadata": {
        "id": "SGsH6F8LPwnE"
      },
      "source": [
        "I dataframe dei giocatori contengono solamente nome e cognome dei giocatori (la grande maggioranza sono ormai ritirati dalle competizioni e non sono presenti in alcun record del dataframe dei match. Per questo abbiamo deciso di effetturare principlamente il nostro lavoro sul dataframe dei match."
      ]
    },
    {
      "cell_type": "code",
      "metadata": {
        "colab": {
          "base_uri": "https://localhost:8080/",
          "height": 341
        },
        "id": "71aLk45CQR_t",
        "outputId": "3a5bc6cc-72c7-4bf1-9613-8b9b45551d51"
      },
      "source": [
        "df_matches.head()"
      ],
      "execution_count": 3,
      "outputs": [
        {
          "output_type": "execute_result",
          "data": {
            "text/html": [
              "<div>\n",
              "<style scoped>\n",
              "    .dataframe tbody tr th:only-of-type {\n",
              "        vertical-align: middle;\n",
              "    }\n",
              "\n",
              "    .dataframe tbody tr th {\n",
              "        vertical-align: top;\n",
              "    }\n",
              "\n",
              "    .dataframe thead th {\n",
              "        text-align: right;\n",
              "    }\n",
              "</style>\n",
              "<table border=\"1\" class=\"dataframe\">\n",
              "  <thead>\n",
              "    <tr style=\"text-align: right;\">\n",
              "      <th></th>\n",
              "      <th>Unnamed: 0</th>\n",
              "      <th>tourney_id</th>\n",
              "      <th>tourney_name</th>\n",
              "      <th>surface</th>\n",
              "      <th>draw_size</th>\n",
              "      <th>tourney_level</th>\n",
              "      <th>tourney_date</th>\n",
              "      <th>match_num</th>\n",
              "      <th>winner_id</th>\n",
              "      <th>winner_entry</th>\n",
              "      <th>winner_name</th>\n",
              "      <th>winner_hand</th>\n",
              "      <th>winner_ht</th>\n",
              "      <th>winner_ioc</th>\n",
              "      <th>winner_age</th>\n",
              "      <th>loser_id</th>\n",
              "      <th>loser_entry</th>\n",
              "      <th>loser_name</th>\n",
              "      <th>loser_hand</th>\n",
              "      <th>loser_ht</th>\n",
              "      <th>loser_ioc</th>\n",
              "      <th>loser_age</th>\n",
              "      <th>score</th>\n",
              "      <th>best_of</th>\n",
              "      <th>round</th>\n",
              "      <th>minutes</th>\n",
              "      <th>w_ace</th>\n",
              "      <th>w_df</th>\n",
              "      <th>w_svpt</th>\n",
              "      <th>w_1stIn</th>\n",
              "      <th>w_1stWon</th>\n",
              "      <th>w_2ndWon</th>\n",
              "      <th>w_SvGms</th>\n",
              "      <th>w_bpSaved</th>\n",
              "      <th>w_bpFaced</th>\n",
              "      <th>l_ace</th>\n",
              "      <th>l_df</th>\n",
              "      <th>l_svpt</th>\n",
              "      <th>l_1stIn</th>\n",
              "      <th>l_1stWon</th>\n",
              "      <th>l_2ndWon</th>\n",
              "      <th>l_SvGms</th>\n",
              "      <th>l_bpSaved</th>\n",
              "      <th>l_bpFaced</th>\n",
              "      <th>winner_rank</th>\n",
              "      <th>winner_rank_points</th>\n",
              "      <th>loser_rank</th>\n",
              "      <th>loser_rank_points</th>\n",
              "      <th>tourney_spectators</th>\n",
              "      <th>tourney_revenue</th>\n",
              "    </tr>\n",
              "  </thead>\n",
              "  <tbody>\n",
              "    <tr>\n",
              "      <th>0</th>\n",
              "      <td>0</td>\n",
              "      <td>2019-M020</td>\n",
              "      <td>Brisbane</td>\n",
              "      <td>Hard</td>\n",
              "      <td>32.0</td>\n",
              "      <td>A</td>\n",
              "      <td>20181231.0</td>\n",
              "      <td>300.0</td>\n",
              "      <td>105453.0</td>\n",
              "      <td>NaN</td>\n",
              "      <td>Kei Nishikori</td>\n",
              "      <td>R</td>\n",
              "      <td>178.0</td>\n",
              "      <td>JPN</td>\n",
              "      <td>95.000000</td>\n",
              "      <td>106421.0</td>\n",
              "      <td>NaN</td>\n",
              "      <td>Daniil Medvedev</td>\n",
              "      <td>R</td>\n",
              "      <td>198.0</td>\n",
              "      <td>RUS</td>\n",
              "      <td>22.885695</td>\n",
              "      <td>6-4 3-6 6-2</td>\n",
              "      <td>3.0</td>\n",
              "      <td>F</td>\n",
              "      <td>124.0</td>\n",
              "      <td>3.0</td>\n",
              "      <td>3.0</td>\n",
              "      <td>77.0</td>\n",
              "      <td>44.0</td>\n",
              "      <td>31.0</td>\n",
              "      <td>17.0</td>\n",
              "      <td>13.0</td>\n",
              "      <td>3.0</td>\n",
              "      <td>6.0</td>\n",
              "      <td>8.0</td>\n",
              "      <td>6.0</td>\n",
              "      <td>100.0</td>\n",
              "      <td>54.0</td>\n",
              "      <td>34.0</td>\n",
              "      <td>20.0</td>\n",
              "      <td>14.0</td>\n",
              "      <td>10.0</td>\n",
              "      <td>15.0</td>\n",
              "      <td>9.0</td>\n",
              "      <td>3590.0</td>\n",
              "      <td>16.0</td>\n",
              "      <td>1977.0</td>\n",
              "      <td>3928.0</td>\n",
              "      <td>742618.69</td>\n",
              "    </tr>\n",
              "    <tr>\n",
              "      <th>1</th>\n",
              "      <td>1</td>\n",
              "      <td>2019-M020</td>\n",
              "      <td>Brisbane</td>\n",
              "      <td>Hard</td>\n",
              "      <td>32.0</td>\n",
              "      <td>A</td>\n",
              "      <td>20181231.0</td>\n",
              "      <td>299.0</td>\n",
              "      <td>106421.0</td>\n",
              "      <td>NaN</td>\n",
              "      <td>Daniil Medvedev</td>\n",
              "      <td>R</td>\n",
              "      <td>198.0</td>\n",
              "      <td>RUS</td>\n",
              "      <td>22.885695</td>\n",
              "      <td>104542.0</td>\n",
              "      <td>PR</td>\n",
              "      <td>Jo-Wilfried Tsonga</td>\n",
              "      <td>R</td>\n",
              "      <td>188.0</td>\n",
              "      <td>FRA</td>\n",
              "      <td>33.705681</td>\n",
              "      <td>7-6(6) 6-2</td>\n",
              "      <td>3.0</td>\n",
              "      <td>SF</td>\n",
              "      <td>82.0</td>\n",
              "      <td>10.0</td>\n",
              "      <td>1.0</td>\n",
              "      <td>52.0</td>\n",
              "      <td>33.0</td>\n",
              "      <td>28.0</td>\n",
              "      <td>14.0</td>\n",
              "      <td>10.0</td>\n",
              "      <td>0.0</td>\n",
              "      <td>1.0</td>\n",
              "      <td>17.0</td>\n",
              "      <td>2.0</td>\n",
              "      <td>77.0</td>\n",
              "      <td>52.0</td>\n",
              "      <td>36.0</td>\n",
              "      <td>7.0</td>\n",
              "      <td>10.0</td>\n",
              "      <td>10.0</td>\n",
              "      <td>13.0</td>\n",
              "      <td>16.0</td>\n",
              "      <td>1977.0</td>\n",
              "      <td>239.0</td>\n",
              "      <td>200.0</td>\n",
              "      <td>3928.0</td>\n",
              "      <td>742618.69</td>\n",
              "    </tr>\n",
              "    <tr>\n",
              "      <th>2</th>\n",
              "      <td>2</td>\n",
              "      <td>2019-M020</td>\n",
              "      <td>Brisbane</td>\n",
              "      <td>Hard</td>\n",
              "      <td>32.0</td>\n",
              "      <td>A</td>\n",
              "      <td>20181231.0</td>\n",
              "      <td>298.0</td>\n",
              "      <td>105453.0</td>\n",
              "      <td>NaN</td>\n",
              "      <td>Kei Nishikori</td>\n",
              "      <td>R</td>\n",
              "      <td>178.0</td>\n",
              "      <td>JPN</td>\n",
              "      <td>29.004791</td>\n",
              "      <td>104871.0</td>\n",
              "      <td>NaN</td>\n",
              "      <td>Jeremy Chardy</td>\n",
              "      <td>R</td>\n",
              "      <td>188.0</td>\n",
              "      <td>FRA</td>\n",
              "      <td>31.882272</td>\n",
              "      <td>6-2 6-2</td>\n",
              "      <td>3.0</td>\n",
              "      <td>SF</td>\n",
              "      <td>66.0</td>\n",
              "      <td>2.0</td>\n",
              "      <td>2.0</td>\n",
              "      <td>47.0</td>\n",
              "      <td>33.0</td>\n",
              "      <td>26.0</td>\n",
              "      <td>9.0</td>\n",
              "      <td>8.0</td>\n",
              "      <td>2.0</td>\n",
              "      <td>2.0</td>\n",
              "      <td>10.0</td>\n",
              "      <td>3.0</td>\n",
              "      <td>46.0</td>\n",
              "      <td>27.0</td>\n",
              "      <td>15.0</td>\n",
              "      <td>6.0</td>\n",
              "      <td>8.0</td>\n",
              "      <td>1.0</td>\n",
              "      <td>5.0</td>\n",
              "      <td>9.0</td>\n",
              "      <td>3590.0</td>\n",
              "      <td>40.0</td>\n",
              "      <td>1050.0</td>\n",
              "      <td>3928.0</td>\n",
              "      <td>742618.69</td>\n",
              "    </tr>\n",
              "    <tr>\n",
              "      <th>3</th>\n",
              "      <td>3</td>\n",
              "      <td>2019-M020</td>\n",
              "      <td>Brisbane</td>\n",
              "      <td>Hard</td>\n",
              "      <td>32.0</td>\n",
              "      <td>A</td>\n",
              "      <td>20181231.0</td>\n",
              "      <td>297.0</td>\n",
              "      <td>104542.0</td>\n",
              "      <td>PR</td>\n",
              "      <td>Jo-Wilfried Tsonga</td>\n",
              "      <td>R</td>\n",
              "      <td>188.0</td>\n",
              "      <td>FRA</td>\n",
              "      <td>33.705681</td>\n",
              "      <td>200282.0</td>\n",
              "      <td>NaN</td>\n",
              "      <td>Alex De Minaur</td>\n",
              "      <td>R</td>\n",
              "      <td>183.0</td>\n",
              "      <td>AUS</td>\n",
              "      <td>19.868583</td>\n",
              "      <td>6-4 7-6(2)</td>\n",
              "      <td>3.0</td>\n",
              "      <td>QF</td>\n",
              "      <td>106.0</td>\n",
              "      <td>12.0</td>\n",
              "      <td>2.0</td>\n",
              "      <td>68.0</td>\n",
              "      <td>43.0</td>\n",
              "      <td>34.0</td>\n",
              "      <td>15.0</td>\n",
              "      <td>11.0</td>\n",
              "      <td>4.0</td>\n",
              "      <td>5.0</td>\n",
              "      <td>1.0</td>\n",
              "      <td>2.0</td>\n",
              "      <td>81.0</td>\n",
              "      <td>60.0</td>\n",
              "      <td>38.0</td>\n",
              "      <td>9.0</td>\n",
              "      <td>11.0</td>\n",
              "      <td>4.0</td>\n",
              "      <td>6.0</td>\n",
              "      <td>239.0</td>\n",
              "      <td>200.0</td>\n",
              "      <td>31.0</td>\n",
              "      <td>1298.0</td>\n",
              "      <td>3928.0</td>\n",
              "      <td>742618.69</td>\n",
              "    </tr>\n",
              "    <tr>\n",
              "      <th>4</th>\n",
              "      <td>4</td>\n",
              "      <td>2019-M020</td>\n",
              "      <td>Brisbane</td>\n",
              "      <td>Hard</td>\n",
              "      <td>32.0</td>\n",
              "      <td>A</td>\n",
              "      <td>20181231.0</td>\n",
              "      <td>296.0</td>\n",
              "      <td>106421.0</td>\n",
              "      <td>NaN</td>\n",
              "      <td>Daniil Medvedev</td>\n",
              "      <td>R</td>\n",
              "      <td>198.0</td>\n",
              "      <td>RUS</td>\n",
              "      <td>22.885695</td>\n",
              "      <td>105683.0</td>\n",
              "      <td>NaN</td>\n",
              "      <td>Milos Raonic</td>\n",
              "      <td>R</td>\n",
              "      <td>196.0</td>\n",
              "      <td>CAN</td>\n",
              "      <td>28.010951</td>\n",
              "      <td>6-7(2) 6-3 6-4</td>\n",
              "      <td>3.0</td>\n",
              "      <td>QF</td>\n",
              "      <td>129.0</td>\n",
              "      <td>12.0</td>\n",
              "      <td>3.0</td>\n",
              "      <td>105.0</td>\n",
              "      <td>68.0</td>\n",
              "      <td>48.0</td>\n",
              "      <td>25.0</td>\n",
              "      <td>16.0</td>\n",
              "      <td>8.0</td>\n",
              "      <td>8.0</td>\n",
              "      <td>29.0</td>\n",
              "      <td>5.0</td>\n",
              "      <td>94.0</td>\n",
              "      <td>56.0</td>\n",
              "      <td>46.0</td>\n",
              "      <td>19.0</td>\n",
              "      <td>15.0</td>\n",
              "      <td>2.0</td>\n",
              "      <td>4.0</td>\n",
              "      <td>16.0</td>\n",
              "      <td>1977.0</td>\n",
              "      <td>18.0</td>\n",
              "      <td>1855.0</td>\n",
              "      <td>3928.0</td>\n",
              "      <td>742618.69</td>\n",
              "    </tr>\n",
              "  </tbody>\n",
              "</table>\n",
              "</div>"
            ],
            "text/plain": [
              "   Unnamed: 0 tourney_id  ... tourney_spectators tourney_revenue\n",
              "0           0  2019-M020  ...             3928.0       742618.69\n",
              "1           1  2019-M020  ...             3928.0       742618.69\n",
              "2           2  2019-M020  ...             3928.0       742618.69\n",
              "3           3  2019-M020  ...             3928.0       742618.69\n",
              "4           4  2019-M020  ...             3928.0       742618.69\n",
              "\n",
              "[5 rows x 50 columns]"
            ]
          },
          "metadata": {},
          "execution_count": 3
        }
      ]
    },
    {
      "cell_type": "code",
      "metadata": {
        "colab": {
          "base_uri": "https://localhost:8080/"
        },
        "id": "7C2CaR47M1E7",
        "outputId": "fb7adf0f-cbc8-4560-b2e5-64404136c44b"
      },
      "source": [
        "df_matches.info()"
      ],
      "execution_count": 4,
      "outputs": [
        {
          "output_type": "stream",
          "name": "stdout",
          "text": [
            "<class 'pandas.core.frame.DataFrame'>\n",
            "RangeIndex: 186128 entries, 0 to 186127\n",
            "Data columns (total 50 columns):\n",
            " #   Column              Non-Null Count   Dtype  \n",
            "---  ------              --------------   -----  \n",
            " 0   Unnamed: 0          186128 non-null  int64  \n",
            " 1   tourney_id          186073 non-null  object \n",
            " 2   tourney_name        186103 non-null  object \n",
            " 3   surface             185940 non-null  object \n",
            " 4   draw_size           186099 non-null  float64\n",
            " 5   tourney_level       186099 non-null  object \n",
            " 6   tourney_date        186100 non-null  float64\n",
            " 7   match_num           186101 non-null  float64\n",
            " 8   winner_id           186073 non-null  float64\n",
            " 9   winner_entry        25827 non-null   object \n",
            " 10  winner_name         186101 non-null  object \n",
            " 11  winner_hand         186082 non-null  object \n",
            " 12  winner_ht           49341 non-null   float64\n",
            " 13  winner_ioc          186099 non-null  object \n",
            " 14  winner_age          183275 non-null  float64\n",
            " 15  loser_id            186100 non-null  float64\n",
            " 16  loser_entry         44154 non-null   object \n",
            " 17  loser_name          186097 non-null  object \n",
            " 18  loser_hand          186030 non-null  object \n",
            " 19  loser_ht            38348 non-null   float64\n",
            " 20  loser_ioc           186102 non-null  object \n",
            " 21  loser_age           179590 non-null  float64\n",
            " 22  score               185929 non-null  object \n",
            " 23  best_of             186099 non-null  float64\n",
            " 24  round               186098 non-null  object \n",
            " 25  minutes             81660 non-null   float64\n",
            " 26  w_ace               82310 non-null   float64\n",
            " 27  w_df                82312 non-null   float64\n",
            " 28  w_svpt              82310 non-null   float64\n",
            " 29  w_1stIn             82310 non-null   float64\n",
            " 30  w_1stWon            82312 non-null   float64\n",
            " 31  w_2ndWon            82309 non-null   float64\n",
            " 32  w_SvGms             82311 non-null   float64\n",
            " 33  w_bpSaved           82315 non-null   float64\n",
            " 34  w_bpFaced           82312 non-null   float64\n",
            " 35  l_ace               82313 non-null   float64\n",
            " 36  l_df                82319 non-null   float64\n",
            " 37  l_svpt              82315 non-null   float64\n",
            " 38  l_1stIn             82304 non-null   float64\n",
            " 39  l_1stWon            82311 non-null   float64\n",
            " 40  l_2ndWon            82312 non-null   float64\n",
            " 41  l_SvGms             82318 non-null   float64\n",
            " 42  l_bpSaved           82311 non-null   float64\n",
            " 43  l_bpFaced           82306 non-null   float64\n",
            " 44  winner_rank         166719 non-null  float64\n",
            " 45  winner_rank_points  166701 non-null  float64\n",
            " 46  loser_rank          150845 non-null  float64\n",
            " 47  loser_rank_points   150828 non-null  float64\n",
            " 48  tourney_spectators  186101 non-null  float64\n",
            " 49  tourney_revenue     186102 non-null  float64\n",
            "dtypes: float64(35), int64(1), object(14)\n",
            "memory usage: 71.0+ MB\n"
          ]
        }
      ]
    },
    {
      "cell_type": "markdown",
      "metadata": {
        "id": "xB_vb-SkQhOL"
      },
      "source": [
        "**First issue:** dobbiamo eliminare quei record di cui non possiamo sapere né chi sia il vincitore né chi sia il perdente."
      ]
    },
    {
      "cell_type": "code",
      "metadata": {
        "colab": {
          "base_uri": "https://localhost:8080/"
        },
        "id": "EVeiEp8hRoe3",
        "outputId": "93f0b7ab-cbda-44b6-aa16-eda5c75f7a18"
      },
      "source": [
        "# df_matches[[\"draw_size\", \"match_num\", \"winner_id\", \"winner_ht\", \"winner_age\", \"loser_id\", \"loser_ht\", \"loser_age\"]].isnull().any()\n",
        "len_df_matches_previous = len(df_matches)\n",
        "df_matches = df_matches.dropna(subset=[\"winner_name\", \"loser_name\", \"winner_id\", \"loser_id\"], how=\"all\")\n",
        "print(\"{0} records from the matches dataframe were dropped since we coulnd't find any winner or loser\".format(len_df_matches_previous-len(df_matches)))"
      ],
      "execution_count": 5,
      "outputs": [
        {
          "output_type": "stream",
          "name": "stdout",
          "text": [
            "5 records from the matches dataframe were dropped since we coulnd't find any winner or loser\n"
          ]
        }
      ]
    },
    {
      "cell_type": "markdown",
      "metadata": {
        "id": "VNJBOy8yaaBJ"
      },
      "source": [
        "#**Questa parte è data preparation** Now let's create a new dataset for the players"
      ]
    },
    {
      "cell_type": "code",
      "metadata": {
        "id": "BZRjE9bdHGQb",
        "colab": {
          "base_uri": "https://localhost:8080/"
        },
        "outputId": "348d196c-8602-4916-a829-490e632da7dd"
      },
      "source": [
        "players_w = df_matches[[\"winner_name\"]].rename(columns={\"winner_name\":\"Name\"})  # player names extracted from the winners\n",
        "players_l = df_matches[[\"loser_name\"]].rename(columns={\"loser_name\":\"Name\"})  # player names extracted from the losers\n",
        "\n",
        "# first we append the losers list to the winners one\n",
        "df_players = players_w.append(players_l)\n",
        "\n",
        "# the redundant records are dropped and a new dataframe is built from the list of players\n",
        "df_players = df_players[\"Name\"].unique()\n",
        "df_players = pd.DataFrame(df_players, columns=[\"Name\"])\n",
        "print(\"{0}\\n\".format(df_players.info()))\n",
        "print(df_players.isnull().any())"
      ],
      "execution_count": 6,
      "outputs": [
        {
          "output_type": "stream",
          "name": "stdout",
          "text": [
            "<class 'pandas.core.frame.DataFrame'>\n",
            "RangeIndex: 10105 entries, 0 to 10104\n",
            "Data columns (total 1 columns):\n",
            " #   Column  Non-Null Count  Dtype \n",
            "---  ------  --------------  ----- \n",
            " 0   Name    10104 non-null  object\n",
            "dtypes: object(1)\n",
            "memory usage: 79.1+ KB\n",
            "None\n",
            "\n",
            "Name    True\n",
            "dtype: bool\n"
          ]
        }
      ]
    },
    {
      "cell_type": "markdown",
      "metadata": {
        "id": "ogdnqPTuc1tn"
      },
      "source": [
        "There's only one record with no value, let's drop it."
      ]
    },
    {
      "cell_type": "code",
      "metadata": {
        "colab": {
          "base_uri": "https://localhost:8080/"
        },
        "id": "QAIcXsQtc9ML",
        "outputId": "c21214d3-e398-4217-d796-930b01a8de22"
      },
      "source": [
        "df_players = df_players.dropna()\n",
        "df_players.isnull().any()"
      ],
      "execution_count": 7,
      "outputs": [
        {
          "output_type": "execute_result",
          "data": {
            "text/plain": [
              "Name    False\n",
              "dtype: bool"
            ]
          },
          "metadata": {},
          "execution_count": 7
        }
      ]
    },
    {
      "cell_type": "markdown",
      "metadata": {
        "id": "bgy50XNjdPG9"
      },
      "source": [
        "The new dataframe has only one attribute, as the head() method shows."
      ]
    },
    {
      "cell_type": "code",
      "metadata": {
        "colab": {
          "base_uri": "https://localhost:8080/",
          "height": 203
        },
        "id": "KThHHeOLdVfk",
        "outputId": "7584cbb6-a6e1-4829-d15e-a2d5413ac224"
      },
      "source": [
        "df_players.head()"
      ],
      "execution_count": 8,
      "outputs": [
        {
          "output_type": "execute_result",
          "data": {
            "text/html": [
              "<div>\n",
              "<style scoped>\n",
              "    .dataframe tbody tr th:only-of-type {\n",
              "        vertical-align: middle;\n",
              "    }\n",
              "\n",
              "    .dataframe tbody tr th {\n",
              "        vertical-align: top;\n",
              "    }\n",
              "\n",
              "    .dataframe thead th {\n",
              "        text-align: right;\n",
              "    }\n",
              "</style>\n",
              "<table border=\"1\" class=\"dataframe\">\n",
              "  <thead>\n",
              "    <tr style=\"text-align: right;\">\n",
              "      <th></th>\n",
              "      <th>Name</th>\n",
              "    </tr>\n",
              "  </thead>\n",
              "  <tbody>\n",
              "    <tr>\n",
              "      <th>0</th>\n",
              "      <td>Kei Nishikori</td>\n",
              "    </tr>\n",
              "    <tr>\n",
              "      <th>1</th>\n",
              "      <td>Daniil Medvedev</td>\n",
              "    </tr>\n",
              "    <tr>\n",
              "      <th>2</th>\n",
              "      <td>Jo-Wilfried Tsonga</td>\n",
              "    </tr>\n",
              "    <tr>\n",
              "      <th>3</th>\n",
              "      <td>Jeremy Chardy</td>\n",
              "    </tr>\n",
              "    <tr>\n",
              "      <th>4</th>\n",
              "      <td>Alex De Minaur</td>\n",
              "    </tr>\n",
              "  </tbody>\n",
              "</table>\n",
              "</div>"
            ],
            "text/plain": [
              "                 Name\n",
              "0       Kei Nishikori\n",
              "1     Daniil Medvedev\n",
              "2  Jo-Wilfried Tsonga\n",
              "3       Jeremy Chardy\n",
              "4      Alex De Minaur"
            ]
          },
          "metadata": {},
          "execution_count": 8
        }
      ]
    },
    {
      "cell_type": "markdown",
      "metadata": {
        "id": "B3B1tUkpdklQ"
      },
      "source": [
        "Now, we need to know if a player is male or female, that's when df_male and df_female come to help us."
      ]
    },
    {
      "cell_type": "code",
      "metadata": {
        "id": "wS5AeE5HEn10"
      },
      "source": [
        "def players_from_sex(df_players_sex, df_players_matches):\n",
        "  \"\"\"\n",
        "  Obtain the players of a specific sex given a dataset of that sex\n",
        "  :param df_players_sex: players dataframe (M or F) from where we obtain the sex\n",
        "  :param df_players_matches: players dataframe built from the matches\n",
        "  :return players: list of players (M or F)\n",
        "  :return index: players indexes (M or F)\n",
        "  \"\"\"\n",
        "  players_name = list(df_players_sex[\"name\"])\n",
        "  players_surname = list(df_players_sex[\"surname\"])\n",
        "    \n",
        "  #lista di players nome e cognome da df_players\n",
        "  players = list()\n",
        "  for n, s in zip(players_name, players_surname):\n",
        "    players.append(\"{0} {1}\".format(n, s))\n",
        "\n",
        "  players = df_players_matches[df_players_matches[\"Name\"].isin(players)]\n",
        "\n",
        "  players_indexes = players.index\n",
        "\n",
        "  return list(players[\"Name\"]), players_indexes"
      ],
      "execution_count": 9,
      "outputs": []
    },
    {
      "cell_type": "code",
      "metadata": {
        "id": "IKH0F5e1FQDF",
        "colab": {
          "base_uri": "https://localhost:8080/",
          "height": 1000
        },
        "outputId": "2a158898-ae3e-4b9b-ab5b-9b0430301760"
      },
      "source": [
        "[players_m, i_male_found] = players_from_sex(df_male, df_players)\n",
        "[players_f, i_female_found] = players_from_sex(df_female, df_players)\n",
        "\n",
        "# players for which we have found the sex\n",
        "players_sex_found = players_m+players_f\n",
        "\n",
        "# players that belong to both datasets\n",
        "players_both_sex = list(set(players_m) & set(players_f))\n",
        "print(\"Players found in both datasets (male and female):\\n{0}\\n\".format(players_both_sex))\n",
        "\n",
        "# players with no sex\n",
        "players_sex_not_found = df_players[~df_players[\"Name\"].isin(players_sex_found)]\n",
        "\n",
        "# some stats about what we found\n",
        "print(\"Number of male players: {0}\".format(len(players_m)))\n",
        "print(\"Number of female players: {0}\".format(len(players_f)))\n",
        "print(\"Number of players: {0}\".format(len(df_players)))\n",
        "print(\"Number of players with no sex known: {0}\\n\".format(len(players_sex_not_found)))\n",
        "players_sex_not_found"
      ],
      "execution_count": 10,
      "outputs": [
        {
          "output_type": "stream",
          "name": "stdout",
          "text": [
            "Players found in both datasets (male and female):\n",
            "['Yi Liu', 'Di Zhao', 'Yang Liu', 'Austin Smith', 'Kuan Yi Lee', 'Ziyu Zhang']\n",
            "\n",
            "Number of male players: 3018\n",
            "Number of female players: 7062\n",
            "Number of players: 10104\n",
            "Number of players with no sex known: 30\n",
            "\n"
          ]
        },
        {
          "output_type": "execute_result",
          "data": {
            "text/html": [
              "<div>\n",
              "<style scoped>\n",
              "    .dataframe tbody tr th:only-of-type {\n",
              "        vertical-align: middle;\n",
              "    }\n",
              "\n",
              "    .dataframe tbody tr th {\n",
              "        vertical-align: top;\n",
              "    }\n",
              "\n",
              "    .dataframe thead th {\n",
              "        text-align: right;\n",
              "    }\n",
              "</style>\n",
              "<table border=\"1\" class=\"dataframe\">\n",
              "  <thead>\n",
              "    <tr style=\"text-align: right;\">\n",
              "      <th></th>\n",
              "      <th>Name</th>\n",
              "    </tr>\n",
              "  </thead>\n",
              "  <tbody>\n",
              "    <tr>\n",
              "      <th>2</th>\n",
              "      <td>Jo-Wilfried Tsonga</td>\n",
              "    </tr>\n",
              "    <tr>\n",
              "      <th>31</th>\n",
              "      <td>Cristian Garin</td>\n",
              "    </tr>\n",
              "    <tr>\n",
              "      <th>53</th>\n",
              "      <td>Stan Wawrinka</td>\n",
              "    </tr>\n",
              "    <tr>\n",
              "      <th>86</th>\n",
              "      <td>Antoine Hoang</td>\n",
              "    </tr>\n",
              "    <tr>\n",
              "      <th>95</th>\n",
              "      <td>Taylor Fritz</td>\n",
              "    </tr>\n",
              "    <tr>\n",
              "      <th>104</th>\n",
              "      <td>Mackenzie McDonald</td>\n",
              "    </tr>\n",
              "    <tr>\n",
              "      <th>110</th>\n",
              "      <td>Diego Schwartzman</td>\n",
              "    </tr>\n",
              "    <tr>\n",
              "      <th>136</th>\n",
              "      <td>Frances Tiafoe</td>\n",
              "    </tr>\n",
              "    <tr>\n",
              "      <th>204</th>\n",
              "      <td>Pedro Martinez</td>\n",
              "    </tr>\n",
              "    <tr>\n",
              "      <th>230</th>\n",
              "      <td>Lloyd Harris</td>\n",
              "    </tr>\n",
              "    <tr>\n",
              "      <th>319</th>\n",
              "      <td>Franko Skugor</td>\n",
              "    </tr>\n",
              "    <tr>\n",
              "      <th>331</th>\n",
              "      <td>Juan Martin del Potro</td>\n",
              "    </tr>\n",
              "    <tr>\n",
              "      <th>371</th>\n",
              "      <td>J.J. Wolf</td>\n",
              "    </tr>\n",
              "    <tr>\n",
              "      <th>399</th>\n",
              "      <td>Daniel Elahi Galan</td>\n",
              "    </tr>\n",
              "    <tr>\n",
              "      <th>532</th>\n",
              "      <td>Joao Menezes</td>\n",
              "    </tr>\n",
              "    <tr>\n",
              "      <th>568</th>\n",
              "      <td>Jurabek Karimov</td>\n",
              "    </tr>\n",
              "    <tr>\n",
              "      <th>577</th>\n",
              "      <td>Juan Pablo Varillas</td>\n",
              "    </tr>\n",
              "    <tr>\n",
              "      <th>587</th>\n",
              "      <td>Holger Rune</td>\n",
              "    </tr>\n",
              "    <tr>\n",
              "      <th>714</th>\n",
              "      <td>Khumoun Sultanov</td>\n",
              "    </tr>\n",
              "    <tr>\n",
              "      <th>776</th>\n",
              "      <td>Evgenii Tiurnev</td>\n",
              "    </tr>\n",
              "    <tr>\n",
              "      <th>1272</th>\n",
              "      <td>Alona Fomina</td>\n",
              "    </tr>\n",
              "    <tr>\n",
              "      <th>2028</th>\n",
              "      <td>Zeynep  Sena Sarioglan</td>\n",
              "    </tr>\n",
              "    <tr>\n",
              "      <th>2181</th>\n",
              "      <td>Christopher O'Connell</td>\n",
              "    </tr>\n",
              "    <tr>\n",
              "      <th>2188</th>\n",
              "      <td>Sam Groth</td>\n",
              "    </tr>\n",
              "    <tr>\n",
              "      <th>2735</th>\n",
              "      <td>Daniel Munoz de la Nava</td>\n",
              "    </tr>\n",
              "    <tr>\n",
              "      <th>2777</th>\n",
              "      <td>Botic van de Zandschulp</td>\n",
              "    </tr>\n",
              "    <tr>\n",
              "      <th>2974</th>\n",
              "      <td>Alexandar Lazov</td>\n",
              "    </tr>\n",
              "    <tr>\n",
              "      <th>3116</th>\n",
              "      <td>David O'Hare</td>\n",
              "    </tr>\n",
              "    <tr>\n",
              "      <th>3354</th>\n",
              "      <td>Ben Patael</td>\n",
              "    </tr>\n",
              "    <tr>\n",
              "      <th>3893</th>\n",
              "      <td>Andres Artunedo Martinavarro</td>\n",
              "    </tr>\n",
              "  </tbody>\n",
              "</table>\n",
              "</div>"
            ],
            "text/plain": [
              "                              Name\n",
              "2               Jo-Wilfried Tsonga\n",
              "31                  Cristian Garin\n",
              "53                   Stan Wawrinka\n",
              "86                   Antoine Hoang\n",
              "95                    Taylor Fritz\n",
              "104             Mackenzie McDonald\n",
              "110              Diego Schwartzman\n",
              "136                 Frances Tiafoe\n",
              "204                 Pedro Martinez\n",
              "230                   Lloyd Harris\n",
              "319                  Franko Skugor\n",
              "331          Juan Martin del Potro\n",
              "371                      J.J. Wolf\n",
              "399             Daniel Elahi Galan\n",
              "532                   Joao Menezes\n",
              "568                Jurabek Karimov\n",
              "577            Juan Pablo Varillas\n",
              "587                    Holger Rune\n",
              "714               Khumoun Sultanov\n",
              "776                Evgenii Tiurnev\n",
              "1272                  Alona Fomina\n",
              "2028        Zeynep  Sena Sarioglan\n",
              "2181         Christopher O'Connell\n",
              "2188                     Sam Groth\n",
              "2735       Daniel Munoz de la Nava\n",
              "2777       Botic van de Zandschulp\n",
              "2974               Alexandar Lazov\n",
              "3116                  David O'Hare\n",
              "3354                    Ben Patael\n",
              "3893  Andres Artunedo Martinavarro"
            ]
          },
          "metadata": {},
          "execution_count": 10
        }
      ]
    },
    {
      "cell_type": "markdown",
      "metadata": {
        "id": "pjogrc12iDd-"
      },
      "source": [
        "All of the players with no known sex are in one of the datasets (male or female) but their name is written differently (e.g.: uppercase in matches but undercase in males), so we need to assign them a sex by looking at the tournaments they took part."
      ]
    },
    {
      "cell_type": "code",
      "metadata": {
        "id": "3oi7eFuiFXsx",
        "colab": {
          "base_uri": "https://localhost:8080/"
        },
        "outputId": "c242083e-699c-45c7-81a2-721fbb75fec5"
      },
      "source": [
        "# let's insert a new attribute (sex) and assign the right values\n",
        "df_players.loc[i_male_found, 'Sex'] = 'M'\n",
        "df_players.loc[i_female_found, 'Sex'] = 'F'\n",
        "df_players.info()"
      ],
      "execution_count": 11,
      "outputs": [
        {
          "output_type": "stream",
          "name": "stdout",
          "text": [
            "<class 'pandas.core.frame.DataFrame'>\n",
            "Int64Index: 10104 entries, 0 to 10104\n",
            "Data columns (total 2 columns):\n",
            " #   Column  Non-Null Count  Dtype \n",
            "---  ------  --------------  ----- \n",
            " 0   Name    10104 non-null  object\n",
            " 1   Sex     10074 non-null  object\n",
            "dtypes: object(2)\n",
            "memory usage: 556.8+ KB\n"
          ]
        }
      ]
    },
    {
      "cell_type": "markdown",
      "metadata": {
        "id": "9WZm2A-6kNKE"
      },
      "source": [
        "To obtain the sex of those players with no known sex we can take a look at the tournaments' levels they took part in, since there's only one type that is shared by both sexes."
      ]
    },
    {
      "cell_type": "code",
      "metadata": {
        "colab": {
          "base_uri": "https://localhost:8080/"
        },
        "id": "HJgusOmyi_26",
        "outputId": "5a0bf5c3-2bdf-4550-e254-23d52ef7490e"
      },
      "source": [
        "# tournament levels for each sex\n",
        "male_t = {'M', 'G', 'C', 'A', 'S', 'F'}\n",
        "female_t = {'P', 'PM', 'I', 'T1', '15', '25', '60', '100', '80', '10', '50', '75'}\n",
        "\n",
        "players_sex_not_found_i = players_sex_not_found.index\n",
        "for player, i in zip(players_sex_not_found[\"Name\"], players_sex_not_found_i):\n",
        "  player_matches_info = df_matches[df_matches['loser_name']==player]\n",
        "  player_t_levels = set(player_matches_info[\"tourney_level\"].dropna())\n",
        "  if len(player_t_levels.intersection(male_t)) > 0:\n",
        "    sex = \"M\"\n",
        "  else:\n",
        "    if len(player_t_levels.intersection(female_t)) > 0:\n",
        "      sex = \"F\"\n",
        "    else:\n",
        "      sex = \"Not known\"\n",
        "  \n",
        "  df_players.loc[i, \"Sex\"] = sex\n",
        "  print(\"{0} {1}\".format(player, sex))"
      ],
      "execution_count": 14,
      "outputs": [
        {
          "output_type": "stream",
          "name": "stdout",
          "text": [
            "Jo-Wilfried Tsonga M\n",
            "Cristian Garin M\n",
            "Stan Wawrinka M\n",
            "Antoine Hoang M\n",
            "Taylor Fritz M\n",
            "Mackenzie McDonald M\n",
            "Diego Schwartzman M\n",
            "Frances Tiafoe M\n",
            "Pedro Martinez M\n",
            "Lloyd Harris M\n",
            "Franko Skugor M\n",
            "Juan Martin del Potro M\n",
            "J.J. Wolf M\n",
            "Daniel Elahi Galan M\n",
            "Joao Menezes M\n",
            "Jurabek Karimov M\n",
            "Juan Pablo Varillas M\n",
            "Holger Rune M\n",
            "Khumoun Sultanov M\n",
            "Evgenii Tiurnev M\n",
            "Alona Fomina F\n",
            "Zeynep  Sena Sarioglan F\n",
            "Christopher O'Connell M\n",
            "Sam Groth M\n",
            "Daniel Munoz de la Nava M\n",
            "Botic van de Zandschulp M\n",
            "Alexandar Lazov M\n",
            "David O'Hare M\n",
            "Ben Patael M\n",
            "Andres Artunedo Martinavarro M\n"
          ]
        }
      ]
    },
    {
      "cell_type": "markdown",
      "metadata": {
        "id": "ux9G8kLHl2Zd"
      },
      "source": [
        "Now there are no more missing values for the sex attribute and each player is either M or F."
      ]
    },
    {
      "cell_type": "code",
      "metadata": {
        "colab": {
          "base_uri": "https://localhost:8080/"
        },
        "id": "-H6sfY2vl7Ge",
        "outputId": "c5ba75d3-a4c8-4a31-f14b-2c182d87870d"
      },
      "source": [
        "df_players.info()"
      ],
      "execution_count": 15,
      "outputs": [
        {
          "output_type": "stream",
          "name": "stdout",
          "text": [
            "<class 'pandas.core.frame.DataFrame'>\n",
            "Int64Index: 10104 entries, 0 to 10104\n",
            "Data columns (total 2 columns):\n",
            " #   Column  Non-Null Count  Dtype \n",
            "---  ------  --------------  ----- \n",
            " 0   Name    10104 non-null  object\n",
            " 1   Sex     10104 non-null  object\n",
            "dtypes: object(2)\n",
            "memory usage: 556.8+ KB\n"
          ]
        }
      ]
    },
    {
      "cell_type": "markdown",
      "metadata": {
        "id": "7baOmWcgma2r"
      },
      "source": [
        "We still need to work on those players who appear in both the male and female datasets."
      ]
    },
    {
      "cell_type": "code",
      "metadata": {
        "colab": {
          "base_uri": "https://localhost:8080/",
          "height": 234
        },
        "id": "PC72HVc5puMW",
        "outputId": "336a3fb9-5a40-4cdd-bd92-7badc149772a"
      },
      "source": [
        "players_both_sex = df_players[df_players[\"Name\"].isin(players_both_sex)]\n",
        "players_both_sex_i = players_both_sex.index\n",
        "players_both_sex"
      ],
      "execution_count": 22,
      "outputs": [
        {
          "output_type": "execute_result",
          "data": {
            "text/html": [
              "<div>\n",
              "<style scoped>\n",
              "    .dataframe tbody tr th:only-of-type {\n",
              "        vertical-align: middle;\n",
              "    }\n",
              "\n",
              "    .dataframe tbody tr th {\n",
              "        vertical-align: top;\n",
              "    }\n",
              "\n",
              "    .dataframe thead th {\n",
              "        text-align: right;\n",
              "    }\n",
              "</style>\n",
              "<table border=\"1\" class=\"dataframe\">\n",
              "  <thead>\n",
              "    <tr style=\"text-align: right;\">\n",
              "      <th></th>\n",
              "      <th>Name</th>\n",
              "      <th>Sex</th>\n",
              "    </tr>\n",
              "  </thead>\n",
              "  <tbody>\n",
              "    <tr>\n",
              "      <th>1166</th>\n",
              "      <td>Di Zhao</td>\n",
              "      <td>F</td>\n",
              "    </tr>\n",
              "    <tr>\n",
              "      <th>2891</th>\n",
              "      <td>Austin Smith</td>\n",
              "      <td>F</td>\n",
              "    </tr>\n",
              "    <tr>\n",
              "      <th>3178</th>\n",
              "      <td>Kuan Yi Lee</td>\n",
              "      <td>F</td>\n",
              "    </tr>\n",
              "    <tr>\n",
              "      <th>4096</th>\n",
              "      <td>Yi Liu</td>\n",
              "      <td>F</td>\n",
              "    </tr>\n",
              "    <tr>\n",
              "      <th>4669</th>\n",
              "      <td>Ziyu Zhang</td>\n",
              "      <td>F</td>\n",
              "    </tr>\n",
              "    <tr>\n",
              "      <th>7811</th>\n",
              "      <td>Yang Liu</td>\n",
              "      <td>F</td>\n",
              "    </tr>\n",
              "  </tbody>\n",
              "</table>\n",
              "</div>"
            ],
            "text/plain": [
              "              Name Sex\n",
              "1166       Di Zhao   F\n",
              "2891  Austin Smith   F\n",
              "3178   Kuan Yi Lee   F\n",
              "4096        Yi Liu   F\n",
              "4669    Ziyu Zhang   F\n",
              "7811      Yang Liu   F"
            ]
          },
          "metadata": {},
          "execution_count": 22
        }
      ]
    },
    {
      "cell_type": "markdown",
      "metadata": {
        "id": "eq237BrFqeK6"
      },
      "source": [
        "**Non funziona**"
      ]
    },
    {
      "cell_type": "code",
      "metadata": {
        "colab": {
          "base_uri": "https://localhost:8080/"
        },
        "id": "X2KonZG1m1wO",
        "outputId": "135c6a93-6b19-4844-e796-40ec4142a26c"
      },
      "source": [
        "players_both_sex = df_players[df_players[\"Name\"].isin(players_both_sex)]\n",
        "players_both_sex_i = players_both_sex.index\n",
        "for player, i in zip(players_both_sex[\"Name\"], players_both_sex_i):\n",
        "  player_matches_info = df_matches[df_matches['loser_name']==player]\n",
        "  player_t_levels = set(player_matches_info[\"tourney_level\"].dropna())\n",
        "  if len(player_t_levels.intersection(male_t)) > 0 & len(player_t_levels.intersection(female_t)) == 0:\n",
        "    sex = \"M\"\n",
        "    players_m.remove(player)\n",
        "  else:\n",
        "    if len(player_t_levels.intersection(female_t)) > 0 & len(player_t_levels.intersection(male_t)):\n",
        "      sex = \"F\"\n",
        "      players_f.remove(player)\n",
        "    else:\n",
        "      sex = \"Not known\"\n",
        "  \n",
        "  df_players.loc[i, \"Sex\"] = sex\n",
        "  print(\"{0} {1}\".format(player, sex))\n",
        "print(len(players_f))"
      ],
      "execution_count": 23,
      "outputs": [
        {
          "output_type": "stream",
          "name": "stdout",
          "text": [
            "7062\n"
          ]
        }
      ]
    },
    {
      "cell_type": "markdown",
      "metadata": {
        "id": "QptPXm81YsDp"
      },
      "source": [
        "#**Cambiare tutto da qui in poi**"
      ]
    },
    {
      "cell_type": "markdown",
      "metadata": {
        "id": "zIxPK4bhS8WU"
      },
      "source": [
        "Let's take a look to the players dataframes by calling the head() method, which shows the first five lines of the dataframes."
      ]
    },
    {
      "cell_type": "code",
      "metadata": {
        "colab": {
          "base_uri": "https://localhost:8080/",
          "height": 0
        },
        "id": "XxfxJQpfW0Vq",
        "outputId": "ab788ded-a78c-498a-a447-551eb81f9c4d"
      },
      "source": [
        "df_male.head()"
      ],
      "execution_count": 10,
      "outputs": [
        {
          "output_type": "execute_result",
          "data": {
            "text/html": [
              "<div>\n",
              "<style scoped>\n",
              "    .dataframe tbody tr th:only-of-type {\n",
              "        vertical-align: middle;\n",
              "    }\n",
              "\n",
              "    .dataframe tbody tr th {\n",
              "        vertical-align: top;\n",
              "    }\n",
              "\n",
              "    .dataframe thead th {\n",
              "        text-align: right;\n",
              "    }\n",
              "</style>\n",
              "<table border=\"1\" class=\"dataframe\">\n",
              "  <thead>\n",
              "    <tr style=\"text-align: right;\">\n",
              "      <th></th>\n",
              "      <th>name</th>\n",
              "      <th>surname</th>\n",
              "    </tr>\n",
              "  </thead>\n",
              "  <tbody>\n",
              "    <tr>\n",
              "      <th>0</th>\n",
              "      <td>Gardnar</td>\n",
              "      <td>Mulloy</td>\n",
              "    </tr>\n",
              "    <tr>\n",
              "      <th>1</th>\n",
              "      <td>Pancho</td>\n",
              "      <td>Segura</td>\n",
              "    </tr>\n",
              "    <tr>\n",
              "      <th>2</th>\n",
              "      <td>Frank</td>\n",
              "      <td>Sedgman</td>\n",
              "    </tr>\n",
              "    <tr>\n",
              "      <th>3</th>\n",
              "      <td>Giuseppe</td>\n",
              "      <td>Merlo</td>\n",
              "    </tr>\n",
              "    <tr>\n",
              "      <th>4</th>\n",
              "      <td>Richard Pancho</td>\n",
              "      <td>Gonzales</td>\n",
              "    </tr>\n",
              "  </tbody>\n",
              "</table>\n",
              "</div>"
            ],
            "text/plain": [
              "             name   surname\n",
              "0         Gardnar    Mulloy\n",
              "1          Pancho    Segura\n",
              "2           Frank   Sedgman\n",
              "3        Giuseppe     Merlo\n",
              "4  Richard Pancho  Gonzales"
            ]
          },
          "metadata": {},
          "execution_count": 10
        }
      ]
    },
    {
      "cell_type": "code",
      "metadata": {
        "colab": {
          "base_uri": "https://localhost:8080/",
          "height": 0
        },
        "id": "jD7W8KJvXrnt",
        "outputId": "8971dae6-e6d4-4264-ed45-d58d3d20f833"
      },
      "source": [
        "df_female.head()"
      ],
      "execution_count": 11,
      "outputs": [
        {
          "output_type": "execute_result",
          "data": {
            "text/html": [
              "<div>\n",
              "<style scoped>\n",
              "    .dataframe tbody tr th:only-of-type {\n",
              "        vertical-align: middle;\n",
              "    }\n",
              "\n",
              "    .dataframe tbody tr th {\n",
              "        vertical-align: top;\n",
              "    }\n",
              "\n",
              "    .dataframe thead th {\n",
              "        text-align: right;\n",
              "    }\n",
              "</style>\n",
              "<table border=\"1\" class=\"dataframe\">\n",
              "  <thead>\n",
              "    <tr style=\"text-align: right;\">\n",
              "      <th></th>\n",
              "      <th>name</th>\n",
              "      <th>surname</th>\n",
              "    </tr>\n",
              "  </thead>\n",
              "  <tbody>\n",
              "    <tr>\n",
              "      <th>0</th>\n",
              "      <td>Bobby</td>\n",
              "      <td>Riggs</td>\n",
              "    </tr>\n",
              "    <tr>\n",
              "      <th>1</th>\n",
              "      <td>X</td>\n",
              "      <td>X</td>\n",
              "    </tr>\n",
              "    <tr>\n",
              "      <th>2</th>\n",
              "      <td>Martina</td>\n",
              "      <td>Hingis</td>\n",
              "    </tr>\n",
              "    <tr>\n",
              "      <th>3</th>\n",
              "      <td>Mirjana</td>\n",
              "      <td>Lucic</td>\n",
              "    </tr>\n",
              "    <tr>\n",
              "      <th>4</th>\n",
              "      <td>Justine</td>\n",
              "      <td>Henin</td>\n",
              "    </tr>\n",
              "  </tbody>\n",
              "</table>\n",
              "</div>"
            ],
            "text/plain": [
              "      name surname\n",
              "0    Bobby   Riggs\n",
              "1        X       X\n",
              "2  Martina  Hingis\n",
              "3  Mirjana   Lucic\n",
              "4  Justine   Henin"
            ]
          },
          "metadata": {},
          "execution_count": 11
        }
      ]
    },
    {
      "cell_type": "markdown",
      "metadata": {
        "id": "5iIwVrtjYgip"
      },
      "source": [
        "Let's now use the info() method to obtain information on the two player datasets."
      ]
    },
    {
      "cell_type": "code",
      "metadata": {
        "colab": {
          "base_uri": "https://localhost:8080/"
        },
        "id": "msG57FzNXIL0",
        "outputId": "b5be5628-16f2-445e-b319-0a859598f28d"
      },
      "source": [
        "print(\"Male players dataframe info\")\n",
        "df_male.info()\n",
        "print(\"\\nFemale players dataframe info\")\n",
        "df_female.info()"
      ],
      "execution_count": 12,
      "outputs": [
        {
          "output_type": "stream",
          "name": "stdout",
          "text": [
            "Male players dataframe info\n",
            "<class 'pandas.core.frame.DataFrame'>\n",
            "RangeIndex: 55208 entries, 0 to 55207\n",
            "Data columns (total 2 columns):\n",
            " #   Column   Non-Null Count  Dtype \n",
            "---  ------   --------------  ----- \n",
            " 0   name     55031 non-null  object\n",
            " 1   surname  55166 non-null  object\n",
            "dtypes: object(2)\n",
            "memory usage: 862.8+ KB\n",
            "\n",
            "Female players dataframe info\n",
            "<class 'pandas.core.frame.DataFrame'>\n",
            "RangeIndex: 46172 entries, 0 to 46171\n",
            "Data columns (total 2 columns):\n",
            " #   Column   Non-Null Count  Dtype \n",
            "---  ------   --------------  ----- \n",
            " 0   name     44505 non-null  object\n",
            " 1   surname  46172 non-null  object\n",
            "dtypes: object(2)\n",
            "memory usage: 721.6+ KB\n"
          ]
        }
      ]
    },
    {
      "cell_type": "markdown",
      "metadata": {
        "id": "6yNWsMY0YxB-"
      },
      "source": [
        "As we can see from the previous infos, there are null values both in the male and female dataset."
      ]
    },
    {
      "cell_type": "code",
      "metadata": {
        "colab": {
          "base_uri": "https://localhost:8080/"
        },
        "id": "ZYCUQlp5ZQ7-",
        "outputId": "d92e9590-0234-4b3a-e33a-9cbeb0901635"
      },
      "source": [
        "print(\"Male players dataframe null values:\\n{0}\".format(df_male.isnull().any()))\n",
        "print(\"\\nFemale players dataframe null values:\\n{0}\".format(df_female.isnull().any()))"
      ],
      "execution_count": 13,
      "outputs": [
        {
          "output_type": "stream",
          "name": "stdout",
          "text": [
            "Male players dataframe null values:\n",
            "name       True\n",
            "surname    True\n",
            "dtype: bool\n",
            "\n",
            "Female players dataframe null values:\n",
            "name        True\n",
            "surname    False\n",
            "dtype: bool\n"
          ]
        }
      ]
    },
    {
      "cell_type": "markdown",
      "metadata": {
        "id": "TAPdLGDDaw-V"
      },
      "source": [
        "We need to drop such elements with null values."
      ]
    },
    {
      "cell_type": "code",
      "metadata": {
        "colab": {
          "base_uri": "https://localhost:8080/"
        },
        "id": "FMhph-Ima0YC",
        "outputId": "275451e6-ef85-4f97-fd2b-c43cf7507144"
      },
      "source": [
        "df_male = df_male.dropna()\n",
        "df_female = df_female.dropna()\n",
        "print(\"Male players dataframe info:\")\n",
        "df_male.info()\n",
        "print(\"\\nFemale players dataframe info:\")\n",
        "df_female.info()"
      ],
      "execution_count": 14,
      "outputs": [
        {
          "output_type": "stream",
          "name": "stdout",
          "text": [
            "Male players dataframe info:\n",
            "<class 'pandas.core.frame.DataFrame'>\n",
            "Int64Index: 55031 entries, 0 to 55207\n",
            "Data columns (total 2 columns):\n",
            " #   Column   Non-Null Count  Dtype \n",
            "---  ------   --------------  ----- \n",
            " 0   name     55031 non-null  object\n",
            " 1   surname  55031 non-null  object\n",
            "dtypes: object(2)\n",
            "memory usage: 1.3+ MB\n",
            "\n",
            "Female players dataframe info:\n",
            "<class 'pandas.core.frame.DataFrame'>\n",
            "Int64Index: 44505 entries, 0 to 46171\n",
            "Data columns (total 2 columns):\n",
            " #   Column   Non-Null Count  Dtype \n",
            "---  ------   --------------  ----- \n",
            " 0   name     44505 non-null  object\n",
            " 1   surname  44505 non-null  object\n",
            "dtypes: object(2)\n",
            "memory usage: 1.0+ MB\n"
          ]
        }
      ]
    },
    {
      "cell_type": "markdown",
      "metadata": {
        "id": "K7PMDe7EcFlG"
      },
      "source": [
        "There could be duplicates in the same dataset, but we know that there's a possibility that two players could share the same name and surname, so we won't change anything."
      ]
    },
    {
      "cell_type": "markdown",
      "metadata": {
        "id": "M1TTywgJckQk"
      },
      "source": [
        "But, there are elements where the values are missing, or incomplete, but not null (look at df_female.head()), we need to remove such elements."
      ]
    },
    {
      "cell_type": "code",
      "metadata": {
        "colab": {
          "base_uri": "https://localhost:8080/"
        },
        "id": "JgK_anRadhp-",
        "outputId": "f7df351a-2d70-497c-d325-693508a43995"
      },
      "source": [
        "elements_not_to_keep = [\"Unknown\", \"??\"]\n",
        "df_male = df_male[df_male[\"name\"].str.len()>1]\n",
        "df_male = df_male[df_male[\"surname\"].str.len()>1]\n",
        "df_male = df_male[~df_male[\"name\"].isin(elements_not_to_keep)]\n",
        "df_male = df_male[~df_male[\"surname\"].isin(elements_not_to_keep)]\n",
        "df_male.info()\n",
        "# df_male[df_male[\"name\"].isin([\"??\"])]\n",
        "# df_male.where(df_male.name.str.len()==1)\n",
        "# Ci sono altri elementi che non sono compatibili, andrebbero visti a mano"
      ],
      "execution_count": 15,
      "outputs": [
        {
          "output_type": "stream",
          "name": "stdout",
          "text": [
            "<class 'pandas.core.frame.DataFrame'>\n",
            "Int64Index: 53965 entries, 0 to 55207\n",
            "Data columns (total 2 columns):\n",
            " #   Column   Non-Null Count  Dtype \n",
            "---  ------   --------------  ----- \n",
            " 0   name     53965 non-null  object\n",
            " 1   surname  53965 non-null  object\n",
            "dtypes: object(2)\n",
            "memory usage: 1.2+ MB\n"
          ]
        }
      ]
    }
  ]
}