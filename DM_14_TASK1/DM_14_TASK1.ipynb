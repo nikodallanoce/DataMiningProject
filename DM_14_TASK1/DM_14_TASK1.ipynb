{
  "nbformat": 4,
  "nbformat_minor": 0,
  "metadata": {
    "colab": {
      "name": "DM_14_TASK1.ipynb",
      "provenance": [],
      "collapsed_sections": [
        "VNJBOy8yaaBJ",
        "QptPXm81YsDp"
      ]
    },
    "kernelspec": {
      "display_name": "Python 3",
      "name": "python3"
    },
    "language_info": {
      "name": "python"
    }
  },
  "cells": [
    {
      "cell_type": "markdown",
      "metadata": {
        "id": "LWPlELK-iHca"
      },
      "source": [
        ""
      ]
    },
    {
      "cell_type": "markdown",
      "metadata": {
        "id": "DgGIb0deFWrk"
      },
      "source": [
        "**Data Mining Project, midterm 2021/2022**\n",
        "\n",
        "\n"
      ]
    },
    {
      "cell_type": "markdown",
      "metadata": {
        "id": "wKXfDR2pLRQC"
      },
      "source": [
        "**Authors:** Niko Dalla Noce, Alessandro Ristori, Giuseppe Lombardi"
      ]
    },
    {
      "cell_type": "markdown",
      "metadata": {
        "id": "t56AnW_YPBXr"
      },
      "source": [
        "#**Task 1.1 Data Understanding**"
      ]
    },
    {
      "cell_type": "markdown",
      "metadata": {
        "id": "KMDwrfRjG9MO"
      },
      "source": [
        "##**Importing libraries and extracting datasets**"
      ]
    },
    {
      "cell_type": "markdown",
      "metadata": {
        "id": "qQX0sTZFRftK"
      },
      "source": [
        "First we have to import the necessary libraries to work within our project."
      ]
    },
    {
      "cell_type": "code",
      "metadata": {
        "id": "dd1wddFIFTnq"
      },
      "source": [
        "import numpy as np\n",
        "import pandas as pd\n",
        "import matplotlib as plt\n",
        "import scipy"
      ],
      "execution_count": 1,
      "outputs": []
    },
    {
      "cell_type": "markdown",
      "metadata": {
        "id": "ke7iFPmtRtas"
      },
      "source": [
        "We assume that the dataset is inside a zip file, so we need to extract it."
      ]
    },
    {
      "cell_type": "code",
      "metadata": {
        "id": "wYq79RC6lfRF"
      },
      "source": [
        "import zipfile\n",
        "with zipfile.ZipFile(\"prj_data.zip\", 'r') as zip_ref:\n",
        "     zip_ref.extractall()"
      ],
      "execution_count": 2,
      "outputs": []
    },
    {
      "cell_type": "markdown",
      "metadata": {
        "id": "wpZzWIYlSySO"
      },
      "source": [
        "**Load the datasets**\n",
        "\n",
        "Read the data from the three csv files, each one is assigned to a different dataframe for now."
      ]
    },
    {
      "cell_type": "code",
      "metadata": {
        "id": "fOQVbE94E32o"
      },
      "source": [
        "df_male = pd.read_csv(\"male_players.csv\", sep=\",\")  # dataframe of male players\n",
        "df_female = pd.read_csv(\"female_players.csv\", sep=\",\")  # dataframe of female players\n",
        "df_matches = pd.read_csv(\"tennis_matches.csv\", sep=\",\", index_col=0)  # matches dataframe"
      ],
      "execution_count": 3,
      "outputs": []
    },
    {
      "cell_type": "markdown",
      "metadata": {
        "id": "DNCryxOURMvu"
      },
      "source": [
        "##**Data semantics**"
      ]
    },
    {
      "cell_type": "markdown",
      "metadata": {
        "id": "VNIraM1QSZxS"
      },
      "source": [
        "###**Some informations about the dataset**\n",
        "\n",
        "The players' dataframes, men and women, contain only the name and surname of the players (most of them are retired from the competitions and can't be found in any match record). That's why we decided to focus our work only on the match dataframe for now."
      ]
    },
    {
      "cell_type": "code",
      "metadata": {
        "colab": {
          "base_uri": "https://localhost:8080/",
          "height": 0
        },
        "id": "71aLk45CQR_t",
        "outputId": "0f95759a-f5f0-47ca-8b67-c039596f6b58"
      },
      "source": [
        "df_matches.head()"
      ],
      "execution_count": 4,
      "outputs": [
        {
          "output_type": "execute_result",
          "data": {
            "text/html": [
              "<div>\n",
              "<style scoped>\n",
              "    .dataframe tbody tr th:only-of-type {\n",
              "        vertical-align: middle;\n",
              "    }\n",
              "\n",
              "    .dataframe tbody tr th {\n",
              "        vertical-align: top;\n",
              "    }\n",
              "\n",
              "    .dataframe thead th {\n",
              "        text-align: right;\n",
              "    }\n",
              "</style>\n",
              "<table border=\"1\" class=\"dataframe\">\n",
              "  <thead>\n",
              "    <tr style=\"text-align: right;\">\n",
              "      <th></th>\n",
              "      <th>tourney_id</th>\n",
              "      <th>tourney_name</th>\n",
              "      <th>surface</th>\n",
              "      <th>draw_size</th>\n",
              "      <th>tourney_level</th>\n",
              "      <th>tourney_date</th>\n",
              "      <th>match_num</th>\n",
              "      <th>winner_id</th>\n",
              "      <th>winner_entry</th>\n",
              "      <th>winner_name</th>\n",
              "      <th>winner_hand</th>\n",
              "      <th>winner_ht</th>\n",
              "      <th>winner_ioc</th>\n",
              "      <th>winner_age</th>\n",
              "      <th>loser_id</th>\n",
              "      <th>loser_entry</th>\n",
              "      <th>loser_name</th>\n",
              "      <th>loser_hand</th>\n",
              "      <th>loser_ht</th>\n",
              "      <th>loser_ioc</th>\n",
              "      <th>loser_age</th>\n",
              "      <th>score</th>\n",
              "      <th>best_of</th>\n",
              "      <th>round</th>\n",
              "      <th>minutes</th>\n",
              "      <th>w_ace</th>\n",
              "      <th>w_df</th>\n",
              "      <th>w_svpt</th>\n",
              "      <th>w_1stIn</th>\n",
              "      <th>w_1stWon</th>\n",
              "      <th>w_2ndWon</th>\n",
              "      <th>w_SvGms</th>\n",
              "      <th>w_bpSaved</th>\n",
              "      <th>w_bpFaced</th>\n",
              "      <th>l_ace</th>\n",
              "      <th>l_df</th>\n",
              "      <th>l_svpt</th>\n",
              "      <th>l_1stIn</th>\n",
              "      <th>l_1stWon</th>\n",
              "      <th>l_2ndWon</th>\n",
              "      <th>l_SvGms</th>\n",
              "      <th>l_bpSaved</th>\n",
              "      <th>l_bpFaced</th>\n",
              "      <th>winner_rank</th>\n",
              "      <th>winner_rank_points</th>\n",
              "      <th>loser_rank</th>\n",
              "      <th>loser_rank_points</th>\n",
              "      <th>tourney_spectators</th>\n",
              "      <th>tourney_revenue</th>\n",
              "    </tr>\n",
              "  </thead>\n",
              "  <tbody>\n",
              "    <tr>\n",
              "      <th>0</th>\n",
              "      <td>2019-M020</td>\n",
              "      <td>Brisbane</td>\n",
              "      <td>Hard</td>\n",
              "      <td>32.0</td>\n",
              "      <td>A</td>\n",
              "      <td>20181231.0</td>\n",
              "      <td>300.0</td>\n",
              "      <td>105453.0</td>\n",
              "      <td>NaN</td>\n",
              "      <td>Kei Nishikori</td>\n",
              "      <td>R</td>\n",
              "      <td>178.0</td>\n",
              "      <td>JPN</td>\n",
              "      <td>95.000000</td>\n",
              "      <td>106421.0</td>\n",
              "      <td>NaN</td>\n",
              "      <td>Daniil Medvedev</td>\n",
              "      <td>R</td>\n",
              "      <td>198.0</td>\n",
              "      <td>RUS</td>\n",
              "      <td>22.885695</td>\n",
              "      <td>6-4 3-6 6-2</td>\n",
              "      <td>3.0</td>\n",
              "      <td>F</td>\n",
              "      <td>124.0</td>\n",
              "      <td>3.0</td>\n",
              "      <td>3.0</td>\n",
              "      <td>77.0</td>\n",
              "      <td>44.0</td>\n",
              "      <td>31.0</td>\n",
              "      <td>17.0</td>\n",
              "      <td>13.0</td>\n",
              "      <td>3.0</td>\n",
              "      <td>6.0</td>\n",
              "      <td>8.0</td>\n",
              "      <td>6.0</td>\n",
              "      <td>100.0</td>\n",
              "      <td>54.0</td>\n",
              "      <td>34.0</td>\n",
              "      <td>20.0</td>\n",
              "      <td>14.0</td>\n",
              "      <td>10.0</td>\n",
              "      <td>15.0</td>\n",
              "      <td>9.0</td>\n",
              "      <td>3590.0</td>\n",
              "      <td>16.0</td>\n",
              "      <td>1977.0</td>\n",
              "      <td>3928.0</td>\n",
              "      <td>742618.69</td>\n",
              "    </tr>\n",
              "    <tr>\n",
              "      <th>1</th>\n",
              "      <td>2019-M020</td>\n",
              "      <td>Brisbane</td>\n",
              "      <td>Hard</td>\n",
              "      <td>32.0</td>\n",
              "      <td>A</td>\n",
              "      <td>20181231.0</td>\n",
              "      <td>299.0</td>\n",
              "      <td>106421.0</td>\n",
              "      <td>NaN</td>\n",
              "      <td>Daniil Medvedev</td>\n",
              "      <td>R</td>\n",
              "      <td>198.0</td>\n",
              "      <td>RUS</td>\n",
              "      <td>22.885695</td>\n",
              "      <td>104542.0</td>\n",
              "      <td>PR</td>\n",
              "      <td>Jo-Wilfried Tsonga</td>\n",
              "      <td>R</td>\n",
              "      <td>188.0</td>\n",
              "      <td>FRA</td>\n",
              "      <td>33.705681</td>\n",
              "      <td>7-6(6) 6-2</td>\n",
              "      <td>3.0</td>\n",
              "      <td>SF</td>\n",
              "      <td>82.0</td>\n",
              "      <td>10.0</td>\n",
              "      <td>1.0</td>\n",
              "      <td>52.0</td>\n",
              "      <td>33.0</td>\n",
              "      <td>28.0</td>\n",
              "      <td>14.0</td>\n",
              "      <td>10.0</td>\n",
              "      <td>0.0</td>\n",
              "      <td>1.0</td>\n",
              "      <td>17.0</td>\n",
              "      <td>2.0</td>\n",
              "      <td>77.0</td>\n",
              "      <td>52.0</td>\n",
              "      <td>36.0</td>\n",
              "      <td>7.0</td>\n",
              "      <td>10.0</td>\n",
              "      <td>10.0</td>\n",
              "      <td>13.0</td>\n",
              "      <td>16.0</td>\n",
              "      <td>1977.0</td>\n",
              "      <td>239.0</td>\n",
              "      <td>200.0</td>\n",
              "      <td>3928.0</td>\n",
              "      <td>742618.69</td>\n",
              "    </tr>\n",
              "    <tr>\n",
              "      <th>2</th>\n",
              "      <td>2019-M020</td>\n",
              "      <td>Brisbane</td>\n",
              "      <td>Hard</td>\n",
              "      <td>32.0</td>\n",
              "      <td>A</td>\n",
              "      <td>20181231.0</td>\n",
              "      <td>298.0</td>\n",
              "      <td>105453.0</td>\n",
              "      <td>NaN</td>\n",
              "      <td>Kei Nishikori</td>\n",
              "      <td>R</td>\n",
              "      <td>178.0</td>\n",
              "      <td>JPN</td>\n",
              "      <td>29.004791</td>\n",
              "      <td>104871.0</td>\n",
              "      <td>NaN</td>\n",
              "      <td>Jeremy Chardy</td>\n",
              "      <td>R</td>\n",
              "      <td>188.0</td>\n",
              "      <td>FRA</td>\n",
              "      <td>31.882272</td>\n",
              "      <td>6-2 6-2</td>\n",
              "      <td>3.0</td>\n",
              "      <td>SF</td>\n",
              "      <td>66.0</td>\n",
              "      <td>2.0</td>\n",
              "      <td>2.0</td>\n",
              "      <td>47.0</td>\n",
              "      <td>33.0</td>\n",
              "      <td>26.0</td>\n",
              "      <td>9.0</td>\n",
              "      <td>8.0</td>\n",
              "      <td>2.0</td>\n",
              "      <td>2.0</td>\n",
              "      <td>10.0</td>\n",
              "      <td>3.0</td>\n",
              "      <td>46.0</td>\n",
              "      <td>27.0</td>\n",
              "      <td>15.0</td>\n",
              "      <td>6.0</td>\n",
              "      <td>8.0</td>\n",
              "      <td>1.0</td>\n",
              "      <td>5.0</td>\n",
              "      <td>9.0</td>\n",
              "      <td>3590.0</td>\n",
              "      <td>40.0</td>\n",
              "      <td>1050.0</td>\n",
              "      <td>3928.0</td>\n",
              "      <td>742618.69</td>\n",
              "    </tr>\n",
              "    <tr>\n",
              "      <th>3</th>\n",
              "      <td>2019-M020</td>\n",
              "      <td>Brisbane</td>\n",
              "      <td>Hard</td>\n",
              "      <td>32.0</td>\n",
              "      <td>A</td>\n",
              "      <td>20181231.0</td>\n",
              "      <td>297.0</td>\n",
              "      <td>104542.0</td>\n",
              "      <td>PR</td>\n",
              "      <td>Jo-Wilfried Tsonga</td>\n",
              "      <td>R</td>\n",
              "      <td>188.0</td>\n",
              "      <td>FRA</td>\n",
              "      <td>33.705681</td>\n",
              "      <td>200282.0</td>\n",
              "      <td>NaN</td>\n",
              "      <td>Alex De Minaur</td>\n",
              "      <td>R</td>\n",
              "      <td>183.0</td>\n",
              "      <td>AUS</td>\n",
              "      <td>19.868583</td>\n",
              "      <td>6-4 7-6(2)</td>\n",
              "      <td>3.0</td>\n",
              "      <td>QF</td>\n",
              "      <td>106.0</td>\n",
              "      <td>12.0</td>\n",
              "      <td>2.0</td>\n",
              "      <td>68.0</td>\n",
              "      <td>43.0</td>\n",
              "      <td>34.0</td>\n",
              "      <td>15.0</td>\n",
              "      <td>11.0</td>\n",
              "      <td>4.0</td>\n",
              "      <td>5.0</td>\n",
              "      <td>1.0</td>\n",
              "      <td>2.0</td>\n",
              "      <td>81.0</td>\n",
              "      <td>60.0</td>\n",
              "      <td>38.0</td>\n",
              "      <td>9.0</td>\n",
              "      <td>11.0</td>\n",
              "      <td>4.0</td>\n",
              "      <td>6.0</td>\n",
              "      <td>239.0</td>\n",
              "      <td>200.0</td>\n",
              "      <td>31.0</td>\n",
              "      <td>1298.0</td>\n",
              "      <td>3928.0</td>\n",
              "      <td>742618.69</td>\n",
              "    </tr>\n",
              "    <tr>\n",
              "      <th>4</th>\n",
              "      <td>2019-M020</td>\n",
              "      <td>Brisbane</td>\n",
              "      <td>Hard</td>\n",
              "      <td>32.0</td>\n",
              "      <td>A</td>\n",
              "      <td>20181231.0</td>\n",
              "      <td>296.0</td>\n",
              "      <td>106421.0</td>\n",
              "      <td>NaN</td>\n",
              "      <td>Daniil Medvedev</td>\n",
              "      <td>R</td>\n",
              "      <td>198.0</td>\n",
              "      <td>RUS</td>\n",
              "      <td>22.885695</td>\n",
              "      <td>105683.0</td>\n",
              "      <td>NaN</td>\n",
              "      <td>Milos Raonic</td>\n",
              "      <td>R</td>\n",
              "      <td>196.0</td>\n",
              "      <td>CAN</td>\n",
              "      <td>28.010951</td>\n",
              "      <td>6-7(2) 6-3 6-4</td>\n",
              "      <td>3.0</td>\n",
              "      <td>QF</td>\n",
              "      <td>129.0</td>\n",
              "      <td>12.0</td>\n",
              "      <td>3.0</td>\n",
              "      <td>105.0</td>\n",
              "      <td>68.0</td>\n",
              "      <td>48.0</td>\n",
              "      <td>25.0</td>\n",
              "      <td>16.0</td>\n",
              "      <td>8.0</td>\n",
              "      <td>8.0</td>\n",
              "      <td>29.0</td>\n",
              "      <td>5.0</td>\n",
              "      <td>94.0</td>\n",
              "      <td>56.0</td>\n",
              "      <td>46.0</td>\n",
              "      <td>19.0</td>\n",
              "      <td>15.0</td>\n",
              "      <td>2.0</td>\n",
              "      <td>4.0</td>\n",
              "      <td>16.0</td>\n",
              "      <td>1977.0</td>\n",
              "      <td>18.0</td>\n",
              "      <td>1855.0</td>\n",
              "      <td>3928.0</td>\n",
              "      <td>742618.69</td>\n",
              "    </tr>\n",
              "  </tbody>\n",
              "</table>\n",
              "</div>"
            ],
            "text/plain": [
              "  tourney_id tourney_name  ... tourney_spectators  tourney_revenue\n",
              "0  2019-M020     Brisbane  ...             3928.0        742618.69\n",
              "1  2019-M020     Brisbane  ...             3928.0        742618.69\n",
              "2  2019-M020     Brisbane  ...             3928.0        742618.69\n",
              "3  2019-M020     Brisbane  ...             3928.0        742618.69\n",
              "4  2019-M020     Brisbane  ...             3928.0        742618.69\n",
              "\n",
              "[5 rows x 49 columns]"
            ]
          },
          "metadata": {},
          "execution_count": 4
        }
      ]
    },
    {
      "cell_type": "markdown",
      "metadata": {
        "id": "Zzd1Gc1grx75"
      },
      "source": [
        "We found that the last records of the matches dataset (the Taipei tournament) are missing a lot of values."
      ]
    },
    {
      "cell_type": "code",
      "metadata": {
        "colab": {
          "base_uri": "https://localhost:8080/",
          "height": 0
        },
        "id": "KnewjXfwqqJt",
        "outputId": "209cebd5-db1f-424b-e945-dc8ce17c6856"
      },
      "source": [
        "df_matches.tail()"
      ],
      "execution_count": 5,
      "outputs": [
        {
          "output_type": "execute_result",
          "data": {
            "text/html": [
              "<div>\n",
              "<style scoped>\n",
              "    .dataframe tbody tr th:only-of-type {\n",
              "        vertical-align: middle;\n",
              "    }\n",
              "\n",
              "    .dataframe tbody tr th {\n",
              "        vertical-align: top;\n",
              "    }\n",
              "\n",
              "    .dataframe thead th {\n",
              "        text-align: right;\n",
              "    }\n",
              "</style>\n",
              "<table border=\"1\" class=\"dataframe\">\n",
              "  <thead>\n",
              "    <tr style=\"text-align: right;\">\n",
              "      <th></th>\n",
              "      <th>tourney_id</th>\n",
              "      <th>tourney_name</th>\n",
              "      <th>surface</th>\n",
              "      <th>draw_size</th>\n",
              "      <th>tourney_level</th>\n",
              "      <th>tourney_date</th>\n",
              "      <th>match_num</th>\n",
              "      <th>winner_id</th>\n",
              "      <th>winner_entry</th>\n",
              "      <th>winner_name</th>\n",
              "      <th>winner_hand</th>\n",
              "      <th>winner_ht</th>\n",
              "      <th>winner_ioc</th>\n",
              "      <th>winner_age</th>\n",
              "      <th>loser_id</th>\n",
              "      <th>loser_entry</th>\n",
              "      <th>loser_name</th>\n",
              "      <th>loser_hand</th>\n",
              "      <th>loser_ht</th>\n",
              "      <th>loser_ioc</th>\n",
              "      <th>loser_age</th>\n",
              "      <th>score</th>\n",
              "      <th>best_of</th>\n",
              "      <th>round</th>\n",
              "      <th>minutes</th>\n",
              "      <th>w_ace</th>\n",
              "      <th>w_df</th>\n",
              "      <th>w_svpt</th>\n",
              "      <th>w_1stIn</th>\n",
              "      <th>w_1stWon</th>\n",
              "      <th>w_2ndWon</th>\n",
              "      <th>w_SvGms</th>\n",
              "      <th>w_bpSaved</th>\n",
              "      <th>w_bpFaced</th>\n",
              "      <th>l_ace</th>\n",
              "      <th>l_df</th>\n",
              "      <th>l_svpt</th>\n",
              "      <th>l_1stIn</th>\n",
              "      <th>l_1stWon</th>\n",
              "      <th>l_2ndWon</th>\n",
              "      <th>l_SvGms</th>\n",
              "      <th>l_bpSaved</th>\n",
              "      <th>l_bpFaced</th>\n",
              "      <th>winner_rank</th>\n",
              "      <th>winner_rank_points</th>\n",
              "      <th>loser_rank</th>\n",
              "      <th>loser_rank_points</th>\n",
              "      <th>tourney_spectators</th>\n",
              "      <th>tourney_revenue</th>\n",
              "    </tr>\n",
              "  </thead>\n",
              "  <tbody>\n",
              "    <tr>\n",
              "      <th>186123</th>\n",
              "      <td>NaN</td>\n",
              "      <td>NaN</td>\n",
              "      <td>Hard</td>\n",
              "      <td>32.0</td>\n",
              "      <td>NaN</td>\n",
              "      <td>20171113.0</td>\n",
              "      <td>250.0</td>\n",
              "      <td>NaN</td>\n",
              "      <td>NaN</td>\n",
              "      <td>NaN</td>\n",
              "      <td>NaN</td>\n",
              "      <td>NaN</td>\n",
              "      <td>NaN</td>\n",
              "      <td>26.206708</td>\n",
              "      <td>206075.0</td>\n",
              "      <td>NaN</td>\n",
              "      <td>NaN</td>\n",
              "      <td>NaN</td>\n",
              "      <td>NaN</td>\n",
              "      <td>NaN</td>\n",
              "      <td>26.90486</td>\n",
              "      <td>3-6 6-2 6-3</td>\n",
              "      <td>NaN</td>\n",
              "      <td>NaN</td>\n",
              "      <td>NaN</td>\n",
              "      <td>NaN</td>\n",
              "      <td>1.0</td>\n",
              "      <td>NaN</td>\n",
              "      <td>49.0</td>\n",
              "      <td>38.0</td>\n",
              "      <td>16.0</td>\n",
              "      <td>NaN</td>\n",
              "      <td>7.0</td>\n",
              "      <td>NaN</td>\n",
              "      <td>1.0</td>\n",
              "      <td>3.0</td>\n",
              "      <td>93.0</td>\n",
              "      <td>NaN</td>\n",
              "      <td>NaN</td>\n",
              "      <td>NaN</td>\n",
              "      <td>NaN</td>\n",
              "      <td>7.0</td>\n",
              "      <td>11.0</td>\n",
              "      <td>NaN</td>\n",
              "      <td>322.0</td>\n",
              "      <td>280.0</td>\n",
              "      <td>183.0</td>\n",
              "      <td>NaN</td>\n",
              "      <td>NaN</td>\n",
              "    </tr>\n",
              "    <tr>\n",
              "      <th>186124</th>\n",
              "      <td>NaN</td>\n",
              "      <td>Taipei</td>\n",
              "      <td>NaN</td>\n",
              "      <td>32.0</td>\n",
              "      <td>C</td>\n",
              "      <td>20171113.0</td>\n",
              "      <td>NaN</td>\n",
              "      <td>NaN</td>\n",
              "      <td>NaN</td>\n",
              "      <td>Veronika Kudermetova</td>\n",
              "      <td>NaN</td>\n",
              "      <td>175.0</td>\n",
              "      <td>NaN</td>\n",
              "      <td>NaN</td>\n",
              "      <td>214562.0</td>\n",
              "      <td>WC</td>\n",
              "      <td>Ingrid Neel</td>\n",
              "      <td>NaN</td>\n",
              "      <td>NaN</td>\n",
              "      <td>USA</td>\n",
              "      <td>NaN</td>\n",
              "      <td>7-6(3) 6-2</td>\n",
              "      <td>NaN</td>\n",
              "      <td>NaN</td>\n",
              "      <td>71.0</td>\n",
              "      <td>10.0</td>\n",
              "      <td>8.0</td>\n",
              "      <td>63.0</td>\n",
              "      <td>NaN</td>\n",
              "      <td>32.0</td>\n",
              "      <td>NaN</td>\n",
              "      <td>10.0</td>\n",
              "      <td>2.0</td>\n",
              "      <td>5.0</td>\n",
              "      <td>NaN</td>\n",
              "      <td>NaN</td>\n",
              "      <td>68.0</td>\n",
              "      <td>NaN</td>\n",
              "      <td>NaN</td>\n",
              "      <td>NaN</td>\n",
              "      <td>NaN</td>\n",
              "      <td>NaN</td>\n",
              "      <td>NaN</td>\n",
              "      <td>255.0</td>\n",
              "      <td>217.0</td>\n",
              "      <td>704.0</td>\n",
              "      <td>NaN</td>\n",
              "      <td>NaN</td>\n",
              "      <td>NaN</td>\n",
              "    </tr>\n",
              "    <tr>\n",
              "      <th>186125</th>\n",
              "      <td>NaN</td>\n",
              "      <td>NaN</td>\n",
              "      <td>NaN</td>\n",
              "      <td>NaN</td>\n",
              "      <td>C</td>\n",
              "      <td>NaN</td>\n",
              "      <td>NaN</td>\n",
              "      <td>NaN</td>\n",
              "      <td>NaN</td>\n",
              "      <td>Dalila Jakupovic</td>\n",
              "      <td>NaN</td>\n",
              "      <td>NaN</td>\n",
              "      <td>NaN</td>\n",
              "      <td>26.642026</td>\n",
              "      <td>201674.0</td>\n",
              "      <td>NaN</td>\n",
              "      <td>NaN</td>\n",
              "      <td>R</td>\n",
              "      <td>NaN</td>\n",
              "      <td>UZB</td>\n",
              "      <td>NaN</td>\n",
              "      <td>NaN</td>\n",
              "      <td>3.0</td>\n",
              "      <td>NaN</td>\n",
              "      <td>70.0</td>\n",
              "      <td>NaN</td>\n",
              "      <td>2.0</td>\n",
              "      <td>55.0</td>\n",
              "      <td>NaN</td>\n",
              "      <td>NaN</td>\n",
              "      <td>NaN</td>\n",
              "      <td>NaN</td>\n",
              "      <td>6.0</td>\n",
              "      <td>8.0</td>\n",
              "      <td>1.0</td>\n",
              "      <td>4.0</td>\n",
              "      <td>NaN</td>\n",
              "      <td>NaN</td>\n",
              "      <td>NaN</td>\n",
              "      <td>NaN</td>\n",
              "      <td>NaN</td>\n",
              "      <td>NaN</td>\n",
              "      <td>11.0</td>\n",
              "      <td>NaN</td>\n",
              "      <td>NaN</td>\n",
              "      <td>NaN</td>\n",
              "      <td>NaN</td>\n",
              "      <td>NaN</td>\n",
              "      <td>NaN</td>\n",
              "    </tr>\n",
              "    <tr>\n",
              "      <th>186126</th>\n",
              "      <td>NaN</td>\n",
              "      <td>NaN</td>\n",
              "      <td>NaN</td>\n",
              "      <td>32.0</td>\n",
              "      <td>C</td>\n",
              "      <td>20171113.0</td>\n",
              "      <td>NaN</td>\n",
              "      <td>NaN</td>\n",
              "      <td>NaN</td>\n",
              "      <td>Vitalia Diatchenko</td>\n",
              "      <td>NaN</td>\n",
              "      <td>170.0</td>\n",
              "      <td>RUS</td>\n",
              "      <td>NaN</td>\n",
              "      <td>NaN</td>\n",
              "      <td>NaN</td>\n",
              "      <td>NaN</td>\n",
              "      <td>NaN</td>\n",
              "      <td>NaN</td>\n",
              "      <td>NaN</td>\n",
              "      <td>NaN</td>\n",
              "      <td>0-6 6-2 6-4</td>\n",
              "      <td>3.0</td>\n",
              "      <td>NaN</td>\n",
              "      <td>115.0</td>\n",
              "      <td>NaN</td>\n",
              "      <td>8.0</td>\n",
              "      <td>NaN</td>\n",
              "      <td>NaN</td>\n",
              "      <td>NaN</td>\n",
              "      <td>NaN</td>\n",
              "      <td>NaN</td>\n",
              "      <td>3.0</td>\n",
              "      <td>NaN</td>\n",
              "      <td>NaN</td>\n",
              "      <td>0.0</td>\n",
              "      <td>75.0</td>\n",
              "      <td>NaN</td>\n",
              "      <td>NaN</td>\n",
              "      <td>13.0</td>\n",
              "      <td>NaN</td>\n",
              "      <td>3.0</td>\n",
              "      <td>NaN</td>\n",
              "      <td>176.0</td>\n",
              "      <td>NaN</td>\n",
              "      <td>NaN</td>\n",
              "      <td>NaN</td>\n",
              "      <td>3535.0</td>\n",
              "      <td>NaN</td>\n",
              "    </tr>\n",
              "    <tr>\n",
              "      <th>186127</th>\n",
              "      <td>NaN</td>\n",
              "      <td>Taipei</td>\n",
              "      <td>Hard</td>\n",
              "      <td>32.0</td>\n",
              "      <td>C</td>\n",
              "      <td>20171113.0</td>\n",
              "      <td>NaN</td>\n",
              "      <td>NaN</td>\n",
              "      <td>NaN</td>\n",
              "      <td>Priscilla Hon</td>\n",
              "      <td>NaN</td>\n",
              "      <td>NaN</td>\n",
              "      <td>AUS</td>\n",
              "      <td>19.512663</td>\n",
              "      <td>NaN</td>\n",
              "      <td>NaN</td>\n",
              "      <td>NaN</td>\n",
              "      <td>NaN</td>\n",
              "      <td>NaN</td>\n",
              "      <td>USA</td>\n",
              "      <td>NaN</td>\n",
              "      <td>6-4 6-4</td>\n",
              "      <td>NaN</td>\n",
              "      <td>NaN</td>\n",
              "      <td>NaN</td>\n",
              "      <td>NaN</td>\n",
              "      <td>NaN</td>\n",
              "      <td>NaN</td>\n",
              "      <td>NaN</td>\n",
              "      <td>NaN</td>\n",
              "      <td>NaN</td>\n",
              "      <td>NaN</td>\n",
              "      <td>NaN</td>\n",
              "      <td>6.0</td>\n",
              "      <td>8.0</td>\n",
              "      <td>NaN</td>\n",
              "      <td>NaN</td>\n",
              "      <td>43.0</td>\n",
              "      <td>25.0</td>\n",
              "      <td>9.0</td>\n",
              "      <td>10.0</td>\n",
              "      <td>4.0</td>\n",
              "      <td>8.0</td>\n",
              "      <td>NaN</td>\n",
              "      <td>NaN</td>\n",
              "      <td>181.0</td>\n",
              "      <td>322.0</td>\n",
              "      <td>3535.0</td>\n",
              "      <td>638954.72</td>\n",
              "    </tr>\n",
              "  </tbody>\n",
              "</table>\n",
              "</div>"
            ],
            "text/plain": [
              "       tourney_id tourney_name  ... tourney_spectators  tourney_revenue\n",
              "186123        NaN          NaN  ...                NaN              NaN\n",
              "186124        NaN       Taipei  ...                NaN              NaN\n",
              "186125        NaN          NaN  ...                NaN              NaN\n",
              "186126        NaN          NaN  ...             3535.0              NaN\n",
              "186127        NaN       Taipei  ...             3535.0        638954.72\n",
              "\n",
              "[5 rows x 49 columns]"
            ]
          },
          "metadata": {},
          "execution_count": 5
        }
      ]
    },
    {
      "cell_type": "code",
      "metadata": {
        "colab": {
          "base_uri": "https://localhost:8080/"
        },
        "id": "7C2CaR47M1E7",
        "outputId": "3fc5d6ce-6603-4a9d-fca4-24c380180fbb"
      },
      "source": [
        "df_matches.info()"
      ],
      "execution_count": 6,
      "outputs": [
        {
          "output_type": "stream",
          "name": "stdout",
          "text": [
            "<class 'pandas.core.frame.DataFrame'>\n",
            "Int64Index: 186128 entries, 0 to 186127\n",
            "Data columns (total 49 columns):\n",
            " #   Column              Non-Null Count   Dtype  \n",
            "---  ------              --------------   -----  \n",
            " 0   tourney_id          186073 non-null  object \n",
            " 1   tourney_name        186103 non-null  object \n",
            " 2   surface             185940 non-null  object \n",
            " 3   draw_size           186099 non-null  float64\n",
            " 4   tourney_level       186099 non-null  object \n",
            " 5   tourney_date        186100 non-null  float64\n",
            " 6   match_num           186101 non-null  float64\n",
            " 7   winner_id           186073 non-null  float64\n",
            " 8   winner_entry        25827 non-null   object \n",
            " 9   winner_name         186101 non-null  object \n",
            " 10  winner_hand         186082 non-null  object \n",
            " 11  winner_ht           49341 non-null   float64\n",
            " 12  winner_ioc          186099 non-null  object \n",
            " 13  winner_age          183275 non-null  float64\n",
            " 14  loser_id            186100 non-null  float64\n",
            " 15  loser_entry         44154 non-null   object \n",
            " 16  loser_name          186097 non-null  object \n",
            " 17  loser_hand          186030 non-null  object \n",
            " 18  loser_ht            38348 non-null   float64\n",
            " 19  loser_ioc           186102 non-null  object \n",
            " 20  loser_age           179590 non-null  float64\n",
            " 21  score               185929 non-null  object \n",
            " 22  best_of             186099 non-null  float64\n",
            " 23  round               186098 non-null  object \n",
            " 24  minutes             81660 non-null   float64\n",
            " 25  w_ace               82310 non-null   float64\n",
            " 26  w_df                82312 non-null   float64\n",
            " 27  w_svpt              82310 non-null   float64\n",
            " 28  w_1stIn             82310 non-null   float64\n",
            " 29  w_1stWon            82312 non-null   float64\n",
            " 30  w_2ndWon            82309 non-null   float64\n",
            " 31  w_SvGms             82311 non-null   float64\n",
            " 32  w_bpSaved           82315 non-null   float64\n",
            " 33  w_bpFaced           82312 non-null   float64\n",
            " 34  l_ace               82313 non-null   float64\n",
            " 35  l_df                82319 non-null   float64\n",
            " 36  l_svpt              82315 non-null   float64\n",
            " 37  l_1stIn             82304 non-null   float64\n",
            " 38  l_1stWon            82311 non-null   float64\n",
            " 39  l_2ndWon            82312 non-null   float64\n",
            " 40  l_SvGms             82318 non-null   float64\n",
            " 41  l_bpSaved           82311 non-null   float64\n",
            " 42  l_bpFaced           82306 non-null   float64\n",
            " 43  winner_rank         166719 non-null  float64\n",
            " 44  winner_rank_points  166701 non-null  float64\n",
            " 45  loser_rank          150845 non-null  float64\n",
            " 46  loser_rank_points   150828 non-null  float64\n",
            " 47  tourney_spectators  186101 non-null  float64\n",
            " 48  tourney_revenue     186102 non-null  float64\n",
            "dtypes: float64(35), object(14)\n",
            "memory usage: 71.0+ MB\n"
          ]
        }
      ]
    },
    {
      "cell_type": "markdown",
      "metadata": {
        "id": "uJdgciZtC9_O"
      },
      "source": [
        "###**Type casting**\n",
        "\n",
        "Most of the attributes have a wrong type, we need to fix it."
      ]
    },
    {
      "cell_type": "code",
      "metadata": {
        "colab": {
          "base_uri": "https://localhost:8080/"
        },
        "id": "xBLopP0brHT-",
        "outputId": "63c64b6c-38a9-46bb-a828-9b3685ae4e06"
      },
      "source": [
        "df_matches.dtypes"
      ],
      "execution_count": 7,
      "outputs": [
        {
          "output_type": "execute_result",
          "data": {
            "text/plain": [
              "tourney_id             object\n",
              "tourney_name           object\n",
              "surface                object\n",
              "draw_size             float64\n",
              "tourney_level          object\n",
              "tourney_date          float64\n",
              "match_num             float64\n",
              "winner_id             float64\n",
              "winner_entry           object\n",
              "winner_name            object\n",
              "winner_hand            object\n",
              "winner_ht             float64\n",
              "winner_ioc             object\n",
              "winner_age            float64\n",
              "loser_id              float64\n",
              "loser_entry            object\n",
              "loser_name             object\n",
              "loser_hand             object\n",
              "loser_ht              float64\n",
              "loser_ioc              object\n",
              "loser_age             float64\n",
              "score                  object\n",
              "best_of               float64\n",
              "round                  object\n",
              "minutes               float64\n",
              "w_ace                 float64\n",
              "w_df                  float64\n",
              "w_svpt                float64\n",
              "w_1stIn               float64\n",
              "w_1stWon              float64\n",
              "w_2ndWon              float64\n",
              "w_SvGms               float64\n",
              "w_bpSaved             float64\n",
              "w_bpFaced             float64\n",
              "l_ace                 float64\n",
              "l_df                  float64\n",
              "l_svpt                float64\n",
              "l_1stIn               float64\n",
              "l_1stWon              float64\n",
              "l_2ndWon              float64\n",
              "l_SvGms               float64\n",
              "l_bpSaved             float64\n",
              "l_bpFaced             float64\n",
              "winner_rank           float64\n",
              "winner_rank_points    float64\n",
              "loser_rank            float64\n",
              "loser_rank_points     float64\n",
              "tourney_spectators    float64\n",
              "tourney_revenue       float64\n",
              "dtype: object"
            ]
          },
          "metadata": {},
          "execution_count": 7
        }
      ]
    },
    {
      "cell_type": "code",
      "metadata": {
        "colab": {
          "base_uri": "https://localhost:8080/"
        },
        "id": "wxbFBqe3DTXU",
        "outputId": "9f809234-a5cb-41fd-d379-1dd5f613be2d"
      },
      "source": [
        "df_matches['tourney_date']= df_matches['tourney_date'].astype(pd.Int32Dtype(), errors='ignore').astype(pd.StringDtype())\n",
        "df_matches['tourney_date'] = pd.to_datetime(df_matches['tourney_date'], errors='coerce', format='%Y%m%d')\n",
        "df_matches.iloc[:, [3, 6, 7, 11, 14, 18, 22]] = df_matches.iloc[:, [3, 6, 7, 11, 14, 18, 22]].astype(\"Int64\", errors=\"ignore\")\n",
        "df_matches.iloc[:, 24:48] = df_matches.iloc[:, 24:48].astype(\"Int64\", errors=\"ignore\")\n",
        "df_matches.dtypes"
      ],
      "execution_count": 8,
      "outputs": [
        {
          "output_type": "execute_result",
          "data": {
            "text/plain": [
              "tourney_id                    object\n",
              "tourney_name                  object\n",
              "surface                       object\n",
              "draw_size                      Int64\n",
              "tourney_level                 object\n",
              "tourney_date          datetime64[ns]\n",
              "match_num                      Int64\n",
              "winner_id                      Int64\n",
              "winner_entry                  object\n",
              "winner_name                   object\n",
              "winner_hand                   object\n",
              "winner_ht                      Int64\n",
              "winner_ioc                    object\n",
              "winner_age                   float64\n",
              "loser_id                       Int64\n",
              "loser_entry                   object\n",
              "loser_name                    object\n",
              "loser_hand                    object\n",
              "loser_ht                       Int64\n",
              "loser_ioc                     object\n",
              "loser_age                    float64\n",
              "score                         object\n",
              "best_of                        Int64\n",
              "round                         object\n",
              "minutes                        Int64\n",
              "w_ace                          Int64\n",
              "w_df                           Int64\n",
              "w_svpt                         Int64\n",
              "w_1stIn                        Int64\n",
              "w_1stWon                       Int64\n",
              "w_2ndWon                       Int64\n",
              "w_SvGms                        Int64\n",
              "w_bpSaved                      Int64\n",
              "w_bpFaced                      Int64\n",
              "l_ace                          Int64\n",
              "l_df                           Int64\n",
              "l_svpt                         Int64\n",
              "l_1stIn                        Int64\n",
              "l_1stWon                       Int64\n",
              "l_2ndWon                       Int64\n",
              "l_SvGms                        Int64\n",
              "l_bpSaved                      Int64\n",
              "l_bpFaced                      Int64\n",
              "winner_rank                    Int64\n",
              "winner_rank_points             Int64\n",
              "loser_rank                     Int64\n",
              "loser_rank_points              Int64\n",
              "tourney_spectators             Int64\n",
              "tourney_revenue              float64\n",
              "dtype: object"
            ]
          },
          "metadata": {},
          "execution_count": 8
        }
      ]
    },
    {
      "cell_type": "markdown",
      "metadata": {
        "id": "dOAHSmkhw6z2"
      },
      "source": [
        "###**Dropping Duplicates**\n",
        "\n",
        "Since there shouldn't be any duplitcated matches, we need to find and drop them."
      ]
    },
    {
      "cell_type": "code",
      "metadata": {
        "colab": {
          "base_uri": "https://localhost:8080/",
          "height": 0
        },
        "id": "f8juhOn4xDDO",
        "outputId": "830bf499-f2e1-438c-ff02-5a1bab11852b"
      },
      "source": [
        "ndupl = df_matches.duplicated()\n",
        "ndupl = df_matches[ndupl]\n",
        "print(\"Number of duplicated matches: {0}\".format(len(ndupl)))\n",
        "ndupl"
      ],
      "execution_count": 9,
      "outputs": [
        {
          "output_type": "stream",
          "name": "stdout",
          "text": [
            "Number of duplicated matches: 309\n"
          ]
        },
        {
          "output_type": "execute_result",
          "data": {
            "text/html": [
              "<div>\n",
              "<style scoped>\n",
              "    .dataframe tbody tr th:only-of-type {\n",
              "        vertical-align: middle;\n",
              "    }\n",
              "\n",
              "    .dataframe tbody tr th {\n",
              "        vertical-align: top;\n",
              "    }\n",
              "\n",
              "    .dataframe thead th {\n",
              "        text-align: right;\n",
              "    }\n",
              "</style>\n",
              "<table border=\"1\" class=\"dataframe\">\n",
              "  <thead>\n",
              "    <tr style=\"text-align: right;\">\n",
              "      <th></th>\n",
              "      <th>tourney_id</th>\n",
              "      <th>tourney_name</th>\n",
              "      <th>surface</th>\n",
              "      <th>draw_size</th>\n",
              "      <th>tourney_level</th>\n",
              "      <th>tourney_date</th>\n",
              "      <th>match_num</th>\n",
              "      <th>winner_id</th>\n",
              "      <th>winner_entry</th>\n",
              "      <th>winner_name</th>\n",
              "      <th>winner_hand</th>\n",
              "      <th>winner_ht</th>\n",
              "      <th>winner_ioc</th>\n",
              "      <th>winner_age</th>\n",
              "      <th>loser_id</th>\n",
              "      <th>loser_entry</th>\n",
              "      <th>loser_name</th>\n",
              "      <th>loser_hand</th>\n",
              "      <th>loser_ht</th>\n",
              "      <th>loser_ioc</th>\n",
              "      <th>loser_age</th>\n",
              "      <th>score</th>\n",
              "      <th>best_of</th>\n",
              "      <th>round</th>\n",
              "      <th>minutes</th>\n",
              "      <th>w_ace</th>\n",
              "      <th>w_df</th>\n",
              "      <th>w_svpt</th>\n",
              "      <th>w_1stIn</th>\n",
              "      <th>w_1stWon</th>\n",
              "      <th>w_2ndWon</th>\n",
              "      <th>w_SvGms</th>\n",
              "      <th>w_bpSaved</th>\n",
              "      <th>w_bpFaced</th>\n",
              "      <th>l_ace</th>\n",
              "      <th>l_df</th>\n",
              "      <th>l_svpt</th>\n",
              "      <th>l_1stIn</th>\n",
              "      <th>l_1stWon</th>\n",
              "      <th>l_2ndWon</th>\n",
              "      <th>l_SvGms</th>\n",
              "      <th>l_bpSaved</th>\n",
              "      <th>l_bpFaced</th>\n",
              "      <th>winner_rank</th>\n",
              "      <th>winner_rank_points</th>\n",
              "      <th>loser_rank</th>\n",
              "      <th>loser_rank_points</th>\n",
              "      <th>tourney_spectators</th>\n",
              "      <th>tourney_revenue</th>\n",
              "    </tr>\n",
              "  </thead>\n",
              "  <tbody>\n",
              "    <tr>\n",
              "      <th>12066</th>\n",
              "      <td>2017-1059</td>\n",
              "      <td>Taipei</td>\n",
              "      <td>Hard</td>\n",
              "      <td>32</td>\n",
              "      <td>C</td>\n",
              "      <td>2017-11-13</td>\n",
              "      <td>243</td>\n",
              "      <td>214562</td>\n",
              "      <td>WC</td>\n",
              "      <td>Ingrid Neel</td>\n",
              "      <td>U</td>\n",
              "      <td>&lt;NA&gt;</td>\n",
              "      <td>USA</td>\n",
              "      <td>19.411362</td>\n",
              "      <td>203475</td>\n",
              "      <td>NaN</td>\n",
              "      <td>Carol Zhao</td>\n",
              "      <td>R</td>\n",
              "      <td>&lt;NA&gt;</td>\n",
              "      <td>CAN</td>\n",
              "      <td>22.401095</td>\n",
              "      <td>6-7(7) 7-6(6) 6-2</td>\n",
              "      <td>3</td>\n",
              "      <td>Q1</td>\n",
              "      <td>154</td>\n",
              "      <td>7</td>\n",
              "      <td>10</td>\n",
              "      <td>124</td>\n",
              "      <td>84</td>\n",
              "      <td>53</td>\n",
              "      <td>14</td>\n",
              "      <td>16</td>\n",
              "      <td>7</td>\n",
              "      <td>13</td>\n",
              "      <td>9</td>\n",
              "      <td>17</td>\n",
              "      <td>151</td>\n",
              "      <td>90</td>\n",
              "      <td>54</td>\n",
              "      <td>21</td>\n",
              "      <td>16</td>\n",
              "      <td>14</td>\n",
              "      <td>22</td>\n",
              "      <td>704</td>\n",
              "      <td>27</td>\n",
              "      <td>150</td>\n",
              "      <td>390</td>\n",
              "      <td>3535</td>\n",
              "      <td>638954.72</td>\n",
              "    </tr>\n",
              "    <tr>\n",
              "      <th>12067</th>\n",
              "      <td>2017-1059</td>\n",
              "      <td>Taipei</td>\n",
              "      <td>Hard</td>\n",
              "      <td>32</td>\n",
              "      <td>C</td>\n",
              "      <td>2017-11-13</td>\n",
              "      <td>244</td>\n",
              "      <td>206368</td>\n",
              "      <td>NaN</td>\n",
              "      <td>Veronika Kudermetova</td>\n",
              "      <td>R</td>\n",
              "      <td>175</td>\n",
              "      <td>RUS</td>\n",
              "      <td>20.555784</td>\n",
              "      <td>203576</td>\n",
              "      <td>NaN</td>\n",
              "      <td>Kai Lin Zhang</td>\n",
              "      <td>R</td>\n",
              "      <td>&lt;NA&gt;</td>\n",
              "      <td>CHN</td>\n",
              "      <td>27.791923</td>\n",
              "      <td>7-6(2) 7-5</td>\n",
              "      <td>3</td>\n",
              "      <td>Q1</td>\n",
              "      <td>104</td>\n",
              "      <td>4</td>\n",
              "      <td>6</td>\n",
              "      <td>87</td>\n",
              "      <td>54</td>\n",
              "      <td>36</td>\n",
              "      <td>13</td>\n",
              "      <td>12</td>\n",
              "      <td>5</td>\n",
              "      <td>10</td>\n",
              "      <td>0</td>\n",
              "      <td>8</td>\n",
              "      <td>82</td>\n",
              "      <td>50</td>\n",
              "      <td>23</td>\n",
              "      <td>15</td>\n",
              "      <td>12</td>\n",
              "      <td>3</td>\n",
              "      <td>9</td>\n",
              "      <td>255</td>\n",
              "      <td>217</td>\n",
              "      <td>208</td>\n",
              "      <td>274</td>\n",
              "      <td>3535</td>\n",
              "      <td>638954.72</td>\n",
              "    </tr>\n",
              "    <tr>\n",
              "      <th>12068</th>\n",
              "      <td>2017-1059</td>\n",
              "      <td>Taipei</td>\n",
              "      <td>Hard</td>\n",
              "      <td>32</td>\n",
              "      <td>C</td>\n",
              "      <td>2017-11-13</td>\n",
              "      <td>245</td>\n",
              "      <td>203435</td>\n",
              "      <td>NaN</td>\n",
              "      <td>Dalila Jakupovic</td>\n",
              "      <td>R</td>\n",
              "      <td>&lt;NA&gt;</td>\n",
              "      <td>SLO</td>\n",
              "      <td>26.642026</td>\n",
              "      <td>211874</td>\n",
              "      <td>NaN</td>\n",
              "      <td>Victoria Rodriguez</td>\n",
              "      <td>U</td>\n",
              "      <td>&lt;NA&gt;</td>\n",
              "      <td>MEX</td>\n",
              "      <td>22.562628</td>\n",
              "      <td>6-2 6-3</td>\n",
              "      <td>3</td>\n",
              "      <td>Q1</td>\n",
              "      <td>69</td>\n",
              "      <td>0</td>\n",
              "      <td>2</td>\n",
              "      <td>46</td>\n",
              "      <td>29</td>\n",
              "      <td>19</td>\n",
              "      <td>8</td>\n",
              "      <td>9</td>\n",
              "      <td>2</td>\n",
              "      <td>5</td>\n",
              "      <td>0</td>\n",
              "      <td>3</td>\n",
              "      <td>60</td>\n",
              "      <td>42</td>\n",
              "      <td>19</td>\n",
              "      <td>6</td>\n",
              "      <td>8</td>\n",
              "      <td>5</td>\n",
              "      <td>11</td>\n",
              "      <td>242</td>\n",
              "      <td>228</td>\n",
              "      <td>262</td>\n",
              "      <td>204</td>\n",
              "      <td>3535</td>\n",
              "      <td>638954.72</td>\n",
              "    </tr>\n",
              "    <tr>\n",
              "      <th>12069</th>\n",
              "      <td>2017-1059</td>\n",
              "      <td>Taipei</td>\n",
              "      <td>Hard</td>\n",
              "      <td>32</td>\n",
              "      <td>C</td>\n",
              "      <td>2017-11-13</td>\n",
              "      <td>246</td>\n",
              "      <td>201674</td>\n",
              "      <td>NaN</td>\n",
              "      <td>Sabina Sharipova</td>\n",
              "      <td>R</td>\n",
              "      <td>&lt;NA&gt;</td>\n",
              "      <td>UZB</td>\n",
              "      <td>23.192334</td>\n",
              "      <td>214541</td>\n",
              "      <td>NaN</td>\n",
              "      <td>Fanny Stollar</td>\n",
              "      <td>R</td>\n",
              "      <td>172</td>\n",
              "      <td>HUN</td>\n",
              "      <td>19.003422</td>\n",
              "      <td>6-1 7-6(2)</td>\n",
              "      <td>3</td>\n",
              "      <td>Q1</td>\n",
              "      <td>80</td>\n",
              "      <td>2</td>\n",
              "      <td>4</td>\n",
              "      <td>71</td>\n",
              "      <td>43</td>\n",
              "      <td>30</td>\n",
              "      <td>13</td>\n",
              "      <td>10</td>\n",
              "      <td>3</td>\n",
              "      <td>6</td>\n",
              "      <td>4</td>\n",
              "      <td>7</td>\n",
              "      <td>80</td>\n",
              "      <td>45</td>\n",
              "      <td>27</td>\n",
              "      <td>10</td>\n",
              "      <td>9</td>\n",
              "      <td>7</td>\n",
              "      <td>12</td>\n",
              "      <td>196</td>\n",
              "      <td>299</td>\n",
              "      <td>238</td>\n",
              "      <td>231</td>\n",
              "      <td>3535</td>\n",
              "      <td>638954.72</td>\n",
              "    </tr>\n",
              "    <tr>\n",
              "      <th>12070</th>\n",
              "      <td>2017-1059</td>\n",
              "      <td>Taipei</td>\n",
              "      <td>Hard</td>\n",
              "      <td>32</td>\n",
              "      <td>C</td>\n",
              "      <td>2017-11-13</td>\n",
              "      <td>247</td>\n",
              "      <td>211411</td>\n",
              "      <td>NaN</td>\n",
              "      <td>Nina Stojanovic</td>\n",
              "      <td>R</td>\n",
              "      <td>&lt;NA&gt;</td>\n",
              "      <td>SRB</td>\n",
              "      <td>21.289528</td>\n",
              "      <td>204291</td>\n",
              "      <td>NaN</td>\n",
              "      <td>Na Lae Han</td>\n",
              "      <td>L</td>\n",
              "      <td>&lt;NA&gt;</td>\n",
              "      <td>KOR</td>\n",
              "      <td>25.355236</td>\n",
              "      <td>7-6(3) 6-3</td>\n",
              "      <td>3</td>\n",
              "      <td>Q1</td>\n",
              "      <td>91</td>\n",
              "      <td>5</td>\n",
              "      <td>3</td>\n",
              "      <td>79</td>\n",
              "      <td>49</td>\n",
              "      <td>34</td>\n",
              "      <td>11</td>\n",
              "      <td>11</td>\n",
              "      <td>4</td>\n",
              "      <td>8</td>\n",
              "      <td>0</td>\n",
              "      <td>4</td>\n",
              "      <td>68</td>\n",
              "      <td>41</td>\n",
              "      <td>23</td>\n",
              "      <td>9</td>\n",
              "      <td>10</td>\n",
              "      <td>2</td>\n",
              "      <td>7</td>\n",
              "      <td>230</td>\n",
              "      <td>243</td>\n",
              "      <td>250</td>\n",
              "      <td>221</td>\n",
              "      <td>3535</td>\n",
              "      <td>638954.72</td>\n",
              "    </tr>\n",
              "    <tr>\n",
              "      <th>...</th>\n",
              "      <td>...</td>\n",
              "      <td>...</td>\n",
              "      <td>...</td>\n",
              "      <td>...</td>\n",
              "      <td>...</td>\n",
              "      <td>...</td>\n",
              "      <td>...</td>\n",
              "      <td>...</td>\n",
              "      <td>...</td>\n",
              "      <td>...</td>\n",
              "      <td>...</td>\n",
              "      <td>...</td>\n",
              "      <td>...</td>\n",
              "      <td>...</td>\n",
              "      <td>...</td>\n",
              "      <td>...</td>\n",
              "      <td>...</td>\n",
              "      <td>...</td>\n",
              "      <td>...</td>\n",
              "      <td>...</td>\n",
              "      <td>...</td>\n",
              "      <td>...</td>\n",
              "      <td>...</td>\n",
              "      <td>...</td>\n",
              "      <td>...</td>\n",
              "      <td>...</td>\n",
              "      <td>...</td>\n",
              "      <td>...</td>\n",
              "      <td>...</td>\n",
              "      <td>...</td>\n",
              "      <td>...</td>\n",
              "      <td>...</td>\n",
              "      <td>...</td>\n",
              "      <td>...</td>\n",
              "      <td>...</td>\n",
              "      <td>...</td>\n",
              "      <td>...</td>\n",
              "      <td>...</td>\n",
              "      <td>...</td>\n",
              "      <td>...</td>\n",
              "      <td>...</td>\n",
              "      <td>...</td>\n",
              "      <td>...</td>\n",
              "      <td>...</td>\n",
              "      <td>...</td>\n",
              "      <td>...</td>\n",
              "      <td>...</td>\n",
              "      <td>...</td>\n",
              "      <td>...</td>\n",
              "    </tr>\n",
              "    <tr>\n",
              "      <th>177376</th>\n",
              "      <td>2020-1103</td>\n",
              "      <td>Indian Wells 125K</td>\n",
              "      <td>Hard</td>\n",
              "      <td>64</td>\n",
              "      <td>C</td>\n",
              "      <td>2020-03-02</td>\n",
              "      <td>221</td>\n",
              "      <td>203398</td>\n",
              "      <td>NaN</td>\n",
              "      <td>Danielle Lao</td>\n",
              "      <td>R</td>\n",
              "      <td>&lt;NA&gt;</td>\n",
              "      <td>USA</td>\n",
              "      <td>28.763860</td>\n",
              "      <td>213949</td>\n",
              "      <td>WC</td>\n",
              "      <td>Hanna Chang</td>\n",
              "      <td>U</td>\n",
              "      <td>&lt;NA&gt;</td>\n",
              "      <td>USA</td>\n",
              "      <td>22.015058</td>\n",
              "      <td>6-1 5-7 6-2</td>\n",
              "      <td>3</td>\n",
              "      <td>Q1</td>\n",
              "      <td>170</td>\n",
              "      <td>0</td>\n",
              "      <td>3</td>\n",
              "      <td>119</td>\n",
              "      <td>86</td>\n",
              "      <td>54</td>\n",
              "      <td>16</td>\n",
              "      <td>14</td>\n",
              "      <td>12</td>\n",
              "      <td>15</td>\n",
              "      <td>3</td>\n",
              "      <td>7</td>\n",
              "      <td>84</td>\n",
              "      <td>52</td>\n",
              "      <td>30</td>\n",
              "      <td>14</td>\n",
              "      <td>13</td>\n",
              "      <td>3</td>\n",
              "      <td>9</td>\n",
              "      <td>198</td>\n",
              "      <td>296</td>\n",
              "      <td>295</td>\n",
              "      <td>184</td>\n",
              "      <td>4638</td>\n",
              "      <td>1164466.18</td>\n",
              "    </tr>\n",
              "    <tr>\n",
              "      <th>177377</th>\n",
              "      <td>2020-1103</td>\n",
              "      <td>Indian Wells 125K</td>\n",
              "      <td>Hard</td>\n",
              "      <td>64</td>\n",
              "      <td>C</td>\n",
              "      <td>2020-03-02</td>\n",
              "      <td>222</td>\n",
              "      <td>201534</td>\n",
              "      <td>NaN</td>\n",
              "      <td>Asia Muhammed</td>\n",
              "      <td>R</td>\n",
              "      <td>&lt;NA&gt;</td>\n",
              "      <td>USA</td>\n",
              "      <td>28.911704</td>\n",
              "      <td>215064</td>\n",
              "      <td>WC</td>\n",
              "      <td>Maria Mateas</td>\n",
              "      <td>U</td>\n",
              "      <td>&lt;NA&gt;</td>\n",
              "      <td>USA</td>\n",
              "      <td>20.616016</td>\n",
              "      <td>7-5 2-6 6-3</td>\n",
              "      <td>3</td>\n",
              "      <td>Q1</td>\n",
              "      <td>157</td>\n",
              "      <td>3</td>\n",
              "      <td>4</td>\n",
              "      <td>100</td>\n",
              "      <td>60</td>\n",
              "      <td>32</td>\n",
              "      <td>14</td>\n",
              "      <td>14</td>\n",
              "      <td>13</td>\n",
              "      <td>22</td>\n",
              "      <td>0</td>\n",
              "      <td>6</td>\n",
              "      <td>100</td>\n",
              "      <td>75</td>\n",
              "      <td>39</td>\n",
              "      <td>6</td>\n",
              "      <td>15</td>\n",
              "      <td>10</td>\n",
              "      <td>20</td>\n",
              "      <td>194</td>\n",
              "      <td>304</td>\n",
              "      <td>413</td>\n",
              "      <td>103</td>\n",
              "      <td>4638</td>\n",
              "      <td>1164466.18</td>\n",
              "    </tr>\n",
              "    <tr>\n",
              "      <th>177378</th>\n",
              "      <td>2020-1103</td>\n",
              "      <td>Indian Wells 125K</td>\n",
              "      <td>Hard</td>\n",
              "      <td>64</td>\n",
              "      <td>C</td>\n",
              "      <td>2020-03-02</td>\n",
              "      <td>221</td>\n",
              "      <td>203398</td>\n",
              "      <td>NaN</td>\n",
              "      <td>Danielle Lao</td>\n",
              "      <td>R</td>\n",
              "      <td>&lt;NA&gt;</td>\n",
              "      <td>USA</td>\n",
              "      <td>28.763860</td>\n",
              "      <td>213949</td>\n",
              "      <td>WC</td>\n",
              "      <td>Hanna Chang</td>\n",
              "      <td>U</td>\n",
              "      <td>&lt;NA&gt;</td>\n",
              "      <td>USA</td>\n",
              "      <td>22.015058</td>\n",
              "      <td>6-1 5-7 6-2</td>\n",
              "      <td>3</td>\n",
              "      <td>Q1</td>\n",
              "      <td>170</td>\n",
              "      <td>0</td>\n",
              "      <td>3</td>\n",
              "      <td>119</td>\n",
              "      <td>86</td>\n",
              "      <td>54</td>\n",
              "      <td>16</td>\n",
              "      <td>14</td>\n",
              "      <td>12</td>\n",
              "      <td>15</td>\n",
              "      <td>3</td>\n",
              "      <td>7</td>\n",
              "      <td>84</td>\n",
              "      <td>52</td>\n",
              "      <td>30</td>\n",
              "      <td>14</td>\n",
              "      <td>13</td>\n",
              "      <td>3</td>\n",
              "      <td>9</td>\n",
              "      <td>198</td>\n",
              "      <td>296</td>\n",
              "      <td>295</td>\n",
              "      <td>184</td>\n",
              "      <td>4638</td>\n",
              "      <td>1164466.18</td>\n",
              "    </tr>\n",
              "    <tr>\n",
              "      <th>177379</th>\n",
              "      <td>2020-1103</td>\n",
              "      <td>Indian Wells 125K</td>\n",
              "      <td>Hard</td>\n",
              "      <td>64</td>\n",
              "      <td>C</td>\n",
              "      <td>2020-03-02</td>\n",
              "      <td>222</td>\n",
              "      <td>201534</td>\n",
              "      <td>NaN</td>\n",
              "      <td>Asia Muhammed</td>\n",
              "      <td>R</td>\n",
              "      <td>&lt;NA&gt;</td>\n",
              "      <td>USA</td>\n",
              "      <td>28.911704</td>\n",
              "      <td>215064</td>\n",
              "      <td>WC</td>\n",
              "      <td>Maria Mateas</td>\n",
              "      <td>U</td>\n",
              "      <td>&lt;NA&gt;</td>\n",
              "      <td>USA</td>\n",
              "      <td>20.616016</td>\n",
              "      <td>7-5 2-6 6-3</td>\n",
              "      <td>3</td>\n",
              "      <td>Q1</td>\n",
              "      <td>157</td>\n",
              "      <td>3</td>\n",
              "      <td>4</td>\n",
              "      <td>100</td>\n",
              "      <td>60</td>\n",
              "      <td>32</td>\n",
              "      <td>14</td>\n",
              "      <td>14</td>\n",
              "      <td>13</td>\n",
              "      <td>22</td>\n",
              "      <td>0</td>\n",
              "      <td>6</td>\n",
              "      <td>100</td>\n",
              "      <td>75</td>\n",
              "      <td>39</td>\n",
              "      <td>6</td>\n",
              "      <td>15</td>\n",
              "      <td>10</td>\n",
              "      <td>20</td>\n",
              "      <td>194</td>\n",
              "      <td>304</td>\n",
              "      <td>413</td>\n",
              "      <td>103</td>\n",
              "      <td>4638</td>\n",
              "      <td>1164466.18</td>\n",
              "    </tr>\n",
              "    <tr>\n",
              "      <th>177380</th>\n",
              "      <td>2020-1103</td>\n",
              "      <td>Indian Wells 125K</td>\n",
              "      <td>Hard</td>\n",
              "      <td>64</td>\n",
              "      <td>C</td>\n",
              "      <td>2020-03-02</td>\n",
              "      <td>221</td>\n",
              "      <td>203398</td>\n",
              "      <td>NaN</td>\n",
              "      <td>Danielle Lao</td>\n",
              "      <td>R</td>\n",
              "      <td>&lt;NA&gt;</td>\n",
              "      <td>USA</td>\n",
              "      <td>28.763860</td>\n",
              "      <td>213949</td>\n",
              "      <td>WC</td>\n",
              "      <td>Hanna Chang</td>\n",
              "      <td>U</td>\n",
              "      <td>&lt;NA&gt;</td>\n",
              "      <td>USA</td>\n",
              "      <td>22.015058</td>\n",
              "      <td>6-1 5-7 6-2</td>\n",
              "      <td>3</td>\n",
              "      <td>Q1</td>\n",
              "      <td>170</td>\n",
              "      <td>0</td>\n",
              "      <td>3</td>\n",
              "      <td>119</td>\n",
              "      <td>86</td>\n",
              "      <td>54</td>\n",
              "      <td>16</td>\n",
              "      <td>14</td>\n",
              "      <td>12</td>\n",
              "      <td>15</td>\n",
              "      <td>3</td>\n",
              "      <td>7</td>\n",
              "      <td>84</td>\n",
              "      <td>52</td>\n",
              "      <td>30</td>\n",
              "      <td>14</td>\n",
              "      <td>13</td>\n",
              "      <td>3</td>\n",
              "      <td>9</td>\n",
              "      <td>198</td>\n",
              "      <td>296</td>\n",
              "      <td>295</td>\n",
              "      <td>184</td>\n",
              "      <td>4638</td>\n",
              "      <td>1164466.18</td>\n",
              "    </tr>\n",
              "  </tbody>\n",
              "</table>\n",
              "<p>309 rows × 49 columns</p>\n",
              "</div>"
            ],
            "text/plain": [
              "       tourney_id       tourney_name  ... tourney_spectators  tourney_revenue\n",
              "12066   2017-1059             Taipei  ...               3535        638954.72\n",
              "12067   2017-1059             Taipei  ...               3535        638954.72\n",
              "12068   2017-1059             Taipei  ...               3535        638954.72\n",
              "12069   2017-1059             Taipei  ...               3535        638954.72\n",
              "12070   2017-1059             Taipei  ...               3535        638954.72\n",
              "...           ...                ...  ...                ...              ...\n",
              "177376  2020-1103  Indian Wells 125K  ...               4638       1164466.18\n",
              "177377  2020-1103  Indian Wells 125K  ...               4638       1164466.18\n",
              "177378  2020-1103  Indian Wells 125K  ...               4638       1164466.18\n",
              "177379  2020-1103  Indian Wells 125K  ...               4638       1164466.18\n",
              "177380  2020-1103  Indian Wells 125K  ...               4638       1164466.18\n",
              "\n",
              "[309 rows x 49 columns]"
            ]
          },
          "metadata": {},
          "execution_count": 9
        }
      ]
    },
    {
      "cell_type": "markdown",
      "metadata": {
        "id": "EYiijlPeS_27"
      },
      "source": [
        "We can drop all the duplicates now."
      ]
    },
    {
      "cell_type": "code",
      "metadata": {
        "id": "K_Hmn7oHxEg4"
      },
      "source": [
        "df_matches = df_matches.drop_duplicates()"
      ],
      "execution_count": 10,
      "outputs": []
    },
    {
      "cell_type": "markdown",
      "metadata": {
        "id": "Xe18p_QYmYf6"
      },
      "source": [
        "###**Dealing with Missing Values**\n",
        "\n",
        "We have to deal with missing values for each attribute."
      ]
    },
    {
      "cell_type": "code",
      "metadata": {
        "colab": {
          "base_uri": "https://localhost:8080/"
        },
        "id": "YPI0LMdrKn6t",
        "outputId": "064722bf-e497-4728-d250-39905442f3af"
      },
      "source": [
        "print(\"NULL FIELDS:\")\n",
        "print(df_matches.isnull().any())"
      ],
      "execution_count": 11,
      "outputs": [
        {
          "output_type": "stream",
          "name": "stdout",
          "text": [
            "NULL FIELDS:\n",
            "tourney_id            True\n",
            "tourney_name          True\n",
            "surface               True\n",
            "draw_size             True\n",
            "tourney_level         True\n",
            "tourney_date          True\n",
            "match_num             True\n",
            "winner_id             True\n",
            "winner_entry          True\n",
            "winner_name           True\n",
            "winner_hand           True\n",
            "winner_ht             True\n",
            "winner_ioc            True\n",
            "winner_age            True\n",
            "loser_id              True\n",
            "loser_entry           True\n",
            "loser_name            True\n",
            "loser_hand            True\n",
            "loser_ht              True\n",
            "loser_ioc             True\n",
            "loser_age             True\n",
            "score                 True\n",
            "best_of               True\n",
            "round                 True\n",
            "minutes               True\n",
            "w_ace                 True\n",
            "w_df                  True\n",
            "w_svpt                True\n",
            "w_1stIn               True\n",
            "w_1stWon              True\n",
            "w_2ndWon              True\n",
            "w_SvGms               True\n",
            "w_bpSaved             True\n",
            "w_bpFaced             True\n",
            "l_ace                 True\n",
            "l_df                  True\n",
            "l_svpt                True\n",
            "l_1stIn               True\n",
            "l_1stWon              True\n",
            "l_2ndWon              True\n",
            "l_SvGms               True\n",
            "l_bpSaved             True\n",
            "l_bpFaced             True\n",
            "winner_rank           True\n",
            "winner_rank_points    True\n",
            "loser_rank            True\n",
            "loser_rank_points     True\n",
            "tourney_spectators    True\n",
            "tourney_revenue       True\n",
            "dtype: bool\n"
          ]
        }
      ]
    },
    {
      "cell_type": "markdown",
      "metadata": {
        "id": "a34JaMxHoDns"
      },
      "source": [
        "**Fixing tourney_id**\n",
        "\n",
        "The attribute tourney_id has missing values in corrispondece with only the Taipei tournament (which doesn't have many more values), moreover we found that this event is already in the dataset with better filled records, we decided to drop it from the dataframe."
      ]
    },
    {
      "cell_type": "code",
      "metadata": {
        "colab": {
          "base_uri": "https://localhost:8080/"
        },
        "id": "ntBNpohOh5Vh",
        "outputId": "002ae77d-d949-4021-c846-9826806d3cf4"
      },
      "source": [
        "df_matches = df_matches.dropna(subset=[\"tourney_id\"])\n",
        "df_matches.isnull().any()"
      ],
      "execution_count": 12,
      "outputs": [
        {
          "output_type": "execute_result",
          "data": {
            "text/plain": [
              "tourney_id            False\n",
              "tourney_name          False\n",
              "surface                True\n",
              "draw_size             False\n",
              "tourney_level         False\n",
              "tourney_date          False\n",
              "match_num             False\n",
              "winner_id             False\n",
              "winner_entry           True\n",
              "winner_name           False\n",
              "winner_hand            True\n",
              "winner_ht              True\n",
              "winner_ioc            False\n",
              "winner_age             True\n",
              "loser_id              False\n",
              "loser_entry            True\n",
              "loser_name            False\n",
              "loser_hand             True\n",
              "loser_ht               True\n",
              "loser_ioc             False\n",
              "loser_age              True\n",
              "score                  True\n",
              "best_of               False\n",
              "round                 False\n",
              "minutes                True\n",
              "w_ace                  True\n",
              "w_df                   True\n",
              "w_svpt                 True\n",
              "w_1stIn                True\n",
              "w_1stWon               True\n",
              "w_2ndWon               True\n",
              "w_SvGms                True\n",
              "w_bpSaved              True\n",
              "w_bpFaced              True\n",
              "l_ace                  True\n",
              "l_df                   True\n",
              "l_svpt                 True\n",
              "l_1stIn                True\n",
              "l_1stWon               True\n",
              "l_2ndWon               True\n",
              "l_SvGms                True\n",
              "l_bpSaved              True\n",
              "l_bpFaced              True\n",
              "winner_rank            True\n",
              "winner_rank_points     True\n",
              "loser_rank             True\n",
              "loser_rank_points      True\n",
              "tourney_spectators    False\n",
              "tourney_revenue       False\n",
              "dtype: bool"
            ]
          },
          "metadata": {},
          "execution_count": 12
        }
      ]
    },
    {
      "cell_type": "markdown",
      "metadata": {
        "id": "3ASTHoCliJpG"
      },
      "source": [
        "Come possiamo notare, eliminando il torneo di Taipei molti attributi sono adesso senza valori nulli, questo ci rende l'analisi ancora più semplice. Inoltre, tale torneo è già presente nel dataset e con valori corretti, perciò la sua eliminazione non influisce negativamente sul nostro lavoro."
      ]
    },
    {
      "cell_type": "markdown",
      "metadata": {
        "id": "ASG91UssoO85"
      },
      "source": [
        "**Fixing surface**\n",
        "\n",
        "We try to solve the null values in the \"surface\" feature, first we count how many tournaments and matches have no surfaces for pure statistical reasons. If a tournament is missing the surface we can retrieve it if at least one match of the same tournament has it."
      ]
    },
    {
      "cell_type": "code",
      "metadata": {
        "colab": {
          "base_uri": "https://localhost:8080/"
        },
        "id": "FWuIJunMgRoy",
        "outputId": "f40517ce-eac0-4cf5-e5d5-46afeb6cc295"
      },
      "source": [
        "# tournaments with no surface\n",
        "tourney_no_surface = df_matches[pd.isnull(df_matches['surface'])]['tourney_id'].unique()\n",
        "\n",
        "# matches with no surface\n",
        "matches_no_surface = df_matches[df_matches['tourney_id'].isin(tourney_no_surface)][['tourney_id', 'surface']]\n",
        "\n",
        "print(\"Number of tournaments without a surface: {0}\".format(len(tourney_no_surface)))\n",
        "print(\"Number of matches without a surface: {0}\".format(len(matches_no_surface)))\n",
        "print(\"Number of tournaments for which we can retrieve the surface: {0}\".\n",
        "      format(len(matches_no_surface[matches_no_surface['surface'].notnull()])))"
      ],
      "execution_count": 13,
      "outputs": [
        {
          "output_type": "stream",
          "name": "stdout",
          "text": [
            "Number of tournaments without a surface: 62\n",
            "Number of matches without a surface: 162\n",
            "Number of tournaments for which we can retrieve the surface: 0\n"
          ]
        }
      ]
    },
    {
      "cell_type": "markdown",
      "metadata": {
        "id": "DqWAQVoNAkXT"
      },
      "source": [
        "Unluckily there are no tournaments for which we can retrieve the surface, so we chose to sample such values from the distribution of the surfaces."
      ]
    },
    {
      "cell_type": "code",
      "metadata": {
        "colab": {
          "base_uri": "https://localhost:8080/"
        },
        "id": "XSFXni34Ai2-",
        "outputId": "c271f3ee-2cb5-4cfd-ea7e-f7f04d1c079c"
      },
      "source": [
        "# all possible values of \"surface\" attribute normalized\n",
        "surface_distribution = df_matches[\"surface\"].value_counts(normalize=True)\n",
        "print(\"Distribution of each surface:\\n{0}\\n\".format(surface_distribution))\n",
        "print(\"Distribution of each surface cumulative:\\n{0}\\n\".format(surface_distribution.cumsum()))\n",
        "\n",
        "# sample surfaces and assing them to each tournament\n",
        "for tourney in tourney_no_surface:\n",
        "  sampled_surface = surface_distribution.sample(weights=surface_distribution, axis=0).index[0]\n",
        "  print(\"Tournament: {0}, Surface sampled: {1}\".format(tourney, sampled_surface))\n",
        "  surface_mask = df_matches[\"tourney_id\"] == tourney\n",
        "  df_matches.loc[surface_mask, \"surface\"] = df_matches.loc[surface_mask, \"surface\"].fillna(sampled_surface)"
      ],
      "execution_count": 14,
      "outputs": [
        {
          "output_type": "stream",
          "name": "stdout",
          "text": [
            "Distribution of each surface:\n",
            "Hard      0.511503\n",
            "Clay      0.436488\n",
            "Grass     0.035560\n",
            "Carpet    0.016449\n",
            "Name: surface, dtype: float64\n",
            "\n",
            "Distribution of each surface cumulative:\n",
            "Hard      0.511503\n",
            "Clay      0.947991\n",
            "Grass     0.983551\n",
            "Carpet    1.000000\n",
            "Name: surface, dtype: float64\n",
            "\n",
            "Tournament: 2017-W-FC-2017-G2-AM-A-M-ECU-CUB-01, Surface sampled: Hard\n",
            "Tournament: 2017-W-FC-2017-G2-AM-A-M-ECU-URU-01, Surface sampled: Hard\n",
            "Tournament: 2017-W-FC-2017-G2-AM-A-M-URU-CUB-01, Surface sampled: Hard\n",
            "Tournament: 2017-W-FC-2017-G2-AM-B-M-DOM-BAR-01, Surface sampled: Clay\n",
            "Tournament: 2017-W-FC-2017-G2-AM-B-M-GUA-BAR-01, Surface sampled: Hard\n",
            "Tournament: 2017-W-FC-2017-G2-AM-B-M-GUA-DOM-01, Surface sampled: Hard\n",
            "Tournament: 2017-W-FC-2017-G2-AM-C-M-PUR-HON-01, Surface sampled: Hard\n",
            "Tournament: 2017-W-FC-2017-G2-AM-C-M-PUR-TTO-01, Surface sampled: Clay\n",
            "Tournament: 2017-W-FC-2017-G2-AM-C-M-TTO-HON-01, Surface sampled: Hard\n",
            "Tournament: 2017-W-FC-2017-G2-AM-D-M-BAH-PAN-01, Surface sampled: Hard\n",
            "Tournament: 2017-W-FC-2017-G2-AM-D-M-CRC-BAH-01, Surface sampled: Clay\n",
            "Tournament: 2017-W-FC-2017-G2-AM-D-M-CRC-PAN-01, Surface sampled: Clay\n",
            "Tournament: 2017-W-FC-2017-G2-AM-D-M-PER-BAH-01, Surface sampled: Clay\n",
            "Tournament: 2017-W-FC-2017-G2-AM-D-M-PER-CRC-01, Surface sampled: Hard\n",
            "Tournament: 2017-W-FC-2017-G2-AM-D-M-PER-PAN-01, Surface sampled: Hard\n",
            "Tournament: 2017-W-FC-2017-G2-AM-PP5-8-CUB-TTO-01, Surface sampled: Carpet\n",
            "Tournament: 2017-W-FC-2017-G2-AM-PP5-8-DOM-CRC-01, Surface sampled: Clay\n",
            "Tournament: 2017-W-FC-2017-G2-AM-PP9-12-BAR-BAH-01, Surface sampled: Clay\n",
            "Tournament: 2017-W-FC-2017-G2-AM-PP9-12-URU-HON-01, Surface sampled: Hard\n",
            "Tournament: 2017-W-FC-2017-G2-AM-PPO-ECU-PUR-01, Surface sampled: Hard\n",
            "Tournament: 2017-W-FC-2017-G2-AM-PPO-GUA-PER-01, Surface sampled: Hard\n",
            "Tournament: 2016-W-FC-2016-G2-AM-A-M-CHI-CRC-01, Surface sampled: Hard\n",
            "Tournament: 2016-W-FC-2016-G2-AM-A-M-CHI-HON-01, Surface sampled: Clay\n",
            "Tournament: 2016-W-FC-2016-G2-AM-A-M-CRC-HON-01, Surface sampled: Hard\n",
            "Tournament: 2016-W-FC-2016-G2-AM-A-M-VEN-CHI-01, Surface sampled: Clay\n",
            "Tournament: 2016-W-FC-2016-G2-AM-A-M-VEN-CRC-01, Surface sampled: Hard\n",
            "Tournament: 2016-W-FC-2016-G2-AM-A-M-VEN-HON-01, Surface sampled: Clay\n",
            "Tournament: 2016-W-FC-2016-G2-AM-B-M-BAH-URU-01, Surface sampled: Hard\n",
            "Tournament: 2016-W-FC-2016-G2-AM-B-M-DOM-BAH-01, Surface sampled: Hard\n",
            "Tournament: 2016-W-FC-2016-G2-AM-B-M-DOM-GUA-01, Surface sampled: Hard\n",
            "Tournament: 2016-W-FC-2016-G2-AM-B-M-DOM-PUR-01, Surface sampled: Hard\n",
            "Tournament: 2016-W-FC-2016-G2-AM-B-M-DOM-URU-01, Surface sampled: Hard\n",
            "Tournament: 2016-W-FC-2016-G2-AM-B-M-GUA-BAH-01, Surface sampled: Clay\n",
            "Tournament: 2016-W-FC-2016-G2-AM-B-M-GUA-PUR-01, Surface sampled: Hard\n",
            "Tournament: 2016-W-FC-2016-G2-AM-B-M-GUA-URU-01, Surface sampled: Clay\n",
            "Tournament: 2016-W-FC-2016-G2-AM-B-M-PUR-BAH-01, Surface sampled: Hard\n",
            "Tournament: 2016-W-FC-2016-G2-AM-B-M-PUR-URU-01, Surface sampled: Hard\n",
            "Tournament: 2016-W-FC-2016-G2-AM-PP5-8-DOM-CRC-01, Surface sampled: Hard\n",
            "Tournament: 2016-W-FC-2016-G2-AM-PP5-8-HON-URU-01, Surface sampled: Clay\n",
            "Tournament: 2016-W-FC-2016-G2-AM-PPO-PUR-CHI-01, Surface sampled: Clay\n",
            "Tournament: 2016-W-FC-2016-G2-AM-PPO-VEN-GUA-01, Surface sampled: Clay\n",
            "Tournament: 2017-M-DC-2017-G1-EPA-M-ISR-POR-01, Surface sampled: Hard\n",
            "Tournament: 2017-M-DC-2017-G1-AO-M-NZL-IND-01, Surface sampled: Clay\n",
            "Tournament: 2017-M-DC-2017-G1-AM-M-PER-ECU-01, Surface sampled: Hard\n",
            "Tournament: 2017-M-DC-2017-G1-EPA-M-ROU-BLR-01, Surface sampled: Clay\n",
            "Tournament: 2017-M-DC-2017-G1-AO-M-UZB-KOR-01, Surface sampled: Clay\n",
            "Tournament: 2017-M-DC-2017-G1-EPA-M-SVK-HUN-01, Surface sampled: Hard\n",
            "Tournament: 2017-M-DC-2017-G2-AM-M-BAH-VEN-01, Surface sampled: Clay\n",
            "Tournament: 2017-M-DC-2017-G2-AM-M-BAR-PAR-01, Surface sampled: Clay\n",
            "Tournament: 2017-M-DC-2017-G2-AM-M-BOL-ESA-01, Surface sampled: Clay\n",
            "Tournament: 2017-M-DC-2017-G2-EPA-M-EST-RSA-01, Surface sampled: Hard\n",
            "Tournament: 2017-M-DC-2017-G2-EPA-M-FIN-GEO-01, Surface sampled: Hard\n",
            "Tournament: 2017-M-DC-2017-G2-AO-M-INA-PHI-01, Surface sampled: Clay\n",
            "Tournament: 2017-M-DC-2017-G2-AO-M-KUW-THA-01, Surface sampled: Clay\n",
            "Tournament: 2017-M-DC-2017-G2-EPA-M-LTU-MAD-01, Surface sampled: Clay\n",
            "Tournament: 2017-M-DC-2017-G2-EPA-M-MAR-DEN-01, Surface sampled: Hard\n",
            "Tournament: 2017-M-DC-2017-G2-AM-M-MEX-GUA-01, Surface sampled: Hard\n",
            "Tournament: 2017-M-DC-2017-G2-EPA-M-MON-SLO-01, Surface sampled: Clay\n",
            "Tournament: 2017-M-DC-2017-G2-EPA-M-NOR-LAT-01, Surface sampled: Hard\n",
            "Tournament: 2017-M-DC-2017-G2-EPA-M-TUR-CYP-01, Surface sampled: Hard\n",
            "Tournament: 2017-M-DC-2017-G2-AO-M-VIE-HKG-01, Surface sampled: Clay\n",
            "Tournament: 2017-M-DC-2017-G1-AO-M-TPE-CHN-01, Surface sampled: Clay\n"
          ]
        }
      ]
    },
    {
      "cell_type": "code",
      "metadata": {
        "colab": {
          "base_uri": "https://localhost:8080/"
        },
        "id": "4YJE6sB8MZn3",
        "outputId": "8c2d0308-b6c5-4f09-a419-4ce2009e4f20"
      },
      "source": [
        "df_matches[\"surface\"].isnull().any()"
      ],
      "execution_count": 15,
      "outputs": [
        {
          "output_type": "execute_result",
          "data": {
            "text/plain": [
              "False"
            ]
          },
          "metadata": {},
          "execution_count": 15
        }
      ]
    },
    {
      "cell_type": "markdown",
      "metadata": {
        "id": "vUfPODBSiU6X"
      },
      "source": [
        "**Fixing winner_hand and loser_hand**\n",
        "\n",
        "We have to manage the missing values for \"winner_hand\" and \"loser_hand\", for doing that we need to understand if the preferred hand is missing only in some records or it never appear for a certain player. Moreover, we have to verify is the missing hand for the winners is still null when those players appear inside the \"loser_name\" attribute (and viceversa)."
      ]
    },
    {
      "cell_type": "markdown",
      "metadata": {
        "id": "kUWBNSPn_lAw"
      },
      "source": [
        "For what concerns the preferred hand by both winners and losers, its possible values are \"L\", \"R\" or \"U\". Many records have null values and so it could mean that we can assume that those values can be replace with \"U\"."
      ]
    },
    {
      "cell_type": "code",
      "metadata": {
        "id": "bC49yTxMAu3P"
      },
      "source": [
        "df_matches['winner_hand'].fillna('U', inplace=True)\n",
        "df_matches['loser_hand'].fillna('U', inplace=True)"
      ],
      "execution_count": 17,
      "outputs": []
    },
    {
      "cell_type": "markdown",
      "metadata": {
        "id": "55nQB-gLSSuB"
      },
      "source": [
        "Let's see if there are players with preferred hand \"U\" but, actually, their hand is already defined \"L\" or \"R\" inside one of the record of the dataset, we can modify all the matches they belong to."
      ]
    },
    {
      "cell_type": "code",
      "metadata": {
        "id": "WJCB9oMeiCbT"
      },
      "source": [
        "def fill_attribute_with_actual_values(attribute: str):\n",
        "  winner_attribute = \"winner_\" + attribute\n",
        "  loser_attribute = \"loser_\" + attribute\n",
        "\n",
        "  # player that have won or lost at least one match with unknown attribute\n",
        "  winner_unk_attribute = df_matches[df_matches[winner_attribute] == 'U']['winner_name'].unique()\n",
        "  loser_unk_attribute = df_matches[df_matches[loser_attribute] == 'U']['loser_name'].unique()\n",
        "  players_unk_attribute = set(np.concatenate((winner_unk_attribute, loser_unk_attribute)))\n",
        "  print(\"Players with unknown {0}: {1}\\n\".format(attribute, len(players_unk_attribute)))\n",
        "\n",
        "  # all the winners that appear in the players_unk_attribute set\n",
        "  w = df_matches[df_matches['winner_name'].isin(players_unk_attribute)][['winner_name', winner_attribute]]\n",
        "  w = w[w[winner_attribute] != 'U'].drop_duplicates()\n",
        "\n",
        "  # all the winners that appear in the players_unk_attribute set\n",
        "  l = df_matches[df_matches['loser_name'].isin(players_unk_attribute)][['loser_name', loser_attribute]]\n",
        "  l = l[l['loser_hand'] != 'U'].drop_duplicates()\n",
        "\n",
        "  l.rename(columns={'loser_name': 'player', loser_attribute: attribute}, inplace=True)\n",
        "  w.rename(columns={'winner_name': 'player', winner_attribute: attribute}, inplace=True)\n",
        "\n",
        "  # concatenate the winners and losers\n",
        "  winner_loser_attribute = pd.concat([l, w]).drop_duplicates()\n",
        "  print(\"Players that belong to records in which they have no {0} defined:\\n{1}\\n\".format(attribute, winner_loser_attribute))\n",
        "\n",
        "  for _, x in winner_loser_attribute.iterrows():\n",
        "    attribute_actual_value = x[attribute]\n",
        "    df_matches.loc[df_matches['winner_name'] == x['player'], winner_attribute] = attribute_actual_value\n",
        "    df_matches.loc[df_matches['loser_name'] == x['player'], loser_attribute] = attribute_actual_value"
      ],
      "execution_count": 18,
      "outputs": []
    },
    {
      "cell_type": "code",
      "metadata": {
        "colab": {
          "base_uri": "https://localhost:8080/"
        },
        "id": "qixM65vTi8NW",
        "outputId": "1e766282-419a-45ef-cac1-6aaed0692439"
      },
      "source": [
        "fill_attribute_with_actual_values(\"hand\")"
      ],
      "execution_count": 19,
      "outputs": [
        {
          "output_type": "stream",
          "name": "stdout",
          "text": [
            "Players with unknown hand: 6307\n",
            "\n",
            "Players that belong to records in which they have no hand defined:\n",
            "                      player hand\n",
            "468       Ekaterina Makarova    L\n",
            "1809            Qinwen Zheng    R\n",
            "54654   Hei Ching Claudia Ng    R\n",
            "64643               Eva Shaw    R\n",
            "99997           Amina Anshba    L\n",
            "100012       Weronika Baszak    R\n",
            "139277    Anastasia Kulikova    L\n",
            "164256         Vanessa Ersoz    R\n",
            "\n"
          ]
        }
      ]
    },
    {
      "cell_type": "markdown",
      "metadata": {
        "id": "MNBox41Ur1U5"
      },
      "source": [
        "Now we can sample a preferred hand for each player with that unknown value."
      ]
    },
    {
      "cell_type": "code",
      "metadata": {
        "colab": {
          "base_uri": "https://localhost:8080/"
        },
        "id": "uF2IvMMJmo4h",
        "outputId": "2dd5c2eb-b6e2-48e3-932a-3bca46d927ad"
      },
      "source": [
        "w_hand = df_matches[[\"winner_name\", \"winner_hand\"]].rename(columns={\"winner_name\": \"name\", \"winner_hand\": \"hand\"})\n",
        "l_hand = df_matches[[\"loser_name\", \"loser_hand\"]].rename(columns={\"loser_name\": \"name\", \"loser_hand\": \"hand\"})\n",
        "players_hand = w_hand.append(l_hand).drop_duplicates()\n",
        "hand_distribution = players_hand[players_hand[\"hand\"]!=\"U\"][\"hand\"].value_counts(normalize=True)\n",
        "print(\"Distribution of each preferred hand:\\n{0}\\n\".format(hand_distribution))\n",
        "print(\"Distribution of each preferred hand cumulative:\\n{0}\\n\".format(hand_distribution.cumsum()))"
      ],
      "execution_count": 46,
      "outputs": [
        {
          "output_type": "stream",
          "name": "stdout",
          "text": [
            "Distribution of each preferred hand:\n",
            "R    0.893824\n",
            "L    0.106176\n",
            "Name: hand, dtype: float64\n",
            "\n",
            "Distribution of each preferred hand cumulative:\n",
            "R    0.893824\n",
            "L    1.000000\n",
            "Name: hand, dtype: float64\n",
            "\n"
          ]
        }
      ]
    },
    {
      "cell_type": "code",
      "metadata": {
        "id": "M1Jy94u4sHTu"
      },
      "source": [
        "players_unk_hand = players_hand[players_hand[\"hand\"]==\"U\"][\"name\"]\n",
        "\n",
        "\n",
        "for player in players_unk_hand:\n",
        "  sampled_hand = hand_distribution.sample(weights=hand_distribution, axis=0).index[0]\n",
        "  df_matches.loc[df_matches['winner_name'] == player, \"winner_hand\"] = sampled_hand\n",
        "  df_matches.loc[df_matches['loser_name'] == player, \"loser_hand\"] = sampled_hand"
      ],
      "execution_count": 58,
      "outputs": []
    },
    {
      "cell_type": "code",
      "metadata": {
        "colab": {
          "base_uri": "https://localhost:8080/"
        },
        "id": "_7w70PKtv0xK",
        "outputId": "af0cc8e7-f2fa-4fa2-cfb2-d9e8795af9d8"
      },
      "source": [
        "print(\"Winners with unknown hand: {0}\".format(len(df_matches[df_matches[\"winner_hand\"] == \"U\"])))\n",
        "print(\"Losers with unknown hand: {0}\".format(len(df_matches[df_matches[\"loser_hand\"] == \"U\"])))"
      ],
      "execution_count": 69,
      "outputs": [
        {
          "output_type": "stream",
          "name": "stdout",
          "text": [
            "Winners with unknown hand: 0\n",
            "Losers with unknown hand: 0\n"
          ]
        }
      ]
    },
    {
      "cell_type": "code",
      "metadata": {
        "colab": {
          "base_uri": "https://localhost:8080/"
        },
        "id": "zZMHJz5wddjX",
        "outputId": "efcb8140-2a93-4646-e51b-0c15d603dea9"
      },
      "source": [
        "print(df_matches[\"winner_hand\"].isnull().any())\n",
        "print(df_matches[\"loser_hand\"].isnull().any())"
      ],
      "execution_count": 59,
      "outputs": [
        {
          "output_type": "stream",
          "name": "stdout",
          "text": [
            "False\n",
            "False\n"
          ]
        }
      ]
    },
    {
      "cell_type": "markdown",
      "metadata": {
        "id": "6rFkXqxENyy1"
      },
      "source": [
        "**Fixing winner_ht and loser_ht**\n",
        "\n",
        "Le features winner_ht e loser_ht presentano anch'esse dei valori nulli."
      ]
    },
    {
      "cell_type": "code",
      "metadata": {
        "id": "UD95ZsOqZFrj"
      },
      "source": [
        "winner_nan_ht = df_matches[pd.isna(df_matches['winner_ht'])]['winner_name'].unique()\n",
        "w = df_matches[df_matches['winner_name'].isin(winner_nan_ht)][['winner_name', 'winner_ht']]\n",
        "w = w[w['winner_ht'].notnull()].drop_duplicates()\n",
        "\n",
        "l = df_matches[df_matches['loser_name'].isin(winner_nan_ht)][['loser_name', 'loser_ht']]\n",
        "l = l[l['loser_ht'].notnull()].drop_duplicates()\n",
        "\n",
        "l.rename(columns={'loser_name': 'player', 'loser_ht': 'ht'}, inplace=True)\n",
        "w.rename(columns={'winner_name': 'player', 'winner_ht': 'ht'}, inplace=True)\n",
        "\n",
        "tot = pd.concat([l, w]).drop_duplicates()\n",
        "\n",
        "for i, x in tot.iterrows():\n",
        "    ht = x['ht']\n",
        "    df_matches.loc[df_matches['winner_name'] == x['player'], 'winner_ht'] = ht"
      ],
      "execution_count": null,
      "outputs": []
    },
    {
      "cell_type": "code",
      "metadata": {
        "id": "C0YjSuiLbCNP"
      },
      "source": [
        "loser_nan_ht = df_matches[pd.isna(df_matches['loser_ht'])]['loser_name'].unique()\n",
        "l = df_matches[df_matches['loser_name'].isin(loser_nan_ht)][['loser_name', 'loser_ht']]\n",
        "l = l[l['loser_ht'].notnull()].drop_duplicates()\n",
        "\n",
        "w = df_matches[df_matches['winner_name'].isin(loser_nan_ht)][['winner_name', 'winner_ht']]\n",
        "w = w[w['winner_ht'].notnull()].drop_duplicates()\n",
        "\n",
        "l.rename(columns={'loser_name': 'player', 'loser_ht': 'ht'}, inplace=True)\n",
        "w.rename(columns={'winner_name': 'player', 'winner_ht': 'ht'}, inplace=True)\n",
        "\n",
        "tot = pd.concat([l, w]).drop_duplicates()\n",
        "\n",
        "for i, x in tot.iterrows():\n",
        "    ht = x['ht']\n",
        "    df_matches.loc[df_matches['loser_name'] == x['player'], 'loser_ht'] = ht\n"
      ],
      "execution_count": null,
      "outputs": []
    },
    {
      "cell_type": "code",
      "metadata": {
        "colab": {
          "base_uri": "https://localhost:8080/"
        },
        "id": "sd8tVGHUbMAh",
        "outputId": "2d565f35-e997-467f-946f-77ba678e0e1d"
      },
      "source": [
        "print(df_matches.info())"
      ],
      "execution_count": null,
      "outputs": [
        {
          "output_type": "stream",
          "name": "stdout",
          "text": [
            "<class 'pandas.core.frame.DataFrame'>\n",
            "Int64Index: 185764 entries, 0 to 186072\n",
            "Data columns (total 49 columns):\n",
            " #   Column              Non-Null Count   Dtype         \n",
            "---  ------              --------------   -----         \n",
            " 0   tourney_id          185764 non-null  object        \n",
            " 1   tourney_name        185764 non-null  object        \n",
            " 2   surface             185764 non-null  object        \n",
            " 3   draw_size           185764 non-null  Int64         \n",
            " 4   tourney_level       185764 non-null  object        \n",
            " 5   tourney_date        185764 non-null  datetime64[ns]\n",
            " 6   match_num           185764 non-null  Int64         \n",
            " 7   winner_id           185764 non-null  Int64         \n",
            " 8   winner_entry        25806 non-null   object        \n",
            " 9   winner_name         185764 non-null  object        \n",
            " 10  winner_hand         185764 non-null  object        \n",
            " 11  winner_ht           51402 non-null   Int64         \n",
            " 12  winner_ioc          185764 non-null  object        \n",
            " 13  winner_age          182936 non-null  float64       \n",
            " 14  loser_id            185764 non-null  Int64         \n",
            " 15  loser_entry         44080 non-null   object        \n",
            " 16  loser_name          185764 non-null  object        \n",
            " 17  loser_hand          185764 non-null  object        \n",
            " 18  loser_ht            39796 non-null   Int64         \n",
            " 19  loser_ioc           185764 non-null  object        \n",
            " 20  loser_age           179263 non-null  float64       \n",
            " 21  score               185595 non-null  object        \n",
            " 22  best_of             185764 non-null  Int64         \n",
            " 23  round               185764 non-null  object        \n",
            " 24  minutes             81334 non-null   Int64         \n",
            " 25  w_ace               81982 non-null   Int64         \n",
            " 26  w_df                81982 non-null   Int64         \n",
            " 27  w_svpt              81982 non-null   Int64         \n",
            " 28  w_1stIn             81982 non-null   Int64         \n",
            " 29  w_1stWon            81982 non-null   Int64         \n",
            " 30  w_2ndWon            81982 non-null   Int64         \n",
            " 31  w_SvGms             81986 non-null   Int64         \n",
            " 32  w_bpSaved           81982 non-null   Int64         \n",
            " 33  w_bpFaced           81982 non-null   Int64         \n",
            " 34  l_ace               81982 non-null   Int64         \n",
            " 35  l_df                81982 non-null   Int64         \n",
            " 36  l_svpt              81982 non-null   Int64         \n",
            " 37  l_1stIn             81982 non-null   Int64         \n",
            " 38  l_1stWon            81982 non-null   Int64         \n",
            " 39  l_2ndWon            81982 non-null   Int64         \n",
            " 40  l_SvGms             81986 non-null   Int64         \n",
            " 41  l_bpSaved           81982 non-null   Int64         \n",
            " 42  l_bpFaced           81982 non-null   Int64         \n",
            " 43  winner_rank         166392 non-null  Int64         \n",
            " 44  winner_rank_points  166376 non-null  Int64         \n",
            " 45  loser_rank          150532 non-null  Int64         \n",
            " 46  loser_rank_points   150516 non-null  Int64         \n",
            " 47  tourney_spectators  185764 non-null  Int64         \n",
            " 48  tourney_revenue     185764 non-null  float64       \n",
            "dtypes: Int64(31), datetime64[ns](1), float64(3), object(14)\n",
            "memory usage: 76.4+ MB\n",
            "None\n"
          ]
        }
      ]
    },
    {
      "cell_type": "markdown",
      "metadata": {
        "id": "mo2vpTixm3I_"
      },
      "source": [
        "###**Outlier Detection**"
      ]
    },
    {
      "cell_type": "markdown",
      "metadata": {
        "id": "kEccOdrupaTa"
      },
      "source": [
        "Calcolo il primo quartile, il terzo quartile delle features e gli interquartili"
      ]
    },
    {
      "cell_type": "code",
      "metadata": {
        "id": "n65fFNCSpLAT"
      },
      "source": [
        "Q1 = df_matches.quantile(0.25)\n",
        "Q3 = df_matches.quantile(0.75)\n",
        "IQR = Q3 - Q1\n",
        "print(IQR)"
      ],
      "execution_count": null,
      "outputs": []
    },
    {
      "cell_type": "markdown",
      "metadata": {
        "id": "5POmyJXOTMuG"
      },
      "source": [
        "Definisco i Lower Bound e gli Upper Bound per ogni features"
      ]
    },
    {
      "cell_type": "code",
      "metadata": {
        "id": "WQa6ChmfTBgE"
      },
      "source": [
        "L = Q1 - 1.5 * IQR\n",
        "U = Q3 + 1.5 * IQR"
      ],
      "execution_count": null,
      "outputs": []
    },
    {
      "cell_type": "markdown",
      "metadata": {
        "id": "753XOo8FqBbo"
      },
      "source": [
        "Attributo altezza del winner ('winner_ht')"
      ]
    },
    {
      "cell_type": "code",
      "metadata": {
        "id": "IEOPhEZxp01k"
      },
      "source": [
        "df_matches.boxplot(column=[\"winner_ht\", 'loser_ht']);"
      ],
      "execution_count": null,
      "outputs": []
    },
    {
      "cell_type": "markdown",
      "metadata": {
        "id": "GcV4g_9aqj_L"
      },
      "source": [
        "C'è qualche valore molto basso"
      ]
    },
    {
      "cell_type": "code",
      "metadata": {
        "id": "Ic8Xjh4Up9Is"
      },
      "source": [
        "df_matches[['winner_ht', 'loser_ht']].plot.hist(stacked=True, bins=100);"
      ],
      "execution_count": null,
      "outputs": []
    },
    {
      "cell_type": "markdown",
      "metadata": {
        "id": "PmNjrpnvrQhx"
      },
      "source": [
        "Cerco players troppo alti o troppo bassi"
      ]
    },
    {
      "cell_type": "code",
      "metadata": {
        "id": "MtzkVLthqWvq"
      },
      "source": [
        "df_matches[(df_matches['winner_ht'] < (Q1['winner_ht'] - 3 * IQR['winner_ht'])) |(df_matches['winner_ht'] > (Q3['winner_ht'] + 3 * IQR['winner_ht']))]['winner_ht']"
      ],
      "execution_count": null,
      "outputs": []
    },
    {
      "cell_type": "code",
      "metadata": {
        "id": "9G5OPArTrA87"
      },
      "source": [
        "df_matches[(df_matches['winner_ht'] < (Q1['winner_ht'] - 3 * IQR['winner_ht'])) |(df_matches['winner_ht'] > (Q3['winner_ht'] + 3 * IQR['winner_ht']))]['winner_name'].unique()"
      ],
      "execution_count": null,
      "outputs": []
    },
    {
      "cell_type": "markdown",
      "metadata": {
        "id": "P8XpsHibrZil"
      },
      "source": [
        "Sostituisco il valore troppo basso con il Lower Bound L\n",
        "\n",
        "---\n",
        "\n"
      ]
    },
    {
      "cell_type": "code",
      "metadata": {
        "id": "Cb8JZt-3qyVO"
      },
      "source": [
        "df_matches.loc[(df_matches['winner_ht'] < (Q1['winner_ht'] - 3 * IQR['winner_ht'])),'winner_ht'] = int(max(L['winner_ht'], L['loser_ht']))"
      ],
      "execution_count": null,
      "outputs": []
    },
    {
      "cell_type": "code",
      "metadata": {
        "id": "Auf9uCpq7So0"
      },
      "source": [
        "df_matches.loc[(df_matches['loser_ht'] < (Q1['loser_ht'] - 3 * IQR['loser_ht'])),'loser_ht'] = int(max(L['winner_ht'], L['loser_ht']))"
      ],
      "execution_count": null,
      "outputs": []
    },
    {
      "cell_type": "markdown",
      "metadata": {
        "id": "2705vzHSsaTF"
      },
      "source": [
        "Ci sono ancora giocatori molto alti (ma lo sono realmente)"
      ]
    },
    {
      "cell_type": "code",
      "metadata": {
        "id": "vtcIOXZasUFE"
      },
      "source": [
        "df_matches[(df_matches['winner_ht'] > (U['winner_ht'])]['winner_name'].unique()"
      ],
      "execution_count": null,
      "outputs": []
    },
    {
      "cell_type": "markdown",
      "metadata": {
        "id": "H7gXQup_tCY_"
      },
      "source": [
        "C'è ancora un player molto basso (la sua vera altezza è un'altra). Cosa fare?"
      ]
    },
    {
      "cell_type": "code",
      "metadata": {
        "id": "V_q4jBIus0oB"
      },
      "source": [
        "df_matches[(df_matches['winner_ht'] < (Q3['winner_ht'] - 3 * IQR['winner_ht']))]['winner_name'].unique()"
      ],
      "execution_count": null,
      "outputs": []
    },
    {
      "cell_type": "code",
      "metadata": {
        "id": "-rQyOj5ZtBEs"
      },
      "source": [
        "df_matches.loc[df_matches['winner_name'] == 'Ilija Vucic','winner_ht']"
      ],
      "execution_count": null,
      "outputs": []
    },
    {
      "cell_type": "code",
      "metadata": {
        "id": "t5ODYfIRHarn"
      },
      "source": [
        "df_matches.boxplot(column=[\"winner_age\", \"loser_age\"]);"
      ],
      "execution_count": null,
      "outputs": []
    },
    {
      "cell_type": "code",
      "metadata": {
        "id": "W44eQdy5zjJk"
      },
      "source": [
        "df_matches[(df_matches['winner_age'] < (Q1['winner_age'] - 3 * IQR['winner_age'])) |(df_matches['winner_age'] > (Q3['winner_age'] + 3 * IQR['winner_age']))]['winner_age']"
      ],
      "execution_count": null,
      "outputs": []
    },
    {
      "cell_type": "markdown",
      "metadata": {
        "id": "79uqfHw_tdev"
      },
      "source": [
        "##Correlations"
      ]
    },
    {
      "cell_type": "code",
      "metadata": {
        "id": "4-pcQy37xZKW"
      },
      "source": [
        "categorical_features = ['tourney_id','tourney_name','surface','tourney_level', 'tourney_date','match_num', 'winner_id', 'winner_entry', 'winner_name', 'winner_hand', 'winner_ioc', 'loser_id', 'loser_entry', 'loser_name', 'loser_hand', 'loser_ioc', 'score', 'round']\n",
        "numerical_features = ['draw_size', 'winner_ht',\t'winner_age', 'loser_ht',\t'loser_age', 'best_of',\t'minutes', 'w_ace',\t'w_df',\t'w_svpt',\t'w_1stIn', 'w_1stWon', 'w_2ndWon', 'w_SvGms', 'w_bpSaved', 'w_bpFaced',\t'l_ace', 'l_df', 'l_svpt', 'l_1stIn',\t'l_1stWon',\t'l_2ndWon',\t'l_SvGms', 'l_bpSaved',\t'l_bpFaced', 'winner_rank',\t'winner_rank_points',\t'loser_rank',\t'loser_rank_points', 'tourney_spectators', 'tourney_revenue']"
      ],
      "execution_count": null,
      "outputs": []
    },
    {
      "cell_type": "code",
      "metadata": {
        "id": "CSsve1Meo9GV"
      },
      "source": [
        "df_matches_numerical=df_matches[numerical_features]"
      ],
      "execution_count": null,
      "outputs": []
    },
    {
      "cell_type": "code",
      "metadata": {
        "id": "1vPD_l3JECHZ"
      },
      "source": [
        "df_matches_numerical.corr()"
      ],
      "execution_count": null,
      "outputs": []
    },
    {
      "cell_type": "markdown",
      "metadata": {
        "id": "oP5QnHAI0wu_"
      },
      "source": [
        "Searching highly-corraleted features"
      ]
    },
    {
      "cell_type": "code",
      "metadata": {
        "id": "mOtTn7gUL4Rf"
      },
      "source": [
        "features = df_matches_numerical.columns\n",
        "correl_matrix = np.array(df_matches_numerical.corr())\n",
        "correl_attrib = []\n",
        "n_row, n_col = correl_matrix.shape[0], correl_matrix.shape[1]\n",
        "\n",
        "CORREL_THRESHOLD = 0.9\n",
        "\n",
        "for i in range(n_row):\n",
        "    for j in range(i + 1, n_col):\n",
        "        if correl_matrix[i, j] > CORREL_THRESHOLD or correl_matrix[i, j] < -CORREL_THRESHOLD:\n",
        "            correl_attrib.append((features[i], features[j]))\n",
        "\n",
        "correl_attrib"
      ],
      "execution_count": null,
      "outputs": []
    },
    {
      "cell_type": "markdown",
      "metadata": {
        "id": "DCSRNVTPyL99"
      },
      "source": [
        "**\"Categorical\" features**"
      ]
    },
    {
      "cell_type": "code",
      "metadata": {
        "id": "w1ECY8rTx9vH"
      },
      "source": [
        "df_matches_categorical = df_matches[categorical_features]"
      ],
      "execution_count": null,
      "outputs": []
    },
    {
      "cell_type": "code",
      "metadata": {
        "id": "hU5W4XZIyB4Z"
      },
      "source": [
        "df_matches_categorical.head()"
      ],
      "execution_count": null,
      "outputs": []
    },
    {
      "cell_type": "markdown",
      "metadata": {
        "id": "VNJBOy8yaaBJ"
      },
      "source": [
        "#**Questa parte è data preparation** Now let's create a new dataset for the players"
      ]
    },
    {
      "cell_type": "code",
      "metadata": {
        "id": "BZRjE9bdHGQb"
      },
      "source": [
        "players_w = df_matches[[\"winner_name\"]].rename(columns={\"winner_name\":\"Name\"})  # player names extracted from the winners\n",
        "players_l = df_matches[[\"loser_name\"]].rename(columns={\"loser_name\":\"Name\"})  # player names extracted from the losers\n",
        "\n",
        "# first we append the losers list to the winners one\n",
        "df_players = players_w.append(players_l)\n",
        "\n",
        "# the redundant records are dropped and a new dataframe is built from the list of players\n",
        "df_players = df_players.drop_duplicates()\n",
        "print(\"{0}\\n\".format(df_players.info()))\n",
        "print(df_players.isnull().any())"
      ],
      "execution_count": null,
      "outputs": []
    },
    {
      "cell_type": "markdown",
      "metadata": {
        "id": "ogdnqPTuc1tn"
      },
      "source": [
        "There's only one record with no value, let's drop it."
      ]
    },
    {
      "cell_type": "code",
      "metadata": {
        "id": "QAIcXsQtc9ML"
      },
      "source": [
        "df_players = df_players.dropna()\n",
        "df_players.isnull().any()"
      ],
      "execution_count": null,
      "outputs": []
    },
    {
      "cell_type": "markdown",
      "metadata": {
        "id": "bgy50XNjdPG9"
      },
      "source": [
        "The new dataframe has only one attribute, as the head() method shows."
      ]
    },
    {
      "cell_type": "code",
      "metadata": {
        "id": "KThHHeOLdVfk"
      },
      "source": [
        "df_players.head()"
      ],
      "execution_count": null,
      "outputs": []
    },
    {
      "cell_type": "markdown",
      "metadata": {
        "id": "B3B1tUkpdklQ"
      },
      "source": [
        "Now, we need to know if a player is male or female, that's when df_male and df_female come to help us."
      ]
    },
    {
      "cell_type": "code",
      "metadata": {
        "id": "wS5AeE5HEn10"
      },
      "source": [
        "def players_from_sex(df_players_sex, df_players_matches):\n",
        "  \"\"\"\n",
        "  Obtain the players of a specific sex given a dataset of that sex\n",
        "  :param df_players_sex: players dataframe (M or F) from where we obtain the sex\n",
        "  :param df_players_matches: players dataframe built from the matches\n",
        "  :return players: list of players (M or F)\n",
        "  :return index: players indexes (M or F)\n",
        "  \"\"\"\n",
        "  players_name = list(df_players_sex[\"name\"])\n",
        "  players_surname = list(df_players_sex[\"surname\"])\n",
        "    \n",
        "  #lista di players nome e cognome da df_players\n",
        "  players = list()\n",
        "  for n, s in zip(players_name, players_surname):\n",
        "    players.append(\"{0} {1}\".format(n, s))\n",
        "\n",
        "  players = df_players_matches[df_players_matches[\"Name\"].isin(players)]\n",
        "\n",
        "  players_indexes = players.index\n",
        "\n",
        "  return list(players[\"Name\"]), players_indexes"
      ],
      "execution_count": null,
      "outputs": []
    },
    {
      "cell_type": "code",
      "metadata": {
        "id": "IKH0F5e1FQDF"
      },
      "source": [
        "[players_m, i_male_found] = players_from_sex(df_male, df_players)\n",
        "[players_f, i_female_found] = players_from_sex(df_female, df_players)\n",
        "\n",
        "# players for which we have found the sex\n",
        "players_sex_found = players_m+players_f\n",
        "\n",
        "# players that belong to both datasets\n",
        "players_both_sex = list(set(players_m) & set(players_f))\n",
        "print(\"Players found in both datasets (male and female):\\n{0}\\n\".format(players_both_sex))\n",
        "\n",
        "# players with no sex\n",
        "players_sex_not_found = df_players[~df_players[\"Name\"].isin(players_sex_found)]\n",
        "\n",
        "# some stats about what we found\n",
        "print(\"Number of male players: {0}\".format(len(players_m)))\n",
        "print(\"Number of female players: {0}\".format(len(players_f)))\n",
        "print(\"Number of players: {0}\".format(len(df_players)))\n",
        "print(\"Number of players with no sex known: {0}\\n\".format(len(players_sex_not_found)))\n",
        "players_sex_not_found"
      ],
      "execution_count": null,
      "outputs": []
    },
    {
      "cell_type": "markdown",
      "metadata": {
        "id": "pjogrc12iDd-"
      },
      "source": [
        "All of the players with no known sex are in one of the datasets (male or female) but their name is written differently (e.g.: uppercase in matches but undercase in males), so we need to assign them a sex by looking at the tournaments they took part."
      ]
    },
    {
      "cell_type": "code",
      "metadata": {
        "id": "3oi7eFuiFXsx"
      },
      "source": [
        "# let's insert a new attribute (sex) and assign the right values\n",
        "df_players.loc[i_male_found, 'Sex'] = 'M'\n",
        "df_players.loc[i_female_found, 'Sex'] = 'F'\n",
        "df_players.info()"
      ],
      "execution_count": null,
      "outputs": []
    },
    {
      "cell_type": "markdown",
      "metadata": {
        "id": "9WZm2A-6kNKE"
      },
      "source": [
        "To obtain the sex of those players with no known sex we can take a look at the tournaments' levels they took part in, since there's only one type that is shared by both sexes."
      ]
    },
    {
      "cell_type": "code",
      "metadata": {
        "id": "HJgusOmyi_26"
      },
      "source": [
        "# tournament levels for each sex\n",
        "male_t = {'M', 'G', 'C', 'A', 'S', 'F'}\n",
        "female_t = {'P', 'PM', 'I', 'T1', '15', '25', '60', '100', '80', '10', '50', '75'}\n",
        "\n",
        "players_sex_not_found_i = players_sex_not_found.index\n",
        "for player, i in zip(players_sex_not_found[\"Name\"], players_sex_not_found_i):\n",
        "  player_matches_info = df_matches[df_matches['loser_name']==player]\n",
        "  player_t_levels = set(player_matches_info[\"tourney_level\"].dropna())\n",
        "  if len(player_t_levels.intersection(male_t)) > 0:\n",
        "    sex = \"M\"\n",
        "    players_m.insert(i, player)\n",
        "  else:\n",
        "    if len(player_t_levels.intersection(female_t)) > 0:\n",
        "      sex = \"F\"\n",
        "      players_f.insert(i, player)\n",
        "    else:\n",
        "      sex = \"Not known\"\n",
        "  \n",
        "  df_players.loc[i, \"Sex\"] = sex\n",
        "  print(\"{0} {1}\".format(player, sex))"
      ],
      "execution_count": null,
      "outputs": []
    },
    {
      "cell_type": "markdown",
      "metadata": {
        "id": "ux9G8kLHl2Zd"
      },
      "source": [
        "Now there are no more missing values for the sex attribute and each player is either M or F."
      ]
    },
    {
      "cell_type": "code",
      "metadata": {
        "id": "-H6sfY2vl7Ge"
      },
      "source": [
        "df_players.info()"
      ],
      "execution_count": null,
      "outputs": []
    },
    {
      "cell_type": "markdown",
      "metadata": {
        "id": "7baOmWcgma2r"
      },
      "source": [
        "We still need to work on those players who appear in both the male and female datasets."
      ]
    },
    {
      "cell_type": "code",
      "metadata": {
        "id": "PC72HVc5puMW"
      },
      "source": [
        "players_both_sex = df_players[df_players[\"Name\"].isin(players_both_sex)]\n",
        "players_both_sex_i = players_both_sex.index\n",
        "players_both_sex"
      ],
      "execution_count": null,
      "outputs": []
    },
    {
      "cell_type": "markdown",
      "metadata": {
        "id": "eq237BrFqeK6"
      },
      "source": [
        "**Non funziona**"
      ]
    },
    {
      "cell_type": "code",
      "metadata": {
        "id": "X2KonZG1m1wO"
      },
      "source": [
        "players_both_sex_i = players_both_sex.index\n",
        "for player, i in zip(players_both_sex[\"Name\"], players_both_sex_i):\n",
        "  player_matches_info = df_matches[df_matches['loser_name']==player]\n",
        "  player_t_levels = set(player_matches_info[\"tourney_level\"].dropna())\n",
        "  if len(player_t_levels.intersection(male_t)) > 0 & len(player_t_levels.intersection(female_t)) == 0:\n",
        "    sex = \"M\"\n",
        "    players_m.remove(player)\n",
        "  else:\n",
        "    if len(player_t_levels.intersection(female_t)) > 0 & len(player_t_levels.intersection(male_t)) == 0:\n",
        "      sex = \"F\"\n",
        "      players_f.remove(player)\n",
        "    else:\n",
        "      sex = \"Not known\"\n",
        "  \n",
        "  df_players.loc[i, \"Sex\"] = sex\n",
        "  print(\"{0} {1}\".format(player, sex))"
      ],
      "execution_count": null,
      "outputs": []
    },
    {
      "cell_type": "markdown",
      "metadata": {
        "id": "vuYFeeSjpTIN"
      },
      "source": [
        "Every player has just one sex after our work.\n",
        "\n"
      ]
    },
    {
      "cell_type": "code",
      "metadata": {
        "id": "sf0e0oq7oolq"
      },
      "source": [
        "print(len(players_f))\n",
        "print(len(players_m))\n",
        "print(len(df_players))"
      ],
      "execution_count": null,
      "outputs": []
    },
    {
      "cell_type": "markdown",
      "metadata": {
        "id": "QptPXm81YsDp"
      },
      "source": [
        "#**Cambiare tutto da qui in poi**"
      ]
    },
    {
      "cell_type": "markdown",
      "metadata": {
        "id": "zIxPK4bhS8WU"
      },
      "source": [
        "Let's take a look to the players dataframes by calling the head() method, which shows the first five lines of the dataframes."
      ]
    },
    {
      "cell_type": "code",
      "metadata": {
        "id": "XxfxJQpfW0Vq"
      },
      "source": [
        "df_male.head()"
      ],
      "execution_count": null,
      "outputs": []
    },
    {
      "cell_type": "code",
      "metadata": {
        "id": "jD7W8KJvXrnt"
      },
      "source": [
        "df_female.head()"
      ],
      "execution_count": null,
      "outputs": []
    },
    {
      "cell_type": "markdown",
      "metadata": {
        "id": "5iIwVrtjYgip"
      },
      "source": [
        "Let's now use the info() method to obtain information on the two player datasets."
      ]
    },
    {
      "cell_type": "code",
      "metadata": {
        "id": "msG57FzNXIL0"
      },
      "source": [
        "print(\"Male players dataframe info\")\n",
        "df_male.info()\n",
        "print(\"\\nFemale players dataframe info\")\n",
        "df_female.info()"
      ],
      "execution_count": null,
      "outputs": []
    },
    {
      "cell_type": "markdown",
      "metadata": {
        "id": "6yNWsMY0YxB-"
      },
      "source": [
        "As we can see from the previous infos, there are null values both in the male and female dataset."
      ]
    },
    {
      "cell_type": "code",
      "metadata": {
        "id": "ZYCUQlp5ZQ7-"
      },
      "source": [
        "print(\"Male players dataframe null values:\\n{0}\".format(df_male.isnull().any()))\n",
        "print(\"\\nFemale players dataframe null values:\\n{0}\".format(df_female.isnull().any()))"
      ],
      "execution_count": null,
      "outputs": []
    },
    {
      "cell_type": "markdown",
      "metadata": {
        "id": "TAPdLGDDaw-V"
      },
      "source": [
        "We need to drop such elements with null values."
      ]
    },
    {
      "cell_type": "code",
      "metadata": {
        "id": "FMhph-Ima0YC"
      },
      "source": [
        "df_male = df_male.dropna()\n",
        "df_female = df_female.dropna()\n",
        "print(\"Male players dataframe info:\")\n",
        "df_male.info()\n",
        "print(\"\\nFemale players dataframe info:\")\n",
        "df_female.info()"
      ],
      "execution_count": null,
      "outputs": []
    },
    {
      "cell_type": "markdown",
      "metadata": {
        "id": "K7PMDe7EcFlG"
      },
      "source": [
        "There could be duplicates in the same dataset, but we know that there's a possibility that two players could share the same name and surname, so we won't change anything."
      ]
    },
    {
      "cell_type": "markdown",
      "metadata": {
        "id": "M1TTywgJckQk"
      },
      "source": [
        "But, there are elements where the values are missing, or incomplete, but not null (look at df_female.head()), we need to remove such elements."
      ]
    },
    {
      "cell_type": "code",
      "metadata": {
        "id": "JgK_anRadhp-"
      },
      "source": [
        "elements_not_to_keep = [\"Unknown\", \"??\"]\n",
        "df_male = df_male[df_male[\"name\"].str.len()>1]\n",
        "df_male = df_male[df_male[\"surname\"].str.len()>1]\n",
        "df_male = df_male[~df_male[\"name\"].isin(elements_not_to_keep)]\n",
        "df_male = df_male[~df_male[\"surname\"].isin(elements_not_to_keep)]\n",
        "df_male.info()\n",
        "# df_male[df_male[\"name\"].isin([\"??\"])]\n",
        "# df_male.where(df_male.name.str.len()==1)\n",
        "# Ci sono altri elementi che non sono compatibili, andrebbero visti a mano"
      ],
      "execution_count": null,
      "outputs": []
    }
  ]
}