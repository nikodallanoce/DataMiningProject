{
  "nbformat": 4,
  "nbformat_minor": 0,
  "metadata": {
    "colab": {
      "name": "DM_14_data_preparation.ipynb",
      "provenance": [],
      "collapsed_sections": []
    },
    "kernelspec": {
      "name": "python3",
      "display_name": "Python 3"
    },
    "language_info": {
      "name": "python"
    }
  },
  "cells": [
    {
      "cell_type": "markdown",
      "metadata": {
        "id": "DgGIb0deFWrk"
      },
      "source": [
        "**Data Mining Project, midterm 2021/2022**\n",
        "\n",
        "\n"
      ]
    },
    {
      "cell_type": "markdown",
      "metadata": {
        "id": "wKXfDR2pLRQC"
      },
      "source": [
        "**Authors:** Niko Dalla Noce, Alessandro Ristori, Giuseppe Lombardi"
      ]
    },
    {
      "cell_type": "markdown",
      "metadata": {
        "id": "t56AnW_YPBXr"
      },
      "source": [
        "#**Task 1.2 Data Preparation**"
      ]
    },
    {
      "cell_type": "markdown",
      "metadata": {
        "id": "AxTW9nX8Mcso"
      },
      "source": [
        "##**Import the libraries and load the cleaned dataset**"
      ]
    },
    {
      "cell_type": "markdown",
      "metadata": {
        "id": "VKhuzJebPHa1"
      },
      "source": [
        "First we have to import the necessary libraries to work within our project."
      ]
    },
    {
      "cell_type": "code",
      "metadata": {
        "id": "ER0eMt_lNUe4"
      },
      "source": [
        "import numpy as np\n",
        "import pandas as pd\n",
        "import matplotlib as plt\n",
        "import scipy\n",
        "import seaborn as sn\n",
        "import re\n",
        "import datetime\n",
        "import math\n",
        "import plotly.graph_objs as plt_go\n",
        "import requests"
      ],
      "execution_count": 1,
      "outputs": []
    },
    {
      "cell_type": "markdown",
      "metadata": {
        "id": "VbY4qnwUPI21"
      },
      "source": [
        "We assume that the dataset is inside a zip file, so we need to extract it."
      ]
    },
    {
      "cell_type": "code",
      "metadata": {
        "id": "NrP5w5KmPM19"
      },
      "source": [
        "import zipfile\n",
        "with zipfile.ZipFile(\"preparation_data.zip\", 'r') as zip_ref:\n",
        "     zip_ref.extractall()"
      ],
      "execution_count": 2,
      "outputs": []
    },
    {
      "cell_type": "markdown",
      "metadata": {
        "id": "EQIIuHz3PNok"
      },
      "source": [
        "**Load the players datasets and the cleaned matches dataset**"
      ]
    },
    {
      "cell_type": "code",
      "metadata": {
        "id": "hJ9hrQ0XMiiR",
        "colab": {
          "base_uri": "https://localhost:8080/",
          "height": 622
        },
        "outputId": "8982f91a-c366-4489-bafc-5573268d13f5"
      },
      "source": [
        "df_male = pd.read_csv(\"male_players.csv\", sep=\",\")  # dataframe of male players\n",
        "df_female = pd.read_csv(\"female_players.csv\", sep=\",\")  # dataframe of female players\n",
        "df_matches = pd.read_parquet(\"cleaned_tennis_matches.gzip\")  # cleaned dataframe of matches\n",
        "df_matches"
      ],
      "execution_count": 3,
      "outputs": [
        {
          "output_type": "execute_result",
          "data": {
            "text/html": [
              "<div>\n",
              "<style scoped>\n",
              "    .dataframe tbody tr th:only-of-type {\n",
              "        vertical-align: middle;\n",
              "    }\n",
              "\n",
              "    .dataframe tbody tr th {\n",
              "        vertical-align: top;\n",
              "    }\n",
              "\n",
              "    .dataframe thead th {\n",
              "        text-align: right;\n",
              "    }\n",
              "</style>\n",
              "<table border=\"1\" class=\"dataframe\">\n",
              "  <thead>\n",
              "    <tr style=\"text-align: right;\">\n",
              "      <th></th>\n",
              "      <th>tourney_id</th>\n",
              "      <th>surface</th>\n",
              "      <th>tourney_date</th>\n",
              "      <th>winner_id</th>\n",
              "      <th>winner_name</th>\n",
              "      <th>winner_hand</th>\n",
              "      <th>winner_ht</th>\n",
              "      <th>winner_ioc</th>\n",
              "      <th>winner_age</th>\n",
              "      <th>loser_id</th>\n",
              "      <th>loser_name</th>\n",
              "      <th>loser_hand</th>\n",
              "      <th>loser_ht</th>\n",
              "      <th>loser_ioc</th>\n",
              "      <th>loser_age</th>\n",
              "      <th>score</th>\n",
              "      <th>best_of</th>\n",
              "      <th>round</th>\n",
              "      <th>w_ace</th>\n",
              "      <th>w_df</th>\n",
              "      <th>w_svpt</th>\n",
              "      <th>w_1stIn</th>\n",
              "      <th>w_1stWon</th>\n",
              "      <th>w_2ndWon</th>\n",
              "      <th>w_SvGms</th>\n",
              "      <th>w_bpSaved</th>\n",
              "      <th>w_bpFaced</th>\n",
              "      <th>l_ace</th>\n",
              "      <th>l_df</th>\n",
              "      <th>l_svpt</th>\n",
              "      <th>l_1stIn</th>\n",
              "      <th>l_1stWon</th>\n",
              "      <th>l_2ndWon</th>\n",
              "      <th>l_SvGms</th>\n",
              "      <th>l_bpSaved</th>\n",
              "      <th>l_bpFaced</th>\n",
              "      <th>winner_rank</th>\n",
              "      <th>winner_rank_points</th>\n",
              "      <th>loser_rank</th>\n",
              "      <th>loser_rank_points</th>\n",
              "    </tr>\n",
              "  </thead>\n",
              "  <tbody>\n",
              "    <tr>\n",
              "      <th>0</th>\n",
              "      <td>2019-M020</td>\n",
              "      <td>Hard</td>\n",
              "      <td>2018-12-31</td>\n",
              "      <td>105453</td>\n",
              "      <td>Kei Nishikori</td>\n",
              "      <td>R</td>\n",
              "      <td>178</td>\n",
              "      <td>JPN</td>\n",
              "      <td>29.004791</td>\n",
              "      <td>106421</td>\n",
              "      <td>Daniil Medvedev</td>\n",
              "      <td>R</td>\n",
              "      <td>198</td>\n",
              "      <td>RUS</td>\n",
              "      <td>22.885695</td>\n",
              "      <td>6-4 3-6 6-2</td>\n",
              "      <td>3</td>\n",
              "      <td>F</td>\n",
              "      <td>3</td>\n",
              "      <td>3</td>\n",
              "      <td>77</td>\n",
              "      <td>44</td>\n",
              "      <td>31</td>\n",
              "      <td>17</td>\n",
              "      <td>13</td>\n",
              "      <td>3</td>\n",
              "      <td>6</td>\n",
              "      <td>8</td>\n",
              "      <td>6</td>\n",
              "      <td>100</td>\n",
              "      <td>54</td>\n",
              "      <td>34</td>\n",
              "      <td>20</td>\n",
              "      <td>14</td>\n",
              "      <td>10</td>\n",
              "      <td>15</td>\n",
              "      <td>9</td>\n",
              "      <td>3590</td>\n",
              "      <td>16</td>\n",
              "      <td>1977</td>\n",
              "    </tr>\n",
              "    <tr>\n",
              "      <th>1</th>\n",
              "      <td>2019-M020</td>\n",
              "      <td>Hard</td>\n",
              "      <td>2018-12-31</td>\n",
              "      <td>106421</td>\n",
              "      <td>Daniil Medvedev</td>\n",
              "      <td>R</td>\n",
              "      <td>198</td>\n",
              "      <td>RUS</td>\n",
              "      <td>22.885695</td>\n",
              "      <td>104542</td>\n",
              "      <td>Jo-Wilfried Tsonga</td>\n",
              "      <td>R</td>\n",
              "      <td>188</td>\n",
              "      <td>FRA</td>\n",
              "      <td>33.705681</td>\n",
              "      <td>7-6(6) 6-2</td>\n",
              "      <td>3</td>\n",
              "      <td>SF</td>\n",
              "      <td>10</td>\n",
              "      <td>1</td>\n",
              "      <td>52</td>\n",
              "      <td>33</td>\n",
              "      <td>28</td>\n",
              "      <td>14</td>\n",
              "      <td>10</td>\n",
              "      <td>0</td>\n",
              "      <td>1</td>\n",
              "      <td>17</td>\n",
              "      <td>2</td>\n",
              "      <td>77</td>\n",
              "      <td>52</td>\n",
              "      <td>36</td>\n",
              "      <td>7</td>\n",
              "      <td>10</td>\n",
              "      <td>10</td>\n",
              "      <td>13</td>\n",
              "      <td>16</td>\n",
              "      <td>1977</td>\n",
              "      <td>239</td>\n",
              "      <td>200</td>\n",
              "    </tr>\n",
              "    <tr>\n",
              "      <th>2</th>\n",
              "      <td>2019-M020</td>\n",
              "      <td>Hard</td>\n",
              "      <td>2018-12-31</td>\n",
              "      <td>105453</td>\n",
              "      <td>Kei Nishikori</td>\n",
              "      <td>R</td>\n",
              "      <td>178</td>\n",
              "      <td>JPN</td>\n",
              "      <td>29.004791</td>\n",
              "      <td>104871</td>\n",
              "      <td>Jeremy Chardy</td>\n",
              "      <td>R</td>\n",
              "      <td>188</td>\n",
              "      <td>FRA</td>\n",
              "      <td>31.882272</td>\n",
              "      <td>6-2 6-2</td>\n",
              "      <td>3</td>\n",
              "      <td>SF</td>\n",
              "      <td>2</td>\n",
              "      <td>2</td>\n",
              "      <td>47</td>\n",
              "      <td>33</td>\n",
              "      <td>26</td>\n",
              "      <td>9</td>\n",
              "      <td>8</td>\n",
              "      <td>2</td>\n",
              "      <td>2</td>\n",
              "      <td>10</td>\n",
              "      <td>3</td>\n",
              "      <td>46</td>\n",
              "      <td>27</td>\n",
              "      <td>15</td>\n",
              "      <td>6</td>\n",
              "      <td>8</td>\n",
              "      <td>1</td>\n",
              "      <td>5</td>\n",
              "      <td>9</td>\n",
              "      <td>3590</td>\n",
              "      <td>40</td>\n",
              "      <td>1050</td>\n",
              "    </tr>\n",
              "    <tr>\n",
              "      <th>3</th>\n",
              "      <td>2019-M020</td>\n",
              "      <td>Hard</td>\n",
              "      <td>2018-12-31</td>\n",
              "      <td>104542</td>\n",
              "      <td>Jo-Wilfried Tsonga</td>\n",
              "      <td>R</td>\n",
              "      <td>188</td>\n",
              "      <td>FRA</td>\n",
              "      <td>33.705681</td>\n",
              "      <td>200282</td>\n",
              "      <td>Alex De Minaur</td>\n",
              "      <td>R</td>\n",
              "      <td>183</td>\n",
              "      <td>AUS</td>\n",
              "      <td>19.868583</td>\n",
              "      <td>6-4 7-6(2)</td>\n",
              "      <td>3</td>\n",
              "      <td>QF</td>\n",
              "      <td>12</td>\n",
              "      <td>2</td>\n",
              "      <td>68</td>\n",
              "      <td>43</td>\n",
              "      <td>34</td>\n",
              "      <td>15</td>\n",
              "      <td>11</td>\n",
              "      <td>4</td>\n",
              "      <td>5</td>\n",
              "      <td>1</td>\n",
              "      <td>2</td>\n",
              "      <td>81</td>\n",
              "      <td>60</td>\n",
              "      <td>38</td>\n",
              "      <td>9</td>\n",
              "      <td>11</td>\n",
              "      <td>4</td>\n",
              "      <td>6</td>\n",
              "      <td>239</td>\n",
              "      <td>200</td>\n",
              "      <td>31</td>\n",
              "      <td>1298</td>\n",
              "    </tr>\n",
              "    <tr>\n",
              "      <th>4</th>\n",
              "      <td>2019-M020</td>\n",
              "      <td>Hard</td>\n",
              "      <td>2018-12-31</td>\n",
              "      <td>106421</td>\n",
              "      <td>Daniil Medvedev</td>\n",
              "      <td>R</td>\n",
              "      <td>198</td>\n",
              "      <td>RUS</td>\n",
              "      <td>22.885695</td>\n",
              "      <td>105683</td>\n",
              "      <td>Milos Raonic</td>\n",
              "      <td>R</td>\n",
              "      <td>196</td>\n",
              "      <td>CAN</td>\n",
              "      <td>28.010951</td>\n",
              "      <td>6-7(2) 6-3 6-4</td>\n",
              "      <td>3</td>\n",
              "      <td>QF</td>\n",
              "      <td>12</td>\n",
              "      <td>3</td>\n",
              "      <td>105</td>\n",
              "      <td>68</td>\n",
              "      <td>48</td>\n",
              "      <td>25</td>\n",
              "      <td>16</td>\n",
              "      <td>8</td>\n",
              "      <td>8</td>\n",
              "      <td>29</td>\n",
              "      <td>5</td>\n",
              "      <td>94</td>\n",
              "      <td>56</td>\n",
              "      <td>46</td>\n",
              "      <td>19</td>\n",
              "      <td>15</td>\n",
              "      <td>2</td>\n",
              "      <td>4</td>\n",
              "      <td>16</td>\n",
              "      <td>1977</td>\n",
              "      <td>18</td>\n",
              "      <td>1855</td>\n",
              "    </tr>\n",
              "    <tr>\n",
              "      <th>...</th>\n",
              "      <td>...</td>\n",
              "      <td>...</td>\n",
              "      <td>...</td>\n",
              "      <td>...</td>\n",
              "      <td>...</td>\n",
              "      <td>...</td>\n",
              "      <td>...</td>\n",
              "      <td>...</td>\n",
              "      <td>...</td>\n",
              "      <td>...</td>\n",
              "      <td>...</td>\n",
              "      <td>...</td>\n",
              "      <td>...</td>\n",
              "      <td>...</td>\n",
              "      <td>...</td>\n",
              "      <td>...</td>\n",
              "      <td>...</td>\n",
              "      <td>...</td>\n",
              "      <td>...</td>\n",
              "      <td>...</td>\n",
              "      <td>...</td>\n",
              "      <td>...</td>\n",
              "      <td>...</td>\n",
              "      <td>...</td>\n",
              "      <td>...</td>\n",
              "      <td>...</td>\n",
              "      <td>...</td>\n",
              "      <td>...</td>\n",
              "      <td>...</td>\n",
              "      <td>...</td>\n",
              "      <td>...</td>\n",
              "      <td>...</td>\n",
              "      <td>...</td>\n",
              "      <td>...</td>\n",
              "      <td>...</td>\n",
              "      <td>...</td>\n",
              "      <td>...</td>\n",
              "      <td>...</td>\n",
              "      <td>...</td>\n",
              "      <td>...</td>\n",
              "    </tr>\n",
              "    <tr>\n",
              "      <th>177499</th>\n",
              "      <td>2020-2023</td>\n",
              "      <td>Clay</td>\n",
              "      <td>2020-08-31</td>\n",
              "      <td>215337</td>\n",
              "      <td>Olga Danilovic</td>\n",
              "      <td>L</td>\n",
              "      <td>&lt;NA&gt;</td>\n",
              "      <td>SRB</td>\n",
              "      <td>19.603012</td>\n",
              "      <td>204420</td>\n",
              "      <td>Marcela Zacarias</td>\n",
              "      <td>R</td>\n",
              "      <td>&lt;NA&gt;</td>\n",
              "      <td>MEX</td>\n",
              "      <td>26.433949</td>\n",
              "      <td>6-3 6-1</td>\n",
              "      <td>3</td>\n",
              "      <td>R128</td>\n",
              "      <td>1</td>\n",
              "      <td>2</td>\n",
              "      <td>45</td>\n",
              "      <td>20</td>\n",
              "      <td>15</td>\n",
              "      <td>14</td>\n",
              "      <td>8</td>\n",
              "      <td>3</td>\n",
              "      <td>5</td>\n",
              "      <td>0</td>\n",
              "      <td>0</td>\n",
              "      <td>64</td>\n",
              "      <td>51</td>\n",
              "      <td>20</td>\n",
              "      <td>7</td>\n",
              "      <td>8</td>\n",
              "      <td>3</td>\n",
              "      <td>9</td>\n",
              "      <td>174</td>\n",
              "      <td>363</td>\n",
              "      <td>259</td>\n",
              "      <td>225</td>\n",
              "    </tr>\n",
              "    <tr>\n",
              "      <th>177500</th>\n",
              "      <td>2020-2023</td>\n",
              "      <td>Clay</td>\n",
              "      <td>2020-08-31</td>\n",
              "      <td>202457</td>\n",
              "      <td>Bibiane Schoofs</td>\n",
              "      <td>R</td>\n",
              "      <td>170</td>\n",
              "      <td>NLD</td>\n",
              "      <td>32.301164</td>\n",
              "      <td>205918</td>\n",
              "      <td>Ulrikke Eikeri</td>\n",
              "      <td>U</td>\n",
              "      <td>&lt;NA&gt;</td>\n",
              "      <td>NOR</td>\n",
              "      <td>27.707050</td>\n",
              "      <td>5-7 6-0 6-4</td>\n",
              "      <td>3</td>\n",
              "      <td>R128</td>\n",
              "      <td>3</td>\n",
              "      <td>5</td>\n",
              "      <td>93</td>\n",
              "      <td>62</td>\n",
              "      <td>36</td>\n",
              "      <td>15</td>\n",
              "      <td>14</td>\n",
              "      <td>4</td>\n",
              "      <td>9</td>\n",
              "      <td>1</td>\n",
              "      <td>3</td>\n",
              "      <td>84</td>\n",
              "      <td>48</td>\n",
              "      <td>22</td>\n",
              "      <td>18</td>\n",
              "      <td>14</td>\n",
              "      <td>3</td>\n",
              "      <td>11</td>\n",
              "      <td>190</td>\n",
              "      <td>326</td>\n",
              "      <td>250</td>\n",
              "      <td>245</td>\n",
              "    </tr>\n",
              "    <tr>\n",
              "      <th>177501</th>\n",
              "      <td>2020-2023</td>\n",
              "      <td>Clay</td>\n",
              "      <td>2020-08-31</td>\n",
              "      <td>212044</td>\n",
              "      <td>Katharina Gerlach</td>\n",
              "      <td>R</td>\n",
              "      <td>&lt;NA&gt;</td>\n",
              "      <td>DEU</td>\n",
              "      <td>22.529774</td>\n",
              "      <td>202653</td>\n",
              "      <td>Denisa Allertova</td>\n",
              "      <td>R</td>\n",
              "      <td>&lt;NA&gt;</td>\n",
              "      <td>CZE</td>\n",
              "      <td>27.485284</td>\n",
              "      <td>6-2 6-1</td>\n",
              "      <td>3</td>\n",
              "      <td>R128</td>\n",
              "      <td>5</td>\n",
              "      <td>5</td>\n",
              "      <td>45</td>\n",
              "      <td>27</td>\n",
              "      <td>23</td>\n",
              "      <td>10</td>\n",
              "      <td>8</td>\n",
              "      <td>2</td>\n",
              "      <td>3</td>\n",
              "      <td>0</td>\n",
              "      <td>0</td>\n",
              "      <td>40</td>\n",
              "      <td>28</td>\n",
              "      <td>13</td>\n",
              "      <td>2</td>\n",
              "      <td>7</td>\n",
              "      <td>1</td>\n",
              "      <td>6</td>\n",
              "      <td>240</td>\n",
              "      <td>251</td>\n",
              "      <td>239</td>\n",
              "      <td>252</td>\n",
              "    </tr>\n",
              "    <tr>\n",
              "      <th>177502</th>\n",
              "      <td>2020-2023</td>\n",
              "      <td>Clay</td>\n",
              "      <td>2020-08-31</td>\n",
              "      <td>206037</td>\n",
              "      <td>Daniela Seguel</td>\n",
              "      <td>U</td>\n",
              "      <td>&lt;NA&gt;</td>\n",
              "      <td>CHL</td>\n",
              "      <td>27.791923</td>\n",
              "      <td>214684</td>\n",
              "      <td>Katherine Sebov</td>\n",
              "      <td>U</td>\n",
              "      <td>&lt;NA&gt;</td>\n",
              "      <td>CAN</td>\n",
              "      <td>21.653662</td>\n",
              "      <td>6-2 6-2</td>\n",
              "      <td>3</td>\n",
              "      <td>R128</td>\n",
              "      <td>0</td>\n",
              "      <td>0</td>\n",
              "      <td>54</td>\n",
              "      <td>38</td>\n",
              "      <td>23</td>\n",
              "      <td>8</td>\n",
              "      <td>8</td>\n",
              "      <td>3</td>\n",
              "      <td>5</td>\n",
              "      <td>0</td>\n",
              "      <td>4</td>\n",
              "      <td>59</td>\n",
              "      <td>46</td>\n",
              "      <td>18</td>\n",
              "      <td>5</td>\n",
              "      <td>8</td>\n",
              "      <td>4</td>\n",
              "      <td>10</td>\n",
              "      <td>224</td>\n",
              "      <td>269</td>\n",
              "      <td>257</td>\n",
              "      <td>233</td>\n",
              "    </tr>\n",
              "    <tr>\n",
              "      <th>177503</th>\n",
              "      <td>2020-2023</td>\n",
              "      <td>Clay</td>\n",
              "      <td>2020-08-31</td>\n",
              "      <td>220714</td>\n",
              "      <td>Elisabetta Cocciaretto</td>\n",
              "      <td>R</td>\n",
              "      <td>&lt;NA&gt;</td>\n",
              "      <td>ITA</td>\n",
              "      <td>19.597536</td>\n",
              "      <td>203435</td>\n",
              "      <td>Dalila Jakupovic</td>\n",
              "      <td>R</td>\n",
              "      <td>&lt;NA&gt;</td>\n",
              "      <td>SVN</td>\n",
              "      <td>29.440110</td>\n",
              "      <td>7-5 6-0</td>\n",
              "      <td>3</td>\n",
              "      <td>R128</td>\n",
              "      <td>0</td>\n",
              "      <td>2</td>\n",
              "      <td>49</td>\n",
              "      <td>35</td>\n",
              "      <td>24</td>\n",
              "      <td>8</td>\n",
              "      <td>9</td>\n",
              "      <td>0</td>\n",
              "      <td>2</td>\n",
              "      <td>0</td>\n",
              "      <td>2</td>\n",
              "      <td>67</td>\n",
              "      <td>37</td>\n",
              "      <td>12</td>\n",
              "      <td>16</td>\n",
              "      <td>9</td>\n",
              "      <td>7</td>\n",
              "      <td>13</td>\n",
              "      <td>144</td>\n",
              "      <td>444</td>\n",
              "      <td>233</td>\n",
              "      <td>258</td>\n",
              "    </tr>\n",
              "  </tbody>\n",
              "</table>\n",
              "<p>81982 rows × 40 columns</p>\n",
              "</div>"
            ],
            "text/plain": [
              "       tourney_id surface  ... loser_rank  loser_rank_points\n",
              "0       2019-M020    Hard  ...         16               1977\n",
              "1       2019-M020    Hard  ...        239                200\n",
              "2       2019-M020    Hard  ...         40               1050\n",
              "3       2019-M020    Hard  ...         31               1298\n",
              "4       2019-M020    Hard  ...         18               1855\n",
              "...           ...     ...  ...        ...                ...\n",
              "177499  2020-2023    Clay  ...        259                225\n",
              "177500  2020-2023    Clay  ...        250                245\n",
              "177501  2020-2023    Clay  ...        239                252\n",
              "177502  2020-2023    Clay  ...        257                233\n",
              "177503  2020-2023    Clay  ...        233                258\n",
              "\n",
              "[81982 rows x 40 columns]"
            ]
          },
          "metadata": {},
          "execution_count": 3
        }
      ]
    },
    {
      "cell_type": "code",
      "metadata": {
        "colab": {
          "base_uri": "https://localhost:8080/"
        },
        "id": "KCe5AwXT--u2",
        "outputId": "b7c77332-dccf-4462-8fbc-1a279cfbcd93"
      },
      "source": [
        "df_matches.info()"
      ],
      "execution_count": 4,
      "outputs": [
        {
          "output_type": "stream",
          "name": "stdout",
          "text": [
            "<class 'pandas.core.frame.DataFrame'>\n",
            "Int64Index: 81982 entries, 0 to 177503\n",
            "Data columns (total 40 columns):\n",
            " #   Column              Non-Null Count  Dtype         \n",
            "---  ------              --------------  -----         \n",
            " 0   tourney_id          81982 non-null  object        \n",
            " 1   surface             81982 non-null  object        \n",
            " 2   tourney_date        81982 non-null  datetime64[ns]\n",
            " 3   winner_id           81982 non-null  Int64         \n",
            " 4   winner_name         81982 non-null  object        \n",
            " 5   winner_hand         81982 non-null  object        \n",
            " 6   winner_ht           43894 non-null  Int64         \n",
            " 7   winner_ioc          81982 non-null  object        \n",
            " 8   winner_age          81968 non-null  float64       \n",
            " 9   loser_id            81982 non-null  Int64         \n",
            " 10  loser_name          81982 non-null  object        \n",
            " 11  loser_hand          81982 non-null  object        \n",
            " 12  loser_ht            35436 non-null  Int64         \n",
            " 13  loser_ioc           81982 non-null  object        \n",
            " 14  loser_age           81898 non-null  float64       \n",
            " 15  score               81982 non-null  object        \n",
            " 16  best_of             81982 non-null  Int64         \n",
            " 17  round               81982 non-null  object        \n",
            " 18  w_ace               81982 non-null  Int64         \n",
            " 19  w_df                81982 non-null  Int64         \n",
            " 20  w_svpt              81982 non-null  Int64         \n",
            " 21  w_1stIn             81982 non-null  Int64         \n",
            " 22  w_1stWon            81982 non-null  Int64         \n",
            " 23  w_2ndWon            81982 non-null  Int64         \n",
            " 24  w_SvGms             81982 non-null  Int64         \n",
            " 25  w_bpSaved           81982 non-null  Int64         \n",
            " 26  w_bpFaced           81982 non-null  Int64         \n",
            " 27  l_ace               81982 non-null  Int64         \n",
            " 28  l_df                81982 non-null  Int64         \n",
            " 29  l_svpt              81982 non-null  Int64         \n",
            " 30  l_1stIn             81982 non-null  Int64         \n",
            " 31  l_1stWon            81982 non-null  Int64         \n",
            " 32  l_2ndWon            81982 non-null  Int64         \n",
            " 33  l_SvGms             81982 non-null  Int64         \n",
            " 34  l_bpSaved           81982 non-null  Int64         \n",
            " 35  l_bpFaced           81982 non-null  Int64         \n",
            " 36  winner_rank         81982 non-null  Int64         \n",
            " 37  winner_rank_points  81982 non-null  Int64         \n",
            " 38  loser_rank          81982 non-null  Int64         \n",
            " 39  loser_rank_points   81982 non-null  Int64         \n",
            "dtypes: Int64(27), datetime64[ns](1), float64(2), object(10)\n",
            "memory usage: 27.8+ MB\n"
          ]
        }
      ]
    },
    {
      "cell_type": "markdown",
      "metadata": {
        "id": "dejKzRdN_EAJ"
      },
      "source": [
        "##**Build the player's profiles**\n",
        "\n",
        "Our task is to build a new dataset on which we will apply different clustering algorithms, for such purpose we need to extract and create indicators that could be useful for the next task, but for now let's work with the statistics coming from the data understanding task with some others that we thought could be useful."
      ]
    },
    {
      "cell_type": "markdown",
      "metadata": {
        "id": "geRtTBmlaXa0"
      },
      "source": [
        "###**Create the dataframe**"
      ]
    },
    {
      "cell_type": "markdown",
      "metadata": {
        "id": "8Fs1BvUT_xTb"
      },
      "source": [
        "The first feature we need for the players profiles is the name, this is straightforward as we only have to take such attribute from the matches dataset, we also need to create the players dataframe."
      ]
    },
    {
      "cell_type": "code",
      "metadata": {
        "colab": {
          "base_uri": "https://localhost:8080/"
        },
        "id": "ZqsBPYYc_yF1",
        "outputId": "1094f3b6-b27c-458e-f40d-8efa1be2ad25"
      },
      "source": [
        "regex = \"[ ',.]+\"\n",
        "df_matches['winner_name'] = df_matches['winner_name'].apply(lambda x: re.sub(regex, ' ', str(x).lower()))\n",
        "df_matches['loser_name'] = df_matches['loser_name'].apply(lambda x: re.sub(regex, ' ', str(x).lower()))\n",
        "\n",
        "players = df_matches['winner_name'].append(df_matches['loser_name']).drop_duplicates()\n",
        "players"
      ],
      "execution_count": 5,
      "outputs": [
        {
          "output_type": "execute_result",
          "data": {
            "text/plain": [
              "0              kei nishikori\n",
              "1            daniil medvedev\n",
              "3         jo-wilfried tsonga\n",
              "5              jeremy chardy\n",
              "8             alex de minaur\n",
              "                 ...        \n",
              "177178         ellie douglas\n",
              "177223      brittany collens\n",
              "177445      barbora palicova\n",
              "177446    kristyna lavickova\n",
              "177479       darja vidmanova\n",
              "Length: 4255, dtype: object"
            ]
          },
          "metadata": {},
          "execution_count": 5
        }
      ]
    },
    {
      "cell_type": "markdown",
      "metadata": {
        "id": "10qjG05Z_Iw6"
      },
      "source": [
        "###**Assign sex**\n",
        "\n",
        "To assign the sex to each player we need to look into the male and female dataset, the names could be written a little bit different from the matches dataset (and that means that a player may have no sex assigned), that's why we modified the name using regex."
      ]
    },
    {
      "cell_type": "code",
      "metadata": {
        "id": "wv8Du5re_TIY"
      },
      "source": [
        "def assign_sex(players, regex):\n",
        "    df_male.dropna(inplace=True)\n",
        "    df_male.drop_duplicates(inplace=True)\n",
        "    df_female.dropna(inplace=True)\n",
        "    df_female.drop_duplicates(inplace=True)\n",
        "    df_players_m = pd.DataFrame()\n",
        "    df_players_f = pd.DataFrame()\n",
        "\n",
        "    df_players_m['name'] = df_male['name'] + ' ' + df_male['surname']\n",
        "    df_players_m['sex'] = \"M\"\n",
        "    df_players_f['name'] = df_female['name'] + ' ' + df_female['surname']\n",
        "    df_players_f['sex'] = \"F\"\n",
        "\n",
        "    df_m_f = df_players_m.append(df_players_f)\n",
        "    df_m_f['name'] = df_m_f['name'].apply(lambda x: re.sub(regex, ' ', str(x).lower()))\n",
        "\n",
        "    players_no_sex = players[~players.isin(df_m_f['name'])]\n",
        "    df_m_f = df_m_f[df_m_f['name'].isin(players)]\n",
        "    return df_m_f, players_no_sex"
      ],
      "execution_count": 6,
      "outputs": []
    },
    {
      "cell_type": "code",
      "metadata": {
        "id": "i-k6v0c4Bpuk"
      },
      "source": [
        "df_players, df_players_no_sex = assign_sex(players, regex)"
      ],
      "execution_count": 7,
      "outputs": []
    },
    {
      "cell_type": "markdown",
      "metadata": {
        "id": "5hs09GL2GBhs"
      },
      "source": [
        "There are players with no sex found, many of them have their name written in a different way in the male or female datasets."
      ]
    },
    {
      "cell_type": "code",
      "metadata": {
        "colab": {
          "base_uri": "https://localhost:8080/"
        },
        "id": "BChyabi1F4R7",
        "outputId": "26d204f4-14ed-4914-f8ba-91dbd424ea29"
      },
      "source": [
        "print(\"Players with no sex found: {0}\\n{1}\".format(len(df_players_no_sex), df_players_no_sex))"
      ],
      "execution_count": 8,
      "outputs": [
        {
          "output_type": "stream",
          "name": "stdout",
          "text": [
            "Players with no sex found: 26\n",
            "3                   jo-wilfried tsonga\n",
            "59                      cristian garin\n",
            "105                      stan wawrinka\n",
            "168                      antoine hoang\n",
            "185                       taylor fritz\n",
            "221                  diego schwartzman\n",
            "306                     frances tiafoe\n",
            "563                     pedro martinez\n",
            "597                       lloyd harris\n",
            "892                      franko skugor\n",
            "1524                          j j wolf\n",
            "1843                daniel elahi galan\n",
            "4875                      joao menezes\n",
            "6777               juan pablo varillas\n",
            "7921                  khumoun sultanov\n",
            "7941                       holger rune\n",
            "11229                  jurabek karimov\n",
            "11334                  evgenii tiurnev\n",
            "33451            christopher o connell\n",
            "34781                        sam groth\n",
            "67053                  alexandar lazov\n",
            "69104                     david o hare\n",
            "69985                      kuan-yi lee\n",
            "73063                       ben patael\n",
            "101280    andres artunedo martinavarro\n",
            "31057                     alona fomina\n",
            "dtype: object\n"
          ]
        }
      ]
    },
    {
      "cell_type": "markdown",
      "metadata": {
        "id": "dtF8kezUGebW"
      },
      "source": [
        "Each one of them is male except Alona Fomina who is female, let's assign the correct sex to all of them."
      ]
    },
    {
      "cell_type": "code",
      "metadata": {
        "colab": {
          "base_uri": "https://localhost:8080/",
          "height": 0
        },
        "id": "APmWXTcDGpTx",
        "outputId": "d63a2b53-0c81-4a72-def8-857f7c3764c8"
      },
      "source": [
        "frame = {'name': df_players_no_sex, 'sex': 'M'}\n",
        "df_players_no_sex = pd.DataFrame(frame)\n",
        "df_players_no_sex.loc[df_players_no_sex['name'] == 'alona fomina', 'sex'] = 'F'\n",
        "df_players = df_players.append(df_players_no_sex, ignore_index=True)\n",
        "df_players"
      ],
      "execution_count": 9,
      "outputs": [
        {
          "output_type": "execute_result",
          "data": {
            "text/html": [
              "<div>\n",
              "<style scoped>\n",
              "    .dataframe tbody tr th:only-of-type {\n",
              "        vertical-align: middle;\n",
              "    }\n",
              "\n",
              "    .dataframe tbody tr th {\n",
              "        vertical-align: top;\n",
              "    }\n",
              "\n",
              "    .dataframe thead th {\n",
              "        text-align: right;\n",
              "    }\n",
              "</style>\n",
              "<table border=\"1\" class=\"dataframe\">\n",
              "  <thead>\n",
              "    <tr style=\"text-align: right;\">\n",
              "      <th></th>\n",
              "      <th>name</th>\n",
              "      <th>sex</th>\n",
              "    </tr>\n",
              "  </thead>\n",
              "  <tbody>\n",
              "    <tr>\n",
              "      <th>0</th>\n",
              "      <td>alexander zverev</td>\n",
              "      <td>M</td>\n",
              "    </tr>\n",
              "    <tr>\n",
              "      <th>1</th>\n",
              "      <td>jeff greenwald</td>\n",
              "      <td>M</td>\n",
              "    </tr>\n",
              "    <tr>\n",
              "      <th>2</th>\n",
              "      <td>agustin moreno</td>\n",
              "      <td>M</td>\n",
              "    </tr>\n",
              "    <tr>\n",
              "      <th>3</th>\n",
              "      <td>martin damm</td>\n",
              "      <td>M</td>\n",
              "    </tr>\n",
              "    <tr>\n",
              "      <th>4</th>\n",
              "      <td>wei yu su</td>\n",
              "      <td>M</td>\n",
              "    </tr>\n",
              "    <tr>\n",
              "      <th>...</th>\n",
              "      <td>...</td>\n",
              "      <td>...</td>\n",
              "    </tr>\n",
              "    <tr>\n",
              "      <th>4254</th>\n",
              "      <td>david o hare</td>\n",
              "      <td>M</td>\n",
              "    </tr>\n",
              "    <tr>\n",
              "      <th>4255</th>\n",
              "      <td>kuan-yi lee</td>\n",
              "      <td>M</td>\n",
              "    </tr>\n",
              "    <tr>\n",
              "      <th>4256</th>\n",
              "      <td>ben patael</td>\n",
              "      <td>M</td>\n",
              "    </tr>\n",
              "    <tr>\n",
              "      <th>4257</th>\n",
              "      <td>andres artunedo martinavarro</td>\n",
              "      <td>M</td>\n",
              "    </tr>\n",
              "    <tr>\n",
              "      <th>4258</th>\n",
              "      <td>alona fomina</td>\n",
              "      <td>F</td>\n",
              "    </tr>\n",
              "  </tbody>\n",
              "</table>\n",
              "<p>4259 rows × 2 columns</p>\n",
              "</div>"
            ],
            "text/plain": [
              "                              name sex\n",
              "0                 alexander zverev   M\n",
              "1                   jeff greenwald   M\n",
              "2                   agustin moreno   M\n",
              "3                      martin damm   M\n",
              "4                        wei yu su   M\n",
              "...                            ...  ..\n",
              "4254                  david o hare   M\n",
              "4255                   kuan-yi lee   M\n",
              "4256                    ben patael   M\n",
              "4257  andres artunedo martinavarro   M\n",
              "4258                  alona fomina   F\n",
              "\n",
              "[4259 rows x 2 columns]"
            ]
          },
          "metadata": {},
          "execution_count": 9
        }
      ]
    },
    {
      "cell_type": "markdown",
      "metadata": {
        "id": "ty0HBPH2HpZC"
      },
      "source": [
        "There may be players with two sexes assigned."
      ]
    },
    {
      "cell_type": "code",
      "metadata": {
        "colab": {
          "base_uri": "https://localhost:8080/"
        },
        "id": "BHRPgOBPH0Q5",
        "outputId": "40e95dfd-1ffc-4112-8cad-800d23aefa44"
      },
      "source": [
        "df_players[\"name\"].value_counts()\n",
        "num_sexes = df_players[\"name\"].value_counts().to_frame().rename(columns={\"name\": \"sex\"})\n",
        "print(num_sexes)\n",
        "players_with_two_sexes = list(num_sexes[num_sexes[\"sex\"] > 1].index)\n",
        "print(players_with_two_sexes)"
      ],
      "execution_count": 10,
      "outputs": [
        {
          "output_type": "stream",
          "name": "stdout",
          "text": [
            "                        sex\n",
            "iancu lustinian ghinda    2\n",
            "kuan yi lee               2\n",
            "austin smith              2\n",
            "yang liu                  2\n",
            "daniel nguyen             1\n",
            "...                     ...\n",
            "kevin griekspoor          1\n",
            "bradley mousley           1\n",
            "denys molchanov           1\n",
            "ondrej styler             1\n",
            "silvia soler espinosa     1\n",
            "\n",
            "[4255 rows x 1 columns]\n",
            "['iancu lustinian ghinda', 'kuan yi lee', 'austin smith', 'yang liu']\n"
          ]
        }
      ]
    },
    {
      "cell_type": "markdown",
      "metadata": {
        "id": "4XoVopkOLaZf"
      },
      "source": [
        "We found their real sex by looking online, so we can fix the issue."
      ]
    },
    {
      "cell_type": "code",
      "metadata": {
        "id": "LcPdbNlMLm1i"
      },
      "source": [
        "female_players = [\"yang liu\", \"kuan yi lee\"]\n",
        "male_players = [\"austin smith\", \"iancu lustinian ghinda\"]\n",
        "df_players.loc[df_players[\"name\"].isin(male_players), \"sex\"] = \"M\"\n",
        "df_players.loc[df_players[\"name\"].isin(female_players), \"sex\"] = \"F\"\n",
        "df_players.drop_duplicates(inplace=True)"
      ],
      "execution_count": 11,
      "outputs": []
    },
    {
      "cell_type": "code",
      "metadata": {
        "colab": {
          "base_uri": "https://localhost:8080/"
        },
        "id": "T4JQlTZiNRFG",
        "outputId": "0b5670f5-622d-4e03-c8a8-02a8fc5a6e8b"
      },
      "source": [
        "df_players[\"name\"].value_counts()"
      ],
      "execution_count": 12,
      "outputs": [
        {
          "output_type": "execute_result",
          "data": {
            "text/plain": [
              "james ward                  1\n",
              "lisa zaar                   1\n",
              "marta custic                1\n",
              "daniel nguyen               1\n",
              "alonso alejandro delgado    1\n",
              "                           ..\n",
              "kevin griekspoor            1\n",
              "bradley mousley             1\n",
              "denys molchanov             1\n",
              "ondrej styler               1\n",
              "silvia soler espinosa       1\n",
              "Name: name, Length: 4255, dtype: int64"
            ]
          },
          "metadata": {},
          "execution_count": 12
        }
      ]
    },
    {
      "cell_type": "code",
      "metadata": {
        "colab": {
          "base_uri": "https://localhost:8080/",
          "height": 0
        },
        "id": "bJkmP-Wnf4kS",
        "outputId": "c515ca18-eed3-40ca-9324-f5eda89661ef"
      },
      "source": [
        "sex_distribution = df_players[[\"name\", \"sex\"]][\"sex\"].value_counts()\n",
        "print(sex_distribution)\n",
        "sex_distribution.plot(kind=\"pie\");"
      ],
      "execution_count": 13,
      "outputs": [
        {
          "output_type": "stream",
          "name": "stdout",
          "text": [
            "M    3002\n",
            "F    1253\n",
            "Name: sex, dtype: int64\n"
          ]
        },
        {
          "output_type": "display_data",
          "data": {
            "image/png": "[encoded data removed]",
            "text/plain": [
              "<Figure size 432x288 with 1 Axes>"
            ]
          },
          "metadata": {}
        }
      ]
    },
    {
      "cell_type": "markdown",
      "metadata": {
        "id": "s6XiQZ_kOC60"
      },
      "source": [
        "###**Assign age**"
      ]
    },
    {
      "cell_type": "markdown",
      "metadata": {
        "id": "8FRnnLLDONHt"
      },
      "source": [
        "Dobbiamo ottenere l'età attuale."
      ]
    },
    {
      "cell_type": "code",
      "metadata": {
        "id": "kr1zFPtEOMgD"
      },
      "source": [
        "'''def fill_age_with_actual_values():\n",
        "    win_no_age = df_matches[pd.isna(df_matches['winner_age'])]['winner_name'].drop_duplicates()\n",
        "    win_with_age = df_matches[df_matches['winner_age'].notna()][\n",
        "        ['winner_name', 'winner_age', 'tourney_date']].drop_duplicates(subset='winner_name')\n",
        "    win_never_age = win_no_age[~win_no_age.isin(win_with_age['winner_name'])]\n",
        "    loser_with_age = df_matches[df_matches['loser_age'].notna()][['loser_name', 'loser_age', 'tourney_date']]\n",
        "    ris = loser_with_age[loser_with_age['loser_name'].isin(win_never_age)].drop_duplicates(subset='loser_name')\n",
        "    ris.rename(columns={'loser_name': 'winner_name', 'loser_age': 'winner_age'}, inplace=True)\n",
        "    win_with_age = win_with_age.append(ris)\n",
        "\n",
        "    loser_no_age = df_matches[pd.isna(df_matches['loser_age'])]['loser_name'].drop_duplicates()\n",
        "    loser_with_age = df_matches[df_matches['loser_age'].notna()][\n",
        "        ['loser_name', 'loser_age', 'tourney_date']].drop_duplicates(subset='loser_name')\n",
        "    loser_never_age = loser_no_age[~loser_no_age.isin(loser_with_age['loser_name'])]\n",
        "    winner_with_age = df_matches[df_matches['winner_age'].notna()][['winner_name', 'winner_age', 'tourney_date']]\n",
        "    ris = winner_with_age[winner_with_age['winner_name'].isin(loser_never_age)].drop_duplicates(subset='winner_name')\n",
        "    loser_with_age.rename(columns={'loser_name': 'winner_name', 'loser_age': 'winner_age'}, inplace=True)\n",
        "    loser_with_age = loser_with_age.append(ris)\n",
        "    ris = win_with_age.append(loser_with_age).drop_duplicates(subset='winner_name')\n",
        "    ris.rename(columns={'winner_name': 'name', 'winner_age': 'age'}, inplace=True)\n",
        "    return ris'''\n",
        "\n",
        "\n",
        "def __birth_date(age, a_date):\n",
        "    days = datetime.timedelta(math.ceil(age * 365) + int(age / 4))\n",
        "    return a_date - days\n",
        "\n",
        "\n",
        "def birth_date_calc(player_with_ages, new_ds):\n",
        "    new_ds.insert(len(new_ds.columns), 'birth_date', np.NaN)\n",
        "    for _, x in player_with_ages.iterrows():\n",
        "        b_d = __birth_date(x['age'], x['tourney_date'])\n",
        "        new_ds.loc[new_ds['name'] == x['name'], 'birth_date'] = b_d\n",
        "    new_ds['birth_date'] = pd.to_datetime(new_ds['birth_date'], errors='coerce').dt.date\n",
        "\n",
        "def retrieve_age_and_tourdate(df_matches):\n",
        "  win_with_age = df_matches[df_matches['winner_age'].notna()][\n",
        "        ['winner_name', 'winner_age', 'tourney_date']]\n",
        "\n",
        "  loser_with_age = df_matches[df_matches['loser_age'].notna()][\n",
        "      ['loser_name', 'loser_age', 'tourney_date']]\n",
        "  loser_with_age.rename(columns={'loser_name': 'winner_name', 'loser_age': 'winner_age'}, inplace=True)\n",
        "\n",
        "  ris = win_with_age.append(loser_with_age).drop_duplicates(subset='winner_name')\n",
        "  ris.rename(columns={'winner_name': 'name', 'winner_age': 'age'}, inplace=True)\n",
        "  return ris\n",
        "        "
      ],
      "execution_count": 14,
      "outputs": []
    },
    {
      "cell_type": "code",
      "metadata": {
        "colab": {
          "base_uri": "https://localhost:8080/"
        },
        "id": "w0dT9Ga3P3mf",
        "outputId": "0333a02e-bc42-45de-ac42-10b8f6b3e6ab"
      },
      "source": [
        "player_with_ages = retrieve_age_and_tourdate(df_matches)\n",
        "print(\"There are {0} players with no known age\".format(len(players)-len(player_with_ages)))\n",
        "birth_date_calc(player_with_ages, df_players)"
      ],
      "execution_count": 15,
      "outputs": [
        {
          "output_type": "stream",
          "name": "stdout",
          "text": [
            "There are 56 players with no known age\n"
          ]
        }
      ]
    },
    {
      "cell_type": "code",
      "metadata": {
        "colab": {
          "base_uri": "https://localhost:8080/",
          "height": 0
        },
        "id": "ZhDosH4zShlQ",
        "outputId": "029f7ea8-d16e-48f3-9c2d-6550e029fa68"
      },
      "source": [
        "df_players"
      ],
      "execution_count": 16,
      "outputs": [
        {
          "output_type": "execute_result",
          "data": {
            "text/html": [
              "<div>\n",
              "<style scoped>\n",
              "    .dataframe tbody tr th:only-of-type {\n",
              "        vertical-align: middle;\n",
              "    }\n",
              "\n",
              "    .dataframe tbody tr th {\n",
              "        vertical-align: top;\n",
              "    }\n",
              "\n",
              "    .dataframe thead th {\n",
              "        text-align: right;\n",
              "    }\n",
              "</style>\n",
              "<table border=\"1\" class=\"dataframe\">\n",
              "  <thead>\n",
              "    <tr style=\"text-align: right;\">\n",
              "      <th></th>\n",
              "      <th>name</th>\n",
              "      <th>sex</th>\n",
              "      <th>birth_date</th>\n",
              "    </tr>\n",
              "  </thead>\n",
              "  <tbody>\n",
              "    <tr>\n",
              "      <th>0</th>\n",
              "      <td>alexander zverev</td>\n",
              "      <td>M</td>\n",
              "      <td>1997-04-20</td>\n",
              "    </tr>\n",
              "    <tr>\n",
              "      <th>1</th>\n",
              "      <td>jeff greenwald</td>\n",
              "      <td>M</td>\n",
              "      <td>1966-11-10</td>\n",
              "    </tr>\n",
              "    <tr>\n",
              "      <th>2</th>\n",
              "      <td>agustin moreno</td>\n",
              "      <td>M</td>\n",
              "      <td>1967-03-31</td>\n",
              "    </tr>\n",
              "    <tr>\n",
              "      <th>3</th>\n",
              "      <td>martin damm</td>\n",
              "      <td>M</td>\n",
              "      <td>2003-09-30</td>\n",
              "    </tr>\n",
              "    <tr>\n",
              "      <th>4</th>\n",
              "      <td>wei yu su</td>\n",
              "      <td>M</td>\n",
              "      <td>1976-01-12</td>\n",
              "    </tr>\n",
              "    <tr>\n",
              "      <th>...</th>\n",
              "      <td>...</td>\n",
              "      <td>...</td>\n",
              "      <td>...</td>\n",
              "    </tr>\n",
              "    <tr>\n",
              "      <th>4254</th>\n",
              "      <td>david o hare</td>\n",
              "      <td>M</td>\n",
              "      <td>1990-06-01</td>\n",
              "    </tr>\n",
              "    <tr>\n",
              "      <th>4255</th>\n",
              "      <td>kuan-yi lee</td>\n",
              "      <td>M</td>\n",
              "      <td>1996-09-09</td>\n",
              "    </tr>\n",
              "    <tr>\n",
              "      <th>4256</th>\n",
              "      <td>ben patael</td>\n",
              "      <td>M</td>\n",
              "      <td>1997-06-09</td>\n",
              "    </tr>\n",
              "    <tr>\n",
              "      <th>4257</th>\n",
              "      <td>andres artunedo martinavarro</td>\n",
              "      <td>M</td>\n",
              "      <td>1993-09-14</td>\n",
              "    </tr>\n",
              "    <tr>\n",
              "      <th>4258</th>\n",
              "      <td>alona fomina</td>\n",
              "      <td>F</td>\n",
              "      <td>1989-07-05</td>\n",
              "    </tr>\n",
              "  </tbody>\n",
              "</table>\n",
              "<p>4255 rows × 3 columns</p>\n",
              "</div>"
            ],
            "text/plain": [
              "                              name sex  birth_date\n",
              "0                 alexander zverev   M  1997-04-20\n",
              "1                   jeff greenwald   M  1966-11-10\n",
              "2                   agustin moreno   M  1967-03-31\n",
              "3                      martin damm   M  2003-09-30\n",
              "4                        wei yu su   M  1976-01-12\n",
              "...                            ...  ..         ...\n",
              "4254                  david o hare   M  1990-06-01\n",
              "4255                   kuan-yi lee   M  1996-09-09\n",
              "4256                    ben patael   M  1997-06-09\n",
              "4257  andres artunedo martinavarro   M  1993-09-14\n",
              "4258                  alona fomina   F  1989-07-05\n",
              "\n",
              "[4255 rows x 3 columns]"
            ]
          },
          "metadata": {},
          "execution_count": 16
        }
      ]
    },
    {
      "cell_type": "code",
      "metadata": {
        "colab": {
          "base_uri": "https://localhost:8080/"
        },
        "id": "A09Y3mZRT2dL",
        "outputId": "4d1e7fd8-18ac-4757-be07-cd3befa6fa7a"
      },
      "source": [
        "df_players.info()"
      ],
      "execution_count": 17,
      "outputs": [
        {
          "output_type": "stream",
          "name": "stdout",
          "text": [
            "<class 'pandas.core.frame.DataFrame'>\n",
            "Int64Index: 4255 entries, 0 to 4258\n",
            "Data columns (total 3 columns):\n",
            " #   Column      Non-Null Count  Dtype \n",
            "---  ------      --------------  ----- \n",
            " 0   name        4255 non-null   object\n",
            " 1   sex         4255 non-null   object\n",
            " 2   birth_date  4199 non-null   object\n",
            "dtypes: object(3)\n",
            "memory usage: 133.0+ KB\n"
          ]
        }
      ]
    },
    {
      "cell_type": "markdown",
      "metadata": {
        "id": "7U3eBds-S8JA"
      },
      "source": [
        "###**Assign ioc**\n",
        "\n",
        "From the data understanding task we know that each player has only one ioc, so we only have to assign them the right one by looking at the match dataset."
      ]
    },
    {
      "cell_type": "code",
      "metadata": {
        "colab": {
          "base_uri": "https://localhost:8080/",
          "height": 0
        },
        "id": "_DytKXbFTHjF",
        "outputId": "6872f519-fcb1-476e-faa7-48a92619b93a"
      },
      "source": [
        "w_ioc = df_matches[[\"winner_name\", \"winner_ioc\"]].rename(columns={\"winner_name\": \"name\", \"winner_ioc\": \"ioc\"})\n",
        "l_ioc = df_matches[[\"loser_name\", \"loser_ioc\"]].rename(columns={\"loser_name\": \"name\", \"loser_ioc\": \"ioc\"})\n",
        "players_ioc = w_ioc.append(l_ioc).drop_duplicates()\n",
        "players_ioc"
      ],
      "execution_count": 18,
      "outputs": [
        {
          "output_type": "execute_result",
          "data": {
            "text/html": [
              "<div>\n",
              "<style scoped>\n",
              "    .dataframe tbody tr th:only-of-type {\n",
              "        vertical-align: middle;\n",
              "    }\n",
              "\n",
              "    .dataframe tbody tr th {\n",
              "        vertical-align: top;\n",
              "    }\n",
              "\n",
              "    .dataframe thead th {\n",
              "        text-align: right;\n",
              "    }\n",
              "</style>\n",
              "<table border=\"1\" class=\"dataframe\">\n",
              "  <thead>\n",
              "    <tr style=\"text-align: right;\">\n",
              "      <th></th>\n",
              "      <th>name</th>\n",
              "      <th>ioc</th>\n",
              "    </tr>\n",
              "  </thead>\n",
              "  <tbody>\n",
              "    <tr>\n",
              "      <th>0</th>\n",
              "      <td>kei nishikori</td>\n",
              "      <td>JPN</td>\n",
              "    </tr>\n",
              "    <tr>\n",
              "      <th>1</th>\n",
              "      <td>daniil medvedev</td>\n",
              "      <td>RUS</td>\n",
              "    </tr>\n",
              "    <tr>\n",
              "      <th>3</th>\n",
              "      <td>jo-wilfried tsonga</td>\n",
              "      <td>FRA</td>\n",
              "    </tr>\n",
              "    <tr>\n",
              "      <th>5</th>\n",
              "      <td>jeremy chardy</td>\n",
              "      <td>FRA</td>\n",
              "    </tr>\n",
              "    <tr>\n",
              "      <th>8</th>\n",
              "      <td>alex de minaur</td>\n",
              "      <td>AUS</td>\n",
              "    </tr>\n",
              "    <tr>\n",
              "      <th>...</th>\n",
              "      <td>...</td>\n",
              "      <td>...</td>\n",
              "    </tr>\n",
              "    <tr>\n",
              "      <th>177178</th>\n",
              "      <td>ellie douglas</td>\n",
              "      <td>USA</td>\n",
              "    </tr>\n",
              "    <tr>\n",
              "      <th>177223</th>\n",
              "      <td>brittany collens</td>\n",
              "      <td>USA</td>\n",
              "    </tr>\n",
              "    <tr>\n",
              "      <th>177445</th>\n",
              "      <td>barbora palicova</td>\n",
              "      <td>CZE</td>\n",
              "    </tr>\n",
              "    <tr>\n",
              "      <th>177446</th>\n",
              "      <td>kristyna lavickova</td>\n",
              "      <td>CZE</td>\n",
              "    </tr>\n",
              "    <tr>\n",
              "      <th>177479</th>\n",
              "      <td>darja vidmanova</td>\n",
              "      <td>CZE</td>\n",
              "    </tr>\n",
              "  </tbody>\n",
              "</table>\n",
              "<p>4255 rows × 2 columns</p>\n",
              "</div>"
            ],
            "text/plain": [
              "                      name  ioc\n",
              "0            kei nishikori  JPN\n",
              "1          daniil medvedev  RUS\n",
              "3       jo-wilfried tsonga  FRA\n",
              "5            jeremy chardy  FRA\n",
              "8           alex de minaur  AUS\n",
              "...                    ...  ...\n",
              "177178       ellie douglas  USA\n",
              "177223    brittany collens  USA\n",
              "177445    barbora palicova  CZE\n",
              "177446  kristyna lavickova  CZE\n",
              "177479     darja vidmanova  CZE\n",
              "\n",
              "[4255 rows x 2 columns]"
            ]
          },
          "metadata": {},
          "execution_count": 18
        }
      ]
    },
    {
      "cell_type": "code",
      "metadata": {
        "id": "gcIbNcZCTs6y"
      },
      "source": [
        "df_players.insert(len(df_players.columns), 'ioc', np.NaN)\n",
        "for _, player in players_ioc.iterrows():\n",
        "    df_players.loc[df_players[\"name\"] == player[\"name\"], \"ioc\"] = player[\"ioc\"]"
      ],
      "execution_count": 19,
      "outputs": []
    },
    {
      "cell_type": "markdown",
      "metadata": {
        "id": "R7myFC4nmp1p"
      },
      "source": [
        "Let's show how many player are in each country."
      ]
    },
    {
      "cell_type": "code",
      "metadata": {
        "colab": {
          "base_uri": "https://localhost:8080/"
        },
        "id": "YOzpj1VKVpsQ",
        "outputId": "d308b3e2-32c8-4b15-8184-5af9b0f38ae0"
      },
      "source": [
        "ioc_distribution = df_players[\"ioc\"].value_counts()\n",
        "ioc_distribution"
      ],
      "execution_count": 20,
      "outputs": [
        {
          "output_type": "execute_result",
          "data": {
            "text/plain": [
              "USA    425\n",
              "ITA    259\n",
              "FRA    239\n",
              "AUS    174\n",
              "DEU    168\n",
              "      ... \n",
              "WSM      1\n",
              "HTI      1\n",
              "GUD      1\n",
              "AND      1\n",
              "COD      1\n",
              "Name: ioc, Length: 123, dtype: int64"
            ]
          },
          "metadata": {},
          "execution_count": 20
        }
      ]
    },
    {
      "cell_type": "code",
      "metadata": {
        "colab": {
          "base_uri": "https://localhost:8080/",
          "height": 0
        },
        "id": "hNwzqM0RjEx8",
        "outputId": "f610ff87-c43a-41b2-a1f2-e59220a77017"
      },
      "source": [
        "fig = plt_go.Figure(\n",
        "    data=plt_go.Choropleth(\n",
        "        locations=ioc_distribution.index,\n",
        "        z=ioc_distribution, \n",
        "        colorbar_title='Player per ioc',))\n",
        "fig.update_layout(title_text='Number of players per country')\n",
        "\n",
        "fig.show()"
      ],
      "execution_count": 21,
      "outputs": [
        {
          "output_type": "display_data",
          "data": {
            "text/html": [
              "<html>\n",
              "<head><meta charset=\"utf-8\" /></head>\n",
              "<body>\n",
              "    <div>\n",
              "            <script src=\"https://cdnjs.cloudflare.com/ajax/libs/mathjax/2.7.5/MathJax.js?config=TeX-AMS-MML_SVG\"></script><script type=\"text/javascript\">if (window.MathJax) {MathJax.Hub.Config({SVG: {font: \"STIX-Web\"}});}</script>\n",
              "                <script type=\"text/javascript\">window.PlotlyConfig = {MathJaxConfig: 'local'};</script>\n",
              "        <script src=\"https://cdn.plot.ly/plotly-latest.min.js\"></script>    \n",
              "            <div id=\"2b27f7a7-1bbf-4d7b-a2b6-c317ba066f0a\" class=\"plotly-graph-div\" style=\"height:525px; width:100%;\"></div>\n",
              "            <script type=\"text/javascript\">\n",
              "                \n",
              "                    window.PLOTLYENV=window.PLOTLYENV || {};\n",
              "                    \n",
              "                if (document.getElementById(\"2b27f7a7-1bbf-4d7b-a2b6-c317ba066f0a\")) {\n",
              "                    Plotly.newPlot(\n",
              "                        '2b27f7a7-1bbf-4d7b-a2b6-c317ba066f0a',\n",
              "                        [{\"colorbar\": {\"title\": {\"text\": \"Player per ioc\"}}, \"locations\": [\"USA\", \"ITA\", \"FRA\", \"AUS\", \"DEU\", \"RUS\", \"ESP\", \"JPN\", \"CHN\", \"GBR\", \"BRA\", \"CZE\", \"ARG\", \"CAN\", \"IND\", \"KOR\", \"ROU\", \"MEX\", \"POL\", \"UKR\", \"NLD\", \"SWE\", \"SVK\", \"CHE\", \"TWN\", \"COL\", \"THA\", \"SRB\", \"HRV\", \"UZB\", \"AUT\", \"CHL\", \"BEL\", \"KAZ\", \"PRT\", \"TUR\", \"MAR\", \"RSA\", \"HUN\", \"ISR\", \"SVN\", \"FIN\", \"ECU\", \"PER\", \"BLR\", \"BIH\", \"DOM\", \"NZL\", \"URY\", \"DNK\", \"BGR\", \"PHL\", \"EST\", \"HKG\", \"IDN\", \"BAR\", \"VEN\", \"EGY\", \"NOR\", \"LVA\", \"SRI\", \"LTU\", \"IRI\", \"LUX\", \"GEO\", \"TUN\", \"PAK\", \"GRC\", \"MDA\", \"BOL\", \"IRL\", \"PUR\", \"VNM\", \"MAS\", \"ZIM\", \"PRY\", \"SGP\", \"KGZ\", \"BAH\", \"QAT\", \"PAN\", \"GUA\", \"TKM\", \"ESA\", \"BRN\", \"SIN\", \"TRI\", \"KWT\", \"MNE\", \"MAD\", \"CRC\", \"MON\", \"MGL\", \"CYP\", \"POC\", \"OMN\", \"CUB\", \"DZA\", \"LIB\", \"HDN\", \"MKD\", \"TJK\", \"BDI\", \"UAE\", \"BER\", \"LIE\", \"GUM\", \"ITF\", \"PNG\", \"AHO\", \"SMR\", \"TOG\", \"BEN\", \"ANT\", \"ERI\", \"LBN\", \"SYR\", \"LBA\", \"WSM\", \"HTI\", \"GUD\", \"AND\", \"COD\"], \"type\": \"choropleth\", \"z\": [425, 259, 239, 174, 168, 152, 139, 135, 123, 122, 117, 109, 105, 88, 77, 74, 71, 68, 63, 60, 60, 57, 53, 52, 52, 48, 48, 47, 47, 45, 42, 41, 41, 38, 35, 32, 31, 30, 30, 29, 29, 29, 24, 23, 23, 20, 18, 16, 16, 15, 14, 14, 14, 13, 13, 13, 12, 12, 12, 11, 11, 11, 10, 10, 10, 10, 10, 9, 9, 9, 8, 8, 8, 8, 7, 7, 7, 7, 6, 6, 6, 6, 5, 5, 5, 5, 5, 5, 5, 4, 4, 4, 4, 4, 4, 4, 3, 3, 3, 3, 2, 2, 2, 2, 2, 2, 2, 1, 1, 1, 1, 1, 1, 1, 1, 1, 1, 1, 1, 1, 1, 1, 1]}],\n",
              "                        {\"template\": {\"data\": {\"bar\": [{\"error_x\": {\"color\": \"#2a3f5f\"}, \"error_y\": {\"color\": \"#2a3f5f\"}, \"marker\": {\"line\": {\"color\": \"#E5ECF6\", \"width\": 0.5}}, \"type\": \"bar\"}], \"barpolar\": [{\"marker\": {\"line\": {\"color\": \"#E5ECF6\", \"width\": 0.5}}, \"type\": \"barpolar\"}], \"carpet\": [{\"aaxis\": {\"endlinecolor\": \"#2a3f5f\", \"gridcolor\": \"white\", \"linecolor\": \"white\", \"minorgridcolor\": \"white\", \"startlinecolor\": \"#2a3f5f\"}, \"baxis\": {\"endlinecolor\": \"#2a3f5f\", \"gridcolor\": \"white\", \"linecolor\": \"white\", \"minorgridcolor\": \"white\", \"startlinecolor\": \"#2a3f5f\"}, \"type\": \"carpet\"}], \"choropleth\": [{\"colorbar\": {\"outlinewidth\": 0, \"ticks\": \"\"}, \"type\": \"choropleth\"}], \"contour\": [{\"colorbar\": {\"outlinewidth\": 0, \"ticks\": \"\"}, \"colorscale\": [[0.0, \"#0d0887\"], [0.1111111111111111, \"#46039f\"], [0.2222222222222222, \"#7201a8\"], [0.3333333333333333, \"#9c179e\"], [0.4444444444444444, \"#bd3786\"], [0.5555555555555556, \"#d8576b\"], [0.6666666666666666, \"#ed7953\"], [0.7777777777777778, \"#fb9f3a\"], [0.8888888888888888, \"#fdca26\"], [1.0, \"#f0f921\"]], \"type\": \"contour\"}], \"contourcarpet\": [{\"colorbar\": {\"outlinewidth\": 0, \"ticks\": \"\"}, \"type\": \"contourcarpet\"}], \"heatmap\": [{\"colorbar\": {\"outlinewidth\": 0, \"ticks\": \"\"}, \"colorscale\": [[0.0, \"#0d0887\"], [0.1111111111111111, \"#46039f\"], [0.2222222222222222, \"#7201a8\"], [0.3333333333333333, \"#9c179e\"], [0.4444444444444444, \"#bd3786\"], [0.5555555555555556, \"#d8576b\"], [0.6666666666666666, \"#ed7953\"], [0.7777777777777778, \"#fb9f3a\"], [0.8888888888888888, \"#fdca26\"], [1.0, \"#f0f921\"]], \"type\": \"heatmap\"}], \"heatmapgl\": [{\"colorbar\": {\"outlinewidth\": 0, \"ticks\": \"\"}, \"colorscale\": [[0.0, \"#0d0887\"], [0.1111111111111111, \"#46039f\"], [0.2222222222222222, \"#7201a8\"], [0.3333333333333333, \"#9c179e\"], [0.4444444444444444, \"#bd3786\"], [0.5555555555555556, \"#d8576b\"], [0.6666666666666666, \"#ed7953\"], [0.7777777777777778, \"#fb9f3a\"], [0.8888888888888888, \"#fdca26\"], [1.0, \"#f0f921\"]], \"type\": \"heatmapgl\"}], \"histogram\": [{\"marker\": {\"colorbar\": {\"outlinewidth\": 0, \"ticks\": \"\"}}, \"type\": \"histogram\"}], \"histogram2d\": [{\"colorbar\": {\"outlinewidth\": 0, \"ticks\": \"\"}, \"colorscale\": [[0.0, \"#0d0887\"], [0.1111111111111111, \"#46039f\"], [0.2222222222222222, \"#7201a8\"], [0.3333333333333333, \"#9c179e\"], [0.4444444444444444, \"#bd3786\"], [0.5555555555555556, \"#d8576b\"], [0.6666666666666666, \"#ed7953\"], [0.7777777777777778, \"#fb9f3a\"], [0.8888888888888888, \"#fdca26\"], [1.0, \"#f0f921\"]], \"type\": \"histogram2d\"}], \"histogram2dcontour\": [{\"colorbar\": {\"outlinewidth\": 0, \"ticks\": \"\"}, \"colorscale\": [[0.0, \"#0d0887\"], [0.1111111111111111, \"#46039f\"], [0.2222222222222222, \"#7201a8\"], [0.3333333333333333, \"#9c179e\"], [0.4444444444444444, \"#bd3786\"], [0.5555555555555556, \"#d8576b\"], [0.6666666666666666, \"#ed7953\"], [0.7777777777777778, \"#fb9f3a\"], [0.8888888888888888, \"#fdca26\"], [1.0, \"#f0f921\"]], \"type\": \"histogram2dcontour\"}], \"mesh3d\": [{\"colorbar\": {\"outlinewidth\": 0, \"ticks\": \"\"}, \"type\": \"mesh3d\"}], \"parcoords\": [{\"line\": {\"colorbar\": {\"outlinewidth\": 0, \"ticks\": \"\"}}, \"type\": \"parcoords\"}], \"pie\": [{\"automargin\": true, \"type\": \"pie\"}], \"scatter\": [{\"marker\": {\"colorbar\": {\"outlinewidth\": 0, \"ticks\": \"\"}}, \"type\": \"scatter\"}], \"scatter3d\": [{\"line\": {\"colorbar\": {\"outlinewidth\": 0, \"ticks\": \"\"}}, \"marker\": {\"colorbar\": {\"outlinewidth\": 0, \"ticks\": \"\"}}, \"type\": \"scatter3d\"}], \"scattercarpet\": [{\"marker\": {\"colorbar\": {\"outlinewidth\": 0, \"ticks\": \"\"}}, \"type\": \"scattercarpet\"}], \"scattergeo\": [{\"marker\": {\"colorbar\": {\"outlinewidth\": 0, \"ticks\": \"\"}}, \"type\": \"scattergeo\"}], \"scattergl\": [{\"marker\": {\"colorbar\": {\"outlinewidth\": 0, \"ticks\": \"\"}}, \"type\": \"scattergl\"}], \"scattermapbox\": [{\"marker\": {\"colorbar\": {\"outlinewidth\": 0, \"ticks\": \"\"}}, \"type\": \"scattermapbox\"}], \"scatterpolar\": [{\"marker\": {\"colorbar\": {\"outlinewidth\": 0, \"ticks\": \"\"}}, \"type\": \"scatterpolar\"}], \"scatterpolargl\": [{\"marker\": {\"colorbar\": {\"outlinewidth\": 0, \"ticks\": \"\"}}, \"type\": \"scatterpolargl\"}], \"scatterternary\": [{\"marker\": {\"colorbar\": {\"outlinewidth\": 0, \"ticks\": \"\"}}, \"type\": \"scatterternary\"}], \"surface\": [{\"colorbar\": {\"outlinewidth\": 0, \"ticks\": \"\"}, \"colorscale\": [[0.0, \"#0d0887\"], [0.1111111111111111, \"#46039f\"], [0.2222222222222222, \"#7201a8\"], [0.3333333333333333, \"#9c179e\"], [0.4444444444444444, \"#bd3786\"], [0.5555555555555556, \"#d8576b\"], [0.6666666666666666, \"#ed7953\"], [0.7777777777777778, \"#fb9f3a\"], [0.8888888888888888, \"#fdca26\"], [1.0, \"#f0f921\"]], \"type\": \"surface\"}], \"table\": [{\"cells\": {\"fill\": {\"color\": \"#EBF0F8\"}, \"line\": {\"color\": \"white\"}}, \"header\": {\"fill\": {\"color\": \"#C8D4E3\"}, \"line\": {\"color\": \"white\"}}, \"type\": \"table\"}]}, \"layout\": {\"annotationdefaults\": {\"arrowcolor\": \"#2a3f5f\", \"arrowhead\": 0, \"arrowwidth\": 1}, \"coloraxis\": {\"colorbar\": {\"outlinewidth\": 0, \"ticks\": \"\"}}, \"colorscale\": {\"diverging\": [[0, \"#8e0152\"], [0.1, \"#c51b7d\"], [0.2, \"#de77ae\"], [0.3, \"#f1b6da\"], [0.4, \"#fde0ef\"], [0.5, \"#f7f7f7\"], [0.6, \"#e6f5d0\"], [0.7, \"#b8e186\"], [0.8, \"#7fbc41\"], [0.9, \"#4d9221\"], [1, \"#276419\"]], \"sequential\": [[0.0, \"#0d0887\"], [0.1111111111111111, \"#46039f\"], [0.2222222222222222, \"#7201a8\"], [0.3333333333333333, \"#9c179e\"], [0.4444444444444444, \"#bd3786\"], [0.5555555555555556, \"#d8576b\"], [0.6666666666666666, \"#ed7953\"], [0.7777777777777778, \"#fb9f3a\"], [0.8888888888888888, \"#fdca26\"], [1.0, \"#f0f921\"]], \"sequentialminus\": [[0.0, \"#0d0887\"], [0.1111111111111111, \"#46039f\"], [0.2222222222222222, \"#7201a8\"], [0.3333333333333333, \"#9c179e\"], [0.4444444444444444, \"#bd3786\"], [0.5555555555555556, \"#d8576b\"], [0.6666666666666666, \"#ed7953\"], [0.7777777777777778, \"#fb9f3a\"], [0.8888888888888888, \"#fdca26\"], [1.0, \"#f0f921\"]]}, \"colorway\": [\"#636efa\", \"#EF553B\", \"#00cc96\", \"#ab63fa\", \"#FFA15A\", \"#19d3f3\", \"#FF6692\", \"#B6E880\", \"#FF97FF\", \"#FECB52\"], \"font\": {\"color\": \"#2a3f5f\"}, \"geo\": {\"bgcolor\": \"white\", \"lakecolor\": \"white\", \"landcolor\": \"#E5ECF6\", \"showlakes\": true, \"showland\": true, \"subunitcolor\": \"white\"}, \"hoverlabel\": {\"align\": \"left\"}, \"hovermode\": \"closest\", \"mapbox\": {\"style\": \"light\"}, \"paper_bgcolor\": \"white\", \"plot_bgcolor\": \"#E5ECF6\", \"polar\": {\"angularaxis\": {\"gridcolor\": \"white\", \"linecolor\": \"white\", \"ticks\": \"\"}, \"bgcolor\": \"#E5ECF6\", \"radialaxis\": {\"gridcolor\": \"white\", \"linecolor\": \"white\", \"ticks\": \"\"}}, \"scene\": {\"xaxis\": {\"backgroundcolor\": \"#E5ECF6\", \"gridcolor\": \"white\", \"gridwidth\": 2, \"linecolor\": \"white\", \"showbackground\": true, \"ticks\": \"\", \"zerolinecolor\": \"white\"}, \"yaxis\": {\"backgroundcolor\": \"#E5ECF6\", \"gridcolor\": \"white\", \"gridwidth\": 2, \"linecolor\": \"white\", \"showbackground\": true, \"ticks\": \"\", \"zerolinecolor\": \"white\"}, \"zaxis\": {\"backgroundcolor\": \"#E5ECF6\", \"gridcolor\": \"white\", \"gridwidth\": 2, \"linecolor\": \"white\", \"showbackground\": true, \"ticks\": \"\", \"zerolinecolor\": \"white\"}}, \"shapedefaults\": {\"line\": {\"color\": \"#2a3f5f\"}}, \"ternary\": {\"aaxis\": {\"gridcolor\": \"white\", \"linecolor\": \"white\", \"ticks\": \"\"}, \"baxis\": {\"gridcolor\": \"white\", \"linecolor\": \"white\", \"ticks\": \"\"}, \"bgcolor\": \"#E5ECF6\", \"caxis\": {\"gridcolor\": \"white\", \"linecolor\": \"white\", \"ticks\": \"\"}}, \"title\": {\"x\": 0.05}, \"xaxis\": {\"automargin\": true, \"gridcolor\": \"white\", \"linecolor\": \"white\", \"ticks\": \"\", \"title\": {\"standoff\": 15}, \"zerolinecolor\": \"white\", \"zerolinewidth\": 2}, \"yaxis\": {\"automargin\": true, \"gridcolor\": \"white\", \"linecolor\": \"white\", \"ticks\": \"\", \"title\": {\"standoff\": 15}, \"zerolinecolor\": \"white\", \"zerolinewidth\": 2}}}, \"title\": {\"text\": \"Number of players per country\"}},\n",
              "                        {\"responsive\": true}\n",
              "                    ).then(function(){\n",
              "                            \n",
              "var gd = document.getElementById('2b27f7a7-1bbf-4d7b-a2b6-c317ba066f0a');\n",
              "var x = new MutationObserver(function (mutations, observer) {{\n",
              "        var display = window.getComputedStyle(gd).display;\n",
              "        if (!display || display === 'none') {{\n",
              "            console.log([gd, 'removed!']);\n",
              "            Plotly.purge(gd);\n",
              "            observer.disconnect();\n",
              "        }}\n",
              "}});\n",
              "\n",
              "// Listen for the removal of the full notebook cells\n",
              "var notebookContainer = gd.closest('#notebook-container');\n",
              "if (notebookContainer) {{\n",
              "    x.observe(notebookContainer, {childList: true});\n",
              "}}\n",
              "\n",
              "// Listen for the clearing of the current output cell\n",
              "var outputEl = gd.closest('.output');\n",
              "if (outputEl) {{\n",
              "    x.observe(outputEl, {childList: true});\n",
              "}}\n",
              "\n",
              "                        })\n",
              "                };\n",
              "                \n",
              "            </script>\n",
              "        </div>\n",
              "</body>\n",
              "</html>"
            ]
          },
          "metadata": {}
        }
      ]
    },
    {
      "cell_type": "markdown",
      "metadata": {
        "id": "oPNz9uT-zfpc"
      },
      "source": [
        "###**Assign height**"
      ]
    },
    {
      "cell_type": "code",
      "metadata": {
        "colab": {
          "base_uri": "https://localhost:8080/",
          "height": 0
        },
        "id": "5eovsz71zo4C",
        "outputId": "38a25e02-a410-48e0-c1f3-412bd6f1e022"
      },
      "source": [
        "w_ht = df_matches[[\"winner_name\", \"winner_ht\"]].rename(columns={\"winner_name\": \"name\", \"winner_ht\": \"ht\"})\n",
        "l_ht = df_matches[[\"loser_name\", \"loser_ht\"]].rename(columns={\"loser_name\": \"name\", \"loser_ht\": \"ht\"})\n",
        "players_ht = w_ht.append(l_ht).drop_duplicates()\n",
        "players_ht"
      ],
      "execution_count": 22,
      "outputs": [
        {
          "output_type": "execute_result",
          "data": {
            "text/html": [
              "<div>\n",
              "<style scoped>\n",
              "    .dataframe tbody tr th:only-of-type {\n",
              "        vertical-align: middle;\n",
              "    }\n",
              "\n",
              "    .dataframe tbody tr th {\n",
              "        vertical-align: top;\n",
              "    }\n",
              "\n",
              "    .dataframe thead th {\n",
              "        text-align: right;\n",
              "    }\n",
              "</style>\n",
              "<table border=\"1\" class=\"dataframe\">\n",
              "  <thead>\n",
              "    <tr style=\"text-align: right;\">\n",
              "      <th></th>\n",
              "      <th>name</th>\n",
              "      <th>ht</th>\n",
              "    </tr>\n",
              "  </thead>\n",
              "  <tbody>\n",
              "    <tr>\n",
              "      <th>0</th>\n",
              "      <td>kei nishikori</td>\n",
              "      <td>178</td>\n",
              "    </tr>\n",
              "    <tr>\n",
              "      <th>1</th>\n",
              "      <td>daniil medvedev</td>\n",
              "      <td>198</td>\n",
              "    </tr>\n",
              "    <tr>\n",
              "      <th>3</th>\n",
              "      <td>jo-wilfried tsonga</td>\n",
              "      <td>188</td>\n",
              "    </tr>\n",
              "    <tr>\n",
              "      <th>5</th>\n",
              "      <td>jeremy chardy</td>\n",
              "      <td>188</td>\n",
              "    </tr>\n",
              "    <tr>\n",
              "      <th>8</th>\n",
              "      <td>alex de minaur</td>\n",
              "      <td>183</td>\n",
              "    </tr>\n",
              "    <tr>\n",
              "      <th>...</th>\n",
              "      <td>...</td>\n",
              "      <td>...</td>\n",
              "    </tr>\n",
              "    <tr>\n",
              "      <th>177178</th>\n",
              "      <td>ellie douglas</td>\n",
              "      <td>&lt;NA&gt;</td>\n",
              "    </tr>\n",
              "    <tr>\n",
              "      <th>177223</th>\n",
              "      <td>brittany collens</td>\n",
              "      <td>&lt;NA&gt;</td>\n",
              "    </tr>\n",
              "    <tr>\n",
              "      <th>177445</th>\n",
              "      <td>barbora palicova</td>\n",
              "      <td>&lt;NA&gt;</td>\n",
              "    </tr>\n",
              "    <tr>\n",
              "      <th>177446</th>\n",
              "      <td>kristyna lavickova</td>\n",
              "      <td>&lt;NA&gt;</td>\n",
              "    </tr>\n",
              "    <tr>\n",
              "      <th>177479</th>\n",
              "      <td>darja vidmanova</td>\n",
              "      <td>&lt;NA&gt;</td>\n",
              "    </tr>\n",
              "  </tbody>\n",
              "</table>\n",
              "<p>4255 rows × 2 columns</p>\n",
              "</div>"
            ],
            "text/plain": [
              "                      name    ht\n",
              "0            kei nishikori   178\n",
              "1          daniil medvedev   198\n",
              "3       jo-wilfried tsonga   188\n",
              "5            jeremy chardy   188\n",
              "8           alex de minaur   183\n",
              "...                    ...   ...\n",
              "177178       ellie douglas  <NA>\n",
              "177223    brittany collens  <NA>\n",
              "177445    barbora palicova  <NA>\n",
              "177446  kristyna lavickova  <NA>\n",
              "177479     darja vidmanova  <NA>\n",
              "\n",
              "[4255 rows x 2 columns]"
            ]
          },
          "metadata": {},
          "execution_count": 22
        }
      ]
    },
    {
      "cell_type": "code",
      "metadata": {
        "id": "q4kUnJ6D6Wu6"
      },
      "source": [
        "df_players.insert(len(df_players.columns), 'ht', np.NaN)\n",
        "df_players[\"ht\"] = df_players[\"ht\"].astype(\"Int64\", errors=\"ignore\")\n",
        "for _, player in players_ht[players_ht[\"ht\"].notna()].iterrows():\n",
        "    df_players.loc[df_players[\"name\"] == player[\"name\"], \"ht\"] = player[\"ht\"]"
      ],
      "execution_count": 23,
      "outputs": []
    },
    {
      "cell_type": "code",
      "metadata": {
        "colab": {
          "base_uri": "https://localhost:8080/"
        },
        "id": "kn8VgiUK6dwu",
        "outputId": "b9856641-04ee-46ba-c5bc-f3b20b8c4ec1"
      },
      "source": [
        "print(\"Players with no height: {0}\".format(len(df_players[df_players[\"ht\"].isna()])))"
      ],
      "execution_count": 24,
      "outputs": [
        {
          "output_type": "stream",
          "name": "stdout",
          "text": [
            "Players with no height: 3721\n"
          ]
        }
      ]
    },
    {
      "cell_type": "code",
      "metadata": {
        "colab": {
          "base_uri": "https://localhost:8080/",
          "height": 0
        },
        "id": "9o9siECjB0Z-",
        "outputId": "576fde74-5019-46ce-c6b3-8496170743f7"
      },
      "source": [
        "players_no_ht = df_players[df_players[\"ht\"].isna()]\n",
        "players_no_ht"
      ],
      "execution_count": 25,
      "outputs": [
        {
          "output_type": "execute_result",
          "data": {
            "text/html": [
              "<div>\n",
              "<style scoped>\n",
              "    .dataframe tbody tr th:only-of-type {\n",
              "        vertical-align: middle;\n",
              "    }\n",
              "\n",
              "    .dataframe tbody tr th {\n",
              "        vertical-align: top;\n",
              "    }\n",
              "\n",
              "    .dataframe thead th {\n",
              "        text-align: right;\n",
              "    }\n",
              "</style>\n",
              "<table border=\"1\" class=\"dataframe\">\n",
              "  <thead>\n",
              "    <tr style=\"text-align: right;\">\n",
              "      <th></th>\n",
              "      <th>name</th>\n",
              "      <th>sex</th>\n",
              "      <th>birth_date</th>\n",
              "      <th>ioc</th>\n",
              "      <th>ht</th>\n",
              "    </tr>\n",
              "  </thead>\n",
              "  <tbody>\n",
              "    <tr>\n",
              "      <th>1</th>\n",
              "      <td>jeff greenwald</td>\n",
              "      <td>M</td>\n",
              "      <td>1966-11-10</td>\n",
              "      <td>USA</td>\n",
              "      <td>&lt;NA&gt;</td>\n",
              "    </tr>\n",
              "    <tr>\n",
              "      <th>3</th>\n",
              "      <td>martin damm</td>\n",
              "      <td>M</td>\n",
              "      <td>2003-09-30</td>\n",
              "      <td>USA</td>\n",
              "      <td>&lt;NA&gt;</td>\n",
              "    </tr>\n",
              "    <tr>\n",
              "      <th>4</th>\n",
              "      <td>wei yu su</td>\n",
              "      <td>M</td>\n",
              "      <td>1976-01-12</td>\n",
              "      <td>TWN</td>\n",
              "      <td>&lt;NA&gt;</td>\n",
              "    </tr>\n",
              "    <tr>\n",
              "      <th>5</th>\n",
              "      <td>gergely kisgyorgy</td>\n",
              "      <td>M</td>\n",
              "      <td>1976-03-08</td>\n",
              "      <td>HUN</td>\n",
              "      <td>&lt;NA&gt;</td>\n",
              "    </tr>\n",
              "    <tr>\n",
              "      <th>17</th>\n",
              "      <td>alessandro motti</td>\n",
              "      <td>M</td>\n",
              "      <td>1979-02-28</td>\n",
              "      <td>ITA</td>\n",
              "      <td>&lt;NA&gt;</td>\n",
              "    </tr>\n",
              "    <tr>\n",
              "      <th>...</th>\n",
              "      <td>...</td>\n",
              "      <td>...</td>\n",
              "      <td>...</td>\n",
              "      <td>...</td>\n",
              "      <td>...</td>\n",
              "    </tr>\n",
              "    <tr>\n",
              "      <th>4254</th>\n",
              "      <td>david o hare</td>\n",
              "      <td>M</td>\n",
              "      <td>1990-06-01</td>\n",
              "      <td>IRL</td>\n",
              "      <td>&lt;NA&gt;</td>\n",
              "    </tr>\n",
              "    <tr>\n",
              "      <th>4255</th>\n",
              "      <td>kuan-yi lee</td>\n",
              "      <td>M</td>\n",
              "      <td>1996-09-09</td>\n",
              "      <td>TWN</td>\n",
              "      <td>&lt;NA&gt;</td>\n",
              "    </tr>\n",
              "    <tr>\n",
              "      <th>4256</th>\n",
              "      <td>ben patael</td>\n",
              "      <td>M</td>\n",
              "      <td>1997-06-09</td>\n",
              "      <td>ISR</td>\n",
              "      <td>&lt;NA&gt;</td>\n",
              "    </tr>\n",
              "    <tr>\n",
              "      <th>4257</th>\n",
              "      <td>andres artunedo martinavarro</td>\n",
              "      <td>M</td>\n",
              "      <td>1993-09-14</td>\n",
              "      <td>ESP</td>\n",
              "      <td>&lt;NA&gt;</td>\n",
              "    </tr>\n",
              "    <tr>\n",
              "      <th>4258</th>\n",
              "      <td>alona fomina</td>\n",
              "      <td>F</td>\n",
              "      <td>1989-07-05</td>\n",
              "      <td>UKR</td>\n",
              "      <td>&lt;NA&gt;</td>\n",
              "    </tr>\n",
              "  </tbody>\n",
              "</table>\n",
              "<p>3721 rows × 5 columns</p>\n",
              "</div>"
            ],
            "text/plain": [
              "                              name sex  birth_date  ioc    ht\n",
              "1                   jeff greenwald   M  1966-11-10  USA  <NA>\n",
              "3                      martin damm   M  2003-09-30  USA  <NA>\n",
              "4                        wei yu su   M  1976-01-12  TWN  <NA>\n",
              "5                gergely kisgyorgy   M  1976-03-08  HUN  <NA>\n",
              "17                alessandro motti   M  1979-02-28  ITA  <NA>\n",
              "...                            ...  ..         ...  ...   ...\n",
              "4254                  david o hare   M  1990-06-01  IRL  <NA>\n",
              "4255                   kuan-yi lee   M  1996-09-09  TWN  <NA>\n",
              "4256                    ben patael   M  1997-06-09  ISR  <NA>\n",
              "4257  andres artunedo martinavarro   M  1993-09-14  ESP  <NA>\n",
              "4258                  alona fomina   F  1989-07-05  UKR  <NA>\n",
              "\n",
              "[3721 rows x 5 columns]"
            ]
          },
          "metadata": {},
          "execution_count": 25
        }
      ]
    },
    {
      "cell_type": "code",
      "metadata": {
        "colab": {
          "base_uri": "https://localhost:8080/"
        },
        "id": "rZwmLOVRbLAM",
        "outputId": "94fd9ebe-12d4-459c-e90a-6940a67b0623"
      },
      "source": [
        "p_ht_ioc = df_players.groupby([\"ioc\", \"sex\"]).count()[\"ht\"]\n",
        "p_ht_ioc.mean() + 3 * p_ht_ioc.std()"
      ],
      "execution_count": 26,
      "outputs": [
        {
          "output_type": "execute_result",
          "data": {
            "text/plain": [
              "17.12721738326431"
            ]
          },
          "metadata": {},
          "execution_count": 26
        }
      ]
    },
    {
      "cell_type": "code",
      "metadata": {
        "id": "JyWuS5iOCFsx"
      },
      "source": [
        "p_ht_ioc = df_players.groupby([\"ioc\", \"sex\"]).count()[\"ht\"]\n",
        "p_mean_ht_ioc = df_players.groupby([\"ioc\", \"sex\"]).mean()[\"ht\"] \n",
        "p_std_ht_ioc = df_players.groupby([\"ioc\", \"sex\"]).std()[\"ht\"]\n",
        "p_mean_ht_sex = df_players.groupby(\"sex\").mean()[\"ht\"] \n",
        "p_std_ht_sex = df_players.groupby(\"sex\").std()[\"ht\"]\n",
        "for _, player in players_no_ht.iterrows():\n",
        "    ioc, sex = player[[\"ioc\", \"sex\"]]\n",
        "    n_players = p_ht_ioc.loc[(ioc, sex)]\n",
        "    if n_players > 10:\n",
        "        mean = p_mean_ht_ioc.loc[(ioc,  sex)]\n",
        "        std = p_std_ht_ioc.loc[(ioc, sex)]\n",
        "    else:\n",
        "        mean = p_mean_ht_sex.loc[sex]\n",
        "        std = p_std_ht_sex.loc[sex]\n",
        "\n",
        "    df_players.loc[df_players[\"name\"]==player[\"name\"], \"ht\"] = int(np.random.normal(mean, std))"
      ],
      "execution_count": 27,
      "outputs": []
    },
    {
      "cell_type": "code",
      "metadata": {
        "colab": {
          "base_uri": "https://localhost:8080/",
          "height": 0
        },
        "id": "XsepwQAPQd06",
        "outputId": "c5ed2d2b-4085-4ef8-8b42-a353bd7700f0"
      },
      "source": [
        "fig, (ax1, ax2) = plt.pyplot.subplots(1, 2, figsize=(16, 5))\n",
        "df_players[df_players[\"sex\"]==\"M\"].boxplot(column=\"ht\", ax=ax1)\n",
        "df_players[df_players[\"sex\"]==\"M\"].hist(column=\"ht\", ax=ax2, stacked=True, bins=10)\n",
        "fig.subplots_adjust(wspace=0.3)\n",
        "\n",
        "fig, (ax1, ax2) = plt.pyplot.subplots(1, 2, figsize=(16, 5))\n",
        "df_players[df_players[\"sex\"]==\"F\"].boxplot(column=\"ht\", ax=ax1)\n",
        "df_players[df_players[\"sex\"]==\"F\"].hist(column=\"ht\", ax=ax2, stacked=True, bins=10)\n",
        "fig.subplots_adjust(wspace=0.3)"
      ],
      "execution_count": 28,
      "outputs": [
        {
          "output_type": "display_data",
          "data": {
            "image/png": "[encoded data removed]",
            "text/plain": [
              "<Figure size 1152x360 with 2 Axes>"
            ]
          },
          "metadata": {
            "needs_background": "light"
          }
        },
        {
          "output_type": "display_data",
          "data": {
            "image/png": "[encoded data removed]",
            "text/plain": [
              "<Figure size 1152x360 with 2 Axes>"
            ]
          },
          "metadata": {
            "needs_background": "light"
          }
        }
      ]
    },
    {
      "cell_type": "markdown",
      "metadata": {
        "id": "VY5q-JJJGjmA"
      },
      "source": [
        "###**Assign hand**"
      ]
    },
    {
      "cell_type": "code",
      "metadata": {
        "colab": {
          "base_uri": "https://localhost:8080/",
          "height": 0
        },
        "id": "RuEGumXXGkFE",
        "outputId": "e83f3c93-ff92-4602-e62f-1b0e7ffb831d"
      },
      "source": [
        "w_hand = df_matches[[\"winner_name\", \"winner_hand\"]].rename(columns={\"winner_name\": \"name\", \"winner_hand\": \"hand\"})\n",
        "l_hand = df_matches[[\"loser_name\", \"loser_hand\"]].rename(columns={\"loser_name\": \"name\", \"loser_hand\": \"hand\"})\n",
        "players_hand = w_hand.append(l_hand).drop_duplicates()\n",
        "players_hand"
      ],
      "execution_count": 29,
      "outputs": [
        {
          "output_type": "execute_result",
          "data": {
            "text/html": [
              "<div>\n",
              "<style scoped>\n",
              "    .dataframe tbody tr th:only-of-type {\n",
              "        vertical-align: middle;\n",
              "    }\n",
              "\n",
              "    .dataframe tbody tr th {\n",
              "        vertical-align: top;\n",
              "    }\n",
              "\n",
              "    .dataframe thead th {\n",
              "        text-align: right;\n",
              "    }\n",
              "</style>\n",
              "<table border=\"1\" class=\"dataframe\">\n",
              "  <thead>\n",
              "    <tr style=\"text-align: right;\">\n",
              "      <th></th>\n",
              "      <th>name</th>\n",
              "      <th>hand</th>\n",
              "    </tr>\n",
              "  </thead>\n",
              "  <tbody>\n",
              "    <tr>\n",
              "      <th>0</th>\n",
              "      <td>kei nishikori</td>\n",
              "      <td>R</td>\n",
              "    </tr>\n",
              "    <tr>\n",
              "      <th>1</th>\n",
              "      <td>daniil medvedev</td>\n",
              "      <td>R</td>\n",
              "    </tr>\n",
              "    <tr>\n",
              "      <th>3</th>\n",
              "      <td>jo-wilfried tsonga</td>\n",
              "      <td>R</td>\n",
              "    </tr>\n",
              "    <tr>\n",
              "      <th>5</th>\n",
              "      <td>jeremy chardy</td>\n",
              "      <td>R</td>\n",
              "    </tr>\n",
              "    <tr>\n",
              "      <th>8</th>\n",
              "      <td>alex de minaur</td>\n",
              "      <td>R</td>\n",
              "    </tr>\n",
              "    <tr>\n",
              "      <th>...</th>\n",
              "      <td>...</td>\n",
              "      <td>...</td>\n",
              "    </tr>\n",
              "    <tr>\n",
              "      <th>177178</th>\n",
              "      <td>ellie douglas</td>\n",
              "      <td>U</td>\n",
              "    </tr>\n",
              "    <tr>\n",
              "      <th>177223</th>\n",
              "      <td>brittany collens</td>\n",
              "      <td>R</td>\n",
              "    </tr>\n",
              "    <tr>\n",
              "      <th>177445</th>\n",
              "      <td>barbora palicova</td>\n",
              "      <td>R</td>\n",
              "    </tr>\n",
              "    <tr>\n",
              "      <th>177446</th>\n",
              "      <td>kristyna lavickova</td>\n",
              "      <td>U</td>\n",
              "    </tr>\n",
              "    <tr>\n",
              "      <th>177479</th>\n",
              "      <td>darja vidmanova</td>\n",
              "      <td>R</td>\n",
              "    </tr>\n",
              "  </tbody>\n",
              "</table>\n",
              "<p>4255 rows × 2 columns</p>\n",
              "</div>"
            ],
            "text/plain": [
              "                      name hand\n",
              "0            kei nishikori    R\n",
              "1          daniil medvedev    R\n",
              "3       jo-wilfried tsonga    R\n",
              "5            jeremy chardy    R\n",
              "8           alex de minaur    R\n",
              "...                    ...  ...\n",
              "177178       ellie douglas    U\n",
              "177223    brittany collens    R\n",
              "177445    barbora palicova    R\n",
              "177446  kristyna lavickova    U\n",
              "177479     darja vidmanova    R\n",
              "\n",
              "[4255 rows x 2 columns]"
            ]
          },
          "metadata": {},
          "execution_count": 29
        }
      ]
    },
    {
      "cell_type": "code",
      "metadata": {
        "id": "_ZCMGfPtG2Dm"
      },
      "source": [
        "df_players.insert(len(df_players.columns), 'hand', np.NaN)\n",
        "for _, player in players_hand.iterrows():\n",
        "    df_players.loc[df_players[\"name\"] == player[\"name\"], \"hand\"] = player[\"hand\"]"
      ],
      "execution_count": 30,
      "outputs": []
    },
    {
      "cell_type": "code",
      "metadata": {
        "colab": {
          "base_uri": "https://localhost:8080/",
          "height": 0
        },
        "id": "jqPjF4FOHz-F",
        "outputId": "01b076d3-c619-44f6-f779-7cac62879b05"
      },
      "source": [
        "hand_distribution = df_players[\"hand\"].value_counts()\n",
        "print(hand_distribution)\n",
        "hand_distribution.plot(kind=\"pie\")"
      ],
      "execution_count": 31,
      "outputs": [
        {
          "output_type": "stream",
          "name": "stdout",
          "text": [
            "R    2134\n",
            "U    1839\n",
            "L     282\n",
            "Name: hand, dtype: int64\n"
          ]
        },
        {
          "output_type": "execute_result",
          "data": {
            "text/plain": [
              "<matplotlib.axes._subplots.AxesSubplot at 0x7f138f8bdf90>"
            ]
          },
          "metadata": {},
          "execution_count": 31
        },
        {
          "output_type": "display_data",
          "data": {
            "image/png": "[encoded data removed]",
            "text/plain": [
              "<Figure size 432x288 with 1 Axes>"
            ]
          },
          "metadata": {}
        }
      ]
    },
    {
      "cell_type": "markdown",
      "metadata": {
        "id": "zhTVHgeuWI64"
      },
      "source": [
        "###**Calculate wins and losses**"
      ]
    },
    {
      "cell_type": "code",
      "metadata": {
        "id": "HIFFbVi3WpOx"
      },
      "source": [
        "def count_wins_losses(feature, feature_type):\n",
        "    if feature_type not in [\"winner\", \"loser\"]:\n",
        "        raise ValueError(\"The type must be winner or loser\")\n",
        "    \n",
        "    r = df_matches[feature_type+\"_name\"].value_counts()\n",
        "    for player, n in r.iteritems():\n",
        "        df_players.loc[df_players['name'] == player, feature] = n"
      ],
      "execution_count": 32,
      "outputs": []
    },
    {
      "cell_type": "code",
      "metadata": {
        "id": "DvQXhW8wWOZ6"
      },
      "source": [
        "df_players.insert(len(df_players.columns), \"wins\", 0)\n",
        "df_players.insert(len(df_players.columns), \"losses\", 0)\n",
        "df_players[\"wins\"] = df_players[\"wins\"].astype(\"Int64\", errors=\"ignore\")\n",
        "df_players[\"losses\"] = df_players[\"losses\"].astype(\"Int64\", errors=\"ignore\")"
      ],
      "execution_count": 33,
      "outputs": []
    },
    {
      "cell_type": "code",
      "metadata": {
        "id": "2FOOIHojWYKI"
      },
      "source": [
        "count_wins_losses(\"wins\", \"winner\")\n",
        "count_wins_losses(\"losses\", \"loser\")"
      ],
      "execution_count": 34,
      "outputs": []
    },
    {
      "cell_type": "code",
      "metadata": {
        "colab": {
          "base_uri": "https://localhost:8080/",
          "height": 0
        },
        "id": "ztli8VP8Zahl",
        "outputId": "0743d494-2440-4f70-a180-6a0c2d6191ba"
      },
      "source": [
        "fig, (ax1, ax2) = plt.pyplot.subplots(1, 2, figsize=(16, 5))\n",
        "df_players.boxplot(column=\"wins\", ax=ax1)\n",
        "df_players.hist(column=\"wins\", ax=ax2, stacked=True, bins=39)\n",
        "fig.subplots_adjust(wspace=0.3)\n",
        "\n",
        "fig, (ax1, ax2) = plt.pyplot.subplots(1, 2, figsize=(16, 5))\n",
        "df_players.boxplot(column=\"losses\", ax=ax1)\n",
        "df_players.hist(column=\"losses\", ax=ax2, stacked=True, bins=39)\n",
        "fig.subplots_adjust(wspace=0.3)"
      ],
      "execution_count": 35,
      "outputs": [
        {
          "output_type": "display_data",
          "data": {
            "image/png": "[encoded data removed]",
            "text/plain": [
              "<Figure size 1152x360 with 2 Axes>"
            ]
          },
          "metadata": {
            "needs_background": "light"
          }
        },
        {
          "output_type": "display_data",
          "data": {
            "image/png": "[encoded data removed]",
            "text/plain": [
              "<Figure size 1152x360 with 2 Axes>"
            ]
          },
          "metadata": {
            "needs_background": "light"
          }
        }
      ]
    },
    {
      "cell_type": "markdown",
      "metadata": {
        "id": "eFRNHKt5aCbx"
      },
      "source": [
        "###**Calculate tournaments won**"
      ]
    },
    {
      "cell_type": "code",
      "metadata": {
        "id": "-jLzgBulaFWo"
      },
      "source": [
        "def count_finals_by_player(count_winner=True):\n",
        "    feat = {True: ['winner_name', 'tourneys_won'],\n",
        "            False: ['loser_name', 'finals_lost']}\n",
        "    feat = feat[count_winner]\n",
        "    tourn_finals = df_matches[['tourney_id', feat[0], 'round']].drop_duplicates()\n",
        "    tourn_finals = tourn_finals[tourn_finals['round'] == 'F']\n",
        "    n_tournament_won_by_player: pd.Series = tourn_finals[feat[0]].value_counts()\n",
        "    for x in n_tournament_won_by_player.iteritems():\n",
        "        player, t_w = x[0], x[1]\n",
        "        df_players.loc[df_players['name'] == player, feat[1]] = t_w"
      ],
      "execution_count": 36,
      "outputs": []
    },
    {
      "cell_type": "code",
      "metadata": {
        "id": "ItIGWKgdafrg"
      },
      "source": [
        "df_players.insert(len(df_players.columns), \"tourneys_won\", 0)\n",
        "df_players[\"tourneys_won\"] = df_players[\"tourneys_won\"].astype(\"Int64\", errors=\"ignore\")\n",
        "count_finals_by_player()"
      ],
      "execution_count": 37,
      "outputs": []
    },
    {
      "cell_type": "code",
      "metadata": {
        "colab": {
          "base_uri": "https://localhost:8080/",
          "height": 0
        },
        "id": "Mu6TsoHFcDV6",
        "outputId": "e06d65f8-7595-42f8-e2f2-3411120721eb"
      },
      "source": [
        "fig, (ax1, ax2) = plt.pyplot.subplots(1, 2, figsize=(16, 5))\n",
        "df_players.boxplot(column=\"tourneys_won\", ax=ax1)\n",
        "df_players.hist(column=\"tourneys_won\", ax=ax2, stacked=True, bins=10)\n",
        "fig.subplots_adjust(wspace=0.3)"
      ],
      "execution_count": 38,
      "outputs": [
        {
          "output_type": "display_data",
          "data": {
            "image/png": "[encoded data removed]",
            "text/plain": [
              "<Figure size 1152x360 with 2 Axes>"
            ]
          },
          "metadata": {
            "needs_background": "light"
          }
        }
      ]
    },
    {
      "cell_type": "markdown",
      "metadata": {
        "id": "By4w2yrQcxeT"
      },
      "source": [
        "###**Calculate statistics for each surface**"
      ]
    },
    {
      "cell_type": "code",
      "metadata": {
        "id": "ClIgldlgUZgE"
      },
      "source": [
        "def compute_surface_statistics():\n",
        "    w_match_surface = df_matches[['surface', 'winner_name']]\n",
        "    l_match_surface = df_matches[['surface', 'loser_name']]\n",
        "    win_per_surf = []\n",
        "    for _, surface in w_match_surface['surface'].drop_duplicates().iteritems():\n",
        "        win_in_surf = w_match_surface[w_match_surface['surface'] == surface]\n",
        "        los_in_surf = l_match_surface[l_match_surface['surface'] == surface]\n",
        "        matches = win_in_surf['winner_name'].append(los_in_surf['loser_name']).value_counts()\n",
        "        win = win_in_surf['winner_name'].value_counts()\n",
        "        win_per_surf.append((surface, win, matches))\n",
        "        \n",
        "    for surface, matches_won, matches in win_per_surf:\n",
        "        new_attr = 'w_' + surface\n",
        "        new_attr_matches = 'n_matches_' + surface\n",
        "        df_players.insert(len(df_players.columns), new_attr, 0)\n",
        "        df_players.insert(len(df_players.columns), new_attr_matches, 0)\n",
        "        df_players[new_attr] = df_players[new_attr].astype(\"Int64\", errors=\"ignore\")\n",
        "        df_players[new_attr_matches] = df_players[new_attr_matches].astype(\"Int64\", errors=\"ignore\")\n",
        "        for w_ply, n_win in matches_won.iteritems():\n",
        "            df_players.loc[df_players['name'] == w_ply, new_attr] = n_win\n",
        "        for ply, n_match in matches.iteritems():\n",
        "            df_players.loc[df_players['name'] == ply, new_attr_matches] = n_match"
      ],
      "execution_count": 39,
      "outputs": []
    },
    {
      "cell_type": "code",
      "metadata": {
        "id": "spVn9lRodDiD"
      },
      "source": [
        "compute_surface_statistics()"
      ],
      "execution_count": 40,
      "outputs": []
    },
    {
      "cell_type": "markdown",
      "metadata": {
        "id": "OZ-R2EbFfIi5"
      },
      "source": [
        "We need to drop the statistics about the carpet surface since only few matches were played on it and that surface isnt' present anymore in any tournament (source: https://tennisworldlive.com/tennis-tournaments-no-longer-played-carpet/)."
      ]
    },
    {
      "cell_type": "code",
      "metadata": {
        "colab": {
          "base_uri": "https://localhost:8080/"
        },
        "id": "4kVzQxGYaNP1",
        "outputId": "a6f157ab-fbee-422b-da46-5c867d947377"
      },
      "source": [
        "df_players[df_players[\"n_matches_Carpet\"]!=0][[\"w_Carpet\"]].sum()"
      ],
      "execution_count": 41,
      "outputs": [
        {
          "output_type": "execute_result",
          "data": {
            "text/plain": [
              "w_Carpet    11\n",
              "dtype: int64"
            ]
          },
          "metadata": {},
          "execution_count": 41
        }
      ]
    },
    {
      "cell_type": "code",
      "metadata": {
        "id": "ArUDPdOieiy3"
      },
      "source": [
        "df_players = df_players.drop([\"w_Carpet\", \"n_matches_Carpet\"], axis=1)"
      ],
      "execution_count": 42,
      "outputs": []
    },
    {
      "cell_type": "markdown",
      "metadata": {
        "id": "U9vOyijOMPjc"
      },
      "source": [
        "###**Calculate each statistics**"
      ]
    },
    {
      "cell_type": "code",
      "metadata": {
        "id": "_D1Y2r1xdYJc"
      },
      "source": [
        "def assign_stat_feature(feature, new_feature):\n",
        "    w_feature = \"w_\" + feature\n",
        "    l_feature = \"l_\" + feature\n",
        "    w_player_feature = df_matches[['winner_name', w_feature]].rename(columns={\"winner_name\": \"name\", w_feature: new_feature})\n",
        "    l_player_feature = df_matches[['loser_name', l_feature]].rename(columns={'loser_name': 'name', l_feature: new_feature})\n",
        "    features = w_player_feature.append(l_player_feature)\n",
        "    features = features.groupby(\"name\").sum()\n",
        "    df_players.insert(len(df_players.columns), new_feature, 0)\n",
        "    df_players[new_feature] = df_players[new_feature].astype(\"Int64\", errors=\"ignore\")\n",
        "    for player, n_feature in features.iterrows():\n",
        "        df_players.loc[df_players[\"name\"] == player, new_feature] = n_feature[new_feature]"
      ],
      "execution_count": 43,
      "outputs": []
    },
    {
      "cell_type": "code",
      "metadata": {
        "id": "z5IRtcZRgKBs"
      },
      "source": [
        "assign_stat_feature(\"ace\", \"aces\")\n",
        "assign_stat_feature(\"df\", \"double_faults\")\n",
        "assign_stat_feature(\"svpt\", \"serve_points\")\n",
        "assign_stat_feature(\"1stIn\", \"1st_in\")\n",
        "assign_stat_feature(\"1stWon\", \"1st_won\")\n",
        "assign_stat_feature(\"2ndWon\", \"2nd_won\")\n",
        "assign_stat_feature(\"SvGms\", \"serve_games\")\n",
        "assign_stat_feature(\"bpSaved\", \"bp_saved\")\n",
        "assign_stat_feature(\"bpFaced\", \"bp_faced\")"
      ],
      "execution_count": 44,
      "outputs": []
    },
    {
      "cell_type": "markdown",
      "metadata": {
        "id": "P8h82_rRPmRK"
      },
      "source": [
        "###**Assign rank**"
      ]
    },
    {
      "cell_type": "code",
      "metadata": {
        "colab": {
          "base_uri": "https://localhost:8080/",
          "height": 0
        },
        "id": "pnvCrsKqPqsb",
        "outputId": "57dd5387-3bba-4cd2-ed02-9588ce76c7c3"
      },
      "source": [
        "w_player_rank = df_matches[[\"tourney_date\",'winner_name', 'winner_rank']].rename(columns={'winner_name': 'name', 'winner_rank': 'rank'})\n",
        "l_player_rank = df_matches[[\"tourney_date\", 'loser_name', 'loser_rank']].rename(columns={'loser_name': 'name', 'loser_rank': 'rank'})\n",
        "ranks = w_player_rank.append(l_player_rank).drop_duplicates().sort_values([\"name\", \"tourney_date\"])\n",
        "ranks"
      ],
      "execution_count": 45,
      "outputs": [
        {
          "output_type": "execute_result",
          "data": {
            "text/html": [
              "<div>\n",
              "<style scoped>\n",
              "    .dataframe tbody tr th:only-of-type {\n",
              "        vertical-align: middle;\n",
              "    }\n",
              "\n",
              "    .dataframe tbody tr th {\n",
              "        vertical-align: top;\n",
              "    }\n",
              "\n",
              "    .dataframe thead th {\n",
              "        text-align: right;\n",
              "    }\n",
              "</style>\n",
              "<table border=\"1\" class=\"dataframe\">\n",
              "  <thead>\n",
              "    <tr style=\"text-align: right;\">\n",
              "      <th></th>\n",
              "      <th>tourney_date</th>\n",
              "      <th>name</th>\n",
              "      <th>rank</th>\n",
              "    </tr>\n",
              "  </thead>\n",
              "  <tbody>\n",
              "    <tr>\n",
              "      <th>76205</th>\n",
              "      <td>2017-07-24</td>\n",
              "      <td>aaro pollanen</td>\n",
              "      <td>1559</td>\n",
              "    </tr>\n",
              "    <tr>\n",
              "      <th>74244</th>\n",
              "      <td>2016-01-11</td>\n",
              "      <td>aaron addison</td>\n",
              "      <td>1255</td>\n",
              "    </tr>\n",
              "    <tr>\n",
              "      <th>72902</th>\n",
              "      <td>2016-02-01</td>\n",
              "      <td>aaron addison</td>\n",
              "      <td>1254</td>\n",
              "    </tr>\n",
              "    <tr>\n",
              "      <th>71687</th>\n",
              "      <td>2016-10-24</td>\n",
              "      <td>aaron addison</td>\n",
              "      <td>1037</td>\n",
              "    </tr>\n",
              "    <tr>\n",
              "      <th>75587</th>\n",
              "      <td>2016-10-31</td>\n",
              "      <td>aaron addison</td>\n",
              "      <td>1047</td>\n",
              "    </tr>\n",
              "    <tr>\n",
              "      <th>...</th>\n",
              "      <td>...</td>\n",
              "      <td>...</td>\n",
              "      <td>...</td>\n",
              "    </tr>\n",
              "    <tr>\n",
              "      <th>97905</th>\n",
              "      <td>2019-09-09</td>\n",
              "      <td>zuzana zlochova</td>\n",
              "      <td>342</td>\n",
              "    </tr>\n",
              "    <tr>\n",
              "      <th>177465</th>\n",
              "      <td>2020-08-31</td>\n",
              "      <td>zuzana zlochova</td>\n",
              "      <td>317</td>\n",
              "    </tr>\n",
              "    <tr>\n",
              "      <th>177121</th>\n",
              "      <td>2021-07-05</td>\n",
              "      <td>zuzana zlochova</td>\n",
              "      <td>344</td>\n",
              "    </tr>\n",
              "    <tr>\n",
              "      <th>99909</th>\n",
              "      <td>2021-07-12</td>\n",
              "      <td>zuzana zlochova</td>\n",
              "      <td>351</td>\n",
              "    </tr>\n",
              "    <tr>\n",
              "      <th>103564</th>\n",
              "      <td>2019-08-12</td>\n",
              "      <td>zvonimir oreskovic</td>\n",
              "      <td>2221</td>\n",
              "    </tr>\n",
              "  </tbody>\n",
              "</table>\n",
              "<p>83323 rows × 3 columns</p>\n",
              "</div>"
            ],
            "text/plain": [
              "       tourney_date                name  rank\n",
              "76205    2017-07-24       aaro pollanen  1559\n",
              "74244    2016-01-11       aaron addison  1255\n",
              "72902    2016-02-01       aaron addison  1254\n",
              "71687    2016-10-24       aaron addison  1037\n",
              "75587    2016-10-31       aaron addison  1047\n",
              "...             ...                 ...   ...\n",
              "97905    2019-09-09     zuzana zlochova   342\n",
              "177465   2020-08-31     zuzana zlochova   317\n",
              "177121   2021-07-05     zuzana zlochova   344\n",
              "99909    2021-07-12     zuzana zlochova   351\n",
              "103564   2019-08-12  zvonimir oreskovic  2221\n",
              "\n",
              "[83323 rows x 3 columns]"
            ]
          },
          "metadata": {},
          "execution_count": 45
        }
      ]
    },
    {
      "cell_type": "code",
      "metadata": {
        "id": "TwX_jPUzRVN1"
      },
      "source": [
        "df_players.insert(len(df_players.columns), \"rank\", 0)\n",
        "df_players[\"rank\"] = df_players[\"rank\"].astype(\"Int64\", errors=\"ignore\")"
      ],
      "execution_count": 46,
      "outputs": []
    },
    {
      "cell_type": "code",
      "metadata": {
        "id": "vGwlwY3qQq-3"
      },
      "source": [
        "for _, player in df_players.iterrows():\n",
        "    tourneys_played = ranks[ranks[\"name\"]==player[\"name\"]][[\"tourney_date\", \"rank\"]]\n",
        "    last_tourney_played = tourneys_played.iloc[-1]\n",
        "    df_players.loc[df_players[\"name\"]==player[\"name\"], \"rank\"] = last_tourney_played[\"rank\"]"
      ],
      "execution_count": 47,
      "outputs": []
    },
    {
      "cell_type": "code",
      "metadata": {
        "colab": {
          "base_uri": "https://localhost:8080/",
          "height": 0
        },
        "id": "CCKVDgEuSQAD",
        "outputId": "98835992-d1d4-4c45-edfb-e721d5d62e85"
      },
      "source": [
        "df_players.hist(column=\"rank\", stacked=True, bins=39)"
      ],
      "execution_count": 48,
      "outputs": [
        {
          "output_type": "execute_result",
          "data": {
            "text/plain": [
              "array([[<matplotlib.axes._subplots.AxesSubplot object at 0x7f138f482750>]],\n",
              "      dtype=object)"
            ]
          },
          "metadata": {},
          "execution_count": 48
        },
        {
          "output_type": "display_data",
          "data": {
            "image/png": "[encoded data removed]",
            "text/plain": [
              "<Figure size 432x288 with 1 Axes>"
            ]
          },
          "metadata": {
            "needs_background": "light"
          }
        }
      ]
    },
    {
      "cell_type": "code",
      "metadata": {
        "colab": {
          "base_uri": "https://localhost:8080/",
          "height": 0
        },
        "id": "YOA2uekjSy-k",
        "outputId": "894d89d0-98e9-46ec-fd11-d69ca0309e24"
      },
      "source": [
        "df_players_matches = df_players.drop(index=df_players[df_players[\"wins\"] + df_players[\"losses\"]<10].index)\n",
        "df_players_matches"
      ],
      "execution_count": 49,
      "outputs": [
        {
          "output_type": "execute_result",
          "data": {
            "text/html": [
              "<div>\n",
              "<style scoped>\n",
              "    .dataframe tbody tr th:only-of-type {\n",
              "        vertical-align: middle;\n",
              "    }\n",
              "\n",
              "    .dataframe tbody tr th {\n",
              "        vertical-align: top;\n",
              "    }\n",
              "\n",
              "    .dataframe thead th {\n",
              "        text-align: right;\n",
              "    }\n",
              "</style>\n",
              "<table border=\"1\" class=\"dataframe\">\n",
              "  <thead>\n",
              "    <tr style=\"text-align: right;\">\n",
              "      <th></th>\n",
              "      <th>name</th>\n",
              "      <th>sex</th>\n",
              "      <th>birth_date</th>\n",
              "      <th>ioc</th>\n",
              "      <th>ht</th>\n",
              "      <th>hand</th>\n",
              "      <th>wins</th>\n",
              "      <th>losses</th>\n",
              "      <th>tourneys_won</th>\n",
              "      <th>w_Hard</th>\n",
              "      <th>n_matches_Hard</th>\n",
              "      <th>w_Clay</th>\n",
              "      <th>n_matches_Clay</th>\n",
              "      <th>w_Grass</th>\n",
              "      <th>n_matches_Grass</th>\n",
              "      <th>aces</th>\n",
              "      <th>double_faults</th>\n",
              "      <th>serve_points</th>\n",
              "      <th>1st_in</th>\n",
              "      <th>1st_won</th>\n",
              "      <th>2nd_won</th>\n",
              "      <th>serve_games</th>\n",
              "      <th>bp_saved</th>\n",
              "      <th>bp_faced</th>\n",
              "      <th>rank</th>\n",
              "    </tr>\n",
              "  </thead>\n",
              "  <tbody>\n",
              "    <tr>\n",
              "      <th>0</th>\n",
              "      <td>alexander zverev</td>\n",
              "      <td>M</td>\n",
              "      <td>1997-04-20</td>\n",
              "      <td>DEU</td>\n",
              "      <td>198</td>\n",
              "      <td>R</td>\n",
              "      <td>260</td>\n",
              "      <td>111</td>\n",
              "      <td>16</td>\n",
              "      <td>154</td>\n",
              "      <td>225</td>\n",
              "      <td>83</td>\n",
              "      <td>111</td>\n",
              "      <td>23</td>\n",
              "      <td>35</td>\n",
              "      <td>3227</td>\n",
              "      <td>1626</td>\n",
              "      <td>30089</td>\n",
              "      <td>19491</td>\n",
              "      <td>14530</td>\n",
              "      <td>5284</td>\n",
              "      <td>4861</td>\n",
              "      <td>1338</td>\n",
              "      <td>2197</td>\n",
              "      <td>5</td>\n",
              "    </tr>\n",
              "    <tr>\n",
              "      <th>8</th>\n",
              "      <td>frank moser</td>\n",
              "      <td>M</td>\n",
              "      <td>1976-09-23</td>\n",
              "      <td>DEU</td>\n",
              "      <td>193</td>\n",
              "      <td>R</td>\n",
              "      <td>5</td>\n",
              "      <td>6</td>\n",
              "      <td>0</td>\n",
              "      <td>3</td>\n",
              "      <td>6</td>\n",
              "      <td>1</td>\n",
              "      <td>2</td>\n",
              "      <td>1</td>\n",
              "      <td>3</td>\n",
              "      <td>60</td>\n",
              "      <td>22</td>\n",
              "      <td>779</td>\n",
              "      <td>444</td>\n",
              "      <td>324</td>\n",
              "      <td>158</td>\n",
              "      <td>115</td>\n",
              "      <td>53</td>\n",
              "      <td>77</td>\n",
              "      <td>848</td>\n",
              "    </tr>\n",
              "    <tr>\n",
              "      <th>13</th>\n",
              "      <td>ruben ramirez hidalgo</td>\n",
              "      <td>M</td>\n",
              "      <td>1978-01-06</td>\n",
              "      <td>ESP</td>\n",
              "      <td>183</td>\n",
              "      <td>R</td>\n",
              "      <td>46</td>\n",
              "      <td>42</td>\n",
              "      <td>0</td>\n",
              "      <td>11</td>\n",
              "      <td>19</td>\n",
              "      <td>35</td>\n",
              "      <td>69</td>\n",
              "      <td>0</td>\n",
              "      <td>0</td>\n",
              "      <td>328</td>\n",
              "      <td>307</td>\n",
              "      <td>6107</td>\n",
              "      <td>3509</td>\n",
              "      <td>2436</td>\n",
              "      <td>1255</td>\n",
              "      <td>915</td>\n",
              "      <td>383</td>\n",
              "      <td>624</td>\n",
              "      <td>341</td>\n",
              "    </tr>\n",
              "    <tr>\n",
              "      <th>14</th>\n",
              "      <td>tommy haas</td>\n",
              "      <td>M</td>\n",
              "      <td>1978-04-03</td>\n",
              "      <td>DEU</td>\n",
              "      <td>188</td>\n",
              "      <td>R</td>\n",
              "      <td>6</td>\n",
              "      <td>14</td>\n",
              "      <td>0</td>\n",
              "      <td>0</td>\n",
              "      <td>3</td>\n",
              "      <td>4</td>\n",
              "      <td>12</td>\n",
              "      <td>2</td>\n",
              "      <td>5</td>\n",
              "      <td>95</td>\n",
              "      <td>82</td>\n",
              "      <td>1710</td>\n",
              "      <td>1047</td>\n",
              "      <td>719</td>\n",
              "      <td>357</td>\n",
              "      <td>256</td>\n",
              "      <td>111</td>\n",
              "      <td>162</td>\n",
              "      <td>248</td>\n",
              "    </tr>\n",
              "    <tr>\n",
              "      <th>15</th>\n",
              "      <td>toshihide matsui</td>\n",
              "      <td>M</td>\n",
              "      <td>1978-04-19</td>\n",
              "      <td>JPN</td>\n",
              "      <td>180</td>\n",
              "      <td>R</td>\n",
              "      <td>20</td>\n",
              "      <td>33</td>\n",
              "      <td>0</td>\n",
              "      <td>19</td>\n",
              "      <td>49</td>\n",
              "      <td>1</td>\n",
              "      <td>4</td>\n",
              "      <td>0</td>\n",
              "      <td>0</td>\n",
              "      <td>292</td>\n",
              "      <td>188</td>\n",
              "      <td>3285</td>\n",
              "      <td>1910</td>\n",
              "      <td>1349</td>\n",
              "      <td>681</td>\n",
              "      <td>507</td>\n",
              "      <td>190</td>\n",
              "      <td>310</td>\n",
              "      <td>752</td>\n",
              "    </tr>\n",
              "    <tr>\n",
              "      <th>...</th>\n",
              "      <td>...</td>\n",
              "      <td>...</td>\n",
              "      <td>...</td>\n",
              "      <td>...</td>\n",
              "      <td>...</td>\n",
              "      <td>...</td>\n",
              "      <td>...</td>\n",
              "      <td>...</td>\n",
              "      <td>...</td>\n",
              "      <td>...</td>\n",
              "      <td>...</td>\n",
              "      <td>...</td>\n",
              "      <td>...</td>\n",
              "      <td>...</td>\n",
              "      <td>...</td>\n",
              "      <td>...</td>\n",
              "      <td>...</td>\n",
              "      <td>...</td>\n",
              "      <td>...</td>\n",
              "      <td>...</td>\n",
              "      <td>...</td>\n",
              "      <td>...</td>\n",
              "      <td>...</td>\n",
              "      <td>...</td>\n",
              "      <td>...</td>\n",
              "    </tr>\n",
              "    <tr>\n",
              "      <th>4253</th>\n",
              "      <td>alexandar lazov</td>\n",
              "      <td>M</td>\n",
              "      <td>1990-07-09</td>\n",
              "      <td>BGR</td>\n",
              "      <td>189</td>\n",
              "      <td>U</td>\n",
              "      <td>17</td>\n",
              "      <td>15</td>\n",
              "      <td>0</td>\n",
              "      <td>3</td>\n",
              "      <td>9</td>\n",
              "      <td>14</td>\n",
              "      <td>23</td>\n",
              "      <td>0</td>\n",
              "      <td>0</td>\n",
              "      <td>130</td>\n",
              "      <td>115</td>\n",
              "      <td>2047</td>\n",
              "      <td>1267</td>\n",
              "      <td>860</td>\n",
              "      <td>375</td>\n",
              "      <td>323</td>\n",
              "      <td>141</td>\n",
              "      <td>231</td>\n",
              "      <td>828</td>\n",
              "    </tr>\n",
              "    <tr>\n",
              "      <th>4254</th>\n",
              "      <td>david o hare</td>\n",
              "      <td>M</td>\n",
              "      <td>1990-06-01</td>\n",
              "      <td>IRL</td>\n",
              "      <td>174</td>\n",
              "      <td>U</td>\n",
              "      <td>4</td>\n",
              "      <td>11</td>\n",
              "      <td>0</td>\n",
              "      <td>3</td>\n",
              "      <td>13</td>\n",
              "      <td>0</td>\n",
              "      <td>0</td>\n",
              "      <td>1</td>\n",
              "      <td>2</td>\n",
              "      <td>86</td>\n",
              "      <td>97</td>\n",
              "      <td>1070</td>\n",
              "      <td>657</td>\n",
              "      <td>462</td>\n",
              "      <td>182</td>\n",
              "      <td>157</td>\n",
              "      <td>64</td>\n",
              "      <td>102</td>\n",
              "      <td>2221</td>\n",
              "    </tr>\n",
              "    <tr>\n",
              "      <th>4255</th>\n",
              "      <td>kuan-yi lee</td>\n",
              "      <td>M</td>\n",
              "      <td>1996-09-09</td>\n",
              "      <td>TWN</td>\n",
              "      <td>182</td>\n",
              "      <td>R</td>\n",
              "      <td>16</td>\n",
              "      <td>18</td>\n",
              "      <td>0</td>\n",
              "      <td>16</td>\n",
              "      <td>33</td>\n",
              "      <td>0</td>\n",
              "      <td>1</td>\n",
              "      <td>0</td>\n",
              "      <td>0</td>\n",
              "      <td>94</td>\n",
              "      <td>67</td>\n",
              "      <td>2138</td>\n",
              "      <td>1451</td>\n",
              "      <td>954</td>\n",
              "      <td>342</td>\n",
              "      <td>340</td>\n",
              "      <td>133</td>\n",
              "      <td>227</td>\n",
              "      <td>573</td>\n",
              "    </tr>\n",
              "    <tr>\n",
              "      <th>4256</th>\n",
              "      <td>ben patael</td>\n",
              "      <td>M</td>\n",
              "      <td>1997-06-09</td>\n",
              "      <td>ISR</td>\n",
              "      <td>175</td>\n",
              "      <td>U</td>\n",
              "      <td>16</td>\n",
              "      <td>23</td>\n",
              "      <td>0</td>\n",
              "      <td>10</td>\n",
              "      <td>22</td>\n",
              "      <td>6</td>\n",
              "      <td>17</td>\n",
              "      <td>0</td>\n",
              "      <td>0</td>\n",
              "      <td>175</td>\n",
              "      <td>116</td>\n",
              "      <td>2638</td>\n",
              "      <td>1618</td>\n",
              "      <td>1065</td>\n",
              "      <td>499</td>\n",
              "      <td>409</td>\n",
              "      <td>153</td>\n",
              "      <td>272</td>\n",
              "      <td>562</td>\n",
              "    </tr>\n",
              "    <tr>\n",
              "      <th>4257</th>\n",
              "      <td>andres artunedo martinavarro</td>\n",
              "      <td>M</td>\n",
              "      <td>1993-09-14</td>\n",
              "      <td>ESP</td>\n",
              "      <td>196</td>\n",
              "      <td>R</td>\n",
              "      <td>13</td>\n",
              "      <td>20</td>\n",
              "      <td>0</td>\n",
              "      <td>13</td>\n",
              "      <td>32</td>\n",
              "      <td>0</td>\n",
              "      <td>0</td>\n",
              "      <td>0</td>\n",
              "      <td>1</td>\n",
              "      <td>241</td>\n",
              "      <td>98</td>\n",
              "      <td>2428</td>\n",
              "      <td>1446</td>\n",
              "      <td>1092</td>\n",
              "      <td>459</td>\n",
              "      <td>384</td>\n",
              "      <td>123</td>\n",
              "      <td>205</td>\n",
              "      <td>390</td>\n",
              "    </tr>\n",
              "  </tbody>\n",
              "</table>\n",
              "<p>1600 rows × 25 columns</p>\n",
              "</div>"
            ],
            "text/plain": [
              "                              name sex  birth_date  ... bp_saved  bp_faced  rank\n",
              "0                 alexander zverev   M  1997-04-20  ...     1338      2197     5\n",
              "8                      frank moser   M  1976-09-23  ...       53        77   848\n",
              "13           ruben ramirez hidalgo   M  1978-01-06  ...      383       624   341\n",
              "14                      tommy haas   M  1978-04-03  ...      111       162   248\n",
              "15                toshihide matsui   M  1978-04-19  ...      190       310   752\n",
              "...                            ...  ..         ...  ...      ...       ...   ...\n",
              "4253               alexandar lazov   M  1990-07-09  ...      141       231   828\n",
              "4254                  david o hare   M  1990-06-01  ...       64       102  2221\n",
              "4255                   kuan-yi lee   M  1996-09-09  ...      133       227   573\n",
              "4256                    ben patael   M  1997-06-09  ...      153       272   562\n",
              "4257  andres artunedo martinavarro   M  1993-09-14  ...      123       205   390\n",
              "\n",
              "[1600 rows x 25 columns]"
            ]
          },
          "metadata": {},
          "execution_count": 49
        }
      ]
    },
    {
      "cell_type": "code",
      "metadata": {
        "colab": {
          "base_uri": "https://localhost:8080/",
          "height": 0
        },
        "id": "DhdD5sVdaOuh",
        "outputId": "efcbeece-824c-4681-ef19-dfd948b19b07"
      },
      "source": [
        "df_players_matches.hist(column=\"rank\", stacked=True, bins=39)"
      ],
      "execution_count": 50,
      "outputs": [
        {
          "output_type": "execute_result",
          "data": {
            "text/plain": [
              "array([[<matplotlib.axes._subplots.AxesSubplot object at 0x7f138fab0b50>]],\n",
              "      dtype=object)"
            ]
          },
          "metadata": {},
          "execution_count": 50
        },
        {
          "output_type": "display_data",
          "data": {
            "image/png": "[encoded data removed]",
            "text/plain": [
              "<Figure size 432x288 with 1 Axes>"
            ]
          },
          "metadata": {
            "needs_background": "light"
          }
        }
      ]
    },
    {
      "cell_type": "markdown",
      "metadata": {
        "id": "iacd-3aYeNOg"
      },
      "source": [
        "###**Assign ranking points**"
      ]
    },
    {
      "cell_type": "code",
      "metadata": {
        "colab": {
          "base_uri": "https://localhost:8080/",
          "height": 417
        },
        "id": "vzJhrpuneNOh",
        "outputId": "e03653e5-ec01-491d-e3ae-d64cdb3adf91"
      },
      "source": [
        "w_player_rank_points = df_matches[[\"tourney_date\",'winner_name', 'winner_rank_points']]\\\n",
        ".rename(columns={'winner_name': 'name', 'winner_rank_points': 'rank_points'})\n",
        "l_player_rank_points = df_matches[[\"tourney_date\", 'loser_name', 'loser_rank_points']]\\\n",
        ".rename(columns={'loser_name': 'name', 'loser_rank_points': 'rank_points'})\n",
        "rank_points = w_player_rank_points.append(l_player_rank_points).drop_duplicates().sort_values([\"name\", \"tourney_date\"])\n",
        "rank_points"
      ],
      "execution_count": 51,
      "outputs": [
        {
          "output_type": "execute_result",
          "data": {
            "text/html": [
              "<div>\n",
              "<style scoped>\n",
              "    .dataframe tbody tr th:only-of-type {\n",
              "        vertical-align: middle;\n",
              "    }\n",
              "\n",
              "    .dataframe tbody tr th {\n",
              "        vertical-align: top;\n",
              "    }\n",
              "\n",
              "    .dataframe thead th {\n",
              "        text-align: right;\n",
              "    }\n",
              "</style>\n",
              "<table border=\"1\" class=\"dataframe\">\n",
              "  <thead>\n",
              "    <tr style=\"text-align: right;\">\n",
              "      <th></th>\n",
              "      <th>tourney_date</th>\n",
              "      <th>name</th>\n",
              "      <th>rank_points</th>\n",
              "    </tr>\n",
              "  </thead>\n",
              "  <tbody>\n",
              "    <tr>\n",
              "      <th>76205</th>\n",
              "      <td>2017-07-24</td>\n",
              "      <td>aaro pollanen</td>\n",
              "      <td>2</td>\n",
              "    </tr>\n",
              "    <tr>\n",
              "      <th>74244</th>\n",
              "      <td>2016-01-11</td>\n",
              "      <td>aaron addison</td>\n",
              "      <td>6</td>\n",
              "    </tr>\n",
              "    <tr>\n",
              "      <th>72902</th>\n",
              "      <td>2016-02-01</td>\n",
              "      <td>aaron addison</td>\n",
              "      <td>6</td>\n",
              "    </tr>\n",
              "    <tr>\n",
              "      <th>71687</th>\n",
              "      <td>2016-10-24</td>\n",
              "      <td>aaron addison</td>\n",
              "      <td>10</td>\n",
              "    </tr>\n",
              "    <tr>\n",
              "      <th>75587</th>\n",
              "      <td>2016-10-31</td>\n",
              "      <td>aaron addison</td>\n",
              "      <td>10</td>\n",
              "    </tr>\n",
              "    <tr>\n",
              "      <th>...</th>\n",
              "      <td>...</td>\n",
              "      <td>...</td>\n",
              "      <td>...</td>\n",
              "    </tr>\n",
              "    <tr>\n",
              "      <th>97905</th>\n",
              "      <td>2019-09-09</td>\n",
              "      <td>zuzana zlochova</td>\n",
              "      <td>144</td>\n",
              "    </tr>\n",
              "    <tr>\n",
              "      <th>177465</th>\n",
              "      <td>2020-08-31</td>\n",
              "      <td>zuzana zlochova</td>\n",
              "      <td>166</td>\n",
              "    </tr>\n",
              "    <tr>\n",
              "      <th>177121</th>\n",
              "      <td>2021-07-05</td>\n",
              "      <td>zuzana zlochova</td>\n",
              "      <td>155</td>\n",
              "    </tr>\n",
              "    <tr>\n",
              "      <th>99909</th>\n",
              "      <td>2021-07-12</td>\n",
              "      <td>zuzana zlochova</td>\n",
              "      <td>157</td>\n",
              "    </tr>\n",
              "    <tr>\n",
              "      <th>103564</th>\n",
              "      <td>2019-08-12</td>\n",
              "      <td>zvonimir oreskovic</td>\n",
              "      <td>0</td>\n",
              "    </tr>\n",
              "  </tbody>\n",
              "</table>\n",
              "<p>83323 rows × 3 columns</p>\n",
              "</div>"
            ],
            "text/plain": [
              "       tourney_date                name  rank_points\n",
              "76205    2017-07-24       aaro pollanen            2\n",
              "74244    2016-01-11       aaron addison            6\n",
              "72902    2016-02-01       aaron addison            6\n",
              "71687    2016-10-24       aaron addison           10\n",
              "75587    2016-10-31       aaron addison           10\n",
              "...             ...                 ...          ...\n",
              "97905    2019-09-09     zuzana zlochova          144\n",
              "177465   2020-08-31     zuzana zlochova          166\n",
              "177121   2021-07-05     zuzana zlochova          155\n",
              "99909    2021-07-12     zuzana zlochova          157\n",
              "103564   2019-08-12  zvonimir oreskovic            0\n",
              "\n",
              "[83323 rows x 3 columns]"
            ]
          },
          "metadata": {},
          "execution_count": 51
        }
      ]
    },
    {
      "cell_type": "code",
      "metadata": {
        "id": "Sn95M2ZbeNOh"
      },
      "source": [
        "df_players.insert(len(df_players.columns), \"rank_points\", 0)\n",
        "df_players[\"rank_points\"] = df_players[\"rank_points\"].astype(\"Int64\", errors=\"ignore\")"
      ],
      "execution_count": 52,
      "outputs": []
    },
    {
      "cell_type": "code",
      "metadata": {
        "id": "p5eZlL_deNOi"
      },
      "source": [
        "for _, player in df_players.iterrows():\n",
        "    tourneys_played = rank_points[rank_points[\"name\"]==player[\"name\"]][[\"tourney_date\", \"rank_points\"]]\n",
        "    last_tourney_played = tourneys_played.iloc[-1]\n",
        "    df_players.loc[df_players[\"name\"]==player[\"name\"], \"rank_points\"] = last_tourney_played[\"rank_points\"]"
      ],
      "execution_count": 53,
      "outputs": []
    },
    {
      "cell_type": "code",
      "metadata": {
        "colab": {
          "base_uri": "https://localhost:8080/",
          "height": 314
        },
        "id": "Zn8QMeu1eNOi",
        "outputId": "d9541fef-e589-4fde-eeac-849c29a2f436"
      },
      "source": [
        "df_players.hist(column=\"rank_points\", stacked=True, bins=39)"
      ],
      "execution_count": 54,
      "outputs": [
        {
          "output_type": "execute_result",
          "data": {
            "text/plain": [
              "array([[<matplotlib.axes._subplots.AxesSubplot object at 0x7f138f677190>]],\n",
              "      dtype=object)"
            ]
          },
          "metadata": {},
          "execution_count": 54
        },
        {
          "output_type": "display_data",
          "data": {
            "image/png": "[encoded data removed]",
            "text/plain": [
              "<Figure size 432x288 with 1 Axes>"
            ]
          },
          "metadata": {
            "needs_background": "light"
          }
        }
      ]
    },
    {
      "cell_type": "markdown",
      "metadata": {
        "id": "w3oPGF1Zc0Bc"
      },
      "source": [
        "##**Correlations before introducing new features**"
      ]
    },
    {
      "cell_type": "code",
      "metadata": {
        "colab": {
          "base_uri": "https://localhost:8080/",
          "height": 290
        },
        "id": "AR5erVCDnmKK",
        "outputId": "be14a7a8-0e48-40db-c661-d92e0912e0d7"
      },
      "source": [
        "df_players.head()"
      ],
      "execution_count": 55,
      "outputs": [
        {
          "output_type": "execute_result",
          "data": {
            "text/html": [
              "<div>\n",
              "<style scoped>\n",
              "    .dataframe tbody tr th:only-of-type {\n",
              "        vertical-align: middle;\n",
              "    }\n",
              "\n",
              "    .dataframe tbody tr th {\n",
              "        vertical-align: top;\n",
              "    }\n",
              "\n",
              "    .dataframe thead th {\n",
              "        text-align: right;\n",
              "    }\n",
              "</style>\n",
              "<table border=\"1\" class=\"dataframe\">\n",
              "  <thead>\n",
              "    <tr style=\"text-align: right;\">\n",
              "      <th></th>\n",
              "      <th>name</th>\n",
              "      <th>sex</th>\n",
              "      <th>birth_date</th>\n",
              "      <th>ioc</th>\n",
              "      <th>ht</th>\n",
              "      <th>hand</th>\n",
              "      <th>wins</th>\n",
              "      <th>losses</th>\n",
              "      <th>tourneys_won</th>\n",
              "      <th>w_Hard</th>\n",
              "      <th>n_matches_Hard</th>\n",
              "      <th>w_Clay</th>\n",
              "      <th>n_matches_Clay</th>\n",
              "      <th>w_Grass</th>\n",
              "      <th>n_matches_Grass</th>\n",
              "      <th>aces</th>\n",
              "      <th>double_faults</th>\n",
              "      <th>serve_points</th>\n",
              "      <th>1st_in</th>\n",
              "      <th>1st_won</th>\n",
              "      <th>2nd_won</th>\n",
              "      <th>serve_games</th>\n",
              "      <th>bp_saved</th>\n",
              "      <th>bp_faced</th>\n",
              "      <th>rank</th>\n",
              "      <th>rank_points</th>\n",
              "    </tr>\n",
              "  </thead>\n",
              "  <tbody>\n",
              "    <tr>\n",
              "      <th>0</th>\n",
              "      <td>alexander zverev</td>\n",
              "      <td>M</td>\n",
              "      <td>1997-04-20</td>\n",
              "      <td>DEU</td>\n",
              "      <td>198</td>\n",
              "      <td>R</td>\n",
              "      <td>260</td>\n",
              "      <td>111</td>\n",
              "      <td>16</td>\n",
              "      <td>154</td>\n",
              "      <td>225</td>\n",
              "      <td>83</td>\n",
              "      <td>111</td>\n",
              "      <td>23</td>\n",
              "      <td>35</td>\n",
              "      <td>3227</td>\n",
              "      <td>1626</td>\n",
              "      <td>30089</td>\n",
              "      <td>19491</td>\n",
              "      <td>14530</td>\n",
              "      <td>5284</td>\n",
              "      <td>4861</td>\n",
              "      <td>1338</td>\n",
              "      <td>2197</td>\n",
              "      <td>5</td>\n",
              "      <td>7263</td>\n",
              "    </tr>\n",
              "    <tr>\n",
              "      <th>1</th>\n",
              "      <td>jeff greenwald</td>\n",
              "      <td>M</td>\n",
              "      <td>1966-11-10</td>\n",
              "      <td>USA</td>\n",
              "      <td>192</td>\n",
              "      <td>R</td>\n",
              "      <td>0</td>\n",
              "      <td>1</td>\n",
              "      <td>0</td>\n",
              "      <td>0</td>\n",
              "      <td>1</td>\n",
              "      <td>0</td>\n",
              "      <td>0</td>\n",
              "      <td>0</td>\n",
              "      <td>0</td>\n",
              "      <td>0</td>\n",
              "      <td>5</td>\n",
              "      <td>90</td>\n",
              "      <td>51</td>\n",
              "      <td>31</td>\n",
              "      <td>18</td>\n",
              "      <td>10</td>\n",
              "      <td>10</td>\n",
              "      <td>14</td>\n",
              "      <td>2221</td>\n",
              "      <td>0</td>\n",
              "    </tr>\n",
              "    <tr>\n",
              "      <th>2</th>\n",
              "      <td>agustin moreno</td>\n",
              "      <td>M</td>\n",
              "      <td>1967-03-31</td>\n",
              "      <td>MEX</td>\n",
              "      <td>180</td>\n",
              "      <td>R</td>\n",
              "      <td>1</td>\n",
              "      <td>3</td>\n",
              "      <td>0</td>\n",
              "      <td>0</td>\n",
              "      <td>2</td>\n",
              "      <td>1</td>\n",
              "      <td>2</td>\n",
              "      <td>0</td>\n",
              "      <td>0</td>\n",
              "      <td>8</td>\n",
              "      <td>31</td>\n",
              "      <td>231</td>\n",
              "      <td>117</td>\n",
              "      <td>82</td>\n",
              "      <td>49</td>\n",
              "      <td>35</td>\n",
              "      <td>16</td>\n",
              "      <td>29</td>\n",
              "      <td>2221</td>\n",
              "      <td>0</td>\n",
              "    </tr>\n",
              "    <tr>\n",
              "      <th>3</th>\n",
              "      <td>martin damm</td>\n",
              "      <td>M</td>\n",
              "      <td>2003-09-30</td>\n",
              "      <td>USA</td>\n",
              "      <td>198</td>\n",
              "      <td>L</td>\n",
              "      <td>2</td>\n",
              "      <td>5</td>\n",
              "      <td>0</td>\n",
              "      <td>2</td>\n",
              "      <td>4</td>\n",
              "      <td>0</td>\n",
              "      <td>3</td>\n",
              "      <td>0</td>\n",
              "      <td>0</td>\n",
              "      <td>26</td>\n",
              "      <td>28</td>\n",
              "      <td>593</td>\n",
              "      <td>322</td>\n",
              "      <td>233</td>\n",
              "      <td>111</td>\n",
              "      <td>86</td>\n",
              "      <td>38</td>\n",
              "      <td>64</td>\n",
              "      <td>699</td>\n",
              "      <td>32</td>\n",
              "    </tr>\n",
              "    <tr>\n",
              "      <th>4</th>\n",
              "      <td>wei yu su</td>\n",
              "      <td>M</td>\n",
              "      <td>1976-01-12</td>\n",
              "      <td>TWN</td>\n",
              "      <td>178</td>\n",
              "      <td>R</td>\n",
              "      <td>0</td>\n",
              "      <td>1</td>\n",
              "      <td>0</td>\n",
              "      <td>0</td>\n",
              "      <td>1</td>\n",
              "      <td>0</td>\n",
              "      <td>0</td>\n",
              "      <td>0</td>\n",
              "      <td>0</td>\n",
              "      <td>2</td>\n",
              "      <td>4</td>\n",
              "      <td>98</td>\n",
              "      <td>57</td>\n",
              "      <td>35</td>\n",
              "      <td>21</td>\n",
              "      <td>13</td>\n",
              "      <td>11</td>\n",
              "      <td>15</td>\n",
              "      <td>2221</td>\n",
              "      <td>0</td>\n",
              "    </tr>\n",
              "  </tbody>\n",
              "</table>\n",
              "</div>"
            ],
            "text/plain": [
              "               name sex  birth_date  ioc  ...  bp_saved bp_faced  rank  rank_points\n",
              "0  alexander zverev   M  1997-04-20  DEU  ...      1338     2197     5         7263\n",
              "1    jeff greenwald   M  1966-11-10  USA  ...        10       14  2221            0\n",
              "2    agustin moreno   M  1967-03-31  MEX  ...        16       29  2221            0\n",
              "3       martin damm   M  2003-09-30  USA  ...        38       64   699           32\n",
              "4         wei yu su   M  1976-01-12  TWN  ...        11       15  2221            0\n",
              "\n",
              "[5 rows x 26 columns]"
            ]
          },
          "metadata": {},
          "execution_count": 55
        }
      ]
    },
    {
      "cell_type": "code",
      "metadata": {
        "id": "_JoVVzKG4val",
        "colab": {
          "base_uri": "https://localhost:8080/"
        },
        "outputId": "39f07f4c-fb4e-456e-9b66-8c80058e6fed"
      },
      "source": [
        "df_players.info()"
      ],
      "execution_count": 56,
      "outputs": [
        {
          "output_type": "stream",
          "name": "stdout",
          "text": [
            "<class 'pandas.core.frame.DataFrame'>\n",
            "Int64Index: 4255 entries, 0 to 4258\n",
            "Data columns (total 26 columns):\n",
            " #   Column           Non-Null Count  Dtype \n",
            "---  ------           --------------  ----- \n",
            " 0   name             4255 non-null   object\n",
            " 1   sex              4255 non-null   object\n",
            " 2   birth_date       4199 non-null   object\n",
            " 3   ioc              4255 non-null   object\n",
            " 4   ht               4255 non-null   Int64 \n",
            " 5   hand             4255 non-null   object\n",
            " 6   wins             4255 non-null   Int64 \n",
            " 7   losses           4255 non-null   Int64 \n",
            " 8   tourneys_won     4255 non-null   Int64 \n",
            " 9   w_Hard           4255 non-null   Int64 \n",
            " 10  n_matches_Hard   4255 non-null   Int64 \n",
            " 11  w_Clay           4255 non-null   Int64 \n",
            " 12  n_matches_Clay   4255 non-null   Int64 \n",
            " 13  w_Grass          4255 non-null   Int64 \n",
            " 14  n_matches_Grass  4255 non-null   Int64 \n",
            " 15  aces             4255 non-null   Int64 \n",
            " 16  double_faults    4255 non-null   Int64 \n",
            " 17  serve_points     4255 non-null   Int64 \n",
            " 18  1st_in           4255 non-null   Int64 \n",
            " 19  1st_won          4255 non-null   Int64 \n",
            " 20  2nd_won          4255 non-null   Int64 \n",
            " 21  serve_games      4255 non-null   Int64 \n",
            " 22  bp_saved         4255 non-null   Int64 \n",
            " 23  bp_faced         4255 non-null   Int64 \n",
            " 24  rank             4255 non-null   Int64 \n",
            " 25  rank_points      4255 non-null   Int64 \n",
            "dtypes: Int64(21), object(5)\n",
            "memory usage: 1.1+ MB\n"
          ]
        }
      ]
    },
    {
      "cell_type": "code",
      "metadata": {
        "colab": {
          "base_uri": "https://localhost:8080/",
          "height": 690
        },
        "id": "tofvaULTXeOF",
        "outputId": "04a61d3c-385c-445d-9642-3e39ac60ef9b"
      },
      "source": [
        "plt.pyplot.figure(figsize=(16, 10))\n",
        "sn.heatmap(df_players.corr(), annot=True, fmt=\".2f\", cmap='viridis')"
      ],
      "execution_count": 57,
      "outputs": [
        {
          "output_type": "execute_result",
          "data": {
            "text/plain": [
              "<matplotlib.axes._subplots.AxesSubplot at 0x7f138f662910>"
            ]
          },
          "metadata": {},
          "execution_count": 57
        },
        {
          "output_type": "display_data",
          "data": {
            "image/png": "[encoded data removed]",
            "text/plain": [
              "<Figure size 1152x720 with 2 Axes>"
            ]
          },
          "metadata": {
            "needs_background": "light"
          }
        }
      ]
    },
    {
      "cell_type": "code",
      "metadata": {
        "colab": {
          "base_uri": "https://localhost:8080/",
          "height": 117
        },
        "id": "6JGS3DY91ZQL",
        "outputId": "bb52d288-79eb-4648-a971-f49f9c75f8de"
      },
      "source": [
        "df_players.loc[df_players[\"name\"]==\"ivo karlovic\"]"
      ],
      "execution_count": 59,
      "outputs": [
        {
          "output_type": "execute_result",
          "data": {
            "text/html": [
              "<div>\n",
              "<style scoped>\n",
              "    .dataframe tbody tr th:only-of-type {\n",
              "        vertical-align: middle;\n",
              "    }\n",
              "\n",
              "    .dataframe tbody tr th {\n",
              "        vertical-align: top;\n",
              "    }\n",
              "\n",
              "    .dataframe thead th {\n",
              "        text-align: right;\n",
              "    }\n",
              "</style>\n",
              "<table border=\"1\" class=\"dataframe\">\n",
              "  <thead>\n",
              "    <tr style=\"text-align: right;\">\n",
              "      <th></th>\n",
              "      <th>name</th>\n",
              "      <th>sex</th>\n",
              "      <th>birth_date</th>\n",
              "      <th>ioc</th>\n",
              "      <th>ht</th>\n",
              "      <th>hand</th>\n",
              "      <th>wins</th>\n",
              "      <th>losses</th>\n",
              "      <th>tourneys_won</th>\n",
              "      <th>w_Hard</th>\n",
              "      <th>n_matches_Hard</th>\n",
              "      <th>w_Clay</th>\n",
              "      <th>n_matches_Clay</th>\n",
              "      <th>w_Grass</th>\n",
              "      <th>n_matches_Grass</th>\n",
              "      <th>aces</th>\n",
              "      <th>double_faults</th>\n",
              "      <th>serve_points</th>\n",
              "      <th>1st_in</th>\n",
              "      <th>1st_won</th>\n",
              "      <th>2nd_won</th>\n",
              "      <th>serve_games</th>\n",
              "      <th>bp_saved</th>\n",
              "      <th>bp_faced</th>\n",
              "      <th>rank</th>\n",
              "      <th>rank_points</th>\n",
              "    </tr>\n",
              "  </thead>\n",
              "  <tbody>\n",
              "    <tr>\n",
              "      <th>18</th>\n",
              "      <td>ivo karlovic</td>\n",
              "      <td>M</td>\n",
              "      <td>1979-02-28</td>\n",
              "      <td>HRV</td>\n",
              "      <td>208</td>\n",
              "      <td>R</td>\n",
              "      <td>101</td>\n",
              "      <td>103</td>\n",
              "      <td>3</td>\n",
              "      <td>67</td>\n",
              "      <td>132</td>\n",
              "      <td>14</td>\n",
              "      <td>34</td>\n",
              "      <td>20</td>\n",
              "      <td>38</td>\n",
              "      <td>4222</td>\n",
              "      <td>966</td>\n",
              "      <td>17745</td>\n",
              "      <td>11492</td>\n",
              "      <td>9407</td>\n",
              "      <td>3455</td>\n",
              "      <td>2879</td>\n",
              "      <td>559</td>\n",
              "      <td>783</td>\n",
              "      <td>205</td>\n",
              "      <td>352</td>\n",
              "    </tr>\n",
              "  </tbody>\n",
              "</table>\n",
              "</div>"
            ],
            "text/plain": [
              "            name sex  birth_date  ioc  ...  bp_saved bp_faced  rank  rank_points\n",
              "18  ivo karlovic   M  1979-02-28  HRV  ...       559      783   205          352\n",
              "\n",
              "[1 rows x 26 columns]"
            ]
          },
          "metadata": {},
          "execution_count": 59
        }
      ]
    },
    {
      "cell_type": "markdown",
      "metadata": {
        "id": "st4wusB5zGb6"
      },
      "source": [
        "There are many higly-correlated features, we need to build new indicators from the ones we have and we have to drop those who we think are redundant or useless for the clustering analysis."
      ]
    },
    {
      "cell_type": "code",
      "metadata": {
        "colab": {
          "base_uri": "https://localhost:8080/",
          "height": 555
        },
        "id": "abSc72F_fZ03",
        "outputId": "48576408-91be-488b-a519-d44158087236"
      },
      "source": [
        "df_players['n_matches'] = df_players['wins'] + df_players['losses']\n",
        "df_players['p_wins'] = np.round(df_players[\"wins\"] / df_players[\"n_matches\"]*100, 2)\n",
        "\n",
        "# percentage of wins on each surface\n",
        "df_players['p_wins_Hard'] = np.round(df_players[\"w_Hard\"] / df_players[\"n_matches_Hard\"]*100, 2)\n",
        "df_players['p_wins_Clay'] = np.round(df_players[\"w_Clay\"] / df_players[\"n_matches_Clay\"]*100, 2)\n",
        "df_players['p_wins_Grass'] = np.round(df_players[\"w_Grass\"] / df_players[\"n_matches_Grass\"]*100, 2)\n",
        "\n",
        "# features for the aces\n",
        "df_players['mean_aces'] = np.floor(df_players[\"aces\"] / df_players[\"n_matches\"]).astype('Int32', errors='raise')\n",
        "df_players['p_aces'] = np.round(df_players[\"double_faults\"] / (df_players[\"1st_won\"] + df_players[\"2nd_won\"])*100, 2)\n",
        "\n",
        "# features for the double faults\n",
        "df_players['mean_double_faults'] = np.floor(df_players[\"double_faults\"] / df_players[\"n_matches\"]).astype('Int32', errors='raise')\n",
        "df_players['p_double_faults'] = np.round(df_players[\"double_faults\"] / (df_players[\"serve_points\"] - df_players[\"double_faults\"] + df_players[\"2nd_won\"])*100, 2)\n",
        "\n",
        "# features for the first service in\n",
        "df_players['mean_1st_in'] = np.floor(df_players[\"1st_in\"] / df_players[\"n_matches\"]).astype('Int32', errors='raise')\n",
        "df_players['p_1st_in'] = np.round(df_players[\"1st_in\"] / df_players[\"serve_points\"]*100, 2)\n",
        "df_players['mean_1st_won'] = np.floor(df_players[\"1st_won\"] / df_players[\"n_matches\"]).astype('Int32', errors='raise')\n",
        "df_players['p_1st_won'] = np.round(df_players[\"1st_won\"] / df_players[\"1st_in\"]*100, 2)\n",
        "\n",
        "df_players['mean_2nd_won'] = np.floor(df_players[\"2nd_won\"] / df_players[\"n_matches\"]).astype('Int32', errors='raise')\n",
        "\n",
        "# se usiamo p_double_faults, p_2nd_won è inutile\n",
        "# df_players['p_2nd_won'] = np.round(df_players[\"2nd_won\"] / (df_players[\"double_faults\"] + df_players[\"2nd_won\"])*100, 2)\n",
        "\n",
        "# features for the breakpoints saved\n",
        "df_players['mean_bp_saved'] = np.floor(df_players[\"bp_saved\"] / df_players[\"n_matches\"]).astype('Int32', errors='raise')\n",
        "df_players['p_bp_saved'] = np.round(df_players[\"bp_saved\"] / df_players[\"bp_faced\"]*100, 2)\n",
        "\n",
        "# df_players['mean_bp_faced'] = np.floor(df_players[\"bp_faced\"] / df_players[\"n_matches\"]).astype('Int32', errors='raise')\n",
        "# df_players['mean_serve_games'] = np.floor(df_players[\"serve_games\"] / df_players[\"n_matches\"]).astype('Int32', errors='raise')\n",
        "# df_players['mean_serve_points'] = np.floor(df_players[\"serve_points\"] / df_players[\"n_matches\"]).astype('Int32', errors='raise')\n",
        "\n",
        "df_players=df_players.fillna(0)"
      ],
      "execution_count": 63,
      "outputs": [
        {
          "output_type": "error",
          "ename": "KeyError",
          "evalue": "ignored",
          "traceback": [
            "\u001b[0;31m---------------------------------------------------------------------------\u001b[0m",
            "\u001b[0;31mKeyError\u001b[0m                                  Traceback (most recent call last)",
            "\u001b[0;32m/usr/local/lib/python3.7/dist-packages/pandas/core/indexes/base.py\u001b[0m in \u001b[0;36mget_loc\u001b[0;34m(self, key, method, tolerance)\u001b[0m\n\u001b[1;32m   2897\u001b[0m             \u001b[0;32mtry\u001b[0m\u001b[0;34m:\u001b[0m\u001b[0;34m\u001b[0m\u001b[0;34m\u001b[0m\u001b[0m\n\u001b[0;32m-> 2898\u001b[0;31m                 \u001b[0;32mreturn\u001b[0m \u001b[0mself\u001b[0m\u001b[0;34m.\u001b[0m\u001b[0m_engine\u001b[0m\u001b[0;34m.\u001b[0m\u001b[0mget_loc\u001b[0m\u001b[0;34m(\u001b[0m\u001b[0mcasted_key\u001b[0m\u001b[0;34m)\u001b[0m\u001b[0;34m\u001b[0m\u001b[0;34m\u001b[0m\u001b[0m\n\u001b[0m\u001b[1;32m   2899\u001b[0m             \u001b[0;32mexcept\u001b[0m \u001b[0mKeyError\u001b[0m \u001b[0;32mas\u001b[0m \u001b[0merr\u001b[0m\u001b[0;34m:\u001b[0m\u001b[0;34m\u001b[0m\u001b[0;34m\u001b[0m\u001b[0m\n",
            "\u001b[0;32mpandas/_libs/index.pyx\u001b[0m in \u001b[0;36mpandas._libs.index.IndexEngine.get_loc\u001b[0;34m()\u001b[0m\n",
            "\u001b[0;32mpandas/_libs/index.pyx\u001b[0m in \u001b[0;36mpandas._libs.index.IndexEngine.get_loc\u001b[0;34m()\u001b[0m\n",
            "\u001b[0;32mpandas/_libs/hashtable_class_helper.pxi\u001b[0m in \u001b[0;36mpandas._libs.hashtable.PyObjectHashTable.get_item\u001b[0;34m()\u001b[0m\n",
            "\u001b[0;32mpandas/_libs/hashtable_class_helper.pxi\u001b[0m in \u001b[0;36mpandas._libs.hashtable.PyObjectHashTable.get_item\u001b[0;34m()\u001b[0m\n",
            "\u001b[0;31mKeyError\u001b[0m: 'losses'",
            "\nThe above exception was the direct cause of the following exception:\n",
            "\u001b[0;31mKeyError\u001b[0m                                  Traceback (most recent call last)",
            "\u001b[0;32m<ipython-input-63-f2a3f1a02fdd>\u001b[0m in \u001b[0;36m<module>\u001b[0;34m()\u001b[0m\n\u001b[0;32m----> 1\u001b[0;31m \u001b[0mdf_players\u001b[0m\u001b[0;34m[\u001b[0m\u001b[0;34m'n_matches'\u001b[0m\u001b[0;34m]\u001b[0m \u001b[0;34m=\u001b[0m \u001b[0mdf_players\u001b[0m\u001b[0;34m[\u001b[0m\u001b[0;34m'wins'\u001b[0m\u001b[0;34m]\u001b[0m \u001b[0;34m+\u001b[0m \u001b[0mdf_players\u001b[0m\u001b[0;34m[\u001b[0m\u001b[0;34m'losses'\u001b[0m\u001b[0;34m]\u001b[0m\u001b[0;34m\u001b[0m\u001b[0;34m\u001b[0m\u001b[0m\n\u001b[0m\u001b[1;32m      2\u001b[0m \u001b[0mdf_players\u001b[0m\u001b[0;34m[\u001b[0m\u001b[0;34m'p_wins'\u001b[0m\u001b[0;34m]\u001b[0m \u001b[0;34m=\u001b[0m \u001b[0mnp\u001b[0m\u001b[0;34m.\u001b[0m\u001b[0mround\u001b[0m\u001b[0;34m(\u001b[0m\u001b[0mdf_players\u001b[0m\u001b[0;34m[\u001b[0m\u001b[0;34m\"wins\"\u001b[0m\u001b[0;34m]\u001b[0m \u001b[0;34m/\u001b[0m \u001b[0mdf_players\u001b[0m\u001b[0;34m[\u001b[0m\u001b[0;34m\"n_matches\"\u001b[0m\u001b[0;34m]\u001b[0m\u001b[0;34m*\u001b[0m\u001b[0;36m100\u001b[0m\u001b[0;34m,\u001b[0m \u001b[0;36m2\u001b[0m\u001b[0;34m)\u001b[0m\u001b[0;34m\u001b[0m\u001b[0;34m\u001b[0m\u001b[0m\n\u001b[1;32m      3\u001b[0m \u001b[0;34m\u001b[0m\u001b[0m\n\u001b[1;32m      4\u001b[0m \u001b[0;31m# percentage of wins on each surface\u001b[0m\u001b[0;34m\u001b[0m\u001b[0;34m\u001b[0m\u001b[0;34m\u001b[0m\u001b[0m\n\u001b[1;32m      5\u001b[0m \u001b[0mdf_players\u001b[0m\u001b[0;34m[\u001b[0m\u001b[0;34m'p_wins_Hard'\u001b[0m\u001b[0;34m]\u001b[0m \u001b[0;34m=\u001b[0m \u001b[0mnp\u001b[0m\u001b[0;34m.\u001b[0m\u001b[0mround\u001b[0m\u001b[0;34m(\u001b[0m\u001b[0mdf_players\u001b[0m\u001b[0;34m[\u001b[0m\u001b[0;34m\"w_Hard\"\u001b[0m\u001b[0;34m]\u001b[0m \u001b[0;34m/\u001b[0m \u001b[0mdf_players\u001b[0m\u001b[0;34m[\u001b[0m\u001b[0;34m\"n_matches_Hard\"\u001b[0m\u001b[0;34m]\u001b[0m\u001b[0;34m*\u001b[0m\u001b[0;36m100\u001b[0m\u001b[0;34m,\u001b[0m \u001b[0;36m2\u001b[0m\u001b[0;34m)\u001b[0m\u001b[0;34m\u001b[0m\u001b[0;34m\u001b[0m\u001b[0m\n",
            "\u001b[0;32m/usr/local/lib/python3.7/dist-packages/pandas/core/frame.py\u001b[0m in \u001b[0;36m__getitem__\u001b[0;34m(self, key)\u001b[0m\n\u001b[1;32m   2904\u001b[0m             \u001b[0;32mif\u001b[0m \u001b[0mself\u001b[0m\u001b[0;34m.\u001b[0m\u001b[0mcolumns\u001b[0m\u001b[0;34m.\u001b[0m\u001b[0mnlevels\u001b[0m \u001b[0;34m>\u001b[0m \u001b[0;36m1\u001b[0m\u001b[0;34m:\u001b[0m\u001b[0;34m\u001b[0m\u001b[0;34m\u001b[0m\u001b[0m\n\u001b[1;32m   2905\u001b[0m                 \u001b[0;32mreturn\u001b[0m \u001b[0mself\u001b[0m\u001b[0;34m.\u001b[0m\u001b[0m_getitem_multilevel\u001b[0m\u001b[0;34m(\u001b[0m\u001b[0mkey\u001b[0m\u001b[0;34m)\u001b[0m\u001b[0;34m\u001b[0m\u001b[0;34m\u001b[0m\u001b[0m\n\u001b[0;32m-> 2906\u001b[0;31m             \u001b[0mindexer\u001b[0m \u001b[0;34m=\u001b[0m \u001b[0mself\u001b[0m\u001b[0;34m.\u001b[0m\u001b[0mcolumns\u001b[0m\u001b[0;34m.\u001b[0m\u001b[0mget_loc\u001b[0m\u001b[0;34m(\u001b[0m\u001b[0mkey\u001b[0m\u001b[0;34m)\u001b[0m\u001b[0;34m\u001b[0m\u001b[0;34m\u001b[0m\u001b[0m\n\u001b[0m\u001b[1;32m   2907\u001b[0m             \u001b[0;32mif\u001b[0m \u001b[0mis_integer\u001b[0m\u001b[0;34m(\u001b[0m\u001b[0mindexer\u001b[0m\u001b[0;34m)\u001b[0m\u001b[0;34m:\u001b[0m\u001b[0;34m\u001b[0m\u001b[0;34m\u001b[0m\u001b[0m\n\u001b[1;32m   2908\u001b[0m                 \u001b[0mindexer\u001b[0m \u001b[0;34m=\u001b[0m \u001b[0;34m[\u001b[0m\u001b[0mindexer\u001b[0m\u001b[0;34m]\u001b[0m\u001b[0;34m\u001b[0m\u001b[0;34m\u001b[0m\u001b[0m\n",
            "\u001b[0;32m/usr/local/lib/python3.7/dist-packages/pandas/core/indexes/base.py\u001b[0m in \u001b[0;36mget_loc\u001b[0;34m(self, key, method, tolerance)\u001b[0m\n\u001b[1;32m   2898\u001b[0m                 \u001b[0;32mreturn\u001b[0m \u001b[0mself\u001b[0m\u001b[0;34m.\u001b[0m\u001b[0m_engine\u001b[0m\u001b[0;34m.\u001b[0m\u001b[0mget_loc\u001b[0m\u001b[0;34m(\u001b[0m\u001b[0mcasted_key\u001b[0m\u001b[0;34m)\u001b[0m\u001b[0;34m\u001b[0m\u001b[0;34m\u001b[0m\u001b[0m\n\u001b[1;32m   2899\u001b[0m             \u001b[0;32mexcept\u001b[0m \u001b[0mKeyError\u001b[0m \u001b[0;32mas\u001b[0m \u001b[0merr\u001b[0m\u001b[0;34m:\u001b[0m\u001b[0;34m\u001b[0m\u001b[0;34m\u001b[0m\u001b[0m\n\u001b[0;32m-> 2900\u001b[0;31m                 \u001b[0;32mraise\u001b[0m \u001b[0mKeyError\u001b[0m\u001b[0;34m(\u001b[0m\u001b[0mkey\u001b[0m\u001b[0;34m)\u001b[0m \u001b[0;32mfrom\u001b[0m \u001b[0merr\u001b[0m\u001b[0;34m\u001b[0m\u001b[0;34m\u001b[0m\u001b[0m\n\u001b[0m\u001b[1;32m   2901\u001b[0m \u001b[0;34m\u001b[0m\u001b[0m\n\u001b[1;32m   2902\u001b[0m         \u001b[0;32mif\u001b[0m \u001b[0mtolerance\u001b[0m \u001b[0;32mis\u001b[0m \u001b[0;32mnot\u001b[0m \u001b[0;32mNone\u001b[0m\u001b[0;34m:\u001b[0m\u001b[0;34m\u001b[0m\u001b[0;34m\u001b[0m\u001b[0m\n",
            "\u001b[0;31mKeyError\u001b[0m: 'losses'"
          ]
        }
      ]
    },
    {
      "cell_type": "code",
      "metadata": {
        "id": "vPE-B-i7j-94"
      },
      "source": [
        "df_players = df_players.drop([\"losses\", \"n_matches_Hard\", \"n_matches_Clay\", \"n_matches_Grass\",\n",
        "                              \"aces\", \"double_faults\", \"serve_points\", \"1st_in\", \"1st_won\",\n",
        "                              \"2nd_won\", \"serve_games\", \"bp_faced\", \"n_matches\"], axis=1)"
      ],
      "execution_count": 60,
      "outputs": []
    },
    {
      "cell_type": "code",
      "metadata": {
        "colab": {
          "base_uri": "https://localhost:8080/",
          "height": 920
        },
        "id": "k5S-flbAkQS9",
        "outputId": "4fec81e3-f0e2-406e-887c-92ae36607e84"
      },
      "source": [
        "plt.pyplot.figure(figsize=(22, 14))\n",
        "sn.heatmap(df_players.corr(), annot=True, fmt=\".2f\")"
      ],
      "execution_count": 61,
      "outputs": [
        {
          "output_type": "execute_result",
          "data": {
            "text/plain": [
              "<matplotlib.axes._subplots.AxesSubplot at 0x7fc18a679bd0>"
            ]
          },
          "metadata": {},
          "execution_count": 61
        },
        {
          "output_type": "display_data",
          "data": {
            "image/png": "[encoded data removed]",
            "text/plain": [
              "<Figure size 1584x1008 with 2 Axes>"
            ]
          },
          "metadata": {
            "needs_background": "light"
          }
        }
      ]
    },
    {
      "cell_type": "code",
      "metadata": {
        "colab": {
          "base_uri": "https://localhost:8080/",
          "height": 554
        },
        "id": "6o-PCf6TlleJ",
        "outputId": "cd710985-b427-4049-f76a-c15453aec17c"
      },
      "source": [
        "df_players"
      ],
      "execution_count": 62,
      "outputs": [
        {
          "output_type": "execute_result",
          "data": {
            "text/html": [
              "<div>\n",
              "<style scoped>\n",
              "    .dataframe tbody tr th:only-of-type {\n",
              "        vertical-align: middle;\n",
              "    }\n",
              "\n",
              "    .dataframe tbody tr th {\n",
              "        vertical-align: top;\n",
              "    }\n",
              "\n",
              "    .dataframe thead th {\n",
              "        text-align: right;\n",
              "    }\n",
              "</style>\n",
              "<table border=\"1\" class=\"dataframe\">\n",
              "  <thead>\n",
              "    <tr style=\"text-align: right;\">\n",
              "      <th></th>\n",
              "      <th>name</th>\n",
              "      <th>sex</th>\n",
              "      <th>birth_date</th>\n",
              "      <th>ioc</th>\n",
              "      <th>ht</th>\n",
              "      <th>hand</th>\n",
              "      <th>wins</th>\n",
              "      <th>tourneys_won</th>\n",
              "      <th>w_Hard</th>\n",
              "      <th>w_Clay</th>\n",
              "      <th>w_Grass</th>\n",
              "      <th>bp_saved</th>\n",
              "      <th>bp_faced</th>\n",
              "      <th>rank</th>\n",
              "      <th>rank_points</th>\n",
              "      <th>n_matches</th>\n",
              "      <th>p_wins</th>\n",
              "      <th>p_wins_Hard</th>\n",
              "      <th>p_wins_Clay</th>\n",
              "      <th>p_wins_Grass</th>\n",
              "      <th>mean_aces</th>\n",
              "      <th>p_aces</th>\n",
              "      <th>mean_double_faults</th>\n",
              "      <th>p_double_faults</th>\n",
              "      <th>mean_1st_in</th>\n",
              "      <th>p_1st_in</th>\n",
              "      <th>mean_1st_won</th>\n",
              "      <th>mean_2nd_won</th>\n",
              "      <th>p_2nd_won</th>\n",
              "      <th>mean_bp_saved</th>\n",
              "      <th>mean_bp_faced</th>\n",
              "    </tr>\n",
              "  </thead>\n",
              "  <tbody>\n",
              "    <tr>\n",
              "      <th>0</th>\n",
              "      <td>alexander zverev</td>\n",
              "      <td>M</td>\n",
              "      <td>1997-04-20</td>\n",
              "      <td>DEU</td>\n",
              "      <td>198</td>\n",
              "      <td>R</td>\n",
              "      <td>260</td>\n",
              "      <td>16</td>\n",
              "      <td>154</td>\n",
              "      <td>83</td>\n",
              "      <td>23</td>\n",
              "      <td>1338</td>\n",
              "      <td>2197</td>\n",
              "      <td>5</td>\n",
              "      <td>7263</td>\n",
              "      <td>371</td>\n",
              "      <td>70.08</td>\n",
              "      <td>68.44</td>\n",
              "      <td>74.77</td>\n",
              "      <td>65.71</td>\n",
              "      <td>8</td>\n",
              "      <td>8.21</td>\n",
              "      <td>4</td>\n",
              "      <td>23.53</td>\n",
              "      <td>52</td>\n",
              "      <td>74.55</td>\n",
              "      <td>39</td>\n",
              "      <td>14</td>\n",
              "      <td>76.47</td>\n",
              "      <td>3</td>\n",
              "      <td>5</td>\n",
              "    </tr>\n",
              "    <tr>\n",
              "      <th>1</th>\n",
              "      <td>jeff greenwald</td>\n",
              "      <td>M</td>\n",
              "      <td>1966-11-10</td>\n",
              "      <td>USA</td>\n",
              "      <td>167</td>\n",
              "      <td>R</td>\n",
              "      <td>0</td>\n",
              "      <td>0</td>\n",
              "      <td>0</td>\n",
              "      <td>0</td>\n",
              "      <td>0</td>\n",
              "      <td>10</td>\n",
              "      <td>14</td>\n",
              "      <td>2221</td>\n",
              "      <td>0</td>\n",
              "      <td>1</td>\n",
              "      <td>0.00</td>\n",
              "      <td>0.00</td>\n",
              "      <td>0.00</td>\n",
              "      <td>0.00</td>\n",
              "      <td>0</td>\n",
              "      <td>10.20</td>\n",
              "      <td>5</td>\n",
              "      <td>21.74</td>\n",
              "      <td>51</td>\n",
              "      <td>60.78</td>\n",
              "      <td>31</td>\n",
              "      <td>18</td>\n",
              "      <td>78.26</td>\n",
              "      <td>10</td>\n",
              "      <td>14</td>\n",
              "    </tr>\n",
              "    <tr>\n",
              "      <th>2</th>\n",
              "      <td>agustin moreno</td>\n",
              "      <td>M</td>\n",
              "      <td>1967-03-31</td>\n",
              "      <td>MEX</td>\n",
              "      <td>180</td>\n",
              "      <td>R</td>\n",
              "      <td>1</td>\n",
              "      <td>0</td>\n",
              "      <td>0</td>\n",
              "      <td>1</td>\n",
              "      <td>0</td>\n",
              "      <td>16</td>\n",
              "      <td>29</td>\n",
              "      <td>2221</td>\n",
              "      <td>0</td>\n",
              "      <td>4</td>\n",
              "      <td>25.00</td>\n",
              "      <td>0.00</td>\n",
              "      <td>50.00</td>\n",
              "      <td>0.00</td>\n",
              "      <td>2</td>\n",
              "      <td>23.66</td>\n",
              "      <td>7</td>\n",
              "      <td>38.75</td>\n",
              "      <td>29</td>\n",
              "      <td>70.09</td>\n",
              "      <td>20</td>\n",
              "      <td>12</td>\n",
              "      <td>61.25</td>\n",
              "      <td>4</td>\n",
              "      <td>7</td>\n",
              "    </tr>\n",
              "    <tr>\n",
              "      <th>3</th>\n",
              "      <td>martin damm</td>\n",
              "      <td>M</td>\n",
              "      <td>2003-09-30</td>\n",
              "      <td>USA</td>\n",
              "      <td>200</td>\n",
              "      <td>L</td>\n",
              "      <td>2</td>\n",
              "      <td>0</td>\n",
              "      <td>2</td>\n",
              "      <td>0</td>\n",
              "      <td>0</td>\n",
              "      <td>38</td>\n",
              "      <td>64</td>\n",
              "      <td>699</td>\n",
              "      <td>32</td>\n",
              "      <td>7</td>\n",
              "      <td>28.57</td>\n",
              "      <td>50.00</td>\n",
              "      <td>0.00</td>\n",
              "      <td>0.00</td>\n",
              "      <td>3</td>\n",
              "      <td>8.14</td>\n",
              "      <td>4</td>\n",
              "      <td>20.14</td>\n",
              "      <td>46</td>\n",
              "      <td>72.36</td>\n",
              "      <td>33</td>\n",
              "      <td>15</td>\n",
              "      <td>79.86</td>\n",
              "      <td>5</td>\n",
              "      <td>9</td>\n",
              "    </tr>\n",
              "    <tr>\n",
              "      <th>4</th>\n",
              "      <td>wei yu su</td>\n",
              "      <td>M</td>\n",
              "      <td>1976-01-12</td>\n",
              "      <td>TWN</td>\n",
              "      <td>191</td>\n",
              "      <td>R</td>\n",
              "      <td>0</td>\n",
              "      <td>0</td>\n",
              "      <td>0</td>\n",
              "      <td>0</td>\n",
              "      <td>0</td>\n",
              "      <td>11</td>\n",
              "      <td>15</td>\n",
              "      <td>2221</td>\n",
              "      <td>0</td>\n",
              "      <td>1</td>\n",
              "      <td>0.00</td>\n",
              "      <td>0.00</td>\n",
              "      <td>0.00</td>\n",
              "      <td>0.00</td>\n",
              "      <td>2</td>\n",
              "      <td>7.14</td>\n",
              "      <td>4</td>\n",
              "      <td>16.00</td>\n",
              "      <td>57</td>\n",
              "      <td>61.40</td>\n",
              "      <td>35</td>\n",
              "      <td>21</td>\n",
              "      <td>84.00</td>\n",
              "      <td>11</td>\n",
              "      <td>15</td>\n",
              "    </tr>\n",
              "    <tr>\n",
              "      <th>...</th>\n",
              "      <td>...</td>\n",
              "      <td>...</td>\n",
              "      <td>...</td>\n",
              "      <td>...</td>\n",
              "      <td>...</td>\n",
              "      <td>...</td>\n",
              "      <td>...</td>\n",
              "      <td>...</td>\n",
              "      <td>...</td>\n",
              "      <td>...</td>\n",
              "      <td>...</td>\n",
              "      <td>...</td>\n",
              "      <td>...</td>\n",
              "      <td>...</td>\n",
              "      <td>...</td>\n",
              "      <td>...</td>\n",
              "      <td>...</td>\n",
              "      <td>...</td>\n",
              "      <td>...</td>\n",
              "      <td>...</td>\n",
              "      <td>...</td>\n",
              "      <td>...</td>\n",
              "      <td>...</td>\n",
              "      <td>...</td>\n",
              "      <td>...</td>\n",
              "      <td>...</td>\n",
              "      <td>...</td>\n",
              "      <td>...</td>\n",
              "      <td>...</td>\n",
              "      <td>...</td>\n",
              "      <td>...</td>\n",
              "    </tr>\n",
              "    <tr>\n",
              "      <th>4254</th>\n",
              "      <td>david o hare</td>\n",
              "      <td>M</td>\n",
              "      <td>1990-06-01</td>\n",
              "      <td>IRL</td>\n",
              "      <td>181</td>\n",
              "      <td>U</td>\n",
              "      <td>4</td>\n",
              "      <td>0</td>\n",
              "      <td>3</td>\n",
              "      <td>0</td>\n",
              "      <td>1</td>\n",
              "      <td>64</td>\n",
              "      <td>102</td>\n",
              "      <td>2221</td>\n",
              "      <td>0</td>\n",
              "      <td>15</td>\n",
              "      <td>26.67</td>\n",
              "      <td>23.08</td>\n",
              "      <td>0.00</td>\n",
              "      <td>50.00</td>\n",
              "      <td>5</td>\n",
              "      <td>15.06</td>\n",
              "      <td>6</td>\n",
              "      <td>34.77</td>\n",
              "      <td>43</td>\n",
              "      <td>70.32</td>\n",
              "      <td>30</td>\n",
              "      <td>12</td>\n",
              "      <td>65.23</td>\n",
              "      <td>4</td>\n",
              "      <td>6</td>\n",
              "    </tr>\n",
              "    <tr>\n",
              "      <th>4255</th>\n",
              "      <td>kuan-yi lee</td>\n",
              "      <td>M</td>\n",
              "      <td>1996-09-09</td>\n",
              "      <td>TWN</td>\n",
              "      <td>173</td>\n",
              "      <td>R</td>\n",
              "      <td>16</td>\n",
              "      <td>0</td>\n",
              "      <td>16</td>\n",
              "      <td>0</td>\n",
              "      <td>0</td>\n",
              "      <td>133</td>\n",
              "      <td>227</td>\n",
              "      <td>573</td>\n",
              "      <td>42</td>\n",
              "      <td>34</td>\n",
              "      <td>47.06</td>\n",
              "      <td>48.48</td>\n",
              "      <td>0.00</td>\n",
              "      <td>0.00</td>\n",
              "      <td>2</td>\n",
              "      <td>5.17</td>\n",
              "      <td>1</td>\n",
              "      <td>16.38</td>\n",
              "      <td>42</td>\n",
              "      <td>65.75</td>\n",
              "      <td>28</td>\n",
              "      <td>10</td>\n",
              "      <td>83.62</td>\n",
              "      <td>3</td>\n",
              "      <td>6</td>\n",
              "    </tr>\n",
              "    <tr>\n",
              "      <th>4256</th>\n",
              "      <td>ben patael</td>\n",
              "      <td>M</td>\n",
              "      <td>1997-06-09</td>\n",
              "      <td>ISR</td>\n",
              "      <td>179</td>\n",
              "      <td>U</td>\n",
              "      <td>16</td>\n",
              "      <td>0</td>\n",
              "      <td>10</td>\n",
              "      <td>6</td>\n",
              "      <td>0</td>\n",
              "      <td>153</td>\n",
              "      <td>272</td>\n",
              "      <td>562</td>\n",
              "      <td>45</td>\n",
              "      <td>39</td>\n",
              "      <td>41.03</td>\n",
              "      <td>45.45</td>\n",
              "      <td>35.29</td>\n",
              "      <td>0.00</td>\n",
              "      <td>4</td>\n",
              "      <td>7.42</td>\n",
              "      <td>2</td>\n",
              "      <td>18.86</td>\n",
              "      <td>41</td>\n",
              "      <td>65.82</td>\n",
              "      <td>27</td>\n",
              "      <td>12</td>\n",
              "      <td>81.14</td>\n",
              "      <td>3</td>\n",
              "      <td>6</td>\n",
              "    </tr>\n",
              "    <tr>\n",
              "      <th>4257</th>\n",
              "      <td>andres artunedo martinavarro</td>\n",
              "      <td>M</td>\n",
              "      <td>1993-09-14</td>\n",
              "      <td>ESP</td>\n",
              "      <td>182</td>\n",
              "      <td>R</td>\n",
              "      <td>13</td>\n",
              "      <td>0</td>\n",
              "      <td>13</td>\n",
              "      <td>0</td>\n",
              "      <td>0</td>\n",
              "      <td>123</td>\n",
              "      <td>205</td>\n",
              "      <td>390</td>\n",
              "      <td>40</td>\n",
              "      <td>33</td>\n",
              "      <td>39.39</td>\n",
              "      <td>40.62</td>\n",
              "      <td>0.00</td>\n",
              "      <td>0.00</td>\n",
              "      <td>7</td>\n",
              "      <td>6.32</td>\n",
              "      <td>2</td>\n",
              "      <td>17.59</td>\n",
              "      <td>43</td>\n",
              "      <td>75.52</td>\n",
              "      <td>33</td>\n",
              "      <td>13</td>\n",
              "      <td>82.41</td>\n",
              "      <td>3</td>\n",
              "      <td>6</td>\n",
              "    </tr>\n",
              "    <tr>\n",
              "      <th>4258</th>\n",
              "      <td>alona fomina</td>\n",
              "      <td>F</td>\n",
              "      <td>1989-07-05</td>\n",
              "      <td>UKR</td>\n",
              "      <td>178</td>\n",
              "      <td>R</td>\n",
              "      <td>0</td>\n",
              "      <td>0</td>\n",
              "      <td>0</td>\n",
              "      <td>0</td>\n",
              "      <td>0</td>\n",
              "      <td>10</td>\n",
              "      <td>16</td>\n",
              "      <td>583</td>\n",
              "      <td>41</td>\n",
              "      <td>1</td>\n",
              "      <td>0.00</td>\n",
              "      <td>0.00</td>\n",
              "      <td>0.00</td>\n",
              "      <td>0.00</td>\n",
              "      <td>1</td>\n",
              "      <td>20.00</td>\n",
              "      <td>11</td>\n",
              "      <td>52.38</td>\n",
              "      <td>70</td>\n",
              "      <td>64.29</td>\n",
              "      <td>45</td>\n",
              "      <td>10</td>\n",
              "      <td>47.62</td>\n",
              "      <td>10</td>\n",
              "      <td>16</td>\n",
              "    </tr>\n",
              "  </tbody>\n",
              "</table>\n",
              "<p>4255 rows × 31 columns</p>\n",
              "</div>"
            ],
            "text/plain": [
              "                              name sex  ... mean_bp_saved mean_bp_faced\n",
              "0                 alexander zverev   M  ...             3             5\n",
              "1                   jeff greenwald   M  ...            10            14\n",
              "2                   agustin moreno   M  ...             4             7\n",
              "3                      martin damm   M  ...             5             9\n",
              "4                        wei yu su   M  ...            11            15\n",
              "...                            ...  ..  ...           ...           ...\n",
              "4254                  david o hare   M  ...             4             6\n",
              "4255                   kuan-yi lee   M  ...             3             6\n",
              "4256                    ben patael   M  ...             3             6\n",
              "4257  andres artunedo martinavarro   M  ...             3             6\n",
              "4258                  alona fomina   F  ...            10            16\n",
              "\n",
              "[4255 rows x 31 columns]"
            ]
          },
          "metadata": {},
          "execution_count": 62
        }
      ]
    }
  ]
}