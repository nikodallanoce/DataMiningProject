{
  "cells": [
    {
      "cell_type": "markdown",
      "metadata": {
        "id": "OVt81kUl4-BN"
      },
      "source": [
        "**Data Mining Project, midterm 2021/2022**"
      ]
    },
    {
      "cell_type": "markdown",
      "metadata": {
        "id": "QSxxJvjA5DHm"
      },
      "source": [
        "**Authors:** Niko Dalla Noce, Alessandro Ristori, Giuseppe Lombardi"
      ]
    },
    {
      "cell_type": "markdown",
      "metadata": {
        "id": "EugX2c6c5GYa"
      },
      "source": [
        "# **Task 2 Predictive Analysis**"
      ]
    },
    {
      "cell_type": "markdown",
      "metadata": {
        "id": "Z3sBn5fH52DB"
      },
      "source": [
        "## **Import the libraries and load the player dataset**"
      ]
    },
    {
      "cell_type": "markdown",
      "metadata": {
        "id": "sBbSmbL_3sj9"
      },
      "source": [
        "First we have to import the necessary libraries to work within our project."
      ]
    },
    {
      "cell_type": "code",
      "execution_count": 158,
      "metadata": {
        "id": "w-fWIX3JUM3z"
      },
      "outputs": [],
      "source": [
        "import numpy as np\n",
        "import pandas as pd\n",
        "import matplotlib.pyplot as plt\n",
        "import scipy\n",
        "import seaborn as sn\n",
        "import math\n",
        "from tqdm.notebook import tqdm\n",
        "\n",
        "from sklearn.preprocessing import StandardScaler, MinMaxScaler\n",
        "from sklearn.cluster import KMeans, DBSCAN, AgglomerativeClustering\n",
        "from sklearn.metrics import silhouette_score, davies_bouldin_score\n",
        "from scipy.spatial.distance import pdist, squareform\n",
        "from sklearn.metrics.pairwise import euclidean_distances\n",
        "from sklearn.decomposition import PCA"
      ]
    },
    {
      "cell_type": "markdown",
      "metadata": {
        "id": "Bi2L17kg3uC7"
      },
      "source": [
        "The dataset coming from the data preparation task is saved on github."
      ]
    },
    {
      "cell_type": "code",
      "execution_count": 159,
      "metadata": {
        "colab": {
          "base_uri": "https://localhost:8080/"
        },
        "id": "AzodRExypwzc",
        "outputId": "e74babbc-a2ae-42a4-968c-3e7d96d3fa4f"
      },
      "outputs": [
        {
          "name": "stdout",
          "output_type": "stream",
          "text": [
            "fatal: il path di destinazione 'DataMiningProject' esiste già e non è una directory vuota.\n"
          ]
        }
      ],
      "source": [
        "!git clone 'https://github.com/nikodallanoce/DataMiningProject/'"
      ]
    },
    {
      "cell_type": "markdown",
      "metadata": {
        "id": "-cZGqECz34xU"
      },
      "source": [
        "**Load the players' profile dataset**"
      ]
    },
    {
      "cell_type": "code",
      "execution_count": 160,
      "metadata": {
        "colab": {
          "base_uri": "https://localhost:8080/",
          "height": 0
        },
        "id": "70Wnl2RCUN4P",
        "outputId": "7f5d5e6d-8169-4304-9b0b-406602f7a56c"
      },
      "outputs": [
        {
          "data": {
            "text/html": [
              "<div>\n",
              "<style scoped>\n",
              "    .dataframe tbody tr th:only-of-type {\n",
              "        vertical-align: middle;\n",
              "    }\n",
              "\n",
              "    .dataframe tbody tr th {\n",
              "        vertical-align: top;\n",
              "    }\n",
              "\n",
              "    .dataframe thead th {\n",
              "        text-align: right;\n",
              "    }\n",
              "</style>\n",
              "<table border=\"1\" class=\"dataframe\">\n",
              "  <thead>\n",
              "    <tr style=\"text-align: right;\">\n",
              "      <th></th>\n",
              "      <th>name</th>\n",
              "      <th>sex</th>\n",
              "      <th>age</th>\n",
              "      <th>ioc</th>\n",
              "      <th>ht</th>\n",
              "      <th>hand</th>\n",
              "      <th>t_won</th>\n",
              "      <th>p_wins</th>\n",
              "      <th>wins</th>\n",
              "      <th>p_w_Hard</th>\n",
              "      <th>...</th>\n",
              "      <th>mean_2nd_won</th>\n",
              "      <th>mean_sv_points</th>\n",
              "      <th>p_bp_saved</th>\n",
              "      <th>mean_bp_saved</th>\n",
              "      <th>mean_bp_faced</th>\n",
              "      <th>rank</th>\n",
              "      <th>rank_points</th>\n",
              "      <th>age_range</th>\n",
              "      <th>ht_range</th>\n",
              "      <th>rank_range</th>\n",
              "    </tr>\n",
              "  </thead>\n",
              "  <tbody>\n",
              "    <tr>\n",
              "      <th>0</th>\n",
              "      <td>alexander zverev</td>\n",
              "      <td>M</td>\n",
              "      <td>24</td>\n",
              "      <td>DEU</td>\n",
              "      <td>198</td>\n",
              "      <td>R</td>\n",
              "      <td>16</td>\n",
              "      <td>70.08</td>\n",
              "      <td>260</td>\n",
              "      <td>68.44</td>\n",
              "      <td>...</td>\n",
              "      <td>14</td>\n",
              "      <td>81</td>\n",
              "      <td>60.90</td>\n",
              "      <td>3</td>\n",
              "      <td>5</td>\n",
              "      <td>5</td>\n",
              "      <td>7263</td>\n",
              "      <td>[21,27]</td>\n",
              "      <td>&gt;190</td>\n",
              "      <td>top 10</td>\n",
              "    </tr>\n",
              "    <tr>\n",
              "      <th>8</th>\n",
              "      <td>frank moser</td>\n",
              "      <td>M</td>\n",
              "      <td>40</td>\n",
              "      <td>DEU</td>\n",
              "      <td>193</td>\n",
              "      <td>R</td>\n",
              "      <td>0</td>\n",
              "      <td>45.45</td>\n",
              "      <td>5</td>\n",
              "      <td>50.00</td>\n",
              "      <td>...</td>\n",
              "      <td>14</td>\n",
              "      <td>70</td>\n",
              "      <td>68.83</td>\n",
              "      <td>4</td>\n",
              "      <td>7</td>\n",
              "      <td>848</td>\n",
              "      <td>19</td>\n",
              "      <td>&gt;34</td>\n",
              "      <td>&gt;190</td>\n",
              "      <td>top 1000</td>\n",
              "    </tr>\n",
              "    <tr>\n",
              "      <th>13</th>\n",
              "      <td>ruben ramirez hidalgo</td>\n",
              "      <td>M</td>\n",
              "      <td>41</td>\n",
              "      <td>ESP</td>\n",
              "      <td>183</td>\n",
              "      <td>R</td>\n",
              "      <td>0</td>\n",
              "      <td>52.27</td>\n",
              "      <td>46</td>\n",
              "      <td>57.89</td>\n",
              "      <td>...</td>\n",
              "      <td>14</td>\n",
              "      <td>69</td>\n",
              "      <td>61.38</td>\n",
              "      <td>4</td>\n",
              "      <td>7</td>\n",
              "      <td>341</td>\n",
              "      <td>142</td>\n",
              "      <td>&gt;34</td>\n",
              "      <td>[181,190]</td>\n",
              "      <td>top 500</td>\n",
              "    </tr>\n",
              "    <tr>\n",
              "      <th>14</th>\n",
              "      <td>tommy haas</td>\n",
              "      <td>M</td>\n",
              "      <td>39</td>\n",
              "      <td>DEU</td>\n",
              "      <td>188</td>\n",
              "      <td>R</td>\n",
              "      <td>0</td>\n",
              "      <td>30.00</td>\n",
              "      <td>6</td>\n",
              "      <td>0.00</td>\n",
              "      <td>...</td>\n",
              "      <td>17</td>\n",
              "      <td>85</td>\n",
              "      <td>68.52</td>\n",
              "      <td>5</td>\n",
              "      <td>8</td>\n",
              "      <td>248</td>\n",
              "      <td>205</td>\n",
              "      <td>&gt;34</td>\n",
              "      <td>[181,190]</td>\n",
              "      <td>top 250</td>\n",
              "    </tr>\n",
              "    <tr>\n",
              "      <th>15</th>\n",
              "      <td>toshihide matsui</td>\n",
              "      <td>M</td>\n",
              "      <td>41</td>\n",
              "      <td>JPN</td>\n",
              "      <td>180</td>\n",
              "      <td>R</td>\n",
              "      <td>0</td>\n",
              "      <td>37.74</td>\n",
              "      <td>20</td>\n",
              "      <td>38.78</td>\n",
              "      <td>...</td>\n",
              "      <td>12</td>\n",
              "      <td>61</td>\n",
              "      <td>61.29</td>\n",
              "      <td>3</td>\n",
              "      <td>5</td>\n",
              "      <td>752</td>\n",
              "      <td>21</td>\n",
              "      <td>&gt;34</td>\n",
              "      <td>[171,180]</td>\n",
              "      <td>top 1000</td>\n",
              "    </tr>\n",
              "    <tr>\n",
              "      <th>...</th>\n",
              "      <td>...</td>\n",
              "      <td>...</td>\n",
              "      <td>...</td>\n",
              "      <td>...</td>\n",
              "      <td>...</td>\n",
              "      <td>...</td>\n",
              "      <td>...</td>\n",
              "      <td>...</td>\n",
              "      <td>...</td>\n",
              "      <td>...</td>\n",
              "      <td>...</td>\n",
              "      <td>...</td>\n",
              "      <td>...</td>\n",
              "      <td>...</td>\n",
              "      <td>...</td>\n",
              "      <td>...</td>\n",
              "      <td>...</td>\n",
              "      <td>...</td>\n",
              "      <td>...</td>\n",
              "      <td>...</td>\n",
              "      <td>...</td>\n",
              "    </tr>\n",
              "    <tr>\n",
              "      <th>4253</th>\n",
              "      <td>alexandar lazov</td>\n",
              "      <td>M</td>\n",
              "      <td>29</td>\n",
              "      <td>BGR</td>\n",
              "      <td>182</td>\n",
              "      <td>U</td>\n",
              "      <td>0</td>\n",
              "      <td>53.12</td>\n",
              "      <td>17</td>\n",
              "      <td>33.33</td>\n",
              "      <td>...</td>\n",
              "      <td>11</td>\n",
              "      <td>63</td>\n",
              "      <td>61.04</td>\n",
              "      <td>4</td>\n",
              "      <td>7</td>\n",
              "      <td>828</td>\n",
              "      <td>16</td>\n",
              "      <td>[28,34]</td>\n",
              "      <td>[181,190]</td>\n",
              "      <td>top 1000</td>\n",
              "    </tr>\n",
              "    <tr>\n",
              "      <th>4254</th>\n",
              "      <td>david o hare</td>\n",
              "      <td>M</td>\n",
              "      <td>27</td>\n",
              "      <td>IRL</td>\n",
              "      <td>184</td>\n",
              "      <td>U</td>\n",
              "      <td>0</td>\n",
              "      <td>26.67</td>\n",
              "      <td>4</td>\n",
              "      <td>23.08</td>\n",
              "      <td>...</td>\n",
              "      <td>12</td>\n",
              "      <td>71</td>\n",
              "      <td>62.75</td>\n",
              "      <td>4</td>\n",
              "      <td>6</td>\n",
              "      <td>2221</td>\n",
              "      <td>0</td>\n",
              "      <td>[21,27]</td>\n",
              "      <td>[181,190]</td>\n",
              "      <td>top 1000</td>\n",
              "    </tr>\n",
              "    <tr>\n",
              "      <th>4255</th>\n",
              "      <td>kuan-yi lee</td>\n",
              "      <td>M</td>\n",
              "      <td>23</td>\n",
              "      <td>TWN</td>\n",
              "      <td>173</td>\n",
              "      <td>R</td>\n",
              "      <td>0</td>\n",
              "      <td>47.06</td>\n",
              "      <td>16</td>\n",
              "      <td>48.48</td>\n",
              "      <td>...</td>\n",
              "      <td>10</td>\n",
              "      <td>62</td>\n",
              "      <td>58.59</td>\n",
              "      <td>3</td>\n",
              "      <td>6</td>\n",
              "      <td>573</td>\n",
              "      <td>42</td>\n",
              "      <td>[21,27]</td>\n",
              "      <td>[171,180]</td>\n",
              "      <td>top 1000</td>\n",
              "    </tr>\n",
              "    <tr>\n",
              "      <th>4256</th>\n",
              "      <td>ben patael</td>\n",
              "      <td>M</td>\n",
              "      <td>22</td>\n",
              "      <td>ISR</td>\n",
              "      <td>192</td>\n",
              "      <td>U</td>\n",
              "      <td>0</td>\n",
              "      <td>41.03</td>\n",
              "      <td>16</td>\n",
              "      <td>45.45</td>\n",
              "      <td>...</td>\n",
              "      <td>12</td>\n",
              "      <td>67</td>\n",
              "      <td>56.25</td>\n",
              "      <td>3</td>\n",
              "      <td>6</td>\n",
              "      <td>562</td>\n",
              "      <td>45</td>\n",
              "      <td>[21,27]</td>\n",
              "      <td>&gt;190</td>\n",
              "      <td>top 1000</td>\n",
              "    </tr>\n",
              "    <tr>\n",
              "      <th>4257</th>\n",
              "      <td>andres artunedo martinavarro</td>\n",
              "      <td>M</td>\n",
              "      <td>25</td>\n",
              "      <td>ESP</td>\n",
              "      <td>183</td>\n",
              "      <td>R</td>\n",
              "      <td>0</td>\n",
              "      <td>39.39</td>\n",
              "      <td>13</td>\n",
              "      <td>40.62</td>\n",
              "      <td>...</td>\n",
              "      <td>13</td>\n",
              "      <td>73</td>\n",
              "      <td>60.00</td>\n",
              "      <td>3</td>\n",
              "      <td>6</td>\n",
              "      <td>390</td>\n",
              "      <td>40</td>\n",
              "      <td>[21,27]</td>\n",
              "      <td>[181,190]</td>\n",
              "      <td>top 500</td>\n",
              "    </tr>\n",
              "  </tbody>\n",
              "</table>\n",
              "<p>1600 rows × 32 columns</p>\n",
              "</div>"
            ],
            "text/plain": [
              "                              name sex  age  ioc   ht hand  t_won  p_wins  \\\n",
              "0                 alexander zverev   M   24  DEU  198    R     16   70.08   \n",
              "8                      frank moser   M   40  DEU  193    R      0   45.45   \n",
              "13           ruben ramirez hidalgo   M   41  ESP  183    R      0   52.27   \n",
              "14                      tommy haas   M   39  DEU  188    R      0   30.00   \n",
              "15                toshihide matsui   M   41  JPN  180    R      0   37.74   \n",
              "...                            ...  ..  ...  ...  ...  ...    ...     ...   \n",
              "4253               alexandar lazov   M   29  BGR  182    U      0   53.12   \n",
              "4254                  david o hare   M   27  IRL  184    U      0   26.67   \n",
              "4255                   kuan-yi lee   M   23  TWN  173    R      0   47.06   \n",
              "4256                    ben patael   M   22  ISR  192    U      0   41.03   \n",
              "4257  andres artunedo martinavarro   M   25  ESP  183    R      0   39.39   \n",
              "\n",
              "      wins  p_w_Hard  ...  mean_2nd_won  mean_sv_points  p_bp_saved  \\\n",
              "0      260     68.44  ...            14              81       60.90   \n",
              "8        5     50.00  ...            14              70       68.83   \n",
              "13      46     57.89  ...            14              69       61.38   \n",
              "14       6      0.00  ...            17              85       68.52   \n",
              "15      20     38.78  ...            12              61       61.29   \n",
              "...    ...       ...  ...           ...             ...         ...   \n",
              "4253    17     33.33  ...            11              63       61.04   \n",
              "4254     4     23.08  ...            12              71       62.75   \n",
              "4255    16     48.48  ...            10              62       58.59   \n",
              "4256    16     45.45  ...            12              67       56.25   \n",
              "4257    13     40.62  ...            13              73       60.00   \n",
              "\n",
              "      mean_bp_saved  mean_bp_faced  rank  rank_points  age_range   ht_range  \\\n",
              "0                 3              5     5         7263    [21,27]       >190   \n",
              "8                 4              7   848           19        >34       >190   \n",
              "13                4              7   341          142        >34  [181,190]   \n",
              "14                5              8   248          205        >34  [181,190]   \n",
              "15                3              5   752           21        >34  [171,180]   \n",
              "...             ...            ...   ...          ...        ...        ...   \n",
              "4253              4              7   828           16    [28,34]  [181,190]   \n",
              "4254              4              6  2221            0    [21,27]  [181,190]   \n",
              "4255              3              6   573           42    [21,27]  [171,180]   \n",
              "4256              3              6   562           45    [21,27]       >190   \n",
              "4257              3              6   390           40    [21,27]  [181,190]   \n",
              "\n",
              "      rank_range  \n",
              "0         top 10  \n",
              "8       top 1000  \n",
              "13       top 500  \n",
              "14       top 250  \n",
              "15      top 1000  \n",
              "...          ...  \n",
              "4253    top 1000  \n",
              "4254    top 1000  \n",
              "4255    top 1000  \n",
              "4256    top 1000  \n",
              "4257     top 500  \n",
              "\n",
              "[1600 rows x 32 columns]"
            ]
          },
          "execution_count": 160,
          "metadata": {},
          "output_type": "execute_result"
        }
      ],
      "source": [
        "PATH = '/content/DataMiningProject/DM_14_TASK2/players_dataset.gzip'\n",
        "df_players = pd.read_parquet(PATH)\n",
        "df_players"
      ]
    },
    {
      "cell_type": "code",
      "execution_count": 161,
      "metadata": {
        "colab": {
          "base_uri": "https://localhost:8080/"
        },
        "id": "Rbb8ZBVU9Zbm",
        "outputId": "9bb269c1-433f-4297-9fb7-e3fa62b11106"
      },
      "outputs": [
        {
          "name": "stdout",
          "output_type": "stream",
          "text": [
            "<class 'pandas.core.frame.DataFrame'>\n",
            "Int64Index: 1600 entries, 0 to 4257\n",
            "Data columns (total 32 columns):\n",
            " #   Column           Non-Null Count  Dtype   \n",
            "---  ------           --------------  -----   \n",
            " 0   name             1600 non-null   object  \n",
            " 1   sex              1600 non-null   object  \n",
            " 2   age              1600 non-null   int32   \n",
            " 3   ioc              1600 non-null   object  \n",
            " 4   ht               1600 non-null   int32   \n",
            " 5   hand             1600 non-null   object  \n",
            " 6   t_won            1600 non-null   int32   \n",
            " 7   p_wins           1600 non-null   float64 \n",
            " 8   wins             1600 non-null   int32   \n",
            " 9   p_w_Hard         1600 non-null   float64 \n",
            " 10  w_Hard           1600 non-null   int32   \n",
            " 11  p_w_Clay         1600 non-null   float64 \n",
            " 12  w_Clay           1600 non-null   int32   \n",
            " 13  p_w_Grass        1600 non-null   float64 \n",
            " 14  w_Grass          1600 non-null   int32   \n",
            " 15  p_aces           1600 non-null   float64 \n",
            " 16  p_double_faults  1600 non-null   float64 \n",
            " 17  p_1st_in         1600 non-null   float64 \n",
            " 18  mean_1st_in      1600 non-null   int32   \n",
            " 19  p_1st_won        1600 non-null   float64 \n",
            " 20  mean_1st_won     1600 non-null   int32   \n",
            " 21  p_2nd_won        1600 non-null   float64 \n",
            " 22  mean_2nd_won     1600 non-null   int32   \n",
            " 23  mean_sv_points   1600 non-null   int32   \n",
            " 24  p_bp_saved       1600 non-null   float64 \n",
            " 25  mean_bp_saved    1600 non-null   int32   \n",
            " 26  mean_bp_faced    1600 non-null   int32   \n",
            " 27  rank             1600 non-null   int32   \n",
            " 28  rank_points      1600 non-null   int32   \n",
            " 29  age_range        1600 non-null   category\n",
            " 30  ht_range         1600 non-null   category\n",
            " 31  rank_range       1600 non-null   category\n",
            "dtypes: category(3), float64(10), int32(15), object(4)\n",
            "memory usage: 286.7+ KB\n"
          ]
        }
      ],
      "source": [
        "df_players.info()"
      ]
    },
    {
      "cell_type": "markdown",
      "metadata": {
        "id": "c9QT0_-OMiEL"
      },
      "source": [
        "## **Data Labelling**"
      ]
    },
    {
      "cell_type": "markdown",
      "metadata": {
        "id": "BnOctPsCE7NN"
      },
      "source": [
        "**Compute the label for any customer**"
      ]
    },
    {
      "cell_type": "code",
      "execution_count": 162,
      "metadata": {
        "id": "fmQJ8Gb99bvj"
      },
      "outputs": [],
      "source": [
        "df_label = df_players[['p_wins', 'wins','rank', 'rank_points']]"
      ]
    },
    {
      "cell_type": "code",
      "execution_count": 163,
      "metadata": {
        "colab": {
          "base_uri": "https://localhost:8080/",
          "height": 423
        },
        "id": "70B9dNKDFozX",
        "outputId": "85fbce0b-97fd-43e2-b46c-d6d871a4e5e5"
      },
      "outputs": [
        {
          "data": {
            "text/html": [
              "<div>\n",
              "<style scoped>\n",
              "    .dataframe tbody tr th:only-of-type {\n",
              "        vertical-align: middle;\n",
              "    }\n",
              "\n",
              "    .dataframe tbody tr th {\n",
              "        vertical-align: top;\n",
              "    }\n",
              "\n",
              "    .dataframe thead th {\n",
              "        text-align: right;\n",
              "    }\n",
              "</style>\n",
              "<table border=\"1\" class=\"dataframe\">\n",
              "  <thead>\n",
              "    <tr style=\"text-align: right;\">\n",
              "      <th></th>\n",
              "      <th>p_wins</th>\n",
              "      <th>wins</th>\n",
              "      <th>rank</th>\n",
              "      <th>rank_points</th>\n",
              "    </tr>\n",
              "  </thead>\n",
              "  <tbody>\n",
              "    <tr>\n",
              "      <th>0</th>\n",
              "      <td>2.014899</td>\n",
              "      <td>3.878259</td>\n",
              "      <td>-1.130862</td>\n",
              "      <td>7.417577</td>\n",
              "    </tr>\n",
              "    <tr>\n",
              "      <th>8</th>\n",
              "      <td>0.084832</td>\n",
              "      <td>-0.836725</td>\n",
              "      <td>1.012741</td>\n",
              "      <td>-0.440268</td>\n",
              "    </tr>\n",
              "    <tr>\n",
              "      <th>13</th>\n",
              "      <td>0.619264</td>\n",
              "      <td>-0.078629</td>\n",
              "      <td>-0.276472</td>\n",
              "      <td>-0.306845</td>\n",
              "    </tr>\n",
              "    <tr>\n",
              "      <th>14</th>\n",
              "      <td>-1.125868</td>\n",
              "      <td>-0.818235</td>\n",
              "      <td>-0.512955</td>\n",
              "      <td>-0.238507</td>\n",
              "    </tr>\n",
              "    <tr>\n",
              "      <th>15</th>\n",
              "      <td>-0.519343</td>\n",
              "      <td>-0.559373</td>\n",
              "      <td>0.768630</td>\n",
              "      <td>-0.438099</td>\n",
              "    </tr>\n",
              "    <tr>\n",
              "      <th>...</th>\n",
              "      <td>...</td>\n",
              "      <td>...</td>\n",
              "      <td>...</td>\n",
              "      <td>...</td>\n",
              "    </tr>\n",
              "    <tr>\n",
              "      <th>4253</th>\n",
              "      <td>0.685872</td>\n",
              "      <td>-0.614843</td>\n",
              "      <td>0.961885</td>\n",
              "      <td>-0.443522</td>\n",
              "    </tr>\n",
              "    <tr>\n",
              "      <th>4254</th>\n",
              "      <td>-1.386815</td>\n",
              "      <td>-0.855215</td>\n",
              "      <td>4.504044</td>\n",
              "      <td>-0.460878</td>\n",
              "    </tr>\n",
              "    <tr>\n",
              "      <th>4255</th>\n",
              "      <td>0.210995</td>\n",
              "      <td>-0.633333</td>\n",
              "      <td>0.313464</td>\n",
              "      <td>-0.415319</td>\n",
              "    </tr>\n",
              "    <tr>\n",
              "      <th>4256</th>\n",
              "      <td>-0.261530</td>\n",
              "      <td>-0.633333</td>\n",
              "      <td>0.285493</td>\n",
              "      <td>-0.412065</td>\n",
              "    </tr>\n",
              "    <tr>\n",
              "      <th>4257</th>\n",
              "      <td>-0.390045</td>\n",
              "      <td>-0.688804</td>\n",
              "      <td>-0.151874</td>\n",
              "      <td>-0.417489</td>\n",
              "    </tr>\n",
              "  </tbody>\n",
              "</table>\n",
              "<p>1600 rows × 4 columns</p>\n",
              "</div>"
            ],
            "text/plain": [
              "        p_wins      wins      rank  rank_points\n",
              "0     2.014899  3.878259 -1.130862     7.417577\n",
              "8     0.084832 -0.836725  1.012741    -0.440268\n",
              "13    0.619264 -0.078629 -0.276472    -0.306845\n",
              "14   -1.125868 -0.818235 -0.512955    -0.238507\n",
              "15   -0.519343 -0.559373  0.768630    -0.438099\n",
              "...        ...       ...       ...          ...\n",
              "4253  0.685872 -0.614843  0.961885    -0.443522\n",
              "4254 -1.386815 -0.855215  4.504044    -0.460878\n",
              "4255  0.210995 -0.633333  0.313464    -0.415319\n",
              "4256 -0.261530 -0.633333  0.285493    -0.412065\n",
              "4257 -0.390045 -0.688804 -0.151874    -0.417489\n",
              "\n",
              "[1600 rows x 4 columns]"
            ]
          },
          "execution_count": 163,
          "metadata": {},
          "output_type": "execute_result"
        }
      ],
      "source": [
        "scaler = StandardScaler()  # z-score scaler\n",
        "\n",
        "x_scaled = scaler.fit_transform(df_label.values)\n",
        "df_label_scaled = pd.DataFrame(x_scaled, columns=df_label.columns, index=df_label.index)\n",
        "\n",
        "df_label_scaled"
      ]
    },
    {
      "cell_type": "code",
      "execution_count": 164,
      "metadata": {
        "colab": {
          "base_uri": "https://localhost:8080/"
        },
        "id": "CKoOosGKVBuN",
        "outputId": "a06d00b6-1f33-43eb-d3e0-74abb5d0bf77"
      },
      "outputs": [
        {
          "data": {
            "text/plain": [
              "KMeans(n_clusters=2, n_init=100)"
            ]
          },
          "execution_count": 164,
          "metadata": {},
          "output_type": "execute_result"
        }
      ],
      "source": [
        "k = 2\n",
        "kmeans = KMeans(n_clusters=k, n_init=100)\n",
        "kmeans.fit(x_scaled)"
      ]
    },
    {
      "cell_type": "markdown",
      "metadata": {
        "id": "MKjTREMi3L2d"
      },
      "source": [
        "Let's see how many players are in each cluster."
      ]
    },
    {
      "cell_type": "code",
      "execution_count": 165,
      "metadata": {
        "colab": {
          "base_uri": "https://localhost:8080/"
        },
        "id": "27t-8_q4VT6a",
        "outputId": "7a2993bc-c1f1-4344-a052-d04440850a49"
      },
      "outputs": [
        {
          "name": "stdout",
          "output_type": "stream",
          "text": [
            "{0: 1044, 1: 556}\n"
          ]
        }
      ],
      "source": [
        "hist, bins = np.histogram(kmeans.labels_, bins=range(0, len(set(kmeans.labels_)) + 1))\n",
        "clust_dict = dict(zip(bins, hist))\n",
        "print(clust_dict)"
      ]
    },
    {
      "cell_type": "markdown",
      "metadata": {
        "id": "rOsSdD2vCUlf"
      },
      "source": [
        "We now plot the clusters using the PCA."
      ]
    },
    {
      "cell_type": "code",
      "execution_count": 166,
      "metadata": {
        "colab": {
          "base_uri": "https://localhost:8080/",
          "height": 553
        },
        "id": "nc6JZidxWxNJ",
        "outputId": "9a7bf71b-aaf8-4d2f-ca1e-64cbef99e366"
      },
      "outputs": [
        {
          "data": {
            "text/plain": [
              "Text(255    7.500884\n",
              "Name: PC_1, dtype: float64, 255    8.152789\n",
              "Name: PC_2, dtype: float64, 'novak djokovic')"
            ]
          },
          "execution_count": 166,
          "metadata": {},
          "output_type": "execute_result"
        },
        {
          "data": {
            "image/png": "[encoded data removed]",
            "text/plain": [
              "<Figure size 864x576 with 1 Axes>"
            ]
          },
          "metadata": {
            "needs_background": "light"
          },
          "output_type": "display_data"
        }
      ],
      "source": [
        "pca = PCA(n_components=2) \n",
        "data_to_visualize = pd.DataFrame(pca.fit_transform(x_scaled), columns=['PC_1','PC_2'], index=df_label.index)\n",
        "data_to_visualize['cluster'] = pd.Categorical(kmeans.labels_)\n",
        "plt.figure(figsize=(12,8))\n",
        "sn.scatterplot(x=\"PC_1\",y=\"PC_2\", hue=\"cluster\", data=data_to_visualize);\n",
        "\n",
        "name = 'novak djokovic'  # we took the player with the most tourneys won as an example\n",
        "index = df_label[df_players['name'] == name].index\n",
        "a = data_to_visualize.loc[index, 'PC_1']\n",
        "b = data_to_visualize.loc[index, 'PC_2']\n",
        "sn.scatterplot(x=a, y=b, s=500, marker='*')\n",
        "plt.text(x=a-3, y=b-0.14, s=name, fontdict=dict(color='black', alpha=0.5, size=16))"
      ]
    },
    {
      "cell_type": "code",
      "execution_count": 167,
      "metadata": {
        "id": "Sb4Inioytm7i"
      },
      "outputs": [],
      "source": [
        "def plot_basic_statistics(df, labels, columns):\n",
        "    df_plot = pd.DataFrame(df, columns=columns, copy=True)\n",
        "    df_plot['cluster'] = labels\n",
        "    columns = df_plot.columns[0:-1]     \n",
        "    means = []\n",
        "    std = []\n",
        "    label_s = 12\n",
        "    fig = plt.figure(figsize=(14,8))\n",
        "    for i in np.unique(df_plot['cluster'].array):\n",
        "        clust = df.loc[df_plot['cluster'] == i, columns]\n",
        "        means.append(clust.describe().loc['mean'].values)\n",
        "        std.append(clust.describe().loc['std'].values)  \n",
        "    legend = []\n",
        "    for i in np.unique(df_plot['cluster'].array):\n",
        "        plt.plot(range(0, columns.shape[0]), means[i], marker='o')\n",
        "        legend.append('Cluster %d' %i)\n",
        "    plt.legend(legend)\n",
        "    plt.xticks(range(0, columns.shape[0]), columns, fontsize=label_s, rotation=55)"
      ]
    },
    {
      "cell_type": "code",
      "execution_count": 168,
      "metadata": {
        "colab": {
          "base_uri": "https://localhost:8080/",
          "height": 538
        },
        "id": "nESxeOAttoHX",
        "outputId": "a52a2820-244e-4f55-f0bc-aaf21d6b487c"
      },
      "outputs": [
        {
          "data": {
            "image/png": "[encoded data removed]",
            "text/plain": [
              "<Figure size 1008x576 with 1 Axes>"
            ]
          },
          "metadata": {
            "needs_background": "light"
          },
          "output_type": "display_data"
        }
      ],
      "source": [
        "label_players = kmeans.labels_\n",
        "plot_basic_statistics(df_label_scaled, label_players, df_label_scaled.columns)"
      ]
    },
    {
      "cell_type": "markdown",
      "metadata": {
        "id": "VfDWAqD4Ceu3"
      },
      "source": [
        "From what we can see, cluster 1 contains the strong players, meanwhile cluster 0 contains weak players."
      ]
    },
    {
      "cell_type": "code",
      "execution_count": 169,
      "metadata": {
        "colab": {
          "base_uri": "https://localhost:8080/",
          "height": 328
        },
        "id": "yfClJjcqK-bF",
        "outputId": "dc73684c-3160-4c3d-b61e-483564d244d3"
      },
      "outputs": [
        {
          "data": {
            "text/plain": [
              "<AxesSubplot:title={'center':'Rank per cluster'}, xlabel='Cluster', ylabel='Frequences'>"
            ]
          },
          "execution_count": 169,
          "metadata": {},
          "output_type": "execute_result"
        },
        {
          "data": {
            "text/plain": [
              "<Figure size 1368x360 with 0 Axes>"
            ]
          },
          "metadata": {},
          "output_type": "display_data"
        },
        {
          "data": {
            "image/png": "[encoded data removed]",
            "text/plain": [
              "<Figure size 432x288 with 1 Axes>"
            ]
          },
          "metadata": {
            "needs_background": "light"
          },
          "output_type": "display_data"
        }
      ],
      "source": [
        "fig = plt.figure(figsize=(19, 5));\n",
        "\n",
        "label_players = kmeans.labels_\n",
        "\n",
        "rank_xt_pct = pd.crosstab(label_players, df_players['rank_range'])\n",
        "rank_xt_pct.plot(kind='bar', stacked=False, title='Rank per cluster', xlabel=\"Cluster\", ylabel=\"Frequences\")"
      ]
    },
    {
      "cell_type": "markdown",
      "metadata": {
        "id": "UsvvYqBkLzCL"
      },
      "source": [
        "**Labelling the players**: target 0 represents weak player, target 1 represents strong player."
      ]
    },
    {
      "cell_type": "code",
      "execution_count": 170,
      "metadata": {
        "colab": {
          "base_uri": "https://localhost:8080/",
          "height": 565
        },
        "id": "4Mgp_8YuJvHF",
        "outputId": "279f0351-2004-4e97-dcf2-75f35eb3c945"
      },
      "outputs": [
        {
          "data": {
            "text/html": [
              "<div>\n",
              "<style scoped>\n",
              "    .dataframe tbody tr th:only-of-type {\n",
              "        vertical-align: middle;\n",
              "    }\n",
              "\n",
              "    .dataframe tbody tr th {\n",
              "        vertical-align: top;\n",
              "    }\n",
              "\n",
              "    .dataframe thead th {\n",
              "        text-align: right;\n",
              "    }\n",
              "</style>\n",
              "<table border=\"1\" class=\"dataframe\">\n",
              "  <thead>\n",
              "    <tr style=\"text-align: right;\">\n",
              "      <th></th>\n",
              "      <th>name</th>\n",
              "      <th>sex</th>\n",
              "      <th>age</th>\n",
              "      <th>ioc</th>\n",
              "      <th>ht</th>\n",
              "      <th>hand</th>\n",
              "      <th>t_won</th>\n",
              "      <th>p_wins</th>\n",
              "      <th>wins</th>\n",
              "      <th>p_w_Hard</th>\n",
              "      <th>...</th>\n",
              "      <th>mean_sv_points</th>\n",
              "      <th>p_bp_saved</th>\n",
              "      <th>mean_bp_saved</th>\n",
              "      <th>mean_bp_faced</th>\n",
              "      <th>rank</th>\n",
              "      <th>rank_points</th>\n",
              "      <th>age_range</th>\n",
              "      <th>ht_range</th>\n",
              "      <th>rank_range</th>\n",
              "      <th>target</th>\n",
              "    </tr>\n",
              "  </thead>\n",
              "  <tbody>\n",
              "    <tr>\n",
              "      <th>0</th>\n",
              "      <td>alexander zverev</td>\n",
              "      <td>M</td>\n",
              "      <td>24</td>\n",
              "      <td>DEU</td>\n",
              "      <td>198</td>\n",
              "      <td>R</td>\n",
              "      <td>16</td>\n",
              "      <td>70.08</td>\n",
              "      <td>260</td>\n",
              "      <td>68.44</td>\n",
              "      <td>...</td>\n",
              "      <td>81</td>\n",
              "      <td>60.90</td>\n",
              "      <td>3</td>\n",
              "      <td>5</td>\n",
              "      <td>5</td>\n",
              "      <td>7263</td>\n",
              "      <td>[21,27]</td>\n",
              "      <td>&gt;190</td>\n",
              "      <td>top 10</td>\n",
              "      <td>1</td>\n",
              "    </tr>\n",
              "    <tr>\n",
              "      <th>8</th>\n",
              "      <td>frank moser</td>\n",
              "      <td>M</td>\n",
              "      <td>40</td>\n",
              "      <td>DEU</td>\n",
              "      <td>193</td>\n",
              "      <td>R</td>\n",
              "      <td>0</td>\n",
              "      <td>45.45</td>\n",
              "      <td>5</td>\n",
              "      <td>50.00</td>\n",
              "      <td>...</td>\n",
              "      <td>70</td>\n",
              "      <td>68.83</td>\n",
              "      <td>4</td>\n",
              "      <td>7</td>\n",
              "      <td>848</td>\n",
              "      <td>19</td>\n",
              "      <td>&gt;34</td>\n",
              "      <td>&gt;190</td>\n",
              "      <td>top 1000</td>\n",
              "      <td>0</td>\n",
              "    </tr>\n",
              "    <tr>\n",
              "      <th>13</th>\n",
              "      <td>ruben ramirez hidalgo</td>\n",
              "      <td>M</td>\n",
              "      <td>41</td>\n",
              "      <td>ESP</td>\n",
              "      <td>183</td>\n",
              "      <td>R</td>\n",
              "      <td>0</td>\n",
              "      <td>52.27</td>\n",
              "      <td>46</td>\n",
              "      <td>57.89</td>\n",
              "      <td>...</td>\n",
              "      <td>69</td>\n",
              "      <td>61.38</td>\n",
              "      <td>4</td>\n",
              "      <td>7</td>\n",
              "      <td>341</td>\n",
              "      <td>142</td>\n",
              "      <td>&gt;34</td>\n",
              "      <td>[181,190]</td>\n",
              "      <td>top 500</td>\n",
              "      <td>0</td>\n",
              "    </tr>\n",
              "    <tr>\n",
              "      <th>14</th>\n",
              "      <td>tommy haas</td>\n",
              "      <td>M</td>\n",
              "      <td>39</td>\n",
              "      <td>DEU</td>\n",
              "      <td>188</td>\n",
              "      <td>R</td>\n",
              "      <td>0</td>\n",
              "      <td>30.00</td>\n",
              "      <td>6</td>\n",
              "      <td>0.00</td>\n",
              "      <td>...</td>\n",
              "      <td>85</td>\n",
              "      <td>68.52</td>\n",
              "      <td>5</td>\n",
              "      <td>8</td>\n",
              "      <td>248</td>\n",
              "      <td>205</td>\n",
              "      <td>&gt;34</td>\n",
              "      <td>[181,190]</td>\n",
              "      <td>top 250</td>\n",
              "      <td>0</td>\n",
              "    </tr>\n",
              "    <tr>\n",
              "      <th>15</th>\n",
              "      <td>toshihide matsui</td>\n",
              "      <td>M</td>\n",
              "      <td>41</td>\n",
              "      <td>JPN</td>\n",
              "      <td>180</td>\n",
              "      <td>R</td>\n",
              "      <td>0</td>\n",
              "      <td>37.74</td>\n",
              "      <td>20</td>\n",
              "      <td>38.78</td>\n",
              "      <td>...</td>\n",
              "      <td>61</td>\n",
              "      <td>61.29</td>\n",
              "      <td>3</td>\n",
              "      <td>5</td>\n",
              "      <td>752</td>\n",
              "      <td>21</td>\n",
              "      <td>&gt;34</td>\n",
              "      <td>[171,180]</td>\n",
              "      <td>top 1000</td>\n",
              "      <td>0</td>\n",
              "    </tr>\n",
              "    <tr>\n",
              "      <th>...</th>\n",
              "      <td>...</td>\n",
              "      <td>...</td>\n",
              "      <td>...</td>\n",
              "      <td>...</td>\n",
              "      <td>...</td>\n",
              "      <td>...</td>\n",
              "      <td>...</td>\n",
              "      <td>...</td>\n",
              "      <td>...</td>\n",
              "      <td>...</td>\n",
              "      <td>...</td>\n",
              "      <td>...</td>\n",
              "      <td>...</td>\n",
              "      <td>...</td>\n",
              "      <td>...</td>\n",
              "      <td>...</td>\n",
              "      <td>...</td>\n",
              "      <td>...</td>\n",
              "      <td>...</td>\n",
              "      <td>...</td>\n",
              "      <td>...</td>\n",
              "    </tr>\n",
              "    <tr>\n",
              "      <th>4253</th>\n",
              "      <td>alexandar lazov</td>\n",
              "      <td>M</td>\n",
              "      <td>29</td>\n",
              "      <td>BGR</td>\n",
              "      <td>182</td>\n",
              "      <td>U</td>\n",
              "      <td>0</td>\n",
              "      <td>53.12</td>\n",
              "      <td>17</td>\n",
              "      <td>33.33</td>\n",
              "      <td>...</td>\n",
              "      <td>63</td>\n",
              "      <td>61.04</td>\n",
              "      <td>4</td>\n",
              "      <td>7</td>\n",
              "      <td>828</td>\n",
              "      <td>16</td>\n",
              "      <td>[28,34]</td>\n",
              "      <td>[181,190]</td>\n",
              "      <td>top 1000</td>\n",
              "      <td>0</td>\n",
              "    </tr>\n",
              "    <tr>\n",
              "      <th>4254</th>\n",
              "      <td>david o hare</td>\n",
              "      <td>M</td>\n",
              "      <td>27</td>\n",
              "      <td>IRL</td>\n",
              "      <td>184</td>\n",
              "      <td>U</td>\n",
              "      <td>0</td>\n",
              "      <td>26.67</td>\n",
              "      <td>4</td>\n",
              "      <td>23.08</td>\n",
              "      <td>...</td>\n",
              "      <td>71</td>\n",
              "      <td>62.75</td>\n",
              "      <td>4</td>\n",
              "      <td>6</td>\n",
              "      <td>2221</td>\n",
              "      <td>0</td>\n",
              "      <td>[21,27]</td>\n",
              "      <td>[181,190]</td>\n",
              "      <td>top 1000</td>\n",
              "      <td>0</td>\n",
              "    </tr>\n",
              "    <tr>\n",
              "      <th>4255</th>\n",
              "      <td>kuan-yi lee</td>\n",
              "      <td>M</td>\n",
              "      <td>23</td>\n",
              "      <td>TWN</td>\n",
              "      <td>173</td>\n",
              "      <td>R</td>\n",
              "      <td>0</td>\n",
              "      <td>47.06</td>\n",
              "      <td>16</td>\n",
              "      <td>48.48</td>\n",
              "      <td>...</td>\n",
              "      <td>62</td>\n",
              "      <td>58.59</td>\n",
              "      <td>3</td>\n",
              "      <td>6</td>\n",
              "      <td>573</td>\n",
              "      <td>42</td>\n",
              "      <td>[21,27]</td>\n",
              "      <td>[171,180]</td>\n",
              "      <td>top 1000</td>\n",
              "      <td>0</td>\n",
              "    </tr>\n",
              "    <tr>\n",
              "      <th>4256</th>\n",
              "      <td>ben patael</td>\n",
              "      <td>M</td>\n",
              "      <td>22</td>\n",
              "      <td>ISR</td>\n",
              "      <td>192</td>\n",
              "      <td>U</td>\n",
              "      <td>0</td>\n",
              "      <td>41.03</td>\n",
              "      <td>16</td>\n",
              "      <td>45.45</td>\n",
              "      <td>...</td>\n",
              "      <td>67</td>\n",
              "      <td>56.25</td>\n",
              "      <td>3</td>\n",
              "      <td>6</td>\n",
              "      <td>562</td>\n",
              "      <td>45</td>\n",
              "      <td>[21,27]</td>\n",
              "      <td>&gt;190</td>\n",
              "      <td>top 1000</td>\n",
              "      <td>0</td>\n",
              "    </tr>\n",
              "    <tr>\n",
              "      <th>4257</th>\n",
              "      <td>andres artunedo martinavarro</td>\n",
              "      <td>M</td>\n",
              "      <td>25</td>\n",
              "      <td>ESP</td>\n",
              "      <td>183</td>\n",
              "      <td>R</td>\n",
              "      <td>0</td>\n",
              "      <td>39.39</td>\n",
              "      <td>13</td>\n",
              "      <td>40.62</td>\n",
              "      <td>...</td>\n",
              "      <td>73</td>\n",
              "      <td>60.00</td>\n",
              "      <td>3</td>\n",
              "      <td>6</td>\n",
              "      <td>390</td>\n",
              "      <td>40</td>\n",
              "      <td>[21,27]</td>\n",
              "      <td>[181,190]</td>\n",
              "      <td>top 500</td>\n",
              "      <td>0</td>\n",
              "    </tr>\n",
              "  </tbody>\n",
              "</table>\n",
              "<p>1600 rows × 33 columns</p>\n",
              "</div>"
            ],
            "text/plain": [
              "                              name sex  age  ioc   ht hand  t_won  p_wins  \\\n",
              "0                 alexander zverev   M   24  DEU  198    R     16   70.08   \n",
              "8                      frank moser   M   40  DEU  193    R      0   45.45   \n",
              "13           ruben ramirez hidalgo   M   41  ESP  183    R      0   52.27   \n",
              "14                      tommy haas   M   39  DEU  188    R      0   30.00   \n",
              "15                toshihide matsui   M   41  JPN  180    R      0   37.74   \n",
              "...                            ...  ..  ...  ...  ...  ...    ...     ...   \n",
              "4253               alexandar lazov   M   29  BGR  182    U      0   53.12   \n",
              "4254                  david o hare   M   27  IRL  184    U      0   26.67   \n",
              "4255                   kuan-yi lee   M   23  TWN  173    R      0   47.06   \n",
              "4256                    ben patael   M   22  ISR  192    U      0   41.03   \n",
              "4257  andres artunedo martinavarro   M   25  ESP  183    R      0   39.39   \n",
              "\n",
              "      wins  p_w_Hard  ...  mean_sv_points  p_bp_saved  mean_bp_saved  \\\n",
              "0      260     68.44  ...              81       60.90              3   \n",
              "8        5     50.00  ...              70       68.83              4   \n",
              "13      46     57.89  ...              69       61.38              4   \n",
              "14       6      0.00  ...              85       68.52              5   \n",
              "15      20     38.78  ...              61       61.29              3   \n",
              "...    ...       ...  ...             ...         ...            ...   \n",
              "4253    17     33.33  ...              63       61.04              4   \n",
              "4254     4     23.08  ...              71       62.75              4   \n",
              "4255    16     48.48  ...              62       58.59              3   \n",
              "4256    16     45.45  ...              67       56.25              3   \n",
              "4257    13     40.62  ...              73       60.00              3   \n",
              "\n",
              "      mean_bp_faced  rank  rank_points  age_range   ht_range  rank_range  \\\n",
              "0                 5     5         7263    [21,27]       >190      top 10   \n",
              "8                 7   848           19        >34       >190    top 1000   \n",
              "13                7   341          142        >34  [181,190]     top 500   \n",
              "14                8   248          205        >34  [181,190]     top 250   \n",
              "15                5   752           21        >34  [171,180]    top 1000   \n",
              "...             ...   ...          ...        ...        ...         ...   \n",
              "4253              7   828           16    [28,34]  [181,190]    top 1000   \n",
              "4254              6  2221            0    [21,27]  [181,190]    top 1000   \n",
              "4255              6   573           42    [21,27]  [171,180]    top 1000   \n",
              "4256              6   562           45    [21,27]       >190    top 1000   \n",
              "4257              6   390           40    [21,27]  [181,190]     top 500   \n",
              "\n",
              "      target  \n",
              "0          1  \n",
              "8          0  \n",
              "13         0  \n",
              "14         0  \n",
              "15         0  \n",
              "...      ...  \n",
              "4253       0  \n",
              "4254       0  \n",
              "4255       0  \n",
              "4256       0  \n",
              "4257       0  \n",
              "\n",
              "[1600 rows x 33 columns]"
            ]
          },
          "execution_count": 170,
          "metadata": {},
          "output_type": "execute_result"
        }
      ],
      "source": [
        "label_players = kmeans.labels_\n",
        "df_players['target'] = label_players\n",
        "\n",
        "df_players"
      ]
    },
    {
      "cell_type": "markdown",
      "metadata": {
        "id": "8yGezcJif6BV"
      },
      "source": [
        "## **Classification**"
      ]
    },
    {
      "cell_type": "markdown",
      "metadata": {
        "id": "EHN0lRm3j7oy"
      },
      "source": [
        "### **Discretize the categorical variables**"
      ]
    },
    {
      "cell_type": "markdown",
      "metadata": {
        "id": "_090RiU3j9yH"
      },
      "source": [
        "\n",
        "We can discretize the categorical variables and then use them for the classification task. NB: for some classifiers it may not be a good practice (example: classifiers which use distance metrics for the classifications, such as KNN)\n"
      ]
    },
    {
      "cell_type": "code",
      "execution_count": 171,
      "metadata": {
        "id": "hBnPuyyYjwsD"
      },
      "outputs": [],
      "source": [
        "def discretize_data(dataset, variables):\n",
        "    '''\n",
        "    Function to discretize the variables\n",
        "    \n",
        "        input: the dataset and the list of variables' names to discretize\n",
        "    '''\n",
        "    for variable in variables:\n",
        "        # get the unique variable's values\n",
        "        var = sorted(dataset[variable].unique())\n",
        "        \n",
        "        # generate a mapping from the variable's values to the number representation  \n",
        "        mapping = dict(zip(var, range(0, len(var) + 1)))\n",
        "\n",
        "        # add a new colum with the number representation of the variable\n",
        "        dataset[variable+'_num'] = dataset[variable].map(mapping).astype(int)\n",
        "    return dataset"
      ]
    },
    {
      "cell_type": "code",
      "execution_count": 172,
      "metadata": {},
      "outputs": [],
      "source": [
        "def move_columns(df, cols_to_move, new_index):\n",
        "    \"\"\"\n",
        "    This method re-arranges the columns in a dataframe to place the desired columns at the desired index.\n",
        "    Usage:\n",
        "        df = move_columns(df, ['Rev'], 2) \n",
        "    Input:\n",
        "        df: Dataframe\n",
        "        cols_to_move: The names of the columns to move. They must be a list\n",
        "        new_index: The 0-based location to place the columns.\n",
        "    Output:\n",
        "        Return a dataframe with the columns re-arranged\n",
        "    \"\"\"\n",
        "    other = [c for c in df if c not in cols_to_move]\n",
        "    start = other[0:new_index]\n",
        "    end = other[new_index:]\n",
        "    return df[start + cols_to_move + end]"
      ]
    },
    {
      "cell_type": "code",
      "execution_count": 173,
      "metadata": {
        "colab": {
          "base_uri": "https://localhost:8080/",
          "height": 226
        },
        "id": "fJBth9TBjzFW",
        "outputId": "60b79fea-7eca-40cc-db88-f83871f9bdd0"
      },
      "outputs": [
        {
          "data": {
            "text/html": [
              "<div>\n",
              "<style scoped>\n",
              "    .dataframe tbody tr th:only-of-type {\n",
              "        vertical-align: middle;\n",
              "    }\n",
              "\n",
              "    .dataframe tbody tr th {\n",
              "        vertical-align: top;\n",
              "    }\n",
              "\n",
              "    .dataframe thead th {\n",
              "        text-align: right;\n",
              "    }\n",
              "</style>\n",
              "<table border=\"1\" class=\"dataframe\">\n",
              "  <thead>\n",
              "    <tr style=\"text-align: right;\">\n",
              "      <th></th>\n",
              "      <th>age</th>\n",
              "      <th>ht</th>\n",
              "      <th>sex_num</th>\n",
              "      <th>ioc_num</th>\n",
              "      <th>hand_num</th>\n",
              "      <th>rank</th>\n",
              "      <th>rank_points</th>\n",
              "      <th>t_won</th>\n",
              "      <th>p_wins</th>\n",
              "      <th>wins</th>\n",
              "      <th>...</th>\n",
              "      <th>mean_1st_in</th>\n",
              "      <th>p_1st_won</th>\n",
              "      <th>mean_1st_won</th>\n",
              "      <th>p_2nd_won</th>\n",
              "      <th>mean_2nd_won</th>\n",
              "      <th>mean_sv_points</th>\n",
              "      <th>p_bp_saved</th>\n",
              "      <th>mean_bp_saved</th>\n",
              "      <th>mean_bp_faced</th>\n",
              "      <th>target</th>\n",
              "    </tr>\n",
              "  </thead>\n",
              "  <tbody>\n",
              "    <tr>\n",
              "      <th>0</th>\n",
              "      <td>24</td>\n",
              "      <td>198</td>\n",
              "      <td>1</td>\n",
              "      <td>17</td>\n",
              "      <td>1</td>\n",
              "      <td>5</td>\n",
              "      <td>7263</td>\n",
              "      <td>16</td>\n",
              "      <td>70.08</td>\n",
              "      <td>260</td>\n",
              "      <td>...</td>\n",
              "      <td>52</td>\n",
              "      <td>74.55</td>\n",
              "      <td>39</td>\n",
              "      <td>49.86</td>\n",
              "      <td>14</td>\n",
              "      <td>81</td>\n",
              "      <td>60.90</td>\n",
              "      <td>3</td>\n",
              "      <td>5</td>\n",
              "      <td>1</td>\n",
              "    </tr>\n",
              "    <tr>\n",
              "      <th>8</th>\n",
              "      <td>40</td>\n",
              "      <td>193</td>\n",
              "      <td>1</td>\n",
              "      <td>17</td>\n",
              "      <td>1</td>\n",
              "      <td>848</td>\n",
              "      <td>19</td>\n",
              "      <td>0</td>\n",
              "      <td>45.45</td>\n",
              "      <td>5</td>\n",
              "      <td>...</td>\n",
              "      <td>40</td>\n",
              "      <td>72.97</td>\n",
              "      <td>29</td>\n",
              "      <td>47.16</td>\n",
              "      <td>14</td>\n",
              "      <td>70</td>\n",
              "      <td>68.83</td>\n",
              "      <td>4</td>\n",
              "      <td>7</td>\n",
              "      <td>0</td>\n",
              "    </tr>\n",
              "    <tr>\n",
              "      <th>13</th>\n",
              "      <td>41</td>\n",
              "      <td>183</td>\n",
              "      <td>1</td>\n",
              "      <td>24</td>\n",
              "      <td>1</td>\n",
              "      <td>341</td>\n",
              "      <td>142</td>\n",
              "      <td>0</td>\n",
              "      <td>52.27</td>\n",
              "      <td>46</td>\n",
              "      <td>...</td>\n",
              "      <td>39</td>\n",
              "      <td>69.42</td>\n",
              "      <td>27</td>\n",
              "      <td>48.31</td>\n",
              "      <td>14</td>\n",
              "      <td>69</td>\n",
              "      <td>61.38</td>\n",
              "      <td>4</td>\n",
              "      <td>7</td>\n",
              "      <td>0</td>\n",
              "    </tr>\n",
              "    <tr>\n",
              "      <th>14</th>\n",
              "      <td>39</td>\n",
              "      <td>188</td>\n",
              "      <td>1</td>\n",
              "      <td>17</td>\n",
              "      <td>1</td>\n",
              "      <td>248</td>\n",
              "      <td>205</td>\n",
              "      <td>0</td>\n",
              "      <td>30.00</td>\n",
              "      <td>6</td>\n",
              "      <td>...</td>\n",
              "      <td>52</td>\n",
              "      <td>68.67</td>\n",
              "      <td>35</td>\n",
              "      <td>53.85</td>\n",
              "      <td>17</td>\n",
              "      <td>85</td>\n",
              "      <td>68.52</td>\n",
              "      <td>5</td>\n",
              "      <td>8</td>\n",
              "      <td>0</td>\n",
              "    </tr>\n",
              "    <tr>\n",
              "      <th>15</th>\n",
              "      <td>41</td>\n",
              "      <td>180</td>\n",
              "      <td>1</td>\n",
              "      <td>41</td>\n",
              "      <td>1</td>\n",
              "      <td>752</td>\n",
              "      <td>21</td>\n",
              "      <td>0</td>\n",
              "      <td>37.74</td>\n",
              "      <td>20</td>\n",
              "      <td>...</td>\n",
              "      <td>36</td>\n",
              "      <td>70.63</td>\n",
              "      <td>25</td>\n",
              "      <td>49.53</td>\n",
              "      <td>12</td>\n",
              "      <td>61</td>\n",
              "      <td>61.29</td>\n",
              "      <td>3</td>\n",
              "      <td>5</td>\n",
              "      <td>0</td>\n",
              "    </tr>\n",
              "  </tbody>\n",
              "</table>\n",
              "<p>5 rows × 29 columns</p>\n",
              "</div>"
            ],
            "text/plain": [
              "    age   ht  sex_num  ioc_num  hand_num  rank  rank_points  t_won  p_wins  \\\n",
              "0    24  198        1       17         1     5         7263     16   70.08   \n",
              "8    40  193        1       17         1   848           19      0   45.45   \n",
              "13   41  183        1       24         1   341          142      0   52.27   \n",
              "14   39  188        1       17         1   248          205      0   30.00   \n",
              "15   41  180        1       41         1   752           21      0   37.74   \n",
              "\n",
              "    wins  ...  mean_1st_in  p_1st_won  mean_1st_won  p_2nd_won  mean_2nd_won  \\\n",
              "0    260  ...           52      74.55            39      49.86            14   \n",
              "8      5  ...           40      72.97            29      47.16            14   \n",
              "13    46  ...           39      69.42            27      48.31            14   \n",
              "14     6  ...           52      68.67            35      53.85            17   \n",
              "15    20  ...           36      70.63            25      49.53            12   \n",
              "\n",
              "    mean_sv_points  p_bp_saved  mean_bp_saved  mean_bp_faced  target  \n",
              "0               81       60.90              3              5       1  \n",
              "8               70       68.83              4              7       0  \n",
              "13              69       61.38              4              7       0  \n",
              "14              85       68.52              5              8       0  \n",
              "15              61       61.29              3              5       0  \n",
              "\n",
              "[5 rows x 29 columns]"
            ]
          },
          "execution_count": 173,
          "metadata": {},
          "output_type": "execute_result"
        }
      ],
      "source": [
        "# discretize the variable sex, ioc and hand\n",
        "variables = ['sex', 'ioc', 'hand']\n",
        "df_class = discretize_data(df_players, variables)\n",
        "\n",
        "# drop the categorical variables since we don't need them anymore \n",
        "df_class.drop(columns=['name', 'sex', 'ioc', 'hand', 'age_range', 'ht_range', 'rank_range'], axis=1,inplace=True)\n",
        "\n",
        "# move 'target' column to last position\n",
        "df_class = move_columns(df_class, cols_to_move = ['age', 'ht', 'sex_num', 'ioc_num', 'hand_num', 'rank', 'rank_points'], new_index = 0)\n",
        "df_class = move_columns(df_class, cols_to_move = ['target'], new_index = len(df_class.columns) - 1)\n",
        "\n",
        "#the resulting dataset\n",
        "df_class.head()"
      ]
    },
    {
      "cell_type": "code",
      "execution_count": 174,
      "metadata": {},
      "outputs": [
        {
          "name": "stdout",
          "output_type": "stream",
          "text": [
            "<class 'pandas.core.frame.DataFrame'>\n",
            "Int64Index: 1600 entries, 0 to 4257\n",
            "Data columns (total 29 columns):\n",
            " #   Column           Non-Null Count  Dtype  \n",
            "---  ------           --------------  -----  \n",
            " 0   age              1600 non-null   int32  \n",
            " 1   ht               1600 non-null   int32  \n",
            " 2   sex_num          1600 non-null   int64  \n",
            " 3   ioc_num          1600 non-null   int64  \n",
            " 4   hand_num         1600 non-null   int64  \n",
            " 5   rank             1600 non-null   int32  \n",
            " 6   rank_points      1600 non-null   int32  \n",
            " 7   t_won            1600 non-null   int32  \n",
            " 8   p_wins           1600 non-null   float64\n",
            " 9   wins             1600 non-null   int32  \n",
            " 10  p_w_Hard         1600 non-null   float64\n",
            " 11  w_Hard           1600 non-null   int32  \n",
            " 12  p_w_Clay         1600 non-null   float64\n",
            " 13  w_Clay           1600 non-null   int32  \n",
            " 14  p_w_Grass        1600 non-null   float64\n",
            " 15  w_Grass          1600 non-null   int32  \n",
            " 16  p_aces           1600 non-null   float64\n",
            " 17  p_double_faults  1600 non-null   float64\n",
            " 18  p_1st_in         1600 non-null   float64\n",
            " 19  mean_1st_in      1600 non-null   int32  \n",
            " 20  p_1st_won        1600 non-null   float64\n",
            " 21  mean_1st_won     1600 non-null   int32  \n",
            " 22  p_2nd_won        1600 non-null   float64\n",
            " 23  mean_2nd_won     1600 non-null   int32  \n",
            " 24  mean_sv_points   1600 non-null   int32  \n",
            " 25  p_bp_saved       1600 non-null   float64\n",
            " 26  mean_bp_saved    1600 non-null   int32  \n",
            " 27  mean_bp_faced    1600 non-null   int32  \n",
            " 28  target           1600 non-null   int32  \n",
            "dtypes: float64(10), int32(16), int64(3)\n",
            "memory usage: 339.5 KB\n"
          ]
        }
      ],
      "source": [
        "df_class.info(verbose=True)"
      ]
    },
    {
      "cell_type": "markdown",
      "metadata": {
        "id": "SIMjQVnEpj4o"
      },
      "source": [
        "## **Da fare**"
      ]
    }
  ],
  "metadata": {
    "colab": {
      "collapsed_sections": [],
      "name": "DM_14_predictive_analysis.ipynb",
      "provenance": []
    },
    "kernelspec": {
      "display_name": "Python 3",
      "name": "python3"
    },
    "language_info": {
      "codemirror_mode": {
        "name": "ipython",
        "version": 3
      },
      "file_extension": ".py",
      "mimetype": "text/x-python",
      "name": "python",
      "nbconvert_exporter": "python",
      "pygments_lexer": "ipython3",
      "version": "3.8.11"
    }
  },
  "nbformat": 4,
  "nbformat_minor": 0
}
