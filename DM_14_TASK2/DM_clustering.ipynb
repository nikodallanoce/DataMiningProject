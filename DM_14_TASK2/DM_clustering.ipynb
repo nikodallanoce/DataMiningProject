{
 "cells": [
  {
   "cell_type": "markdown",
   "metadata": {
    "id": "wj5X1DWCrWyZ"
   },
   "source": [
    "**Data Mining Project, midterm 2021/2022**"
   ]
  },
  {
   "cell_type": "markdown",
   "metadata": {
    "id": "pay6uiWyrc5v"
   },
   "source": [
    "**Authors:** Niko Dalla Noce, Alessandro Ristori, Giuseppe Lombardi"
   ]
  },
  {
   "cell_type": "markdown",
   "metadata": {
    "id": "qCEtXB9xUMQX"
   },
   "source": [
    "#**Task 2 Clustering Analysis**"
   ]
  },
  {
   "cell_type": "markdown",
   "metadata": {
    "id": "DG06VGq7oxfU"
   },
   "source": [
    "## **Import the libraries and load the player dataset**"
   ]
  },
  {
   "cell_type": "markdown",
   "metadata": {
    "id": "sBbSmbL_3sj9"
   },
   "source": [
    "First we have to import the necessary libraries to work within our project."
   ]
  },
  {
   "cell_type": "code",
   "execution_count": 1,
   "metadata": {
    "id": "w-fWIX3JUM3z"
   },
   "outputs": [],
   "source": [
    "import numpy as np\n",
    "import pandas as pd\n",
    "import matplotlib.pyplot as plt\n",
    "import scipy\n",
    "import seaborn as sn\n",
    "from math import log, e\n",
    "from tqdm.notebook import tqdm\n",
    "\n",
    "from sklearn.preprocessing import StandardScaler, MinMaxScaler\n",
    "from sklearn.cluster import KMeans, DBSCAN, AgglomerativeClustering\n",
    "from sklearn.metrics import silhouette_score, davies_bouldin_score\n",
    "from scipy.spatial.distance import pdist, squareform\n",
    "from sklearn.metrics.pairwise import euclidean_distances\n",
    "from sklearn.decomposition import PCA"
   ]
  },
  {
   "cell_type": "code",
   "execution_count": 4,
   "metadata": {},
   "outputs": [
    {
     "name": "stdout",
     "output_type": "stream",
     "text": [
      "range(0, 2)\n"
     ]
    }
   ],
   "source": [
    "print(range(2))"
   ]
  },
  {
   "cell_type": "markdown",
   "metadata": {
    "id": "Bi2L17kg3uC7"
   },
   "source": [
    "The dataset coming from the data preparation task is saved on github."
   ]
  },
  {
   "cell_type": "code",
   "execution_count": 2,
   "metadata": {
    "colab": {
     "base_uri": "https://localhost:8080/"
    },
    "id": "AzodRExypwzc",
    "outputId": "f917d6a3-3105-4e3f-89f8-05a2970913df"
   },
   "outputs": [],
   "source": [
    "#!git clone 'https://github.com/nikodallanoce/DataMiningProject/'"
   ]
  },
  {
   "cell_type": "markdown",
   "metadata": {
    "id": "-cZGqECz34xU"
   },
   "source": [
    "**Load the players' profile dataset**"
   ]
  },
  {
   "cell_type": "code",
   "execution_count": 3,
   "metadata": {
    "colab": {
     "base_uri": "https://localhost:8080/",
     "height": 554
    },
    "id": "70Wnl2RCUN4P",
    "outputId": "64d889b7-e222-4b8e-c030-803ed0b88822"
   },
   "outputs": [
    {
     "data": {
      "text/html": [
       "<div>\n",
       "<style scoped>\n",
       "    .dataframe tbody tr th:only-of-type {\n",
       "        vertical-align: middle;\n",
       "    }\n",
       "\n",
       "    .dataframe tbody tr th {\n",
       "        vertical-align: top;\n",
       "    }\n",
       "\n",
       "    .dataframe thead th {\n",
       "        text-align: right;\n",
       "    }\n",
       "</style>\n",
       "<table border=\"1\" class=\"dataframe\">\n",
       "  <thead>\n",
       "    <tr style=\"text-align: right;\">\n",
       "      <th></th>\n",
       "      <th>name</th>\n",
       "      <th>sex</th>\n",
       "      <th>age</th>\n",
       "      <th>ioc</th>\n",
       "      <th>ht</th>\n",
       "      <th>hand</th>\n",
       "      <th>t_won</th>\n",
       "      <th>p_wins</th>\n",
       "      <th>wins</th>\n",
       "      <th>p_w_Hard</th>\n",
       "      <th>...</th>\n",
       "      <th>mean_2nd_won</th>\n",
       "      <th>mean_sv_points</th>\n",
       "      <th>p_bp_saved</th>\n",
       "      <th>mean_bp_saved</th>\n",
       "      <th>mean_bp_faced</th>\n",
       "      <th>rank</th>\n",
       "      <th>rank_points</th>\n",
       "      <th>age_range</th>\n",
       "      <th>ht_range</th>\n",
       "      <th>rank_range</th>\n",
       "    </tr>\n",
       "  </thead>\n",
       "  <tbody>\n",
       "    <tr>\n",
       "      <th>0</th>\n",
       "      <td>alexander zverev</td>\n",
       "      <td>M</td>\n",
       "      <td>24</td>\n",
       "      <td>DEU</td>\n",
       "      <td>198</td>\n",
       "      <td>R</td>\n",
       "      <td>16</td>\n",
       "      <td>70.08</td>\n",
       "      <td>260</td>\n",
       "      <td>68.44</td>\n",
       "      <td>...</td>\n",
       "      <td>14</td>\n",
       "      <td>81</td>\n",
       "      <td>60.90</td>\n",
       "      <td>3</td>\n",
       "      <td>5</td>\n",
       "      <td>5</td>\n",
       "      <td>7263</td>\n",
       "      <td>[21,27]</td>\n",
       "      <td>&gt;190</td>\n",
       "      <td>top_20</td>\n",
       "    </tr>\n",
       "    <tr>\n",
       "      <th>8</th>\n",
       "      <td>frank moser</td>\n",
       "      <td>M</td>\n",
       "      <td>40</td>\n",
       "      <td>DEU</td>\n",
       "      <td>193</td>\n",
       "      <td>R</td>\n",
       "      <td>0</td>\n",
       "      <td>45.45</td>\n",
       "      <td>5</td>\n",
       "      <td>50.00</td>\n",
       "      <td>...</td>\n",
       "      <td>14</td>\n",
       "      <td>70</td>\n",
       "      <td>68.83</td>\n",
       "      <td>4</td>\n",
       "      <td>7</td>\n",
       "      <td>848</td>\n",
       "      <td>19</td>\n",
       "      <td>&gt;34</td>\n",
       "      <td>&gt;190</td>\n",
       "      <td>out_rank</td>\n",
       "    </tr>\n",
       "    <tr>\n",
       "      <th>13</th>\n",
       "      <td>ruben ramirez hidalgo</td>\n",
       "      <td>M</td>\n",
       "      <td>41</td>\n",
       "      <td>ESP</td>\n",
       "      <td>183</td>\n",
       "      <td>R</td>\n",
       "      <td>0</td>\n",
       "      <td>52.27</td>\n",
       "      <td>46</td>\n",
       "      <td>57.89</td>\n",
       "      <td>...</td>\n",
       "      <td>14</td>\n",
       "      <td>69</td>\n",
       "      <td>61.38</td>\n",
       "      <td>4</td>\n",
       "      <td>7</td>\n",
       "      <td>341</td>\n",
       "      <td>142</td>\n",
       "      <td>&gt;34</td>\n",
       "      <td>[181,190]</td>\n",
       "      <td>top_400</td>\n",
       "    </tr>\n",
       "    <tr>\n",
       "      <th>14</th>\n",
       "      <td>tommy haas</td>\n",
       "      <td>M</td>\n",
       "      <td>39</td>\n",
       "      <td>DEU</td>\n",
       "      <td>188</td>\n",
       "      <td>R</td>\n",
       "      <td>0</td>\n",
       "      <td>30.00</td>\n",
       "      <td>6</td>\n",
       "      <td>0.00</td>\n",
       "      <td>...</td>\n",
       "      <td>17</td>\n",
       "      <td>85</td>\n",
       "      <td>68.52</td>\n",
       "      <td>5</td>\n",
       "      <td>8</td>\n",
       "      <td>248</td>\n",
       "      <td>205</td>\n",
       "      <td>&gt;34</td>\n",
       "      <td>[181,190]</td>\n",
       "      <td>top_400</td>\n",
       "    </tr>\n",
       "    <tr>\n",
       "      <th>15</th>\n",
       "      <td>toshihide matsui</td>\n",
       "      <td>M</td>\n",
       "      <td>41</td>\n",
       "      <td>JPN</td>\n",
       "      <td>180</td>\n",
       "      <td>R</td>\n",
       "      <td>0</td>\n",
       "      <td>37.74</td>\n",
       "      <td>20</td>\n",
       "      <td>38.78</td>\n",
       "      <td>...</td>\n",
       "      <td>12</td>\n",
       "      <td>61</td>\n",
       "      <td>61.29</td>\n",
       "      <td>3</td>\n",
       "      <td>5</td>\n",
       "      <td>752</td>\n",
       "      <td>21</td>\n",
       "      <td>&gt;34</td>\n",
       "      <td>[171,180]</td>\n",
       "      <td>out_rank</td>\n",
       "    </tr>\n",
       "    <tr>\n",
       "      <th>...</th>\n",
       "      <td>...</td>\n",
       "      <td>...</td>\n",
       "      <td>...</td>\n",
       "      <td>...</td>\n",
       "      <td>...</td>\n",
       "      <td>...</td>\n",
       "      <td>...</td>\n",
       "      <td>...</td>\n",
       "      <td>...</td>\n",
       "      <td>...</td>\n",
       "      <td>...</td>\n",
       "      <td>...</td>\n",
       "      <td>...</td>\n",
       "      <td>...</td>\n",
       "      <td>...</td>\n",
       "      <td>...</td>\n",
       "      <td>...</td>\n",
       "      <td>...</td>\n",
       "      <td>...</td>\n",
       "      <td>...</td>\n",
       "      <td>...</td>\n",
       "    </tr>\n",
       "    <tr>\n",
       "      <th>4253</th>\n",
       "      <td>alexandar lazov</td>\n",
       "      <td>M</td>\n",
       "      <td>29</td>\n",
       "      <td>BGR</td>\n",
       "      <td>182</td>\n",
       "      <td>U</td>\n",
       "      <td>0</td>\n",
       "      <td>53.12</td>\n",
       "      <td>17</td>\n",
       "      <td>33.33</td>\n",
       "      <td>...</td>\n",
       "      <td>11</td>\n",
       "      <td>63</td>\n",
       "      <td>61.04</td>\n",
       "      <td>4</td>\n",
       "      <td>7</td>\n",
       "      <td>828</td>\n",
       "      <td>16</td>\n",
       "      <td>[28,34]</td>\n",
       "      <td>[181,190]</td>\n",
       "      <td>out_rank</td>\n",
       "    </tr>\n",
       "    <tr>\n",
       "      <th>4254</th>\n",
       "      <td>david o hare</td>\n",
       "      <td>M</td>\n",
       "      <td>27</td>\n",
       "      <td>IRL</td>\n",
       "      <td>193</td>\n",
       "      <td>U</td>\n",
       "      <td>0</td>\n",
       "      <td>26.67</td>\n",
       "      <td>4</td>\n",
       "      <td>23.08</td>\n",
       "      <td>...</td>\n",
       "      <td>12</td>\n",
       "      <td>71</td>\n",
       "      <td>62.75</td>\n",
       "      <td>4</td>\n",
       "      <td>6</td>\n",
       "      <td>2221</td>\n",
       "      <td>0</td>\n",
       "      <td>[21,27]</td>\n",
       "      <td>&gt;190</td>\n",
       "      <td>out_rank</td>\n",
       "    </tr>\n",
       "    <tr>\n",
       "      <th>4255</th>\n",
       "      <td>kuan-yi lee</td>\n",
       "      <td>M</td>\n",
       "      <td>23</td>\n",
       "      <td>TWN</td>\n",
       "      <td>177</td>\n",
       "      <td>R</td>\n",
       "      <td>0</td>\n",
       "      <td>47.06</td>\n",
       "      <td>16</td>\n",
       "      <td>48.48</td>\n",
       "      <td>...</td>\n",
       "      <td>10</td>\n",
       "      <td>62</td>\n",
       "      <td>58.59</td>\n",
       "      <td>3</td>\n",
       "      <td>6</td>\n",
       "      <td>573</td>\n",
       "      <td>42</td>\n",
       "      <td>[21,27]</td>\n",
       "      <td>[171,180]</td>\n",
       "      <td>out_rank</td>\n",
       "    </tr>\n",
       "    <tr>\n",
       "      <th>4256</th>\n",
       "      <td>ben patael</td>\n",
       "      <td>M</td>\n",
       "      <td>22</td>\n",
       "      <td>ISR</td>\n",
       "      <td>195</td>\n",
       "      <td>U</td>\n",
       "      <td>0</td>\n",
       "      <td>41.03</td>\n",
       "      <td>16</td>\n",
       "      <td>45.45</td>\n",
       "      <td>...</td>\n",
       "      <td>12</td>\n",
       "      <td>67</td>\n",
       "      <td>56.25</td>\n",
       "      <td>3</td>\n",
       "      <td>6</td>\n",
       "      <td>562</td>\n",
       "      <td>45</td>\n",
       "      <td>[21,27]</td>\n",
       "      <td>&gt;190</td>\n",
       "      <td>out_rank</td>\n",
       "    </tr>\n",
       "    <tr>\n",
       "      <th>4257</th>\n",
       "      <td>andres artunedo martinavarro</td>\n",
       "      <td>M</td>\n",
       "      <td>25</td>\n",
       "      <td>ESP</td>\n",
       "      <td>173</td>\n",
       "      <td>R</td>\n",
       "      <td>0</td>\n",
       "      <td>39.39</td>\n",
       "      <td>13</td>\n",
       "      <td>40.62</td>\n",
       "      <td>...</td>\n",
       "      <td>13</td>\n",
       "      <td>73</td>\n",
       "      <td>60.00</td>\n",
       "      <td>3</td>\n",
       "      <td>6</td>\n",
       "      <td>390</td>\n",
       "      <td>40</td>\n",
       "      <td>[21,27]</td>\n",
       "      <td>[171,180]</td>\n",
       "      <td>top_400</td>\n",
       "    </tr>\n",
       "  </tbody>\n",
       "</table>\n",
       "<p>1600 rows × 32 columns</p>\n",
       "</div>"
      ],
      "text/plain": [
       "                              name sex  age  ioc   ht hand  t_won  p_wins  \\\n",
       "0                 alexander zverev   M   24  DEU  198    R     16   70.08   \n",
       "8                      frank moser   M   40  DEU  193    R      0   45.45   \n",
       "13           ruben ramirez hidalgo   M   41  ESP  183    R      0   52.27   \n",
       "14                      tommy haas   M   39  DEU  188    R      0   30.00   \n",
       "15                toshihide matsui   M   41  JPN  180    R      0   37.74   \n",
       "...                            ...  ..  ...  ...  ...  ...    ...     ...   \n",
       "4253               alexandar lazov   M   29  BGR  182    U      0   53.12   \n",
       "4254                  david o hare   M   27  IRL  193    U      0   26.67   \n",
       "4255                   kuan-yi lee   M   23  TWN  177    R      0   47.06   \n",
       "4256                    ben patael   M   22  ISR  195    U      0   41.03   \n",
       "4257  andres artunedo martinavarro   M   25  ESP  173    R      0   39.39   \n",
       "\n",
       "      wins  p_w_Hard  ...  mean_2nd_won  mean_sv_points  p_bp_saved  \\\n",
       "0      260     68.44  ...            14              81       60.90   \n",
       "8        5     50.00  ...            14              70       68.83   \n",
       "13      46     57.89  ...            14              69       61.38   \n",
       "14       6      0.00  ...            17              85       68.52   \n",
       "15      20     38.78  ...            12              61       61.29   \n",
       "...    ...       ...  ...           ...             ...         ...   \n",
       "4253    17     33.33  ...            11              63       61.04   \n",
       "4254     4     23.08  ...            12              71       62.75   \n",
       "4255    16     48.48  ...            10              62       58.59   \n",
       "4256    16     45.45  ...            12              67       56.25   \n",
       "4257    13     40.62  ...            13              73       60.00   \n",
       "\n",
       "      mean_bp_saved  mean_bp_faced  rank  rank_points  age_range   ht_range  \\\n",
       "0                 3              5     5         7263    [21,27]       >190   \n",
       "8                 4              7   848           19        >34       >190   \n",
       "13                4              7   341          142        >34  [181,190]   \n",
       "14                5              8   248          205        >34  [181,190]   \n",
       "15                3              5   752           21        >34  [171,180]   \n",
       "...             ...            ...   ...          ...        ...        ...   \n",
       "4253              4              7   828           16    [28,34]  [181,190]   \n",
       "4254              4              6  2221            0    [21,27]       >190   \n",
       "4255              3              6   573           42    [21,27]  [171,180]   \n",
       "4256              3              6   562           45    [21,27]       >190   \n",
       "4257              3              6   390           40    [21,27]  [171,180]   \n",
       "\n",
       "      rank_range  \n",
       "0         top_20  \n",
       "8       out_rank  \n",
       "13       top_400  \n",
       "14       top_400  \n",
       "15      out_rank  \n",
       "...          ...  \n",
       "4253    out_rank  \n",
       "4254    out_rank  \n",
       "4255    out_rank  \n",
       "4256    out_rank  \n",
       "4257     top_400  \n",
       "\n",
       "[1600 rows x 32 columns]"
      ]
     },
     "execution_count": 3,
     "metadata": {},
     "output_type": "execute_result"
    }
   ],
   "source": [
    "df_players = pd.read_parquet('players_dataset.gzip')\n",
    "df_players"
   ]
  },
  {
   "cell_type": "code",
   "execution_count": 4,
   "metadata": {
    "colab": {
     "base_uri": "https://localhost:8080/"
    },
    "id": "xU0DOd6DUPNC",
    "outputId": "f529c9f6-35d1-4f7f-b08d-0796bb28dc4c"
   },
   "outputs": [
    {
     "name": "stdout",
     "output_type": "stream",
     "text": [
      "<class 'pandas.core.frame.DataFrame'>\n",
      "Int64Index: 1600 entries, 0 to 4257\n",
      "Data columns (total 32 columns):\n",
      " #   Column           Non-Null Count  Dtype   \n",
      "---  ------           --------------  -----   \n",
      " 0   name             1600 non-null   object  \n",
      " 1   sex              1600 non-null   object  \n",
      " 2   age              1600 non-null   int32   \n",
      " 3   ioc              1600 non-null   object  \n",
      " 4   ht               1600 non-null   int32   \n",
      " 5   hand             1600 non-null   object  \n",
      " 6   t_won            1600 non-null   int32   \n",
      " 7   p_wins           1600 non-null   float64 \n",
      " 8   wins             1600 non-null   int32   \n",
      " 9   p_w_Hard         1600 non-null   float64 \n",
      " 10  w_Hard           1600 non-null   int32   \n",
      " 11  p_w_Clay         1600 non-null   float64 \n",
      " 12  w_Clay           1600 non-null   int32   \n",
      " 13  p_w_Grass        1600 non-null   float64 \n",
      " 14  w_Grass          1600 non-null   int32   \n",
      " 15  p_aces           1600 non-null   float64 \n",
      " 16  p_double_faults  1600 non-null   float64 \n",
      " 17  p_1st_in         1600 non-null   float64 \n",
      " 18  mean_1st_in      1600 non-null   int32   \n",
      " 19  p_1st_won        1600 non-null   float64 \n",
      " 20  mean_1st_won     1600 non-null   int32   \n",
      " 21  p_2nd_won        1600 non-null   float64 \n",
      " 22  mean_2nd_won     1600 non-null   int32   \n",
      " 23  mean_sv_points   1600 non-null   int32   \n",
      " 24  p_bp_saved       1600 non-null   float64 \n",
      " 25  mean_bp_saved    1600 non-null   int32   \n",
      " 26  mean_bp_faced    1600 non-null   int32   \n",
      " 27  rank             1600 non-null   int32   \n",
      " 28  rank_points      1600 non-null   int32   \n",
      " 29  age_range        1600 non-null   category\n",
      " 30  ht_range         1600 non-null   category\n",
      " 31  rank_range       1600 non-null   category\n",
      "dtypes: category(3), float64(10), int32(15), object(4)\n",
      "memory usage: 286.5+ KB\n"
     ]
    }
   ],
   "source": [
    "df_players.info()"
   ]
  },
  {
   "cell_type": "markdown",
   "metadata": {
    "id": "vzB8TnczdOL-"
   },
   "source": [
    "# Prova"
   ]
  },
  {
   "cell_type": "code",
   "execution_count": 5,
   "metadata": {
    "colab": {
     "base_uri": "https://localhost:8080/",
     "height": 437
    },
    "id": "Lc8GuO145Frj",
    "outputId": "5645d5e7-e5c2-4ab8-a117-6b04fb73e6e2"
   },
   "outputs": [
    {
     "data": {
      "text/html": [
       "<div>\n",
       "<style scoped>\n",
       "    .dataframe tbody tr th:only-of-type {\n",
       "        vertical-align: middle;\n",
       "    }\n",
       "\n",
       "    .dataframe tbody tr th {\n",
       "        vertical-align: top;\n",
       "    }\n",
       "\n",
       "    .dataframe thead th {\n",
       "        text-align: right;\n",
       "    }\n",
       "</style>\n",
       "<table border=\"1\" class=\"dataframe\">\n",
       "  <thead>\n",
       "    <tr style=\"text-align: right;\">\n",
       "      <th></th>\n",
       "      <th>age</th>\n",
       "      <th>ht</th>\n",
       "      <th>t_won</th>\n",
       "      <th>p_wins</th>\n",
       "      <th>wins</th>\n",
       "      <th>p_w_Hard</th>\n",
       "      <th>w_Hard</th>\n",
       "      <th>p_w_Clay</th>\n",
       "      <th>w_Clay</th>\n",
       "      <th>p_w_Grass</th>\n",
       "      <th>...</th>\n",
       "      <th>p_1st_won</th>\n",
       "      <th>mean_1st_won</th>\n",
       "      <th>p_2nd_won</th>\n",
       "      <th>mean_2nd_won</th>\n",
       "      <th>mean_sv_points</th>\n",
       "      <th>p_bp_saved</th>\n",
       "      <th>mean_bp_saved</th>\n",
       "      <th>mean_bp_faced</th>\n",
       "      <th>rank</th>\n",
       "      <th>rank_points</th>\n",
       "    </tr>\n",
       "  </thead>\n",
       "  <tbody>\n",
       "    <tr>\n",
       "      <th>0</th>\n",
       "      <td>24</td>\n",
       "      <td>198</td>\n",
       "      <td>16</td>\n",
       "      <td>70.08</td>\n",
       "      <td>260</td>\n",
       "      <td>68.44</td>\n",
       "      <td>154</td>\n",
       "      <td>74.77</td>\n",
       "      <td>83</td>\n",
       "      <td>65.71</td>\n",
       "      <td>...</td>\n",
       "      <td>74.55</td>\n",
       "      <td>39</td>\n",
       "      <td>49.86</td>\n",
       "      <td>14</td>\n",
       "      <td>81</td>\n",
       "      <td>60.90</td>\n",
       "      <td>3</td>\n",
       "      <td>5</td>\n",
       "      <td>5</td>\n",
       "      <td>7263</td>\n",
       "    </tr>\n",
       "    <tr>\n",
       "      <th>8</th>\n",
       "      <td>40</td>\n",
       "      <td>193</td>\n",
       "      <td>0</td>\n",
       "      <td>45.45</td>\n",
       "      <td>5</td>\n",
       "      <td>50.00</td>\n",
       "      <td>3</td>\n",
       "      <td>50.00</td>\n",
       "      <td>1</td>\n",
       "      <td>33.33</td>\n",
       "      <td>...</td>\n",
       "      <td>72.97</td>\n",
       "      <td>29</td>\n",
       "      <td>47.16</td>\n",
       "      <td>14</td>\n",
       "      <td>70</td>\n",
       "      <td>68.83</td>\n",
       "      <td>4</td>\n",
       "      <td>7</td>\n",
       "      <td>848</td>\n",
       "      <td>19</td>\n",
       "    </tr>\n",
       "    <tr>\n",
       "      <th>13</th>\n",
       "      <td>41</td>\n",
       "      <td>183</td>\n",
       "      <td>0</td>\n",
       "      <td>52.27</td>\n",
       "      <td>46</td>\n",
       "      <td>57.89</td>\n",
       "      <td>11</td>\n",
       "      <td>50.72</td>\n",
       "      <td>35</td>\n",
       "      <td>0.00</td>\n",
       "      <td>...</td>\n",
       "      <td>69.42</td>\n",
       "      <td>27</td>\n",
       "      <td>48.31</td>\n",
       "      <td>14</td>\n",
       "      <td>69</td>\n",
       "      <td>61.38</td>\n",
       "      <td>4</td>\n",
       "      <td>7</td>\n",
       "      <td>341</td>\n",
       "      <td>142</td>\n",
       "    </tr>\n",
       "    <tr>\n",
       "      <th>14</th>\n",
       "      <td>39</td>\n",
       "      <td>188</td>\n",
       "      <td>0</td>\n",
       "      <td>30.00</td>\n",
       "      <td>6</td>\n",
       "      <td>0.00</td>\n",
       "      <td>0</td>\n",
       "      <td>33.33</td>\n",
       "      <td>4</td>\n",
       "      <td>40.00</td>\n",
       "      <td>...</td>\n",
       "      <td>68.67</td>\n",
       "      <td>35</td>\n",
       "      <td>53.85</td>\n",
       "      <td>17</td>\n",
       "      <td>85</td>\n",
       "      <td>68.52</td>\n",
       "      <td>5</td>\n",
       "      <td>8</td>\n",
       "      <td>248</td>\n",
       "      <td>205</td>\n",
       "    </tr>\n",
       "    <tr>\n",
       "      <th>15</th>\n",
       "      <td>41</td>\n",
       "      <td>180</td>\n",
       "      <td>0</td>\n",
       "      <td>37.74</td>\n",
       "      <td>20</td>\n",
       "      <td>38.78</td>\n",
       "      <td>19</td>\n",
       "      <td>25.00</td>\n",
       "      <td>1</td>\n",
       "      <td>0.00</td>\n",
       "      <td>...</td>\n",
       "      <td>70.63</td>\n",
       "      <td>25</td>\n",
       "      <td>49.53</td>\n",
       "      <td>12</td>\n",
       "      <td>61</td>\n",
       "      <td>61.29</td>\n",
       "      <td>3</td>\n",
       "      <td>5</td>\n",
       "      <td>752</td>\n",
       "      <td>21</td>\n",
       "    </tr>\n",
       "    <tr>\n",
       "      <th>...</th>\n",
       "      <td>...</td>\n",
       "      <td>...</td>\n",
       "      <td>...</td>\n",
       "      <td>...</td>\n",
       "      <td>...</td>\n",
       "      <td>...</td>\n",
       "      <td>...</td>\n",
       "      <td>...</td>\n",
       "      <td>...</td>\n",
       "      <td>...</td>\n",
       "      <td>...</td>\n",
       "      <td>...</td>\n",
       "      <td>...</td>\n",
       "      <td>...</td>\n",
       "      <td>...</td>\n",
       "      <td>...</td>\n",
       "      <td>...</td>\n",
       "      <td>...</td>\n",
       "      <td>...</td>\n",
       "      <td>...</td>\n",
       "      <td>...</td>\n",
       "    </tr>\n",
       "    <tr>\n",
       "      <th>4253</th>\n",
       "      <td>29</td>\n",
       "      <td>182</td>\n",
       "      <td>0</td>\n",
       "      <td>53.12</td>\n",
       "      <td>17</td>\n",
       "      <td>33.33</td>\n",
       "      <td>3</td>\n",
       "      <td>60.87</td>\n",
       "      <td>14</td>\n",
       "      <td>0.00</td>\n",
       "      <td>...</td>\n",
       "      <td>67.88</td>\n",
       "      <td>26</td>\n",
       "      <td>48.08</td>\n",
       "      <td>11</td>\n",
       "      <td>63</td>\n",
       "      <td>61.04</td>\n",
       "      <td>4</td>\n",
       "      <td>7</td>\n",
       "      <td>828</td>\n",
       "      <td>16</td>\n",
       "    </tr>\n",
       "    <tr>\n",
       "      <th>4254</th>\n",
       "      <td>27</td>\n",
       "      <td>193</td>\n",
       "      <td>0</td>\n",
       "      <td>26.67</td>\n",
       "      <td>4</td>\n",
       "      <td>23.08</td>\n",
       "      <td>3</td>\n",
       "      <td>0.00</td>\n",
       "      <td>0</td>\n",
       "      <td>50.00</td>\n",
       "      <td>...</td>\n",
       "      <td>70.32</td>\n",
       "      <td>30</td>\n",
       "      <td>44.07</td>\n",
       "      <td>12</td>\n",
       "      <td>71</td>\n",
       "      <td>62.75</td>\n",
       "      <td>4</td>\n",
       "      <td>6</td>\n",
       "      <td>2221</td>\n",
       "      <td>0</td>\n",
       "    </tr>\n",
       "    <tr>\n",
       "      <th>4255</th>\n",
       "      <td>23</td>\n",
       "      <td>177</td>\n",
       "      <td>0</td>\n",
       "      <td>47.06</td>\n",
       "      <td>16</td>\n",
       "      <td>48.48</td>\n",
       "      <td>16</td>\n",
       "      <td>0.00</td>\n",
       "      <td>0</td>\n",
       "      <td>0.00</td>\n",
       "      <td>...</td>\n",
       "      <td>65.75</td>\n",
       "      <td>28</td>\n",
       "      <td>49.78</td>\n",
       "      <td>10</td>\n",
       "      <td>62</td>\n",
       "      <td>58.59</td>\n",
       "      <td>3</td>\n",
       "      <td>6</td>\n",
       "      <td>573</td>\n",
       "      <td>42</td>\n",
       "    </tr>\n",
       "    <tr>\n",
       "      <th>4256</th>\n",
       "      <td>22</td>\n",
       "      <td>195</td>\n",
       "      <td>0</td>\n",
       "      <td>41.03</td>\n",
       "      <td>16</td>\n",
       "      <td>45.45</td>\n",
       "      <td>10</td>\n",
       "      <td>35.29</td>\n",
       "      <td>6</td>\n",
       "      <td>0.00</td>\n",
       "      <td>...</td>\n",
       "      <td>65.82</td>\n",
       "      <td>27</td>\n",
       "      <td>48.92</td>\n",
       "      <td>12</td>\n",
       "      <td>67</td>\n",
       "      <td>56.25</td>\n",
       "      <td>3</td>\n",
       "      <td>6</td>\n",
       "      <td>562</td>\n",
       "      <td>45</td>\n",
       "    </tr>\n",
       "    <tr>\n",
       "      <th>4257</th>\n",
       "      <td>25</td>\n",
       "      <td>173</td>\n",
       "      <td>0</td>\n",
       "      <td>39.39</td>\n",
       "      <td>13</td>\n",
       "      <td>40.62</td>\n",
       "      <td>13</td>\n",
       "      <td>0.00</td>\n",
       "      <td>0</td>\n",
       "      <td>0.00</td>\n",
       "      <td>...</td>\n",
       "      <td>75.52</td>\n",
       "      <td>33</td>\n",
       "      <td>46.74</td>\n",
       "      <td>13</td>\n",
       "      <td>73</td>\n",
       "      <td>60.00</td>\n",
       "      <td>3</td>\n",
       "      <td>6</td>\n",
       "      <td>390</td>\n",
       "      <td>40</td>\n",
       "    </tr>\n",
       "  </tbody>\n",
       "</table>\n",
       "<p>1600 rows × 25 columns</p>\n",
       "</div>"
      ],
      "text/plain": [
       "      age   ht  t_won  p_wins  wins  p_w_Hard  w_Hard  p_w_Clay  w_Clay  \\\n",
       "0      24  198     16   70.08   260     68.44     154     74.77      83   \n",
       "8      40  193      0   45.45     5     50.00       3     50.00       1   \n",
       "13     41  183      0   52.27    46     57.89      11     50.72      35   \n",
       "14     39  188      0   30.00     6      0.00       0     33.33       4   \n",
       "15     41  180      0   37.74    20     38.78      19     25.00       1   \n",
       "...   ...  ...    ...     ...   ...       ...     ...       ...     ...   \n",
       "4253   29  182      0   53.12    17     33.33       3     60.87      14   \n",
       "4254   27  193      0   26.67     4     23.08       3      0.00       0   \n",
       "4255   23  177      0   47.06    16     48.48      16      0.00       0   \n",
       "4256   22  195      0   41.03    16     45.45      10     35.29       6   \n",
       "4257   25  173      0   39.39    13     40.62      13      0.00       0   \n",
       "\n",
       "      p_w_Grass  ...  p_1st_won  mean_1st_won  p_2nd_won  mean_2nd_won  \\\n",
       "0         65.71  ...      74.55            39      49.86            14   \n",
       "8         33.33  ...      72.97            29      47.16            14   \n",
       "13         0.00  ...      69.42            27      48.31            14   \n",
       "14        40.00  ...      68.67            35      53.85            17   \n",
       "15         0.00  ...      70.63            25      49.53            12   \n",
       "...         ...  ...        ...           ...        ...           ...   \n",
       "4253       0.00  ...      67.88            26      48.08            11   \n",
       "4254      50.00  ...      70.32            30      44.07            12   \n",
       "4255       0.00  ...      65.75            28      49.78            10   \n",
       "4256       0.00  ...      65.82            27      48.92            12   \n",
       "4257       0.00  ...      75.52            33      46.74            13   \n",
       "\n",
       "      mean_sv_points  p_bp_saved  mean_bp_saved  mean_bp_faced  rank  \\\n",
       "0                 81       60.90              3              5     5   \n",
       "8                 70       68.83              4              7   848   \n",
       "13                69       61.38              4              7   341   \n",
       "14                85       68.52              5              8   248   \n",
       "15                61       61.29              3              5   752   \n",
       "...              ...         ...            ...            ...   ...   \n",
       "4253              63       61.04              4              7   828   \n",
       "4254              71       62.75              4              6  2221   \n",
       "4255              62       58.59              3              6   573   \n",
       "4256              67       56.25              3              6   562   \n",
       "4257              73       60.00              3              6   390   \n",
       "\n",
       "      rank_points  \n",
       "0            7263  \n",
       "8              19  \n",
       "13            142  \n",
       "14            205  \n",
       "15             21  \n",
       "...           ...  \n",
       "4253           16  \n",
       "4254            0  \n",
       "4255           42  \n",
       "4256           45  \n",
       "4257           40  \n",
       "\n",
       "[1600 rows x 25 columns]"
      ]
     },
     "execution_count": 5,
     "metadata": {},
     "output_type": "execute_result"
    }
   ],
   "source": [
    "df_players_numerical = df_players.select_dtypes([\"Int32\", \"float64\"])\n",
    "df_players_numerical"
   ]
  },
  {
   "cell_type": "code",
   "execution_count": 6,
   "metadata": {},
   "outputs": [
    {
     "data": {
      "image/png": "[encoded data removed]",
      "text/plain": [
       "<Figure size 1152x576 with 1 Axes>"
      ]
     },
     "metadata": {
      "needs_background": "light"
     },
     "output_type": "display_data"
    }
   ],
   "source": [
    "scaler = StandardScaler()\n",
    "#scaler = MinMaxScaler()\n",
    "x = scaler.fit_transform(df_players_numerical.values)\n",
    "df_players_scaled = pd.DataFrame(x, columns=df_players_numerical.columns)\n",
    "df_players_scaled\n",
    "\n",
    "pca = PCA()\n",
    "pca.fit(x)\n",
    "\n",
    "fig = plt.figure(figsize=(16,8))\n",
    "\n",
    "plt.step(range(1, df_players_scaled.shape[1]+1), pca.explained_variance_ratio_.cumsum(), where='mid', label='Cumulative Explained Variance')\n",
    "plt.bar(range(1, df_players_scaled.shape[1]+1), pca.explained_variance_ratio_, alpha =0.4, color='r', label='Individual Explained Variance')\n",
    "plt.axhline(y=0.8, color='g', linestyle='-')\n",
    "\n",
    "plt.ylabel('Explained Variance')\n",
    "plt.xlabel('Principal Components')\n",
    "plt.legend(loc='center right');"
   ]
  },
  {
   "cell_type": "code",
   "execution_count": 7,
   "metadata": {},
   "outputs": [
    {
     "data": {
      "text/html": [
       "<div>\n",
       "<style scoped>\n",
       "    .dataframe tbody tr th:only-of-type {\n",
       "        vertical-align: middle;\n",
       "    }\n",
       "\n",
       "    .dataframe tbody tr th {\n",
       "        vertical-align: top;\n",
       "    }\n",
       "\n",
       "    .dataframe thead th {\n",
       "        text-align: right;\n",
       "    }\n",
       "</style>\n",
       "<table border=\"1\" class=\"dataframe\">\n",
       "  <thead>\n",
       "    <tr style=\"text-align: right;\">\n",
       "      <th></th>\n",
       "      <th>feature</th>\n",
       "      <th>variability</th>\n",
       "    </tr>\n",
       "  </thead>\n",
       "  <tbody>\n",
       "    <tr>\n",
       "      <th>22</th>\n",
       "      <td>mean_bp_faced</td>\n",
       "      <td>0.148840</td>\n",
       "    </tr>\n",
       "    <tr>\n",
       "      <th>17</th>\n",
       "      <td>p_2nd_won</td>\n",
       "      <td>0.141204</td>\n",
       "    </tr>\n",
       "    <tr>\n",
       "      <th>4</th>\n",
       "      <td>wins</td>\n",
       "      <td>0.140983</td>\n",
       "    </tr>\n",
       "    <tr>\n",
       "      <th>20</th>\n",
       "      <td>p_bp_saved</td>\n",
       "      <td>0.140219</td>\n",
       "    </tr>\n",
       "    <tr>\n",
       "      <th>15</th>\n",
       "      <td>p_1st_won</td>\n",
       "      <td>0.140095</td>\n",
       "    </tr>\n",
       "    <tr>\n",
       "      <th>19</th>\n",
       "      <td>mean_sv_points</td>\n",
       "      <td>0.138132</td>\n",
       "    </tr>\n",
       "    <tr>\n",
       "      <th>16</th>\n",
       "      <td>mean_1st_won</td>\n",
       "      <td>0.135557</td>\n",
       "    </tr>\n",
       "    <tr>\n",
       "      <th>14</th>\n",
       "      <td>mean_1st_in</td>\n",
       "      <td>0.133748</td>\n",
       "    </tr>\n",
       "    <tr>\n",
       "      <th>18</th>\n",
       "      <td>mean_2nd_won</td>\n",
       "      <td>0.133143</td>\n",
       "    </tr>\n",
       "    <tr>\n",
       "      <th>6</th>\n",
       "      <td>w_Hard</td>\n",
       "      <td>0.131444</td>\n",
       "    </tr>\n",
       "    <tr>\n",
       "      <th>10</th>\n",
       "      <td>w_Grass</td>\n",
       "      <td>0.127640</td>\n",
       "    </tr>\n",
       "    <tr>\n",
       "      <th>9</th>\n",
       "      <td>p_w_Grass</td>\n",
       "      <td>0.126157</td>\n",
       "    </tr>\n",
       "    <tr>\n",
       "      <th>11</th>\n",
       "      <td>p_aces</td>\n",
       "      <td>0.125201</td>\n",
       "    </tr>\n",
       "    <tr>\n",
       "      <th>2</th>\n",
       "      <td>t_won</td>\n",
       "      <td>0.124904</td>\n",
       "    </tr>\n",
       "    <tr>\n",
       "      <th>21</th>\n",
       "      <td>mean_bp_saved</td>\n",
       "      <td>0.120787</td>\n",
       "    </tr>\n",
       "    <tr>\n",
       "      <th>24</th>\n",
       "      <td>rank_points</td>\n",
       "      <td>0.120051</td>\n",
       "    </tr>\n",
       "    <tr>\n",
       "      <th>3</th>\n",
       "      <td>p_wins</td>\n",
       "      <td>0.114029</td>\n",
       "    </tr>\n",
       "    <tr>\n",
       "      <th>13</th>\n",
       "      <td>p_1st_in</td>\n",
       "      <td>0.113694</td>\n",
       "    </tr>\n",
       "    <tr>\n",
       "      <th>23</th>\n",
       "      <td>rank</td>\n",
       "      <td>0.104910</td>\n",
       "    </tr>\n",
       "    <tr>\n",
       "      <th>12</th>\n",
       "      <td>p_double_faults</td>\n",
       "      <td>0.101115</td>\n",
       "    </tr>\n",
       "    <tr>\n",
       "      <th>7</th>\n",
       "      <td>p_w_Clay</td>\n",
       "      <td>0.094096</td>\n",
       "    </tr>\n",
       "    <tr>\n",
       "      <th>5</th>\n",
       "      <td>p_w_Hard</td>\n",
       "      <td>0.092189</td>\n",
       "    </tr>\n",
       "    <tr>\n",
       "      <th>8</th>\n",
       "      <td>w_Clay</td>\n",
       "      <td>0.091603</td>\n",
       "    </tr>\n",
       "    <tr>\n",
       "      <th>1</th>\n",
       "      <td>ht</td>\n",
       "      <td>0.091070</td>\n",
       "    </tr>\n",
       "    <tr>\n",
       "      <th>0</th>\n",
       "      <td>age</td>\n",
       "      <td>0.040221</td>\n",
       "    </tr>\n",
       "  </tbody>\n",
       "</table>\n",
       "</div>"
      ],
      "text/plain": [
       "            feature  variability\n",
       "22    mean_bp_faced     0.148840\n",
       "17        p_2nd_won     0.141204\n",
       "4              wins     0.140983\n",
       "20       p_bp_saved     0.140219\n",
       "15        p_1st_won     0.140095\n",
       "19   mean_sv_points     0.138132\n",
       "16     mean_1st_won     0.135557\n",
       "14      mean_1st_in     0.133748\n",
       "18     mean_2nd_won     0.133143\n",
       "6            w_Hard     0.131444\n",
       "10          w_Grass     0.127640\n",
       "9         p_w_Grass     0.126157\n",
       "11           p_aces     0.125201\n",
       "2             t_won     0.124904\n",
       "21    mean_bp_saved     0.120787\n",
       "24      rank_points     0.120051\n",
       "3            p_wins     0.114029\n",
       "13         p_1st_in     0.113694\n",
       "23             rank     0.104910\n",
       "12  p_double_faults     0.101115\n",
       "7          p_w_Clay     0.094096\n",
       "5          p_w_Hard     0.092189\n",
       "8            w_Clay     0.091603\n",
       "1                ht     0.091070\n",
       "0               age     0.040221"
      ]
     },
     "execution_count": 7,
     "metadata": {},
     "output_type": "execute_result"
    }
   ],
   "source": [
    "n_pc = 4\n",
    "pca = PCA(n_components=n_pc)\n",
    "pca.fit(x)\n",
    "\n",
    "F = abs(pca.components_) #F[i][j] is the proportion of the feature j in the the i-th principal components\n",
    "v = pca.explained_variance_ratio_ #v[i] is the explained variance of the i-th principal component\n",
    "\n",
    "feature_variability = v.dot(F) #weighted sum of the importance of a feature respect the principal components\n",
    "\n",
    "dic = {df_players_scaled.columns[i]: feature_variability[i] for i in range(len(feature_variability))}\n",
    "df_var = pd.DataFrame(dic.items())\n",
    "df_var.columns = ['feature', 'variability']\n",
    "df_var.sort_values(by=['variability'], ascending=False, inplace=True)\n",
    "df_var"
   ]
  },
  {
   "cell_type": "code",
   "execution_count": 8,
   "metadata": {},
   "outputs": [],
   "source": [
    "def entropy(data):\n",
    "    \"\"\"Calculates entropy of the passed `pd.Series`\n",
    "    \"\"\"\n",
    "    p_data = data.value_counts()           # counts occurrence of each value\n",
    "    entropy = scipy.stats.entropy(p_data)  # get entropy from counts\n",
    "    return entropy"
   ]
  },
  {
   "cell_type": "code",
   "execution_count": 9,
   "metadata": {},
   "outputs": [],
   "source": [
    "ent = df_players_scaled.apply(entropy, axis=0)"
   ]
  },
  {
   "cell_type": "code",
   "execution_count": 10,
   "metadata": {
    "scrolled": true
   },
   "outputs": [
    {
     "data": {
      "image/png": "[encoded data removed]",
      "text/plain": [
       "<Figure size 1440x432 with 1 Axes>"
      ]
     },
     "metadata": {
      "needs_background": "light"
     },
     "output_type": "display_data"
    }
   ],
   "source": [
    "plt.figure(figsize=(20,6))\n",
    "ent.plot(kind='bar', fontsize=12, rot=70, use_index=True)\n",
    "plt.xticks(np.arange(ent.size), list(ent.index))\n",
    "plt.show()"
   ]
  },
  {
   "cell_type": "code",
   "execution_count": 11,
   "metadata": {},
   "outputs": [],
   "source": [
    "feature_selected = ['p_aces', 'p_1st_in', 'p_2nd_won', 'p_bp_saved']\n",
    "df_players_numerical = df_players_numerical[feature_selected]"
   ]
  },
  {
   "cell_type": "code",
   "execution_count": 12,
   "metadata": {},
   "outputs": [
    {
     "data": {
      "text/plain": [
       "<AxesSubplot:>"
      ]
     },
     "execution_count": 12,
     "metadata": {},
     "output_type": "execute_result"
    },
    {
     "data": {
      "image/png": "[encoded data removed]",
      "text/plain": [
       "<Figure size 432x288 with 2 Axes>"
      ]
     },
     "metadata": {
      "needs_background": "light"
     },
     "output_type": "display_data"
    }
   ],
   "source": [
    "sn.heatmap(df_players_numerical[feature_selected].corr(), annot=True, fmt=\".2f\", cmap='coolwarm')"
   ]
  },
  {
   "cell_type": "code",
   "execution_count": 13,
   "metadata": {
    "colab": {
     "base_uri": "https://localhost:8080/",
     "height": 417
    },
    "id": "P6DWvEVNdSzV",
    "outputId": "c86812b7-c395-48f2-b77c-ce75baad6abe"
   },
   "outputs": [
    {
     "data": {
      "text/html": [
       "<div>\n",
       "<style scoped>\n",
       "    .dataframe tbody tr th:only-of-type {\n",
       "        vertical-align: middle;\n",
       "    }\n",
       "\n",
       "    .dataframe tbody tr th {\n",
       "        vertical-align: top;\n",
       "    }\n",
       "\n",
       "    .dataframe thead th {\n",
       "        text-align: right;\n",
       "    }\n",
       "</style>\n",
       "<table border=\"1\" class=\"dataframe\">\n",
       "  <thead>\n",
       "    <tr style=\"text-align: right;\">\n",
       "      <th></th>\n",
       "      <th>p_aces</th>\n",
       "      <th>p_1st_in</th>\n",
       "      <th>p_2nd_won</th>\n",
       "      <th>p_bp_saved</th>\n",
       "    </tr>\n",
       "  </thead>\n",
       "  <tbody>\n",
       "    <tr>\n",
       "      <th>0</th>\n",
       "      <td>1.841208</td>\n",
       "      <td>0.842695</td>\n",
       "      <td>0.667957</td>\n",
       "      <td>0.859233</td>\n",
       "    </tr>\n",
       "    <tr>\n",
       "      <th>1</th>\n",
       "      <td>0.853754</td>\n",
       "      <td>-0.925628</td>\n",
       "      <td>-0.027783</td>\n",
       "      <td>2.364583</td>\n",
       "    </tr>\n",
       "    <tr>\n",
       "      <th>2</th>\n",
       "      <td>0.091910</td>\n",
       "      <td>-0.821074</td>\n",
       "      <td>0.268551</td>\n",
       "      <td>0.950352</td>\n",
       "    </tr>\n",
       "    <tr>\n",
       "      <th>3</th>\n",
       "      <td>0.154034</td>\n",
       "      <td>0.035813</td>\n",
       "      <td>1.696105</td>\n",
       "      <td>2.305736</td>\n",
       "    </tr>\n",
       "    <tr>\n",
       "      <th>4</th>\n",
       "      <td>1.242850</td>\n",
       "      <td>-0.666516</td>\n",
       "      <td>0.582922</td>\n",
       "      <td>0.933267</td>\n",
       "    </tr>\n",
       "    <tr>\n",
       "      <th>...</th>\n",
       "      <td>...</td>\n",
       "      <td>...</td>\n",
       "      <td>...</td>\n",
       "      <td>...</td>\n",
       "    </tr>\n",
       "    <tr>\n",
       "      <th>1595</th>\n",
       "      <td>0.412342</td>\n",
       "      <td>0.188097</td>\n",
       "      <td>0.209284</td>\n",
       "      <td>0.885810</td>\n",
       "    </tr>\n",
       "    <tr>\n",
       "      <th>1596</th>\n",
       "      <td>0.964924</td>\n",
       "      <td>0.074452</td>\n",
       "      <td>-0.824018</td>\n",
       "      <td>1.210418</td>\n",
       "    </tr>\n",
       "    <tr>\n",
       "      <th>1597</th>\n",
       "      <td>-0.225253</td>\n",
       "      <td>1.545024</td>\n",
       "      <td>0.647342</td>\n",
       "      <td>0.420727</td>\n",
       "    </tr>\n",
       "    <tr>\n",
       "      <th>1598</th>\n",
       "      <td>0.503894</td>\n",
       "      <td>0.058542</td>\n",
       "      <td>0.425736</td>\n",
       "      <td>-0.023475</td>\n",
       "    </tr>\n",
       "    <tr>\n",
       "      <th>1599</th>\n",
       "      <td>1.582900</td>\n",
       "      <td>-0.343763</td>\n",
       "      <td>-0.136009</td>\n",
       "      <td>0.688387</td>\n",
       "    </tr>\n",
       "  </tbody>\n",
       "</table>\n",
       "<p>1600 rows × 4 columns</p>\n",
       "</div>"
      ],
      "text/plain": [
       "        p_aces  p_1st_in  p_2nd_won  p_bp_saved\n",
       "0     1.841208  0.842695   0.667957    0.859233\n",
       "1     0.853754 -0.925628  -0.027783    2.364583\n",
       "2     0.091910 -0.821074   0.268551    0.950352\n",
       "3     0.154034  0.035813   1.696105    2.305736\n",
       "4     1.242850 -0.666516   0.582922    0.933267\n",
       "...        ...       ...        ...         ...\n",
       "1595  0.412342  0.188097   0.209284    0.885810\n",
       "1596  0.964924  0.074452  -0.824018    1.210418\n",
       "1597 -0.225253  1.545024   0.647342    0.420727\n",
       "1598  0.503894  0.058542   0.425736   -0.023475\n",
       "1599  1.582900 -0.343763  -0.136009    0.688387\n",
       "\n",
       "[1600 rows x 4 columns]"
      ]
     },
     "execution_count": 13,
     "metadata": {},
     "output_type": "execute_result"
    }
   ],
   "source": [
    "scaler = StandardScaler()\n",
    "#scaler = MinMaxScaler()\n",
    "x = scaler.fit_transform(df_players_numerical.values)\n",
    "df_players_scaled = pd.DataFrame(x, columns=df_players_numerical.columns)\n",
    "df_players_scaled"
   ]
  },
  {
   "cell_type": "markdown",
   "metadata": {},
   "source": [
    "# K-means"
   ]
  },
  {
   "cell_type": "code",
   "execution_count": 14,
   "metadata": {
    "colab": {
     "base_uri": "https://localhost:8080/",
     "height": 49,
     "referenced_widgets": [
      "e306d81ee37b4c83bfd25ea4e80596ed",
      "b4808066d033479183e3246665380e14",
      "068ba2aa78c54a8b839ee9c7b54ce25a",
      "d6bdaf29c3f34be8b4f6698a9c258f96",
      "0e2fe635d4904f2aa713b2d6b7ff57e7",
      "5f6a7413e4754c12b53be1c4bda9fc23",
      "cfc3312ff7754bd7bb5525cd07c0e634",
      "3be78da738dd4d4a84add519c8709b84",
      "1ee274301f2a4da5ad5ea297977f1dc8",
      "92b460a4913f4dbfaae0aa585d00e9bf",
      "6d0bf93bf0b3471186674ab3064ba148"
     ]
    },
    "id": "rkvoUeqXduI-",
    "outputId": "fff141b2-e9fd-4023-b1a5-566216294f11"
   },
   "outputs": [
    {
     "data": {
      "application/vnd.jupyter.widget-view+json": {
       "model_id": "469f43a7c45e4da9a3c49f923d8d377c",
       "version_major": 2,
       "version_minor": 0
      },
      "text/plain": [
       "Iterating over possible K values:   0%|          | 0/7 [00:00<?, ?it/s]"
      ]
     },
     "metadata": {},
     "output_type": "display_data"
    }
   ],
   "source": [
    "sse_list = list()\n",
    "sil_list = list()\n",
    "davies_list = list()\n",
    "max_k = 8\n",
    "for k in tqdm(range(2, max_k + 1), total=max_k - 1, desc=\"Iterating over possible K values\"):\n",
    "    kmeans_iter = KMeans(n_clusters=k, n_init=10, max_iter=100)\n",
    "    kmeans_iter.fit(x)\n",
    "    \n",
    "    davies_list.append(davies_bouldin_score(x, kmeans_iter.labels_))\n",
    "    sil_list.append(silhouette_score(x, kmeans_iter.labels_))\n",
    "    sse = kmeans_iter.inertia_\n",
    "    sse_list.append(sse)"
   ]
  },
  {
   "cell_type": "code",
   "execution_count": 15,
   "metadata": {
    "colab": {
     "base_uri": "https://localhost:8080/",
     "height": 942
    },
    "id": "TA3dc6n6d5S8",
    "outputId": "f339e3a7-65d2-40c5-c2c8-a5b460ffc6d2"
   },
   "outputs": [
    {
     "data": {
      "image/png": "[encoded data removed]",
      "text/plain": [
       "<Figure size 1008x1152 with 3 Axes>"
      ]
     },
     "metadata": {
      "needs_background": "light"
     },
     "output_type": "display_data"
    }
   ],
   "source": [
    "# plot indicators\n",
    "fig, axs = plt.subplots(3,1,figsize=(14, 16))\n",
    "label_s = 10\n",
    "\n",
    "axs[0].plot(range(2, len(sse_list) + 2), sse_list)\n",
    "axs[0].set_ylabel('SSE', fontsize=22)\n",
    "axs[0].set_xlabel('K', fontsize=22)\n",
    "axs[0].tick_params(axis='both', which='major', labelsize=label_s)\n",
    "\n",
    "axs[1].plot(range(2, len(sil_list) + 2), sil_list)\n",
    "axs[1].set_ylabel('Silhouette Score', fontsize=22)\n",
    "axs[1].set_xlabel('K', fontsize=22)\n",
    "axs[1].tick_params(axis='both', which='major', labelsize=label_s)\n",
    "\n",
    "axs[2].plot(range(2, len(davies_list) + 2), davies_list)\n",
    "axs[2].set_ylabel('Davies-Bouldin Score', fontsize=22)\n",
    "axs[2].set_xlabel('K', fontsize=22)\n",
    "axs[2].tick_params(axis='both', which='major', labelsize=label_s)"
   ]
  },
  {
   "cell_type": "code",
   "execution_count": 16,
   "metadata": {
    "colab": {
     "base_uri": "https://localhost:8080/"
    },
    "id": "Dx8lW4SyiE5b",
    "outputId": "8cc248f1-f8c9-4f8c-b517-793002cf28c6"
   },
   "outputs": [
    {
     "name": "stdout",
     "output_type": "stream",
     "text": [
      "SSE: 2947.118093443546  - SILHOUETTE: 0.24249631213709122\n"
     ]
    }
   ],
   "source": [
    "k = 4\n",
    "kmeans = KMeans(n_clusters=k, n_init=100)\n",
    "kmeans.fit(x)\n",
    "print(\"SSE:\",sse_list[k-2],\" - SILHOUETTE:\",sil_list[k-2])"
   ]
  },
  {
   "cell_type": "code",
   "execution_count": 17,
   "metadata": {
    "colab": {
     "base_uri": "https://localhost:8080/"
    },
    "id": "27t-8_q4VT6a",
    "outputId": "43b97b91-eea9-49e2-bde8-3dfeea1a46d6"
   },
   "outputs": [
    {
     "name": "stdout",
     "output_type": "stream",
     "text": [
      "{0: 314, 1: 296, 2: 640, 3: 350}\n"
     ]
    }
   ],
   "source": [
    "hist, bins = np.histogram(kmeans.labels_, bins=range(0, len(set(kmeans.labels_)) + 1))\n",
    "clust_dict = dict(zip(bins, hist))\n",
    "print(clust_dict)"
   ]
  },
  {
   "cell_type": "code",
   "execution_count": 18,
   "metadata": {
    "id": "vMX1Ky7qepSS"
   },
   "outputs": [],
   "source": [
    "def plot_basic_statistics(df, labels, columns):\n",
    "    df_plot = pd.DataFrame(df, columns=columns, copy=True)\n",
    "    df_plot['cluster'] = labels\n",
    "    columns = df_plot.columns[0:-1]     \n",
    "    means = []\n",
    "    std = []\n",
    "    label_s = 12\n",
    "    fig = plt.figure(figsize=(14,8))\n",
    "    for i in np.unique(df_plot['cluster'].array):\n",
    "        clust = df.loc[df_plot['cluster'] == i, columns]\n",
    "        means.append(clust.describe().loc['mean'].values)\n",
    "        std.append(clust.describe().loc['std'].values)  \n",
    "    legend = []\n",
    "    for i in np.unique(df_plot['cluster'].array):\n",
    "        plt.plot(range(0, columns.shape[0]), means[i], marker='o')\n",
    "        legend.append('Cluster %d' %i)\n",
    "    plt.legend(legend)\n",
    "    plt.xticks(range(0, columns.shape[0]), columns, fontsize=label_s, rotation=55)"
   ]
  },
  {
   "cell_type": "code",
   "execution_count": 19,
   "metadata": {
    "colab": {
     "base_uri": "https://localhost:8080/",
     "height": 641
    },
    "id": "DUwkIzaueudy",
    "outputId": "ec97dde1-c693-41b8-b682-5540a7a990cd"
   },
   "outputs": [
    {
     "data": {
      "image/png": "[encoded data removed]",
      "text/plain": [
       "<Figure size 1008x576 with 1 Axes>"
      ]
     },
     "metadata": {
      "needs_background": "light"
     },
     "output_type": "display_data"
    }
   ],
   "source": [
    "clusters_players = kmeans.labels_\n",
    "plot_basic_statistics(df_players_scaled, clusters_players, df_players_scaled.columns)"
   ]
  },
  {
   "cell_type": "code",
   "execution_count": 20,
   "metadata": {},
   "outputs": [
    {
     "data": {
      "text/html": [
       "<div>\n",
       "<style scoped>\n",
       "    .dataframe tbody tr th:only-of-type {\n",
       "        vertical-align: middle;\n",
       "    }\n",
       "\n",
       "    .dataframe tbody tr th {\n",
       "        vertical-align: top;\n",
       "    }\n",
       "\n",
       "    .dataframe thead th {\n",
       "        text-align: right;\n",
       "    }\n",
       "</style>\n",
       "<table border=\"1\" class=\"dataframe\">\n",
       "  <thead>\n",
       "    <tr style=\"text-align: right;\">\n",
       "      <th></th>\n",
       "      <th>p_aces</th>\n",
       "      <th>p_1st_in</th>\n",
       "      <th>p_2nd_won</th>\n",
       "      <th>p_bp_saved</th>\n",
       "    </tr>\n",
       "  </thead>\n",
       "  <tbody>\n",
       "    <tr>\n",
       "      <th>0</th>\n",
       "      <td>1.841208</td>\n",
       "      <td>0.842695</td>\n",
       "      <td>0.667957</td>\n",
       "      <td>0.859233</td>\n",
       "    </tr>\n",
       "    <tr>\n",
       "      <th>1</th>\n",
       "      <td>0.853754</td>\n",
       "      <td>-0.925628</td>\n",
       "      <td>-0.027783</td>\n",
       "      <td>2.364583</td>\n",
       "    </tr>\n",
       "    <tr>\n",
       "      <th>2</th>\n",
       "      <td>0.091910</td>\n",
       "      <td>-0.821074</td>\n",
       "      <td>0.268551</td>\n",
       "      <td>0.950352</td>\n",
       "    </tr>\n",
       "    <tr>\n",
       "      <th>3</th>\n",
       "      <td>0.154034</td>\n",
       "      <td>0.035813</td>\n",
       "      <td>1.696105</td>\n",
       "      <td>2.305736</td>\n",
       "    </tr>\n",
       "    <tr>\n",
       "      <th>4</th>\n",
       "      <td>1.242850</td>\n",
       "      <td>-0.666516</td>\n",
       "      <td>0.582922</td>\n",
       "      <td>0.933267</td>\n",
       "    </tr>\n",
       "    <tr>\n",
       "      <th>...</th>\n",
       "      <td>...</td>\n",
       "      <td>...</td>\n",
       "      <td>...</td>\n",
       "      <td>...</td>\n",
       "    </tr>\n",
       "    <tr>\n",
       "      <th>1595</th>\n",
       "      <td>0.412342</td>\n",
       "      <td>0.188097</td>\n",
       "      <td>0.209284</td>\n",
       "      <td>0.885810</td>\n",
       "    </tr>\n",
       "    <tr>\n",
       "      <th>1596</th>\n",
       "      <td>0.964924</td>\n",
       "      <td>0.074452</td>\n",
       "      <td>-0.824018</td>\n",
       "      <td>1.210418</td>\n",
       "    </tr>\n",
       "    <tr>\n",
       "      <th>1597</th>\n",
       "      <td>-0.225253</td>\n",
       "      <td>1.545024</td>\n",
       "      <td>0.647342</td>\n",
       "      <td>0.420727</td>\n",
       "    </tr>\n",
       "    <tr>\n",
       "      <th>1598</th>\n",
       "      <td>0.503894</td>\n",
       "      <td>0.058542</td>\n",
       "      <td>0.425736</td>\n",
       "      <td>-0.023475</td>\n",
       "    </tr>\n",
       "    <tr>\n",
       "      <th>1599</th>\n",
       "      <td>1.582900</td>\n",
       "      <td>-0.343763</td>\n",
       "      <td>-0.136009</td>\n",
       "      <td>0.688387</td>\n",
       "    </tr>\n",
       "  </tbody>\n",
       "</table>\n",
       "<p>1600 rows × 4 columns</p>\n",
       "</div>"
      ],
      "text/plain": [
       "        p_aces  p_1st_in  p_2nd_won  p_bp_saved\n",
       "0     1.841208  0.842695   0.667957    0.859233\n",
       "1     0.853754 -0.925628  -0.027783    2.364583\n",
       "2     0.091910 -0.821074   0.268551    0.950352\n",
       "3     0.154034  0.035813   1.696105    2.305736\n",
       "4     1.242850 -0.666516   0.582922    0.933267\n",
       "...        ...       ...        ...         ...\n",
       "1595  0.412342  0.188097   0.209284    0.885810\n",
       "1596  0.964924  0.074452  -0.824018    1.210418\n",
       "1597 -0.225253  1.545024   0.647342    0.420727\n",
       "1598  0.503894  0.058542   0.425736   -0.023475\n",
       "1599  1.582900 -0.343763  -0.136009    0.688387\n",
       "\n",
       "[1600 rows x 4 columns]"
      ]
     },
     "execution_count": 20,
     "metadata": {},
     "output_type": "execute_result"
    }
   ],
   "source": [
    "df_players_scaled"
   ]
  },
  {
   "cell_type": "markdown",
   "metadata": {},
   "source": [
    "# Validation"
   ]
  },
  {
   "cell_type": "code",
   "execution_count": 25,
   "metadata": {},
   "outputs": [],
   "source": [
    "def plot_cross_correlation(df_scaled, cluster_method):\n",
    "    labels = cluster_method.labels_\n",
    "    df = pd.DataFrame(df_scaled, copy=True)\n",
    "    df['cluster'] = labels\n",
    "    columns = df.columns[0:-1]\n",
    "    df.sort_values(by='cluster', ascending=True, inplace=True)\n",
    "    dist_matrix = euclidean_distances(df.loc[:, columns], df.loc[:, columns])\n",
    "    sim_matrix = np.exp(-dist_matrix)\n",
    "    \n",
    "    fig, (ax1, ax2) = plt.subplots(1, 2, figsize=(15, 5)) \n",
    "    \n",
    "    #plt.matshow(dist_matrix, ax=ax1)\n",
    "    \n",
    "    df_sim = pd.DataFrame(sim_matrix)  \n",
    "    sn.heatmap(df_sim, cmap='coolwarm', ax=ax1)\n",
    "    \n",
    "    labels.sort()\n",
    "    n = len(labels)\n",
    "    inc_matrix = []\n",
    "    for i in range(n):\n",
    "        row = []\n",
    "        for j in range(n):\n",
    "            if labels[i] == labels[j]: # check the cluster affiliation\n",
    "                row.append(1) # assign 1 if records belongs to the same cluster, 0 otherwise\n",
    "            else:\n",
    "                row.append(0)\n",
    "        inc_matrix.append(row)\n",
    "\n",
    "    #plt.matshow(inc_matrix, ax=ax2)\n",
    "    \n",
    "    df_inc = pd.DataFrame(inc_matrix)\n",
    "    sn.heatmap(df_inc, cmap='coolwarm', ax=ax2)\n",
    "       \n",
    "    corr_matrix = np.corrcoef(sim_matrix, inc_matrix)\n",
    "    df_corr = pd.DataFrame(corr_matrix)\n",
    "    maxx = df_corr.max()\n",
    "    # visualization\n",
    "    plt.figure(figsize=(9, 6))\n",
    "    sn.heatmap(df_corr, cmap='coolwarm')\n",
    "    return maxx"
   ]
  },
  {
   "cell_type": "code",
   "execution_count": 1,
   "metadata": {},
   "outputs": [],
   "source": [
    "inc_matrix = []\n",
    "for i in range(5):\n",
    "    row = []\n",
    "    for j in range(3):\n",
    "        if i==j: # check the cluster affiliation\n",
    "            row.append(i) # assign 1 if records belongs to the same cluster, 0 otherwise\n",
    "        else:\n",
    "            row.append(0)\n",
    "    inc_matrix.append(row)"
   ]
  },
  {
   "cell_type": "raw",
   "metadata": {},
   "source": [
    "print(len(inc_matrix))"
   ]
  },
  {
   "cell_type": "markdown",
   "metadata": {},
   "source": []
  },
  {
   "cell_type": "code",
   "execution_count": 26,
   "metadata": {},
   "outputs": [
    {
     "ename": "NameError",
     "evalue": "name 'statistics' is not defined",
     "output_type": "error",
     "traceback": [
      "\u001b[0;31m---------------------------------------------------------------------------\u001b[0m",
      "\u001b[0;31mNameError\u001b[0m                                 Traceback (most recent call last)",
      "\u001b[0;32m/tmp/ipykernel_7365/1829591181.py\u001b[0m in \u001b[0;36m<module>\u001b[0;34m\u001b[0m\n\u001b[0;32m----> 1\u001b[0;31m \u001b[0mmaxx\u001b[0m \u001b[0;34m=\u001b[0m \u001b[0mplot_cross_correlation\u001b[0m\u001b[0;34m(\u001b[0m\u001b[0mdf_players_scaled\u001b[0m\u001b[0;34m,\u001b[0m \u001b[0mkmeans\u001b[0m\u001b[0;34m)\u001b[0m\u001b[0;34m\u001b[0m\u001b[0;34m\u001b[0m\u001b[0m\n\u001b[0m",
      "\u001b[0;32m/tmp/ipykernel_7365/1519101462.py\u001b[0m in \u001b[0;36mplot_cross_correlation\u001b[0;34m(df_scaled, cluster_method)\u001b[0m\n\u001b[1;32m      7\u001b[0m     \u001b[0mdist_matrix\u001b[0m \u001b[0;34m=\u001b[0m \u001b[0meuclidean_distances\u001b[0m\u001b[0;34m(\u001b[0m\u001b[0mdf\u001b[0m\u001b[0;34m.\u001b[0m\u001b[0mloc\u001b[0m\u001b[0;34m[\u001b[0m\u001b[0;34m:\u001b[0m\u001b[0;34m,\u001b[0m \u001b[0mcolumns\u001b[0m\u001b[0;34m]\u001b[0m\u001b[0;34m,\u001b[0m \u001b[0mdf\u001b[0m\u001b[0;34m.\u001b[0m\u001b[0mloc\u001b[0m\u001b[0;34m[\u001b[0m\u001b[0;34m:\u001b[0m\u001b[0;34m,\u001b[0m \u001b[0mcolumns\u001b[0m\u001b[0;34m]\u001b[0m\u001b[0;34m)\u001b[0m\u001b[0;34m\u001b[0m\u001b[0;34m\u001b[0m\u001b[0m\n\u001b[1;32m      8\u001b[0m     \u001b[0msim_matrix\u001b[0m \u001b[0;34m=\u001b[0m \u001b[0mnp\u001b[0m\u001b[0;34m.\u001b[0m\u001b[0mexp\u001b[0m\u001b[0;34m(\u001b[0m\u001b[0;34m-\u001b[0m\u001b[0mdist_matrix\u001b[0m\u001b[0;34m)\u001b[0m\u001b[0;34m\u001b[0m\u001b[0;34m\u001b[0m\u001b[0m\n\u001b[0;32m----> 9\u001b[0;31m     \u001b[0msim_matrix\u001b[0m \u001b[0;34m=\u001b[0m \u001b[0msim_matrix\u001b[0m \u001b[0;34m-\u001b[0m \u001b[0mstatistics\u001b[0m\u001b[0;34m.\u001b[0m\u001b[0mmean\u001b[0m\u001b[0;34m(\u001b[0m\u001b[0msim_matrix\u001b[0m\u001b[0;34m)\u001b[0m\u001b[0;34m\u001b[0m\u001b[0;34m\u001b[0m\u001b[0m\n\u001b[0m\u001b[1;32m     10\u001b[0m \u001b[0;34m\u001b[0m\u001b[0m\n\u001b[1;32m     11\u001b[0m     \u001b[0mfig\u001b[0m\u001b[0;34m,\u001b[0m \u001b[0;34m(\u001b[0m\u001b[0max1\u001b[0m\u001b[0;34m,\u001b[0m \u001b[0max2\u001b[0m\u001b[0;34m)\u001b[0m \u001b[0;34m=\u001b[0m \u001b[0mplt\u001b[0m\u001b[0;34m.\u001b[0m\u001b[0msubplots\u001b[0m\u001b[0;34m(\u001b[0m\u001b[0;36m1\u001b[0m\u001b[0;34m,\u001b[0m \u001b[0;36m2\u001b[0m\u001b[0;34m,\u001b[0m \u001b[0mfigsize\u001b[0m\u001b[0;34m=\u001b[0m\u001b[0;34m(\u001b[0m\u001b[0;36m15\u001b[0m\u001b[0;34m,\u001b[0m \u001b[0;36m5\u001b[0m\u001b[0;34m)\u001b[0m\u001b[0;34m)\u001b[0m\u001b[0;34m\u001b[0m\u001b[0;34m\u001b[0m\u001b[0m\n",
      "\u001b[0;31mNameError\u001b[0m: name 'statistics' is not defined"
     ]
    }
   ],
   "source": [
    "maxx = plot_cross_correlation(df_players_scaled, kmeans)"
   ]
  },
  {
   "cell_type": "code",
   "execution_count": 65,
   "metadata": {},
   "outputs": [],
   "source": [
    "def validation_clustering(df_scaled, cluster_method, columns):\n",
    "    labels = cluster_method.labels_\n",
    "    centers = cluster_method.cluster_centers_\n",
    "    df = pd.DataFrame(df_scaled, columns=columns, copy=True)\n",
    "    df['cluster'] = labels\n",
    "    \n",
    "    df_entropy = pd.DataFrame(index=range(len(centers)), columns=columns)\n",
    "    for i in range(min(labels), max(labels)+1):\n",
    "        df_cluster = df[df['cluster']==i]\n",
    "        df_cluster = df_cluster.iloc[:,:-1]\n",
    "        ent = df_cluster.apply(entropy, axis=0)\n",
    "        df_entropy.at[i,:] = ent\n",
    "\n",
    "    df_entropy['total'] = df_entropy.sum(axis=1)\n",
    "    df_entropy['cluster'] = range(min(labels), max(labels)+1)\n",
    "    #df_entropy.rename(columns={index={'0': 'cluster 0', '1': 'cluster 1', '2': 'cluster 2', '3': 'cluster 3'})\n",
    "    return df_entropy"
   ]
  },
  {
   "cell_type": "code",
   "execution_count": 66,
   "metadata": {},
   "outputs": [],
   "source": [
    "df_entropy = validation_clustering(df_players_scaled, kmeans, df_players_scaled.columns)"
   ]
  },
  {
   "cell_type": "code",
   "execution_count": 67,
   "metadata": {},
   "outputs": [
    {
     "data": {
      "text/html": [
       "<div>\n",
       "<style scoped>\n",
       "    .dataframe tbody tr th:only-of-type {\n",
       "        vertical-align: middle;\n",
       "    }\n",
       "\n",
       "    .dataframe tbody tr th {\n",
       "        vertical-align: top;\n",
       "    }\n",
       "\n",
       "    .dataframe thead th {\n",
       "        text-align: right;\n",
       "    }\n",
       "</style>\n",
       "<table border=\"1\" class=\"dataframe\">\n",
       "  <thead>\n",
       "    <tr style=\"text-align: right;\">\n",
       "      <th></th>\n",
       "      <th>p_aces</th>\n",
       "      <th>p_1st_in</th>\n",
       "      <th>p_2nd_won</th>\n",
       "      <th>p_bp_saved</th>\n",
       "      <th>total</th>\n",
       "      <th>cluster</th>\n",
       "    </tr>\n",
       "  </thead>\n",
       "  <tbody>\n",
       "    <tr>\n",
       "      <th>0</th>\n",
       "      <td>5.512312</td>\n",
       "      <td>5.604926</td>\n",
       "      <td>5.510607</td>\n",
       "      <td>5.589675</td>\n",
       "      <td>22.217520</td>\n",
       "      <td>0</td>\n",
       "    </tr>\n",
       "    <tr>\n",
       "      <th>1</th>\n",
       "      <td>5.660498</td>\n",
       "      <td>5.659519</td>\n",
       "      <td>5.636528</td>\n",
       "      <td>5.636528</td>\n",
       "      <td>22.593074</td>\n",
       "      <td>1</td>\n",
       "    </tr>\n",
       "    <tr>\n",
       "      <th>2</th>\n",
       "      <td>6.023914</td>\n",
       "      <td>6.175576</td>\n",
       "      <td>6.116393</td>\n",
       "      <td>6.195619</td>\n",
       "      <td>24.511503</td>\n",
       "      <td>2</td>\n",
       "    </tr>\n",
       "    <tr>\n",
       "      <th>3</th>\n",
       "      <td>5.414507</td>\n",
       "      <td>5.63203</td>\n",
       "      <td>5.534744</td>\n",
       "      <td>5.588407</td>\n",
       "      <td>22.169689</td>\n",
       "      <td>3</td>\n",
       "    </tr>\n",
       "  </tbody>\n",
       "</table>\n",
       "</div>"
      ],
      "text/plain": [
       "     p_aces  p_1st_in p_2nd_won p_bp_saved      total  cluster\n",
       "0  5.512312  5.604926  5.510607   5.589675  22.217520        0\n",
       "1  5.660498  5.659519  5.636528   5.636528  22.593074        1\n",
       "2  6.023914  6.175576  6.116393   6.195619  24.511503        2\n",
       "3  5.414507   5.63203  5.534744   5.588407  22.169689        3"
      ]
     },
     "execution_count": 67,
     "metadata": {},
     "output_type": "execute_result"
    }
   ],
   "source": [
    "df_entropy"
   ]
  },
  {
   "cell_type": "code",
   "execution_count": 74,
   "metadata": {},
   "outputs": [
    {
     "ename": "NameError",
     "evalue": "name 'df_entropy' is not defined",
     "output_type": "error",
     "traceback": [
      "\u001b[0;31m---------------------------------------------------------------------------\u001b[0m",
      "\u001b[0;31mNameError\u001b[0m                                 Traceback (most recent call last)",
      "\u001b[0;32m/tmp/ipykernel_25788/2806634976.py\u001b[0m in \u001b[0;36m<module>\u001b[0;34m\u001b[0m\n\u001b[0;32m----> 1\u001b[0;31m \u001b[0ml\u001b[0m\u001b[0;34m=\u001b[0m\u001b[0mdf_entropy\u001b[0m\u001b[0;34m.\u001b[0m\u001b[0mgroupby\u001b[0m\u001b[0;34m(\u001b[0m\u001b[0mby\u001b[0m\u001b[0;34m=\u001b[0m\u001b[0;34m'index'\u001b[0m\u001b[0;34m)\u001b[0m\u001b[0;34m.\u001b[0m\u001b[0msum\u001b[0m\u001b[0;34m(\u001b[0m\u001b[0;34m)\u001b[0m\u001b[0;34m\u001b[0m\u001b[0;34m\u001b[0m\u001b[0m\n\u001b[0m",
      "\u001b[0;31mNameError\u001b[0m: name 'df_entropy' is not defined"
     ]
    }
   ],
   "source": [
    "l=df_entropy.groupby(by='index').sum()"
   ]
  },
  {
   "cell_type": "markdown",
   "metadata": {},
   "source": [
    "# Pre-processing"
   ]
  },
  {
   "cell_type": "code",
   "execution_count": null,
   "metadata": {},
   "outputs": [],
   "source": [
    "dist = pdist(X=x, metric='euclidean')  # pair-wise distance: how every record is far from all others\n",
    "dist = squareform(dist)                # distance matrix given the vector dist"
   ]
  },
  {
   "cell_type": "code",
   "execution_count": null,
   "metadata": {},
   "outputs": [],
   "source": [
    "'''\n",
    "kmin, kmax = 10, 11\n",
    "kth_distances = {k:[] for k in range(kmin, kmax + 1)} # initialize k lists\n",
    "\n",
    "for d in dist:\n",
    "    # argsort returns the indexes that would sort d\n",
    "    indexes_to_sort_d = np.argsort(d)\n",
    "    for k in range(kmin, kmax + 1):\n",
    "        # append to kth_distances[k] the value in d that corresponds\n",
    "        # to the distance of the i-th point (record) from its k-th nn.\n",
    "        # it's like: kth_distances[k].append(sorted_d[k])), but we get \"sorted_d[k]\" by d[indexes_to_sort_d[k]]\n",
    "        kth_distances[k].append(d[indexes_to_sort_d[k]])\n",
    "'''"
   ]
  },
  {
   "cell_type": "code",
   "execution_count": null,
   "metadata": {},
   "outputs": [],
   "source": [
    "'''\n",
    "plt.figure(figsize=(50, 20))\n",
    "for k in kth_distances.keys():\n",
    "    plt.plot(range(0, len(kth_distances[k])), sorted(kth_distances[k]))\n",
    "plt.xlim((-50, len(x) + 50))\n",
    "plt.ylim(top=1)\n",
    "plt.ylabel('distance from k-th nn (eps)', fontsize=40)\n",
    "plt.xlabel('sorted distances', fontsize=40)\n",
    "plt.xticks(rotation=-45, fontsize=40)\n",
    "plt.yticks(fontsize=40)\n",
    "plt.tick_params(axis='both', which='major')\n",
    "plt.grid()\n",
    "plt.show()\n",
    "'''"
   ]
  },
  {
   "cell_type": "code",
   "execution_count": null,
   "metadata": {},
   "outputs": [],
   "source": [
    "k = 10\n",
    "\n",
    "kth_distances = list()\n",
    "for d in dist:\n",
    "    index_kth_distance = np.argsort(d)[k]\n",
    "    kth_distances.append(d[index_kth_distance])\n",
    "\n",
    "plt.figure(figsize=(50, 20))    \n",
    "plt.plot(range(0, len(kth_distances)), sorted(kth_distances))\n",
    "plt.xlim((-50, len(x) + 50))\n",
    "#plt.ylim(top=1)\n",
    "plt.ylabel('distance from k-th nn (eps)', fontsize=40)\n",
    "plt.xlabel('sorted distances', fontsize=40)\n",
    "plt.xticks(rotation=-45, fontsize=40)\n",
    "plt.yticks(fontsize=40)\n",
    "plt.tick_params(axis='both', which='major')\n",
    "plt.grid()\n",
    "plt.show()  "
   ]
  },
  {
   "cell_type": "code",
   "execution_count": null,
   "metadata": {},
   "outputs": [],
   "source": [
    "dbscan = DBSCAN(eps=0.5, min_samples=10)\n",
    "dbscan.fit(x)"
   ]
  },
  {
   "cell_type": "code",
   "execution_count": null,
   "metadata": {},
   "outputs": [],
   "source": [
    "pca_to_visualize = PCA(n_components=2) \n",
    "data_to_visualize = pd.DataFrame(pca_to_visualize.fit_transform(x),columns=['PC_1','PC_2'])\n",
    "#data_to_visualize = df_players_scaled\n",
    "data_to_visualize['cluster'] = dbscan.labels_\n",
    "plt.figure(figsize=(12,8))\n",
    "sn.scatterplot(x=\"PC_1\", y=\"PC_2\", hue=\"cluster\", data=data_to_visualize, palette='tab10');"
   ]
  },
  {
   "cell_type": "code",
   "execution_count": null,
   "metadata": {},
   "outputs": [],
   "source": [
    "df_players_scaled['cluster'] = dbscan.labels_\n",
    "sn.pairplot(df_players_scaled, hue='cluster', palette='tab10')\n",
    "plt.show()"
   ]
  },
  {
   "cell_type": "code",
   "execution_count": null,
   "metadata": {},
   "outputs": [],
   "source": [
    "def plot_basic_statistics(df, labels, columns):\n",
    "    df = pd.DataFrame(df, columns=columns)\n",
    "    df['cluster'] = labels\n",
    "    columns = df.columns[0:-1]     \n",
    "    means = []\n",
    "    std = []\n",
    "    label_s = 15\n",
    "    fig = plt.figure(figsize=(20,10))\n",
    "    for i in np.unique(df['cluster'].array):\n",
    "        clust = df.loc[df['cluster'] == i, columns]\n",
    "        means.append(clust.describe().loc['mean'].values)\n",
    "        std.append(clust.describe().loc['std'].values)  \n",
    "    legend = []\n",
    "    for i in np.unique(df['cluster'].array):\n",
    "        plt.plot(range(0, columns.shape[0]), means[i], marker='o')\n",
    "        legend.append('Cluster %d' %i)\n",
    "    plt.legend(legend)\n",
    "    plt.xticks(range(0, columns.shape[0]), columns, fontsize=label_s, rotation=55)\n",
    "    #plt.xticks(range(0, len(clust_feature.columns)), clust_feature.columns, fontsize=label_s, rotation=55)"
   ]
  },
  {
   "cell_type": "code",
   "execution_count": null,
   "metadata": {},
   "outputs": [],
   "source": [
    "clusters_players = dbscan.labels_\n",
    "plot_basic_statistics(df_players_scaled, clusters_players, df_players_scaled.columns)"
   ]
  },
  {
   "cell_type": "code",
   "execution_count": null,
   "metadata": {},
   "outputs": [],
   "source": [
    "dbscan.labels_"
   ]
  },
  {
   "cell_type": "code",
   "execution_count": null,
   "metadata": {},
   "outputs": [],
   "source": [
    "clusters_players = dbscan.labels_\n",
    "df_players_numerical['cluster'] = clusters_players\n",
    "\n",
    "df_players_numerical = df_players_numerical[df_players_numerical['cluster'] == 0]\n",
    "\n",
    "df_players_numerical = df_players_numerical.loc[:, df_players_numerical.columns!='cluster']\n",
    "\n",
    "scaler = StandardScaler()\n",
    "#scaler = MinMaxScaler()\n",
    "x = scaler.fit_transform(df_players_numerical.values)\n",
    "df_players_scaled = pd.DataFrame(x, columns=df_players_numerical.columns)\n",
    "df_players_scaled"
   ]
  },
  {
   "cell_type": "markdown",
   "metadata": {
    "id": "hmKdxnVXU8NG"
   },
   "source": [
    "## **K-means**"
   ]
  },
  {
   "cell_type": "markdown",
   "metadata": {
    "id": "sVeBDe4dU8pu"
   },
   "source": [
    "**Indicators:**\n",
    "\n",
    "*   **SSE Score** (Inertia): Sum of squared error\n",
    "*   **Silhouette Score**: It combines both cohesion and separation. Cluster cohesion measures how closely related are objects in a cluster. Typically between 0 and 1, the closer to 1 the better.\n",
    "*   **Davies Bouldin Score**: It is defined as a ratio of within cluster scatter and the between cluster separation. (Positive indicator, lower value closer to 0 is better)."
   ]
  },
  {
   "cell_type": "code",
   "execution_count": null,
   "metadata": {
    "colab": {
     "base_uri": "https://localhost:8080/",
     "height": 49,
     "referenced_widgets": [
      "4b8dca29a7914622b0451111c2ce079d",
      "9bda2df10d20428ea3168141cc86c0b5",
      "7b30d87f705249bfa78ae61e5156f339",
      "94698502b5e548aa9b8bc748a5b559c4",
      "f4c5fd21eb5a4f5aa9c67dff5d014149",
      "cac10d49cff2468ab29f99ad3476699c",
      "582cf6abfb14443ebbbbe0272c2d2599",
      "c7fd9d81bb0b49b1a92b7ff542b5844f",
      "67e1fd4e9cc24f98acd943670c7776a0",
      "54ba86fa3d3b41d3877878829f2cdaed",
      "35cab9d2da8e4c56821c913d02ce071d"
     ]
    },
    "id": "TAR_f2nDU-N2",
    "outputId": "f71d5ba7-39cc-4f56-a033-a855ba5644e2"
   },
   "outputs": [],
   "source": [
    "sse_list = list()\n",
    "sil_list = list()\n",
    "davies_list = list()\n",
    "max_k = 20\n",
    "for k in tqdm(range(2, max_k + 1), total=max_k - 1, desc=\"Iterating over possible K values\"):\n",
    "    kmeans_iter = KMeans(n_clusters=k, n_init=10, max_iter=100)\n",
    "    kmeans_iter.fit(X_selected)\n",
    "    \n",
    "    davies_list.append(davies_bouldin_score(X_selected, kmeans_iter.labels_))\n",
    "    sil_list.append(silhouette_score(X_selected, kmeans_iter.labels_))\n",
    "    sse = kmeans_iter.inertia_\n",
    "    sse_list.append(sse)"
   ]
  },
  {
   "cell_type": "code",
   "execution_count": null,
   "metadata": {
    "colab": {
     "base_uri": "https://localhost:8080/",
     "height": 1000
    },
    "id": "SMIaMZZGVAzM",
    "outputId": "828daaf0-f8d6-468b-814f-84cfc1548bb6"
   },
   "outputs": [],
   "source": [
    "# plot indicators\n",
    "fig, axs = plt.subplots(3,1,figsize=(12,22));\n",
    "label_s = 12\n",
    "\n",
    "axs[0].plot(range(2, len(sse_list) + 2), sse_list)\n",
    "axs[0].set_ylabel('SSE', fontsize=22)\n",
    "axs[0].set_xlabel('K', fontsize=22)\n",
    "axs[0].tick_params(axis='both', which='major', labelsize=label_s)\n",
    "axs[0].set_xticks(range(2,max_k+1));\n",
    "\n",
    "axs[1].plot(range(2, len(sil_list) + 2), sil_list)\n",
    "axs[1].set_ylabel('Silhouette Score', fontsize=22)\n",
    "axs[1].set_xlabel('K', fontsize=22)\n",
    "axs[1].tick_params(axis='both', which='major', labelsize=label_s)\n",
    "axs[1].set_xticks(range(2,max_k+1));\n",
    "\n",
    "axs[2].plot(range(2, len(davies_list) + 2), davies_list)\n",
    "axs[2].set_ylabel('Davies-Bouldin Score', fontsize=22)\n",
    "axs[2].set_xlabel('K', fontsize=22)\n",
    "axs[2].tick_params(axis='both', which='major', labelsize=label_s)\n",
    "axs[2].set_xticks(range(2,max_k+1));"
   ]
  },
  {
   "cell_type": "code",
   "execution_count": null,
   "metadata": {
    "colab": {
     "base_uri": "https://localhost:8080/"
    },
    "id": "CKoOosGKVBuN",
    "outputId": "e44ca9be-6cb1-4622-9dd0-82b8a8adf81c"
   },
   "outputs": [],
   "source": [
    "k = 4\n",
    "kmeans = KMeans(n_clusters=k, n_init=100)\n",
    "kmeans.fit(X_selected)\n",
    "print(\"SSE:\",sse_list[k-2],\" - SILHOUETTE:\",sil_list[k-2])"
   ]
  },
  {
   "cell_type": "markdown",
   "metadata": {
    "id": "DLSMSgEk0Hcc"
   },
   "source": [
    "**Using Similarity Matrix for Cluster Validation**: if we have well-separated clusters, then the similarity matrix should be\n",
    "roughly block-diagonal "
   ]
  },
  {
   "cell_type": "code",
   "execution_count": null,
   "metadata": {
    "id": "SFD3O-QwkMOh"
   },
   "outputs": [],
   "source": [
    "def plot_similarity_heatmap(df, labels):\n",
    "    df = pd.DataFrame(df)\n",
    "    df['cluster'] = labels\n",
    "    columns = df.columns[0:-1]\n",
    "    df.sort_values(by='cluster', ascending=False, inplace=True)\n",
    "    dist = euclidean_distances(df.loc[:, columns], df.loc[:, columns])\n",
    "    sim = np.exp(-dist)\n",
    "    fig, ax = plt.subplots(figsize=(12,8))\n",
    "    sn.heatmap(sim, ax=ax, cmap='coolwarm')"
   ]
  },
  {
   "cell_type": "code",
   "execution_count": null,
   "metadata": {
    "colab": {
     "base_uri": "https://localhost:8080/",
     "height": 503
    },
    "id": "aqxbmTqZkPyj",
    "outputId": "b76a44dc-b1c3-45fb-eefa-af2f71a7b353"
   },
   "outputs": [],
   "source": [
    "clusters_players = kmeans.labels_\n",
    "plot_similarity_heatmap(df_clust_selected_stand, clusters_players)"
   ]
  },
  {
   "cell_type": "markdown",
   "metadata": {
    "id": "I65lRVzsuyB0"
   },
   "source": [
    "##Cluster Visualization"
   ]
  },
  {
   "cell_type": "code",
   "execution_count": null,
   "metadata": {
    "colab": {
     "base_uri": "https://localhost:8080/",
     "height": 498
    },
    "id": "nc6JZidxWxNJ",
    "outputId": "6054b082-1412-45e9-aa55-eac06e568bd6"
   },
   "outputs": [],
   "source": [
    "pca = PCA(n_components=2) \n",
    "data_to_visualize = pd.DataFrame(pca.fit_transform(X),columns=['PC_1','PC_2'])\n",
    "data_to_visualize['cluster'] = pd.Categorical(kmeans.labels_)\n",
    "plt.figure(figsize=(12,8))\n",
    "sn.scatterplot(x=\"PC_1\",y=\"PC_2\",hue=\"cluster\",data=data_to_visualize);"
   ]
  },
  {
   "cell_type": "code",
   "execution_count": null,
   "metadata": {
    "id": "Sb4Inioytm7i"
   },
   "outputs": [],
   "source": [
    "def plot_basic_statistics(df, labels, columns):\n",
    "    df = pd.DataFrame(df, columns=columns)\n",
    "    df['cluster'] = labels\n",
    "    columns = df.columns[0:-1]     \n",
    "    means = []\n",
    "    std = []\n",
    "    label_s = 12\n",
    "    fig = plt.figure(figsize=(18,8))\n",
    "    for i in np.unique(df['cluster'].array):\n",
    "        clust = df.loc[df['cluster'] == i, columns]\n",
    "        means.append(clust.describe().loc['mean'].values)\n",
    "        std.append(clust.describe().loc['std'].values)  \n",
    "    legend = []\n",
    "    for i in np.unique(df['cluster'].array):\n",
    "        plt.plot(range(0, columns.shape[0]), means[i], marker='o')\n",
    "        legend.append('Cluster %d' %i)\n",
    "    plt.legend(legend)\n",
    "    plt.xticks(range(0, columns.shape[0]), columns, fontsize=label_s, rotation=55)"
   ]
  },
  {
   "cell_type": "code",
   "execution_count": null,
   "metadata": {
    "colab": {
     "base_uri": "https://localhost:8080/",
     "height": 554
    },
    "id": "nESxeOAttoHX",
    "outputId": "42e6e610-528a-4cf2-c604-ea559e6465ea"
   },
   "outputs": [],
   "source": [
    "clusters_players = kmeans.labels_\n",
    "plot_basic_statistics(df_clust_selected_stand, clusters_players, df_clust_selected_stand.columns)"
   ]
  },
  {
   "cell_type": "code",
   "execution_count": null,
   "metadata": {
    "id": "Es4ypk9JQDko"
   },
   "outputs": [],
   "source": [
    "iterables = [df_clust_analyzed.columns, [\"mean\", \"std\"]]\n",
    "columns = pd.MultiIndex.from_product(iterables, names=[\"feature\", \"stat\"])\n",
    "\n",
    "labels = kmeans.labels_\n",
    "df_cluster = pd.DataFrame(index=range(k) ,columns=columns)"
   ]
  },
  {
   "cell_type": "code",
   "execution_count": null,
   "metadata": {
    "colab": {
     "base_uri": "https://localhost:8080/",
     "height": 234
    },
    "id": "5SRJtYApRngV",
    "outputId": "1791f46a-48b0-4faf-eac7-859a7d98d070"
   },
   "outputs": [],
   "source": [
    "df_cluster"
   ]
  },
  {
   "cell_type": "code",
   "execution_count": null,
   "metadata": {
    "colab": {
     "base_uri": "https://localhost:8080/",
     "height": 234
    },
    "id": "PUWKJccKb_-9",
    "outputId": "0d356e50-92cb-4c3c-b6cd-0fe5b2fd4aee"
   },
   "outputs": [],
   "source": [
    "df_cluster.loc[:, (slice(None), \"mean\")]"
   ]
  },
  {
   "cell_type": "code",
   "execution_count": null,
   "metadata": {
    "id": "Ls7r5XJvVXvu"
   },
   "outputs": [],
   "source": [
    "#df_clustered = pd.crosstab(df_clust_analyzed, kmeans.labels_)\n",
    "#df_clust[]\n",
    "labels = kmeans.labels_\n",
    "#d = {'mean': list(), 'std': [3, 4]}\n",
    "df_clustered = df_clust_analyzed\n",
    "df_clustered['cluster ID'] = pd.Series(labels, index = df_clustered.index)\n",
    "#df.xs('price', level=1, drop_level=False)\n",
    "df_cluster.loc[:, (slice(None), \"mean\")] = df_clustered.groupby(by='cluster ID').mean()\n",
    "#df_cluster.xs('mean', level=1, drop_level=False) = df_clustered.groupby(by='cluster ID').mean()\n",
    "#df_clustered.groupby(by='cluster ID').mean()"
   ]
  },
  {
   "cell_type": "code",
   "execution_count": null,
   "metadata": {
    "colab": {
     "base_uri": "https://localhost:8080/",
     "height": 234
    },
    "id": "h47k3u3XMvFV",
    "outputId": "45d1e6be-1e91-41cf-bac6-280d2f7980dc"
   },
   "outputs": [],
   "source": [
    "df_cluster"
   ]
  },
  {
   "cell_type": "code",
   "execution_count": null,
   "metadata": {
    "colab": {
     "base_uri": "https://localhost:8080/",
     "height": 419
    },
    "id": "iry-45Cjvb79",
    "outputId": "e8b602b0-6c5e-481d-f170-57253c407b1d"
   },
   "outputs": [],
   "source": [
    "df_cluster = pd.DataFrame(df_clust_analyzed, columns=df_clust_analyzed.columns)\n",
    "df_cluster['cluster'] = kmeans.labels_\n",
    "columns = df_cluster.columns[0:-1]     \n",
    "means = []\n",
    "std = []\n",
    "\n",
    "for i in np.unique(df_cluster['cluster'].array):\n",
    "  clust = df.loc[df_cluster['cluster'] == i, columns]\n",
    "  means.append(clust.describe().loc['mean'].values)\n",
    "  std.append(clust.describe().loc['std'].values) "
   ]
  },
  {
   "cell_type": "code",
   "execution_count": null,
   "metadata": {
    "colab": {
     "base_uri": "https://localhost:8080/",
     "height": 292
    },
    "id": "Xs1Eq1lNVV4i",
    "outputId": "913cf080-67e0-4bff-844a-d956a7f79e59"
   },
   "outputs": [],
   "source": [
    "sex_xt_pct = pd.crosstab(kmeans.labels_,df['sex'])\n",
    "\n",
    "sex_xt_pct.plot(kind='bar', stacked=False, \n",
    "                   title='Sex per cluster')\n",
    "plt.xlabel('Cluster')\n",
    "plt.ylabel('Sex')\n",
    "plt.show()"
   ]
  },
  {
   "cell_type": "code",
   "execution_count": null,
   "metadata": {
    "colab": {
     "base_uri": "https://localhost:8080/",
     "height": 656
    },
    "id": "mQP1QRnahWiI",
    "outputId": "d7bfba13-b509-4ec3-95a0-74f095bcdc61"
   },
   "outputs": [],
   "source": [
    "# Pairplot\n",
    "df_player_scaled['cluster'] = kmeans.labels_\n",
    "sn.pairplot(df_player_scaled, hue='cluster', palette='tab10')\n",
    "plt.show()"
   ]
  },
  {
   "cell_type": "markdown",
   "metadata": {
    "id": "j9DwQzY9u4nr"
   },
   "source": [
    "## Centroids"
   ]
  },
  {
   "cell_type": "code",
   "execution_count": 30,
   "metadata": {
    "colab": {
     "base_uri": "https://localhost:8080/",
     "height": 172
    },
    "id": "OF-h_2zWbVL8",
    "outputId": "879bbc2e-2ea7-456f-f0dd-4e648bfb8630"
   },
   "outputs": [
    {
     "data": {
      "text/html": [
       "<div>\n",
       "<style scoped>\n",
       "    .dataframe tbody tr th:only-of-type {\n",
       "        vertical-align: middle;\n",
       "    }\n",
       "\n",
       "    .dataframe tbody tr th {\n",
       "        vertical-align: top;\n",
       "    }\n",
       "\n",
       "    .dataframe thead th {\n",
       "        text-align: right;\n",
       "    }\n",
       "</style>\n",
       "<table border=\"1\" class=\"dataframe\">\n",
       "  <thead>\n",
       "    <tr style=\"text-align: right;\">\n",
       "      <th></th>\n",
       "      <th>p_aces</th>\n",
       "      <th>p_1st_in</th>\n",
       "      <th>p_2nd_won</th>\n",
       "      <th>p_bp_saved</th>\n",
       "    </tr>\n",
       "  </thead>\n",
       "  <tbody>\n",
       "    <tr>\n",
       "      <th>0</th>\n",
       "      <td>4.103971</td>\n",
       "      <td>57.327200</td>\n",
       "      <td>43.694514</td>\n",
       "      <td>52.196057</td>\n",
       "    </tr>\n",
       "    <tr>\n",
       "      <th>1</th>\n",
       "      <td>9.775100</td>\n",
       "      <td>59.181300</td>\n",
       "      <td>49.712500</td>\n",
       "      <td>61.638833</td>\n",
       "    </tr>\n",
       "    <tr>\n",
       "      <th>2</th>\n",
       "      <td>4.914859</td>\n",
       "      <td>61.433903</td>\n",
       "      <td>49.445596</td>\n",
       "      <td>58.453981</td>\n",
       "    </tr>\n",
       "    <tr>\n",
       "      <th>3</th>\n",
       "      <td>2.043750</td>\n",
       "      <td>66.353077</td>\n",
       "      <td>44.472404</td>\n",
       "      <td>51.743429</td>\n",
       "    </tr>\n",
       "  </tbody>\n",
       "</table>\n",
       "</div>"
      ],
      "text/plain": [
       "     p_aces   p_1st_in  p_2nd_won  p_bp_saved\n",
       "0  4.103971  57.327200  43.694514   52.196057\n",
       "1  9.775100  59.181300  49.712500   61.638833\n",
       "2  4.914859  61.433903  49.445596   58.453981\n",
       "3  2.043750  66.353077  44.472404   51.743429"
      ]
     },
     "execution_count": 30,
     "metadata": {},
     "output_type": "execute_result"
    }
   ],
   "source": [
    "centers = scaler.inverse_transform(kmeans.cluster_centers_)\n",
    "df_centr = pd.DataFrame(centers, columns=df_players_scaled.columns)\n",
    "df_centr"
   ]
  },
  {
   "cell_type": "code",
   "execution_count": 50,
   "metadata": {
    "colab": {
     "base_uri": "https://localhost:8080/",
     "height": 522
    },
    "id": "4cjGd7fcVSGv",
    "outputId": "a97a1dec-41bd-4cf5-c0d5-579fe135161b"
   },
   "outputs": [],
   "source": [
    "from math import pi\n",
    "def plot_polar_centers(df, centers, columns):\n",
    "    # number of variable\n",
    "    N = len(columns)\n",
    "\n",
    "    plt.figure(figsize = (8,8))\n",
    "    label_s = 12\n",
    "\n",
    "    for i in range(0,len(centers)):\n",
    "        angles = [n / float(N) * 2 * pi for n in range(N)]\n",
    "        values = centers[i].tolist()\n",
    "        values += values[:1]\n",
    "        angles += angles[:1]\n",
    "        # Initialise the spider plot\n",
    "        ax = plt.subplot(polar=True)\n",
    "        # Draw one axe per variable + add labels labels yet\n",
    "        plt.xticks(angles[:-1], columns, color='grey', size=label_s) \n",
    "        # Plot data\n",
    "        ax.plot(angles, values, linewidth=1, linestyle='solid')\n",
    "        # Fill area\n",
    "        ax.fill(angles, values, 'b', alpha=0.1)"
   ]
  },
  {
   "cell_type": "code",
   "execution_count": 51,
   "metadata": {},
   "outputs": [
    {
     "data": {
      "text/html": [
       "<div>\n",
       "<style scoped>\n",
       "    .dataframe tbody tr th:only-of-type {\n",
       "        vertical-align: middle;\n",
       "    }\n",
       "\n",
       "    .dataframe tbody tr th {\n",
       "        vertical-align: top;\n",
       "    }\n",
       "\n",
       "    .dataframe thead th {\n",
       "        text-align: right;\n",
       "    }\n",
       "</style>\n",
       "<table border=\"1\" class=\"dataframe\">\n",
       "  <thead>\n",
       "    <tr style=\"text-align: right;\">\n",
       "      <th></th>\n",
       "      <th>p_aces</th>\n",
       "      <th>p_1st_in</th>\n",
       "      <th>p_2nd_won</th>\n",
       "      <th>p_bp_saved</th>\n",
       "    </tr>\n",
       "  </thead>\n",
       "  <tbody>\n",
       "    <tr>\n",
       "      <th>0</th>\n",
       "      <td>1.841208</td>\n",
       "      <td>0.842695</td>\n",
       "      <td>0.667957</td>\n",
       "      <td>0.859233</td>\n",
       "    </tr>\n",
       "    <tr>\n",
       "      <th>1</th>\n",
       "      <td>0.853754</td>\n",
       "      <td>-0.925628</td>\n",
       "      <td>-0.027783</td>\n",
       "      <td>2.364583</td>\n",
       "    </tr>\n",
       "    <tr>\n",
       "      <th>2</th>\n",
       "      <td>0.091910</td>\n",
       "      <td>-0.821074</td>\n",
       "      <td>0.268551</td>\n",
       "      <td>0.950352</td>\n",
       "    </tr>\n",
       "    <tr>\n",
       "      <th>3</th>\n",
       "      <td>0.154034</td>\n",
       "      <td>0.035813</td>\n",
       "      <td>1.696105</td>\n",
       "      <td>2.305736</td>\n",
       "    </tr>\n",
       "    <tr>\n",
       "      <th>4</th>\n",
       "      <td>1.242850</td>\n",
       "      <td>-0.666516</td>\n",
       "      <td>0.582922</td>\n",
       "      <td>0.933267</td>\n",
       "    </tr>\n",
       "    <tr>\n",
       "      <th>...</th>\n",
       "      <td>...</td>\n",
       "      <td>...</td>\n",
       "      <td>...</td>\n",
       "      <td>...</td>\n",
       "    </tr>\n",
       "    <tr>\n",
       "      <th>1595</th>\n",
       "      <td>0.412342</td>\n",
       "      <td>0.188097</td>\n",
       "      <td>0.209284</td>\n",
       "      <td>0.885810</td>\n",
       "    </tr>\n",
       "    <tr>\n",
       "      <th>1596</th>\n",
       "      <td>0.964924</td>\n",
       "      <td>0.074452</td>\n",
       "      <td>-0.824018</td>\n",
       "      <td>1.210418</td>\n",
       "    </tr>\n",
       "    <tr>\n",
       "      <th>1597</th>\n",
       "      <td>-0.225253</td>\n",
       "      <td>1.545024</td>\n",
       "      <td>0.647342</td>\n",
       "      <td>0.420727</td>\n",
       "    </tr>\n",
       "    <tr>\n",
       "      <th>1598</th>\n",
       "      <td>0.503894</td>\n",
       "      <td>0.058542</td>\n",
       "      <td>0.425736</td>\n",
       "      <td>-0.023475</td>\n",
       "    </tr>\n",
       "    <tr>\n",
       "      <th>1599</th>\n",
       "      <td>1.582900</td>\n",
       "      <td>-0.343763</td>\n",
       "      <td>-0.136009</td>\n",
       "      <td>0.688387</td>\n",
       "    </tr>\n",
       "  </tbody>\n",
       "</table>\n",
       "<p>1600 rows × 4 columns</p>\n",
       "</div>"
      ],
      "text/plain": [
       "        p_aces  p_1st_in  p_2nd_won  p_bp_saved\n",
       "0     1.841208  0.842695   0.667957    0.859233\n",
       "1     0.853754 -0.925628  -0.027783    2.364583\n",
       "2     0.091910 -0.821074   0.268551    0.950352\n",
       "3     0.154034  0.035813   1.696105    2.305736\n",
       "4     1.242850 -0.666516   0.582922    0.933267\n",
       "...        ...       ...        ...         ...\n",
       "1595  0.412342  0.188097   0.209284    0.885810\n",
       "1596  0.964924  0.074452  -0.824018    1.210418\n",
       "1597 -0.225253  1.545024   0.647342    0.420727\n",
       "1598  0.503894  0.058542   0.425736   -0.023475\n",
       "1599  1.582900 -0.343763  -0.136009    0.688387\n",
       "\n",
       "[1600 rows x 4 columns]"
      ]
     },
     "execution_count": 51,
     "metadata": {},
     "output_type": "execute_result"
    }
   ],
   "source": [
    "df_players_scaled"
   ]
  },
  {
   "cell_type": "code",
   "execution_count": 52,
   "metadata": {
    "colab": {
     "base_uri": "https://localhost:8080/",
     "height": 447
    },
    "id": "-IqJ2rrLVZff",
    "outputId": "f051b2fe-39b8-47f4-e838-4868475f5b98"
   },
   "outputs": [
    {
     "data": {
      "image/png": "[encoded data removed]",
      "text/plain": [
       "<Figure size 576x576 with 1 Axes>"
      ]
     },
     "metadata": {},
     "output_type": "display_data"
    }
   ],
   "source": [
    "certers = scaler.inverse_transform(kmeans.cluster_centers_)\n",
    "plot_polar_centers(df_players_numerical, centers, df_players_numerical.columns)"
   ]
  },
  {
   "cell_type": "code",
   "execution_count": 55,
   "metadata": {},
   "outputs": [],
   "source": [
    "def plot_centers(x, centers, columns, labels):\n",
    "    \n",
    "    pca_to_visualize = PCA(n_components=2)\n",
    "    data_to_visualize = pd.DataFrame(pca_to_visualize.fit_transform(x),columns=['PC_1','PC_2'])\n",
    "    centers_to_visualize = pca_to_visualize.fit_transform(centers)\n",
    "    \n",
    "    plt.figure(figsize=(12,8))\n",
    "    plt.scatter(data_to_visualize['PC_1'],data_to_visualize['PC_2'], c=labels, s=20)\n",
    "    plt.scatter(centers_to_visualize[:, 0], centers_to_visualize[:, 1], s=100, marker='*', c='r')\n",
    "    plt.xlabel('PC_1', fontsize=12)\n",
    "    plt.ylabel('PC_1', fontsize=12)\n",
    "    plt.show()"
   ]
  },
  {
   "cell_type": "code",
   "execution_count": 56,
   "metadata": {},
   "outputs": [
    {
     "data": {
      "image/png": "[encoded data removed]",
      "text/plain": [
       "<Figure size 864x576 with 1 Axes>"
      ]
     },
     "metadata": {
      "needs_background": "light"
     },
     "output_type": "display_data"
    }
   ],
   "source": [
    "centers = kmeans.cluster_centers_\n",
    "labels = kmeans.labels_\n",
    "plot_centers(df_players_scaled.values, centers, df_players_scaled.columns, labels)"
   ]
  },
  {
   "cell_type": "code",
   "execution_count": 31,
   "metadata": {},
   "outputs": [],
   "source": [
    "df_centr['cluster'] = range(len(certers))\n",
    "df_players_scaled['cluster'] = kmeans.labels_\n",
    "df_centr = df_centr.rename(index={'0': 'zero', '1': 'one', '2': 'two', '3': 'three'})\n",
    "df_plot = df_players_scaled.append(df_centr)\n"
   ]
  },
  {
   "cell_type": "code",
   "execution_count": 32,
   "metadata": {},
   "outputs": [
    {
     "data": {
      "text/html": [
       "<div>\n",
       "<style scoped>\n",
       "    .dataframe tbody tr th:only-of-type {\n",
       "        vertical-align: middle;\n",
       "    }\n",
       "\n",
       "    .dataframe tbody tr th {\n",
       "        vertical-align: top;\n",
       "    }\n",
       "\n",
       "    .dataframe thead th {\n",
       "        text-align: right;\n",
       "    }\n",
       "</style>\n",
       "<table border=\"1\" class=\"dataframe\">\n",
       "  <thead>\n",
       "    <tr style=\"text-align: right;\">\n",
       "      <th></th>\n",
       "      <th>p_aces</th>\n",
       "      <th>p_1st_in</th>\n",
       "      <th>p_2nd_won</th>\n",
       "      <th>p_bp_saved</th>\n",
       "      <th>cluster</th>\n",
       "    </tr>\n",
       "  </thead>\n",
       "  <tbody>\n",
       "    <tr>\n",
       "      <th>0</th>\n",
       "      <td>1.841208</td>\n",
       "      <td>0.842695</td>\n",
       "      <td>0.667957</td>\n",
       "      <td>0.859233</td>\n",
       "      <td>2</td>\n",
       "    </tr>\n",
       "    <tr>\n",
       "      <th>1</th>\n",
       "      <td>0.853754</td>\n",
       "      <td>-0.925628</td>\n",
       "      <td>-0.027783</td>\n",
       "      <td>2.364583</td>\n",
       "      <td>2</td>\n",
       "    </tr>\n",
       "    <tr>\n",
       "      <th>2</th>\n",
       "      <td>0.091910</td>\n",
       "      <td>-0.821074</td>\n",
       "      <td>0.268551</td>\n",
       "      <td>0.950352</td>\n",
       "      <td>1</td>\n",
       "    </tr>\n",
       "    <tr>\n",
       "      <th>3</th>\n",
       "      <td>0.154034</td>\n",
       "      <td>0.035813</td>\n",
       "      <td>1.696105</td>\n",
       "      <td>2.305736</td>\n",
       "      <td>1</td>\n",
       "    </tr>\n",
       "    <tr>\n",
       "      <th>4</th>\n",
       "      <td>1.242850</td>\n",
       "      <td>-0.666516</td>\n",
       "      <td>0.582922</td>\n",
       "      <td>0.933267</td>\n",
       "      <td>2</td>\n",
       "    </tr>\n",
       "    <tr>\n",
       "      <th>...</th>\n",
       "      <td>...</td>\n",
       "      <td>...</td>\n",
       "      <td>...</td>\n",
       "      <td>...</td>\n",
       "      <td>...</td>\n",
       "    </tr>\n",
       "    <tr>\n",
       "      <th>1599</th>\n",
       "      <td>1.582900</td>\n",
       "      <td>-0.343763</td>\n",
       "      <td>-0.136009</td>\n",
       "      <td>0.688387</td>\n",
       "      <td>2</td>\n",
       "    </tr>\n",
       "    <tr>\n",
       "      <th>0</th>\n",
       "      <td>4.124000</td>\n",
       "      <td>57.322761</td>\n",
       "      <td>43.744225</td>\n",
       "      <td>52.252197</td>\n",
       "      <td>0</td>\n",
       "    </tr>\n",
       "    <tr>\n",
       "      <th>1</th>\n",
       "      <td>4.921038</td>\n",
       "      <td>61.480645</td>\n",
       "      <td>49.478931</td>\n",
       "      <td>58.497248</td>\n",
       "      <td>1</td>\n",
       "    </tr>\n",
       "    <tr>\n",
       "      <th>2</th>\n",
       "      <td>9.800673</td>\n",
       "      <td>59.132896</td>\n",
       "      <td>49.681212</td>\n",
       "      <td>61.616599</td>\n",
       "      <td>2</td>\n",
       "    </tr>\n",
       "    <tr>\n",
       "      <th>3</th>\n",
       "      <td>2.043750</td>\n",
       "      <td>66.353077</td>\n",
       "      <td>44.472404</td>\n",
       "      <td>51.743429</td>\n",
       "      <td>3</td>\n",
       "    </tr>\n",
       "  </tbody>\n",
       "</table>\n",
       "<p>1604 rows × 5 columns</p>\n",
       "</div>"
      ],
      "text/plain": [
       "        p_aces   p_1st_in  p_2nd_won  p_bp_saved  cluster\n",
       "0     1.841208   0.842695   0.667957    0.859233        2\n",
       "1     0.853754  -0.925628  -0.027783    2.364583        2\n",
       "2     0.091910  -0.821074   0.268551    0.950352        1\n",
       "3     0.154034   0.035813   1.696105    2.305736        1\n",
       "4     1.242850  -0.666516   0.582922    0.933267        2\n",
       "...        ...        ...        ...         ...      ...\n",
       "1599  1.582900  -0.343763  -0.136009    0.688387        2\n",
       "0     4.124000  57.322761  43.744225   52.252197        0\n",
       "1     4.921038  61.480645  49.478931   58.497248        1\n",
       "2     9.800673  59.132896  49.681212   61.616599        2\n",
       "3     2.043750  66.353077  44.472404   51.743429        3\n",
       "\n",
       "[1604 rows x 5 columns]"
      ]
     },
     "execution_count": 32,
     "metadata": {},
     "output_type": "execute_result"
    }
   ],
   "source": [
    "df_plot"
   ]
  },
  {
   "cell_type": "code",
   "execution_count": 37,
   "metadata": {},
   "outputs": [
    {
     "ename": "ValueError",
     "evalue": "cannot reindex from a duplicate axis",
     "output_type": "error",
     "traceback": [
      "\u001b[0;31m---------------------------------------------------------------------------\u001b[0m",
      "\u001b[0;31mValueError\u001b[0m                                Traceback (most recent call last)",
      "\u001b[0;32m/tmp/ipykernel_12291/2154643095.py\u001b[0m in \u001b[0;36m<module>\u001b[0;34m\u001b[0m\n\u001b[0;32m----> 1\u001b[0;31m \u001b[0msn\u001b[0m\u001b[0;34m.\u001b[0m\u001b[0mpairplot\u001b[0m\u001b[0;34m(\u001b[0m\u001b[0mdf_plot\u001b[0m\u001b[0;34m,\u001b[0m \u001b[0mhue\u001b[0m\u001b[0;34m=\u001b[0m\u001b[0;34m'cluster'\u001b[0m\u001b[0;34m,\u001b[0m \u001b[0mpalette\u001b[0m\u001b[0;34m=\u001b[0m\u001b[0;34m'tab10'\u001b[0m\u001b[0;34m)\u001b[0m\u001b[0;34m\u001b[0m\u001b[0;34m\u001b[0m\u001b[0m\n\u001b[0m",
      "\u001b[0;32m~/anaconda3/envs/tf/lib/python3.8/site-packages/seaborn/_decorators.py\u001b[0m in \u001b[0;36minner_f\u001b[0;34m(*args, **kwargs)\u001b[0m\n\u001b[1;32m     44\u001b[0m             )\n\u001b[1;32m     45\u001b[0m         \u001b[0mkwargs\u001b[0m\u001b[0;34m.\u001b[0m\u001b[0mupdate\u001b[0m\u001b[0;34m(\u001b[0m\u001b[0;34m{\u001b[0m\u001b[0mk\u001b[0m\u001b[0;34m:\u001b[0m \u001b[0marg\u001b[0m \u001b[0;32mfor\u001b[0m \u001b[0mk\u001b[0m\u001b[0;34m,\u001b[0m \u001b[0marg\u001b[0m \u001b[0;32min\u001b[0m \u001b[0mzip\u001b[0m\u001b[0;34m(\u001b[0m\u001b[0msig\u001b[0m\u001b[0;34m.\u001b[0m\u001b[0mparameters\u001b[0m\u001b[0;34m,\u001b[0m \u001b[0margs\u001b[0m\u001b[0;34m)\u001b[0m\u001b[0;34m}\u001b[0m\u001b[0;34m)\u001b[0m\u001b[0;34m\u001b[0m\u001b[0;34m\u001b[0m\u001b[0m\n\u001b[0;32m---> 46\u001b[0;31m         \u001b[0;32mreturn\u001b[0m \u001b[0mf\u001b[0m\u001b[0;34m(\u001b[0m\u001b[0;34m**\u001b[0m\u001b[0mkwargs\u001b[0m\u001b[0;34m)\u001b[0m\u001b[0;34m\u001b[0m\u001b[0;34m\u001b[0m\u001b[0m\n\u001b[0m\u001b[1;32m     47\u001b[0m     \u001b[0;32mreturn\u001b[0m \u001b[0minner_f\u001b[0m\u001b[0;34m\u001b[0m\u001b[0;34m\u001b[0m\u001b[0m\n\u001b[1;32m     48\u001b[0m \u001b[0;34m\u001b[0m\u001b[0m\n",
      "\u001b[0;32m~/anaconda3/envs/tf/lib/python3.8/site-packages/seaborn/axisgrid.py\u001b[0m in \u001b[0;36mpairplot\u001b[0;34m(data, hue, hue_order, palette, vars, x_vars, y_vars, kind, diag_kind, markers, height, aspect, corner, dropna, plot_kws, diag_kws, grid_kws, size)\u001b[0m\n\u001b[1;32m   2128\u001b[0m         \u001b[0mdiag_kws\u001b[0m\u001b[0;34m.\u001b[0m\u001b[0msetdefault\u001b[0m\u001b[0;34m(\u001b[0m\u001b[0;34m\"fill\"\u001b[0m\u001b[0;34m,\u001b[0m \u001b[0;32mTrue\u001b[0m\u001b[0;34m)\u001b[0m\u001b[0;34m\u001b[0m\u001b[0;34m\u001b[0m\u001b[0m\n\u001b[1;32m   2129\u001b[0m         \u001b[0mdiag_kws\u001b[0m\u001b[0;34m.\u001b[0m\u001b[0msetdefault\u001b[0m\u001b[0;34m(\u001b[0m\u001b[0;34m\"warn_singular\"\u001b[0m\u001b[0;34m,\u001b[0m \u001b[0;32mFalse\u001b[0m\u001b[0;34m)\u001b[0m\u001b[0;34m\u001b[0m\u001b[0;34m\u001b[0m\u001b[0m\n\u001b[0;32m-> 2130\u001b[0;31m         \u001b[0mgrid\u001b[0m\u001b[0;34m.\u001b[0m\u001b[0mmap_diag\u001b[0m\u001b[0;34m(\u001b[0m\u001b[0mkdeplot\u001b[0m\u001b[0;34m,\u001b[0m \u001b[0;34m**\u001b[0m\u001b[0mdiag_kws\u001b[0m\u001b[0;34m)\u001b[0m\u001b[0;34m\u001b[0m\u001b[0;34m\u001b[0m\u001b[0m\n\u001b[0m\u001b[1;32m   2131\u001b[0m \u001b[0;34m\u001b[0m\u001b[0m\n\u001b[1;32m   2132\u001b[0m     \u001b[0;31m# Maybe plot on the off-diagonals\u001b[0m\u001b[0;34m\u001b[0m\u001b[0;34m\u001b[0m\u001b[0;34m\u001b[0m\u001b[0m\n",
      "\u001b[0;32m~/anaconda3/envs/tf/lib/python3.8/site-packages/seaborn/axisgrid.py\u001b[0m in \u001b[0;36mmap_diag\u001b[0;34m(self, func, **kwargs)\u001b[0m\n\u001b[1;32m   1476\u001b[0m             \u001b[0mplot_kwargs\u001b[0m\u001b[0;34m.\u001b[0m\u001b[0msetdefault\u001b[0m\u001b[0;34m(\u001b[0m\u001b[0;34m\"hue_order\"\u001b[0m\u001b[0;34m,\u001b[0m \u001b[0mself\u001b[0m\u001b[0;34m.\u001b[0m\u001b[0m_hue_order\u001b[0m\u001b[0;34m)\u001b[0m\u001b[0;34m\u001b[0m\u001b[0;34m\u001b[0m\u001b[0m\n\u001b[1;32m   1477\u001b[0m             \u001b[0mplot_kwargs\u001b[0m\u001b[0;34m.\u001b[0m\u001b[0msetdefault\u001b[0m\u001b[0;34m(\u001b[0m\u001b[0;34m\"palette\"\u001b[0m\u001b[0;34m,\u001b[0m \u001b[0mself\u001b[0m\u001b[0;34m.\u001b[0m\u001b[0m_orig_palette\u001b[0m\u001b[0;34m)\u001b[0m\u001b[0;34m\u001b[0m\u001b[0;34m\u001b[0m\u001b[0m\n\u001b[0;32m-> 1478\u001b[0;31m             \u001b[0mfunc\u001b[0m\u001b[0;34m(\u001b[0m\u001b[0mx\u001b[0m\u001b[0;34m=\u001b[0m\u001b[0mvector\u001b[0m\u001b[0;34m,\u001b[0m \u001b[0;34m**\u001b[0m\u001b[0mplot_kwargs\u001b[0m\u001b[0;34m)\u001b[0m\u001b[0;34m\u001b[0m\u001b[0;34m\u001b[0m\u001b[0m\n\u001b[0m\u001b[1;32m   1479\u001b[0m             \u001b[0max\u001b[0m\u001b[0;34m.\u001b[0m\u001b[0mlegend_\u001b[0m \u001b[0;34m=\u001b[0m \u001b[0;32mNone\u001b[0m\u001b[0;34m\u001b[0m\u001b[0;34m\u001b[0m\u001b[0m\n\u001b[1;32m   1480\u001b[0m \u001b[0;34m\u001b[0m\u001b[0m\n",
      "\u001b[0;32m~/anaconda3/envs/tf/lib/python3.8/site-packages/seaborn/_decorators.py\u001b[0m in \u001b[0;36minner_f\u001b[0;34m(*args, **kwargs)\u001b[0m\n\u001b[1;32m     44\u001b[0m             )\n\u001b[1;32m     45\u001b[0m         \u001b[0mkwargs\u001b[0m\u001b[0;34m.\u001b[0m\u001b[0mupdate\u001b[0m\u001b[0;34m(\u001b[0m\u001b[0;34m{\u001b[0m\u001b[0mk\u001b[0m\u001b[0;34m:\u001b[0m \u001b[0marg\u001b[0m \u001b[0;32mfor\u001b[0m \u001b[0mk\u001b[0m\u001b[0;34m,\u001b[0m \u001b[0marg\u001b[0m \u001b[0;32min\u001b[0m \u001b[0mzip\u001b[0m\u001b[0;34m(\u001b[0m\u001b[0msig\u001b[0m\u001b[0;34m.\u001b[0m\u001b[0mparameters\u001b[0m\u001b[0;34m,\u001b[0m \u001b[0margs\u001b[0m\u001b[0;34m)\u001b[0m\u001b[0;34m}\u001b[0m\u001b[0;34m)\u001b[0m\u001b[0;34m\u001b[0m\u001b[0;34m\u001b[0m\u001b[0m\n\u001b[0;32m---> 46\u001b[0;31m         \u001b[0;32mreturn\u001b[0m \u001b[0mf\u001b[0m\u001b[0;34m(\u001b[0m\u001b[0;34m**\u001b[0m\u001b[0mkwargs\u001b[0m\u001b[0;34m)\u001b[0m\u001b[0;34m\u001b[0m\u001b[0;34m\u001b[0m\u001b[0m\n\u001b[0m\u001b[1;32m     47\u001b[0m     \u001b[0;32mreturn\u001b[0m \u001b[0minner_f\u001b[0m\u001b[0;34m\u001b[0m\u001b[0;34m\u001b[0m\u001b[0m\n\u001b[1;32m     48\u001b[0m \u001b[0;34m\u001b[0m\u001b[0m\n",
      "\u001b[0;32m~/anaconda3/envs/tf/lib/python3.8/site-packages/seaborn/distributions.py\u001b[0m in \u001b[0;36mkdeplot\u001b[0;34m(x, y, shade, vertical, kernel, bw, gridsize, cut, clip, legend, cumulative, shade_lowest, cbar, cbar_ax, cbar_kws, ax, weights, hue, palette, hue_order, hue_norm, multiple, common_norm, common_grid, levels, thresh, bw_method, bw_adjust, log_scale, color, fill, data, data2, warn_singular, **kwargs)\u001b[0m\n\u001b[1;32m   1768\u001b[0m             \u001b[0mplot_kws\u001b[0m\u001b[0;34m[\u001b[0m\u001b[0;34m\"color\"\u001b[0m\u001b[0;34m]\u001b[0m \u001b[0;34m=\u001b[0m \u001b[0mcolor\u001b[0m\u001b[0;34m\u001b[0m\u001b[0;34m\u001b[0m\u001b[0m\n\u001b[1;32m   1769\u001b[0m \u001b[0;34m\u001b[0m\u001b[0m\n\u001b[0;32m-> 1770\u001b[0;31m         p.plot_univariate_density(\n\u001b[0m\u001b[1;32m   1771\u001b[0m             \u001b[0mmultiple\u001b[0m\u001b[0;34m=\u001b[0m\u001b[0mmultiple\u001b[0m\u001b[0;34m,\u001b[0m\u001b[0;34m\u001b[0m\u001b[0;34m\u001b[0m\u001b[0m\n\u001b[1;32m   1772\u001b[0m             \u001b[0mcommon_norm\u001b[0m\u001b[0;34m=\u001b[0m\u001b[0mcommon_norm\u001b[0m\u001b[0;34m,\u001b[0m\u001b[0;34m\u001b[0m\u001b[0;34m\u001b[0m\u001b[0m\n",
      "\u001b[0;32m~/anaconda3/envs/tf/lib/python3.8/site-packages/seaborn/distributions.py\u001b[0m in \u001b[0;36mplot_univariate_density\u001b[0;34m(self, multiple, common_norm, common_grid, warn_singular, fill, legend, estimate_kws, **plot_kws)\u001b[0m\n\u001b[1;32m    926\u001b[0m \u001b[0;34m\u001b[0m\u001b[0m\n\u001b[1;32m    927\u001b[0m         \u001b[0;31m# Do the computation\u001b[0m\u001b[0;34m\u001b[0m\u001b[0;34m\u001b[0m\u001b[0;34m\u001b[0m\u001b[0m\n\u001b[0;32m--> 928\u001b[0;31m         densities = self._compute_univariate_density(\n\u001b[0m\u001b[1;32m    929\u001b[0m             \u001b[0mself\u001b[0m\u001b[0;34m.\u001b[0m\u001b[0mdata_variable\u001b[0m\u001b[0;34m,\u001b[0m\u001b[0;34m\u001b[0m\u001b[0;34m\u001b[0m\u001b[0m\n\u001b[1;32m    930\u001b[0m             \u001b[0mcommon_norm\u001b[0m\u001b[0;34m,\u001b[0m\u001b[0;34m\u001b[0m\u001b[0;34m\u001b[0m\u001b[0m\n",
      "\u001b[0;32m~/anaconda3/envs/tf/lib/python3.8/site-packages/seaborn/distributions.py\u001b[0m in \u001b[0;36m_compute_univariate_density\u001b[0;34m(self, data_variable, common_norm, common_grid, estimate_kws, log_scale, warn_singular)\u001b[0m\n\u001b[1;32m    301\u001b[0m         \u001b[0mdensities\u001b[0m \u001b[0;34m=\u001b[0m \u001b[0;34m{\u001b[0m\u001b[0;34m}\u001b[0m\u001b[0;34m\u001b[0m\u001b[0;34m\u001b[0m\u001b[0m\n\u001b[1;32m    302\u001b[0m \u001b[0;34m\u001b[0m\u001b[0m\n\u001b[0;32m--> 303\u001b[0;31m         \u001b[0;32mfor\u001b[0m \u001b[0msub_vars\u001b[0m\u001b[0;34m,\u001b[0m \u001b[0msub_data\u001b[0m \u001b[0;32min\u001b[0m \u001b[0mself\u001b[0m\u001b[0;34m.\u001b[0m\u001b[0miter_data\u001b[0m\u001b[0;34m(\u001b[0m\u001b[0;34m\"hue\"\u001b[0m\u001b[0;34m,\u001b[0m \u001b[0mfrom_comp_data\u001b[0m\u001b[0;34m=\u001b[0m\u001b[0;32mTrue\u001b[0m\u001b[0;34m)\u001b[0m\u001b[0;34m:\u001b[0m\u001b[0;34m\u001b[0m\u001b[0;34m\u001b[0m\u001b[0m\n\u001b[0m\u001b[1;32m    304\u001b[0m \u001b[0;34m\u001b[0m\u001b[0m\n\u001b[1;32m    305\u001b[0m             \u001b[0;31m# Extract the data points from this sub set and remove nulls\u001b[0m\u001b[0;34m\u001b[0m\u001b[0;34m\u001b[0m\u001b[0;34m\u001b[0m\u001b[0m\n",
      "\u001b[0;32m~/anaconda3/envs/tf/lib/python3.8/site-packages/seaborn/_core.py\u001b[0m in \u001b[0;36miter_data\u001b[0;34m(self, grouping_vars, reverse, from_comp_data)\u001b[0m\n\u001b[1;32m    981\u001b[0m \u001b[0;34m\u001b[0m\u001b[0m\n\u001b[1;32m    982\u001b[0m         \u001b[0;32mif\u001b[0m \u001b[0mfrom_comp_data\u001b[0m\u001b[0;34m:\u001b[0m\u001b[0;34m\u001b[0m\u001b[0;34m\u001b[0m\u001b[0m\n\u001b[0;32m--> 983\u001b[0;31m             \u001b[0mdata\u001b[0m \u001b[0;34m=\u001b[0m \u001b[0mself\u001b[0m\u001b[0;34m.\u001b[0m\u001b[0mcomp_data\u001b[0m\u001b[0;34m\u001b[0m\u001b[0;34m\u001b[0m\u001b[0m\n\u001b[0m\u001b[1;32m    984\u001b[0m         \u001b[0;32melse\u001b[0m\u001b[0;34m:\u001b[0m\u001b[0;34m\u001b[0m\u001b[0;34m\u001b[0m\u001b[0m\n\u001b[1;32m    985\u001b[0m             \u001b[0mdata\u001b[0m \u001b[0;34m=\u001b[0m \u001b[0mself\u001b[0m\u001b[0;34m.\u001b[0m\u001b[0mplot_data\u001b[0m\u001b[0;34m\u001b[0m\u001b[0;34m\u001b[0m\u001b[0m\n",
      "\u001b[0;32m~/anaconda3/envs/tf/lib/python3.8/site-packages/seaborn/_core.py\u001b[0m in \u001b[0;36mcomp_data\u001b[0;34m(self)\u001b[0m\n\u001b[1;32m   1055\u001b[0m                     \u001b[0morig\u001b[0m \u001b[0;34m=\u001b[0m \u001b[0mself\u001b[0m\u001b[0;34m.\u001b[0m\u001b[0mplot_data\u001b[0m\u001b[0;34m[\u001b[0m\u001b[0mvar\u001b[0m\u001b[0;34m]\u001b[0m\u001b[0;34m.\u001b[0m\u001b[0mdropna\u001b[0m\u001b[0;34m(\u001b[0m\u001b[0;34m)\u001b[0m\u001b[0;34m\u001b[0m\u001b[0;34m\u001b[0m\u001b[0m\n\u001b[1;32m   1056\u001b[0m                 \u001b[0mcomp_col\u001b[0m \u001b[0;34m=\u001b[0m \u001b[0mpd\u001b[0m\u001b[0;34m.\u001b[0m\u001b[0mSeries\u001b[0m\u001b[0;34m(\u001b[0m\u001b[0mindex\u001b[0m\u001b[0;34m=\u001b[0m\u001b[0morig\u001b[0m\u001b[0;34m.\u001b[0m\u001b[0mindex\u001b[0m\u001b[0;34m,\u001b[0m \u001b[0mdtype\u001b[0m\u001b[0;34m=\u001b[0m\u001b[0mfloat\u001b[0m\u001b[0;34m,\u001b[0m \u001b[0mname\u001b[0m\u001b[0;34m=\u001b[0m\u001b[0mvar\u001b[0m\u001b[0;34m)\u001b[0m\u001b[0;34m\u001b[0m\u001b[0;34m\u001b[0m\u001b[0m\n\u001b[0;32m-> 1057\u001b[0;31m                 \u001b[0mcomp_col\u001b[0m\u001b[0;34m.\u001b[0m\u001b[0mloc\u001b[0m\u001b[0;34m[\u001b[0m\u001b[0morig\u001b[0m\u001b[0;34m.\u001b[0m\u001b[0mindex\u001b[0m\u001b[0;34m]\u001b[0m \u001b[0;34m=\u001b[0m \u001b[0mpd\u001b[0m\u001b[0;34m.\u001b[0m\u001b[0mto_numeric\u001b[0m\u001b[0;34m(\u001b[0m\u001b[0maxis\u001b[0m\u001b[0;34m.\u001b[0m\u001b[0mconvert_units\u001b[0m\u001b[0;34m(\u001b[0m\u001b[0morig\u001b[0m\u001b[0;34m)\u001b[0m\u001b[0;34m)\u001b[0m\u001b[0;34m\u001b[0m\u001b[0;34m\u001b[0m\u001b[0m\n\u001b[0m\u001b[1;32m   1058\u001b[0m \u001b[0;34m\u001b[0m\u001b[0m\n\u001b[1;32m   1059\u001b[0m                 \u001b[0;32mif\u001b[0m \u001b[0maxis\u001b[0m\u001b[0;34m.\u001b[0m\u001b[0mget_scale\u001b[0m\u001b[0;34m(\u001b[0m\u001b[0;34m)\u001b[0m \u001b[0;34m==\u001b[0m \u001b[0;34m\"log\"\u001b[0m\u001b[0;34m:\u001b[0m\u001b[0;34m\u001b[0m\u001b[0;34m\u001b[0m\u001b[0m\n",
      "\u001b[0;32m~/anaconda3/envs/tf/lib/python3.8/site-packages/pandas/core/indexing.py\u001b[0m in \u001b[0;36m__setitem__\u001b[0;34m(self, key, value)\u001b[0m\n\u001b[1;32m    721\u001b[0m \u001b[0;34m\u001b[0m\u001b[0m\n\u001b[1;32m    722\u001b[0m         \u001b[0miloc\u001b[0m \u001b[0;34m=\u001b[0m \u001b[0mself\u001b[0m \u001b[0;32mif\u001b[0m \u001b[0mself\u001b[0m\u001b[0;34m.\u001b[0m\u001b[0mname\u001b[0m \u001b[0;34m==\u001b[0m \u001b[0;34m\"iloc\"\u001b[0m \u001b[0;32melse\u001b[0m \u001b[0mself\u001b[0m\u001b[0;34m.\u001b[0m\u001b[0mobj\u001b[0m\u001b[0;34m.\u001b[0m\u001b[0miloc\u001b[0m\u001b[0;34m\u001b[0m\u001b[0;34m\u001b[0m\u001b[0m\n\u001b[0;32m--> 723\u001b[0;31m         \u001b[0miloc\u001b[0m\u001b[0;34m.\u001b[0m\u001b[0m_setitem_with_indexer\u001b[0m\u001b[0;34m(\u001b[0m\u001b[0mindexer\u001b[0m\u001b[0;34m,\u001b[0m \u001b[0mvalue\u001b[0m\u001b[0;34m,\u001b[0m \u001b[0mself\u001b[0m\u001b[0;34m.\u001b[0m\u001b[0mname\u001b[0m\u001b[0;34m)\u001b[0m\u001b[0;34m\u001b[0m\u001b[0;34m\u001b[0m\u001b[0m\n\u001b[0m\u001b[1;32m    724\u001b[0m \u001b[0;34m\u001b[0m\u001b[0m\n\u001b[1;32m    725\u001b[0m     \u001b[0;32mdef\u001b[0m \u001b[0m_validate_key\u001b[0m\u001b[0;34m(\u001b[0m\u001b[0mself\u001b[0m\u001b[0;34m,\u001b[0m \u001b[0mkey\u001b[0m\u001b[0;34m,\u001b[0m \u001b[0maxis\u001b[0m\u001b[0;34m:\u001b[0m \u001b[0mint\u001b[0m\u001b[0;34m)\u001b[0m\u001b[0;34m:\u001b[0m\u001b[0;34m\u001b[0m\u001b[0;34m\u001b[0m\u001b[0m\n",
      "\u001b[0;32m~/anaconda3/envs/tf/lib/python3.8/site-packages/pandas/core/indexing.py\u001b[0m in \u001b[0;36m_setitem_with_indexer\u001b[0;34m(self, indexer, value, name)\u001b[0m\n\u001b[1;32m   1730\u001b[0m             \u001b[0mself\u001b[0m\u001b[0;34m.\u001b[0m\u001b[0m_setitem_with_indexer_split_path\u001b[0m\u001b[0;34m(\u001b[0m\u001b[0mindexer\u001b[0m\u001b[0;34m,\u001b[0m \u001b[0mvalue\u001b[0m\u001b[0;34m,\u001b[0m \u001b[0mname\u001b[0m\u001b[0;34m)\u001b[0m\u001b[0;34m\u001b[0m\u001b[0;34m\u001b[0m\u001b[0m\n\u001b[1;32m   1731\u001b[0m         \u001b[0;32melse\u001b[0m\u001b[0;34m:\u001b[0m\u001b[0;34m\u001b[0m\u001b[0;34m\u001b[0m\u001b[0m\n\u001b[0;32m-> 1732\u001b[0;31m             \u001b[0mself\u001b[0m\u001b[0;34m.\u001b[0m\u001b[0m_setitem_single_block\u001b[0m\u001b[0;34m(\u001b[0m\u001b[0mindexer\u001b[0m\u001b[0;34m,\u001b[0m \u001b[0mvalue\u001b[0m\u001b[0;34m,\u001b[0m \u001b[0mname\u001b[0m\u001b[0;34m)\u001b[0m\u001b[0;34m\u001b[0m\u001b[0;34m\u001b[0m\u001b[0m\n\u001b[0m\u001b[1;32m   1733\u001b[0m \u001b[0;34m\u001b[0m\u001b[0m\n\u001b[1;32m   1734\u001b[0m     \u001b[0;32mdef\u001b[0m \u001b[0m_setitem_with_indexer_split_path\u001b[0m\u001b[0;34m(\u001b[0m\u001b[0mself\u001b[0m\u001b[0;34m,\u001b[0m \u001b[0mindexer\u001b[0m\u001b[0;34m,\u001b[0m \u001b[0mvalue\u001b[0m\u001b[0;34m,\u001b[0m \u001b[0mname\u001b[0m\u001b[0;34m:\u001b[0m \u001b[0mstr\u001b[0m\u001b[0;34m)\u001b[0m\u001b[0;34m:\u001b[0m\u001b[0;34m\u001b[0m\u001b[0;34m\u001b[0m\u001b[0m\n",
      "\u001b[0;32m~/anaconda3/envs/tf/lib/python3.8/site-packages/pandas/core/indexing.py\u001b[0m in \u001b[0;36m_setitem_single_block\u001b[0;34m(self, indexer, value, name)\u001b[0m\n\u001b[1;32m   1957\u001b[0m             \u001b[0;31m# setting for extensionarrays that store dicts. Need to decide\u001b[0m\u001b[0;34m\u001b[0m\u001b[0;34m\u001b[0m\u001b[0;34m\u001b[0m\u001b[0m\n\u001b[1;32m   1958\u001b[0m             \u001b[0;31m# if it's worth supporting that.\u001b[0m\u001b[0;34m\u001b[0m\u001b[0;34m\u001b[0m\u001b[0;34m\u001b[0m\u001b[0m\n\u001b[0;32m-> 1959\u001b[0;31m             \u001b[0mvalue\u001b[0m \u001b[0;34m=\u001b[0m \u001b[0mself\u001b[0m\u001b[0;34m.\u001b[0m\u001b[0m_align_series\u001b[0m\u001b[0;34m(\u001b[0m\u001b[0mindexer\u001b[0m\u001b[0;34m,\u001b[0m \u001b[0mSeries\u001b[0m\u001b[0;34m(\u001b[0m\u001b[0mvalue\u001b[0m\u001b[0;34m)\u001b[0m\u001b[0;34m)\u001b[0m\u001b[0;34m\u001b[0m\u001b[0;34m\u001b[0m\u001b[0m\n\u001b[0m\u001b[1;32m   1960\u001b[0m \u001b[0;34m\u001b[0m\u001b[0m\n\u001b[1;32m   1961\u001b[0m         \u001b[0;32melif\u001b[0m \u001b[0misinstance\u001b[0m\u001b[0;34m(\u001b[0m\u001b[0mvalue\u001b[0m\u001b[0;34m,\u001b[0m \u001b[0mABCDataFrame\u001b[0m\u001b[0;34m)\u001b[0m \u001b[0;32mand\u001b[0m \u001b[0mname\u001b[0m \u001b[0;34m!=\u001b[0m \u001b[0;34m\"iloc\"\u001b[0m\u001b[0;34m:\u001b[0m\u001b[0;34m\u001b[0m\u001b[0;34m\u001b[0m\u001b[0m\n",
      "\u001b[0;32m~/anaconda3/envs/tf/lib/python3.8/site-packages/pandas/core/indexing.py\u001b[0m in \u001b[0;36m_align_series\u001b[0;34m(self, indexer, ser, multiindex_indexer)\u001b[0m\n\u001b[1;32m   2094\u001b[0m             \u001b[0;31m# series, so need to broadcast (see GH5206)\u001b[0m\u001b[0;34m\u001b[0m\u001b[0;34m\u001b[0m\u001b[0;34m\u001b[0m\u001b[0m\n\u001b[1;32m   2095\u001b[0m             \u001b[0;32mif\u001b[0m \u001b[0msum_aligners\u001b[0m \u001b[0;34m==\u001b[0m \u001b[0mself\u001b[0m\u001b[0;34m.\u001b[0m\u001b[0mndim\u001b[0m \u001b[0;32mand\u001b[0m \u001b[0mall\u001b[0m\u001b[0;34m(\u001b[0m\u001b[0mis_sequence\u001b[0m\u001b[0;34m(\u001b[0m\u001b[0m_\u001b[0m\u001b[0;34m)\u001b[0m \u001b[0;32mfor\u001b[0m \u001b[0m_\u001b[0m \u001b[0;32min\u001b[0m \u001b[0mindexer\u001b[0m\u001b[0;34m)\u001b[0m\u001b[0;34m:\u001b[0m\u001b[0;34m\u001b[0m\u001b[0;34m\u001b[0m\u001b[0m\n\u001b[0;32m-> 2096\u001b[0;31m                 \u001b[0mser\u001b[0m \u001b[0;34m=\u001b[0m \u001b[0mser\u001b[0m\u001b[0;34m.\u001b[0m\u001b[0mreindex\u001b[0m\u001b[0;34m(\u001b[0m\u001b[0mobj\u001b[0m\u001b[0;34m.\u001b[0m\u001b[0maxes\u001b[0m\u001b[0;34m[\u001b[0m\u001b[0;36m0\u001b[0m\u001b[0;34m]\u001b[0m\u001b[0;34m[\u001b[0m\u001b[0mindexer\u001b[0m\u001b[0;34m[\u001b[0m\u001b[0;36m0\u001b[0m\u001b[0;34m]\u001b[0m\u001b[0;34m]\u001b[0m\u001b[0;34m,\u001b[0m \u001b[0mcopy\u001b[0m\u001b[0;34m=\u001b[0m\u001b[0;32mTrue\u001b[0m\u001b[0;34m)\u001b[0m\u001b[0;34m.\u001b[0m\u001b[0m_values\u001b[0m\u001b[0;34m\u001b[0m\u001b[0;34m\u001b[0m\u001b[0m\n\u001b[0m\u001b[1;32m   2097\u001b[0m \u001b[0;34m\u001b[0m\u001b[0m\n\u001b[1;32m   2098\u001b[0m                 \u001b[0;31m# single indexer\u001b[0m\u001b[0;34m\u001b[0m\u001b[0;34m\u001b[0m\u001b[0;34m\u001b[0m\u001b[0m\n",
      "\u001b[0;32m~/anaconda3/envs/tf/lib/python3.8/site-packages/pandas/core/series.py\u001b[0m in \u001b[0;36mreindex\u001b[0;34m(self, index, **kwargs)\u001b[0m\n\u001b[1;32m   4578\u001b[0m     )\n\u001b[1;32m   4579\u001b[0m     \u001b[0;32mdef\u001b[0m \u001b[0mreindex\u001b[0m\u001b[0;34m(\u001b[0m\u001b[0mself\u001b[0m\u001b[0;34m,\u001b[0m \u001b[0mindex\u001b[0m\u001b[0;34m=\u001b[0m\u001b[0;32mNone\u001b[0m\u001b[0;34m,\u001b[0m \u001b[0;34m**\u001b[0m\u001b[0mkwargs\u001b[0m\u001b[0;34m)\u001b[0m\u001b[0;34m:\u001b[0m\u001b[0;34m\u001b[0m\u001b[0;34m\u001b[0m\u001b[0m\n\u001b[0;32m-> 4580\u001b[0;31m         \u001b[0;32mreturn\u001b[0m \u001b[0msuper\u001b[0m\u001b[0;34m(\u001b[0m\u001b[0;34m)\u001b[0m\u001b[0;34m.\u001b[0m\u001b[0mreindex\u001b[0m\u001b[0;34m(\u001b[0m\u001b[0mindex\u001b[0m\u001b[0;34m=\u001b[0m\u001b[0mindex\u001b[0m\u001b[0;34m,\u001b[0m \u001b[0;34m**\u001b[0m\u001b[0mkwargs\u001b[0m\u001b[0;34m)\u001b[0m\u001b[0;34m\u001b[0m\u001b[0;34m\u001b[0m\u001b[0m\n\u001b[0m\u001b[1;32m   4581\u001b[0m \u001b[0;34m\u001b[0m\u001b[0m\n\u001b[1;32m   4582\u001b[0m     \u001b[0;34m@\u001b[0m\u001b[0mdeprecate_nonkeyword_arguments\u001b[0m\u001b[0;34m(\u001b[0m\u001b[0mversion\u001b[0m\u001b[0;34m=\u001b[0m\u001b[0;32mNone\u001b[0m\u001b[0;34m,\u001b[0m \u001b[0mallowed_args\u001b[0m\u001b[0;34m=\u001b[0m\u001b[0;34m[\u001b[0m\u001b[0;34m\"self\"\u001b[0m\u001b[0;34m,\u001b[0m \u001b[0;34m\"labels\"\u001b[0m\u001b[0;34m]\u001b[0m\u001b[0;34m)\u001b[0m\u001b[0;34m\u001b[0m\u001b[0;34m\u001b[0m\u001b[0m\n",
      "\u001b[0;32m~/anaconda3/envs/tf/lib/python3.8/site-packages/pandas/core/generic.py\u001b[0m in \u001b[0;36mreindex\u001b[0;34m(self, *args, **kwargs)\u001b[0m\n\u001b[1;32m   4816\u001b[0m \u001b[0;34m\u001b[0m\u001b[0m\n\u001b[1;32m   4817\u001b[0m         \u001b[0;31m# perform the reindex on the axes\u001b[0m\u001b[0;34m\u001b[0m\u001b[0;34m\u001b[0m\u001b[0;34m\u001b[0m\u001b[0m\n\u001b[0;32m-> 4818\u001b[0;31m         return self._reindex_axes(\n\u001b[0m\u001b[1;32m   4819\u001b[0m             \u001b[0maxes\u001b[0m\u001b[0;34m,\u001b[0m \u001b[0mlevel\u001b[0m\u001b[0;34m,\u001b[0m \u001b[0mlimit\u001b[0m\u001b[0;34m,\u001b[0m \u001b[0mtolerance\u001b[0m\u001b[0;34m,\u001b[0m \u001b[0mmethod\u001b[0m\u001b[0;34m,\u001b[0m \u001b[0mfill_value\u001b[0m\u001b[0;34m,\u001b[0m \u001b[0mcopy\u001b[0m\u001b[0;34m\u001b[0m\u001b[0;34m\u001b[0m\u001b[0m\n\u001b[1;32m   4820\u001b[0m         ).__finalize__(self, method=\"reindex\")\n",
      "\u001b[0;32m~/anaconda3/envs/tf/lib/python3.8/site-packages/pandas/core/generic.py\u001b[0m in \u001b[0;36m_reindex_axes\u001b[0;34m(self, axes, level, limit, tolerance, method, fill_value, copy)\u001b[0m\n\u001b[1;32m   4837\u001b[0m \u001b[0;34m\u001b[0m\u001b[0m\n\u001b[1;32m   4838\u001b[0m             \u001b[0maxis\u001b[0m \u001b[0;34m=\u001b[0m \u001b[0mself\u001b[0m\u001b[0;34m.\u001b[0m\u001b[0m_get_axis_number\u001b[0m\u001b[0;34m(\u001b[0m\u001b[0ma\u001b[0m\u001b[0;34m)\u001b[0m\u001b[0;34m\u001b[0m\u001b[0;34m\u001b[0m\u001b[0m\n\u001b[0;32m-> 4839\u001b[0;31m             obj = obj._reindex_with_indexers(\n\u001b[0m\u001b[1;32m   4840\u001b[0m                 \u001b[0;34m{\u001b[0m\u001b[0maxis\u001b[0m\u001b[0;34m:\u001b[0m \u001b[0;34m[\u001b[0m\u001b[0mnew_index\u001b[0m\u001b[0;34m,\u001b[0m \u001b[0mindexer\u001b[0m\u001b[0;34m]\u001b[0m\u001b[0;34m}\u001b[0m\u001b[0;34m,\u001b[0m\u001b[0;34m\u001b[0m\u001b[0;34m\u001b[0m\u001b[0m\n\u001b[1;32m   4841\u001b[0m                 \u001b[0mfill_value\u001b[0m\u001b[0;34m=\u001b[0m\u001b[0mfill_value\u001b[0m\u001b[0;34m,\u001b[0m\u001b[0;34m\u001b[0m\u001b[0;34m\u001b[0m\u001b[0m\n",
      "\u001b[0;32m~/anaconda3/envs/tf/lib/python3.8/site-packages/pandas/core/generic.py\u001b[0m in \u001b[0;36m_reindex_with_indexers\u001b[0;34m(self, reindexers, fill_value, copy, allow_dups)\u001b[0m\n\u001b[1;32m   4881\u001b[0m \u001b[0;34m\u001b[0m\u001b[0m\n\u001b[1;32m   4882\u001b[0m             \u001b[0;31m# TODO: speed up on homogeneous DataFrame objects\u001b[0m\u001b[0;34m\u001b[0m\u001b[0;34m\u001b[0m\u001b[0;34m\u001b[0m\u001b[0m\n\u001b[0;32m-> 4883\u001b[0;31m             new_data = new_data.reindex_indexer(\n\u001b[0m\u001b[1;32m   4884\u001b[0m                 \u001b[0mindex\u001b[0m\u001b[0;34m,\u001b[0m\u001b[0;34m\u001b[0m\u001b[0;34m\u001b[0m\u001b[0m\n\u001b[1;32m   4885\u001b[0m                 \u001b[0mindexer\u001b[0m\u001b[0;34m,\u001b[0m\u001b[0;34m\u001b[0m\u001b[0;34m\u001b[0m\u001b[0m\n",
      "\u001b[0;32m~/anaconda3/envs/tf/lib/python3.8/site-packages/pandas/core/internals/managers.py\u001b[0m in \u001b[0;36mreindex_indexer\u001b[0;34m(self, new_axis, indexer, axis, fill_value, allow_dups, copy, consolidate, only_slice)\u001b[0m\n\u001b[1;32m    668\u001b[0m         \u001b[0;31m# some axes don't allow reindexing with dups\u001b[0m\u001b[0;34m\u001b[0m\u001b[0;34m\u001b[0m\u001b[0;34m\u001b[0m\u001b[0m\n\u001b[1;32m    669\u001b[0m         \u001b[0;32mif\u001b[0m \u001b[0;32mnot\u001b[0m \u001b[0mallow_dups\u001b[0m\u001b[0;34m:\u001b[0m\u001b[0;34m\u001b[0m\u001b[0;34m\u001b[0m\u001b[0m\n\u001b[0;32m--> 670\u001b[0;31m             \u001b[0mself\u001b[0m\u001b[0;34m.\u001b[0m\u001b[0maxes\u001b[0m\u001b[0;34m[\u001b[0m\u001b[0maxis\u001b[0m\u001b[0;34m]\u001b[0m\u001b[0;34m.\u001b[0m\u001b[0m_validate_can_reindex\u001b[0m\u001b[0;34m(\u001b[0m\u001b[0mindexer\u001b[0m\u001b[0;34m)\u001b[0m\u001b[0;34m\u001b[0m\u001b[0;34m\u001b[0m\u001b[0m\n\u001b[0m\u001b[1;32m    671\u001b[0m \u001b[0;34m\u001b[0m\u001b[0m\n\u001b[1;32m    672\u001b[0m         \u001b[0;32mif\u001b[0m \u001b[0maxis\u001b[0m \u001b[0;34m>=\u001b[0m \u001b[0mself\u001b[0m\u001b[0;34m.\u001b[0m\u001b[0mndim\u001b[0m\u001b[0;34m:\u001b[0m\u001b[0;34m\u001b[0m\u001b[0;34m\u001b[0m\u001b[0m\n",
      "\u001b[0;32m~/anaconda3/envs/tf/lib/python3.8/site-packages/pandas/core/indexes/base.py\u001b[0m in \u001b[0;36m_validate_can_reindex\u001b[0;34m(self, indexer)\u001b[0m\n\u001b[1;32m   3783\u001b[0m         \u001b[0;31m# trying to reindex on an axis with duplicates\u001b[0m\u001b[0;34m\u001b[0m\u001b[0;34m\u001b[0m\u001b[0;34m\u001b[0m\u001b[0m\n\u001b[1;32m   3784\u001b[0m         \u001b[0;32mif\u001b[0m \u001b[0;32mnot\u001b[0m \u001b[0mself\u001b[0m\u001b[0;34m.\u001b[0m\u001b[0m_index_as_unique\u001b[0m \u001b[0;32mand\u001b[0m \u001b[0mlen\u001b[0m\u001b[0;34m(\u001b[0m\u001b[0mindexer\u001b[0m\u001b[0;34m)\u001b[0m\u001b[0;34m:\u001b[0m\u001b[0;34m\u001b[0m\u001b[0;34m\u001b[0m\u001b[0m\n\u001b[0;32m-> 3785\u001b[0;31m             \u001b[0;32mraise\u001b[0m \u001b[0mValueError\u001b[0m\u001b[0;34m(\u001b[0m\u001b[0;34m\"cannot reindex from a duplicate axis\"\u001b[0m\u001b[0;34m)\u001b[0m\u001b[0;34m\u001b[0m\u001b[0;34m\u001b[0m\u001b[0m\n\u001b[0m\u001b[1;32m   3786\u001b[0m \u001b[0;34m\u001b[0m\u001b[0m\n\u001b[1;32m   3787\u001b[0m     def reindex(\n",
      "\u001b[0;31mValueError\u001b[0m: cannot reindex from a duplicate axis"
     ]
    },
    {
     "data": {
      "image/png": "[encoded data removed]",
      "text/plain": [
       "<Figure size 720x720 with 20 Axes>"
      ]
     },
     "metadata": {
      "needs_background": "light"
     },
     "output_type": "display_data"
    }
   ],
   "source": [
    "sn.pairplot(df_plot, hue='cluster', palette='tab10')"
   ]
  },
  {
   "cell_type": "code",
   "execution_count": null,
   "metadata": {
    "colab": {
     "base_uri": "https://localhost:8080/"
    },
    "id": "ZpgG1VQvVZ-1",
    "outputId": "d8aafd82-2a51-4953-88d0-5be25fb87087"
   },
   "outputs": [],
   "source": [
    "df_clust.loc['roger federer']"
   ]
  },
  {
   "cell_type": "code",
   "execution_count": 21,
   "metadata": {
    "colab": {
     "base_uri": "https://localhost:8080/",
     "height": 521
    },
    "id": "w4QPHvUsVL2V",
    "outputId": "3e1cfa4d-068a-4ae9-cc96-a90c72a7cf4b"
   },
   "outputs": [
    {
     "ename": "NameError",
     "evalue": "name 'df_clust_selected' is not defined",
     "output_type": "error",
     "traceback": [
      "\u001b[0;31m---------------------------------------------------------------------------\u001b[0m",
      "\u001b[0;31mNameError\u001b[0m                                 Traceback (most recent call last)",
      "\u001b[0;32m/tmp/ipykernel_13785/4148040636.py\u001b[0m in \u001b[0;36m<module>\u001b[0;34m\u001b[0m\n\u001b[1;32m      5\u001b[0m \u001b[0mfeat1\u001b[0m \u001b[0;34m=\u001b[0m \u001b[0;34m'mean_svPt'\u001b[0m\u001b[0;34m\u001b[0m\u001b[0;34m\u001b[0m\u001b[0m\n\u001b[1;32m      6\u001b[0m \u001b[0mfeat2\u001b[0m \u001b[0;34m=\u001b[0m \u001b[0;34m'mean_aces'\u001b[0m\u001b[0;34m\u001b[0m\u001b[0;34m\u001b[0m\u001b[0m\n\u001b[0;32m----> 7\u001b[0;31m \u001b[0mcol1\u001b[0m\u001b[0;34m,\u001b[0m \u001b[0mi1\u001b[0m \u001b[0;34m=\u001b[0m \u001b[0mdf_clust_selected\u001b[0m\u001b[0;34m[\u001b[0m\u001b[0mfeat1\u001b[0m\u001b[0;34m]\u001b[0m\u001b[0;34m,\u001b[0m \u001b[0mdf_clust_selected\u001b[0m\u001b[0;34m.\u001b[0m\u001b[0mcolumns\u001b[0m\u001b[0;34m.\u001b[0m\u001b[0mget_loc\u001b[0m\u001b[0;34m(\u001b[0m\u001b[0mfeat1\u001b[0m\u001b[0;34m)\u001b[0m\u001b[0;34m\u001b[0m\u001b[0;34m\u001b[0m\u001b[0m\n\u001b[0m\u001b[1;32m      8\u001b[0m \u001b[0mcol2\u001b[0m\u001b[0;34m,\u001b[0m \u001b[0mi2\u001b[0m \u001b[0;34m=\u001b[0m \u001b[0mdf_clust_selected\u001b[0m\u001b[0;34m[\u001b[0m\u001b[0mfeat2\u001b[0m\u001b[0;34m]\u001b[0m\u001b[0;34m,\u001b[0m \u001b[0mdf_clust_selected\u001b[0m\u001b[0;34m.\u001b[0m\u001b[0mcolumns\u001b[0m\u001b[0;34m.\u001b[0m\u001b[0mget_loc\u001b[0m\u001b[0;34m(\u001b[0m\u001b[0mfeat2\u001b[0m\u001b[0;34m)\u001b[0m\u001b[0;34m\u001b[0m\u001b[0;34m\u001b[0m\u001b[0m\n\u001b[1;32m      9\u001b[0m \u001b[0mxlim\u001b[0m \u001b[0;34m=\u001b[0m \u001b[0mdf_clust_selected\u001b[0m\u001b[0;34m[\u001b[0m\u001b[0mfeat1\u001b[0m\u001b[0;34m]\u001b[0m\u001b[0;34m.\u001b[0m\u001b[0mmax\u001b[0m\u001b[0;34m(\u001b[0m\u001b[0;34m)\u001b[0m\u001b[0;34m\u001b[0m\u001b[0;34m\u001b[0m\u001b[0m\n",
      "\u001b[0;31mNameError\u001b[0m: name 'df_clust_selected' is not defined"
     ]
    }
   ],
   "source": [
    "centers = scaler.inverse_transform(kmeans.cluster_centers_)\n",
    "#fig, axs = plt.subplots(2,2,figsize=(15,15))\n",
    "\n",
    "label_s = 12\n",
    "feat1 = 'mean_svPt'\n",
    "feat2 = 'mean_aces'\n",
    "col1, i1 = df_clust_selected[feat1], df_clust_selected.columns.get_loc(feat1)\n",
    "col2, i2 = df_clust_selected[feat2], df_clust_selected.columns.get_loc(feat2)\n",
    "xlim = df_clust_selected[feat1].max()\n",
    "ylim = df_clust_selected[feat2].max()\n",
    "offsetx = df_clust_selected[feat1].max()/20\n",
    "offsety = df_clust_selected[feat2].max()/20\n",
    "\n",
    "fig = plt.figure(figsize=(10,8))\n",
    "\n",
    "plt.scatter(col1, col2, c=kmeans.labels_, s=20)\n",
    "plt.scatter(centers[:, i1], centers[:, i2], s=100, marker='*', c='r')\n",
    "plt.tick_params(axis='both', which='major', labelsize=label_s)\n",
    "plt.ylabel(df_clust_selected.columns[i2], fontsize=label_s)\n",
    "plt.xlabel(df_clust_selected.columns[i1], fontsize=label_s)"
   ]
  },
  {
   "cell_type": "markdown",
   "metadata": {
    "id": "81gQeqweWbW8"
   },
   "source": [
    "# DB-scan"
   ]
  },
  {
   "cell_type": "code",
   "execution_count": null,
   "metadata": {
    "id": "-bq_1ILnWb8g"
   },
   "outputs": [],
   "source": [
    "dist = pdist(X=X, metric='euclidean')  # pair-wise distance: how every record is far from all others\n",
    "dist = squareform(dist)                # distance matrix given the vector dist"
   ]
  },
  {
   "cell_type": "code",
   "execution_count": null,
   "metadata": {
    "id": "PgscMiUjWdI0"
   },
   "outputs": [],
   "source": [
    "kmin, kmax = 3, 30\n",
    "kth_distances = {k:[] for k in range(kmin, kmax + 1)} # initialize k lists\n",
    "\n",
    "for d in dist:\n",
    "    # argsort returns the indexes that would sort d\n",
    "    indexes_to_sort_d = np.argsort(d)\n",
    "    for k in range(kmin, kmax + 1):\n",
    "        # append to kth_distances[k] the value in d that corresponds\n",
    "        # to the distance of the i-th point (record) from its k-th nn.\n",
    "        # it's like: kth_distances[k].append(sorted_d[k])), but we get \"sorted_d[k]\" by d[indexes_to_sort_d[k]]\n",
    "        kth_distances[k].append(d[indexes_to_sort_d[k]])"
   ]
  },
  {
   "cell_type": "code",
   "execution_count": null,
   "metadata": {
    "colab": {
     "base_uri": "https://localhost:8080/",
     "height": 608
    },
    "id": "yoF2oTxkWhtH",
    "outputId": "f21c4c6e-d877-4b0a-daa2-eae6d496a195"
   },
   "outputs": [],
   "source": [
    "plt.figure(figsize=(50, 20))\n",
    "for k in kth_distances.keys():\n",
    "    plt.plot(range(0, len(kth_distances[k])), sorted(kth_distances[k]))\n",
    "plt.xlim((-50, len(X) + 50))\n",
    "plt.ylim(top=1)\n",
    "plt.ylabel('distance from k-th nn (eps)', fontsize=40)\n",
    "plt.xlabel('sorted distances', fontsize=40)\n",
    "plt.xticks(rotation=-45, fontsize=40)\n",
    "plt.yticks(fontsize=40)\n",
    "plt.tick_params(axis='both', which='major')\n",
    "plt.grid()\n",
    "plt.show()"
   ]
  },
  {
   "cell_type": "code",
   "execution_count": null,
   "metadata": {
    "id": "SuJUexIxancb"
   },
   "outputs": [],
   "source": [
    "plt.figure(figsize=(15,10))\n",
    "\n",
    "plt.plot(range(0,len(kth_distances[kmin])), kmedian, linewidth=1) #kmedian already sorted\n",
    "plt.ylabel('Median of the k-th nn distances (eps)', fontsize=15)\n",
    "plt.xlabel('Indexes of the list of the sorted pairwise distances', fontsize=15)\n",
    "xticks = []\n",
    "\n",
    "for i in range(0, len(X)-1000, 200): xticks.append(i)\n",
    "\n",
    "for i in range(4000, len(kth_distances[kmin]), 100): xticks.append(i)\n",
    "\n",
    "plt.xticks(xticks, rotation=-45, fontsize=15)\n",
    "plt.yticks(fontsize=15)\n",
    "plt.tick_params(axis='both', which='major')\n",
    "plt.xlim((3800, 4400))\n",
    "plt.ylim(top=1)\n",
    "plt.grid()\n",
    "low_elb = 4000\n",
    "high_elb = 4200\n",
    "plt.axvline(x=low_elb, color='red', linestyle='--', linewidth=1)\n",
    "plt.axhline(y=sorted(kmedian)[low_elb], color='red', linestyle='--', linewidth=1)\n",
    "plt.axvline(x=high_elb, color='red', linestyle='--', linewidth=1)\n",
    "plt.axhline(y=sorted(kmedian)[high_elb], color='red', linestyle='--', linewidth=1)\n",
    "plt.show()\n",
    "print(\"Elbow area of the median of kth-NN distances plot:\")\n",
    "print(f\"Low:\\tx = {low_elb} --> eps = {kmedian[low_elb]}\")  # kmedian is already sorted\n",
    "print(f\"High:\\tx = {high_elb} --> eps = {kmedian[high_elb]}\")  # kmedian is already sorted"
   ]
  }
 ],
 "metadata": {
  "colab": {
   "collapsed_sections": [
    "hmKdxnVXU8NG",
    "81gQeqweWbW8"
   ],
   "name": "DM_14_clustering_analysis.ipynb",
   "provenance": []
  },
  "kernelspec": {
   "display_name": "Python 3",
   "language": "python",
   "name": "python3"
  },
  "language_info": {
   "codemirror_mode": {
    "name": "ipython",
    "version": 3
   },
   "file_extension": ".py",
   "mimetype": "text/x-python",
   "name": "python",
   "nbconvert_exporter": "python",
   "pygments_lexer": "ipython3",
   "version": "3.8.11"
  },
  "widgets": {
   "application/vnd.jupyter.widget-state+json": {
    "068ba2aa78c54a8b839ee9c7b54ce25a": {
     "model_module": "@jupyter-widgets/controls",
     "model_module_version": "1.5.0",
     "model_name": "HTMLModel",
     "state": {
      "_dom_classes": [],
      "_model_module": "@jupyter-widgets/controls",
      "_model_module_version": "1.5.0",
      "_model_name": "HTMLModel",
      "_view_count": null,
      "_view_module": "@jupyter-widgets/controls",
      "_view_module_version": "1.5.0",
      "_view_name": "HTMLView",
      "description": "",
      "description_tooltip": null,
      "layout": "IPY_MODEL_cfc3312ff7754bd7bb5525cd07c0e634",
      "placeholder": "​",
      "style": "IPY_MODEL_5f6a7413e4754c12b53be1c4bda9fc23",
      "value": "Iterating over possible K values: 100%"
     }
    },
    "0e2fe635d4904f2aa713b2d6b7ff57e7": {
     "model_module": "@jupyter-widgets/controls",
     "model_module_version": "1.5.0",
     "model_name": "HTMLModel",
     "state": {
      "_dom_classes": [],
      "_model_module": "@jupyter-widgets/controls",
      "_model_module_version": "1.5.0",
      "_model_name": "HTMLModel",
      "_view_count": null,
      "_view_module": "@jupyter-widgets/controls",
      "_view_module_version": "1.5.0",
      "_view_name": "HTMLView",
      "description": "",
      "description_tooltip": null,
      "layout": "IPY_MODEL_6d0bf93bf0b3471186674ab3064ba148",
      "placeholder": "​",
      "style": "IPY_MODEL_92b460a4913f4dbfaae0aa585d00e9bf",
      "value": " 19/19 [00:06&lt;00:00,  2.34it/s]"
     }
    },
    "1ee274301f2a4da5ad5ea297977f1dc8": {
     "model_module": "@jupyter-widgets/base",
     "model_module_version": "1.2.0",
     "model_name": "LayoutModel",
     "state": {
      "_model_module": "@jupyter-widgets/base",
      "_model_module_version": "1.2.0",
      "_model_name": "LayoutModel",
      "_view_count": null,
      "_view_module": "@jupyter-widgets/base",
      "_view_module_version": "1.2.0",
      "_view_name": "LayoutView",
      "align_content": null,
      "align_items": null,
      "align_self": null,
      "border": null,
      "bottom": null,
      "display": null,
      "flex": null,
      "flex_flow": null,
      "grid_area": null,
      "grid_auto_columns": null,
      "grid_auto_flow": null,
      "grid_auto_rows": null,
      "grid_column": null,
      "grid_gap": null,
      "grid_row": null,
      "grid_template_areas": null,
      "grid_template_columns": null,
      "grid_template_rows": null,
      "height": null,
      "justify_content": null,
      "justify_items": null,
      "left": null,
      "margin": null,
      "max_height": null,
      "max_width": null,
      "min_height": null,
      "min_width": null,
      "object_fit": null,
      "object_position": null,
      "order": null,
      "overflow": null,
      "overflow_x": null,
      "overflow_y": null,
      "padding": null,
      "right": null,
      "top": null,
      "visibility": null,
      "width": null
     }
    },
    "35cab9d2da8e4c56821c913d02ce071d": {
     "model_module": "@jupyter-widgets/base",
     "model_module_version": "1.2.0",
     "model_name": "LayoutModel",
     "state": {
      "_model_module": "@jupyter-widgets/base",
      "_model_module_version": "1.2.0",
      "_model_name": "LayoutModel",
      "_view_count": null,
      "_view_module": "@jupyter-widgets/base",
      "_view_module_version": "1.2.0",
      "_view_name": "LayoutView",
      "align_content": null,
      "align_items": null,
      "align_self": null,
      "border": null,
      "bottom": null,
      "display": null,
      "flex": null,
      "flex_flow": null,
      "grid_area": null,
      "grid_auto_columns": null,
      "grid_auto_flow": null,
      "grid_auto_rows": null,
      "grid_column": null,
      "grid_gap": null,
      "grid_row": null,
      "grid_template_areas": null,
      "grid_template_columns": null,
      "grid_template_rows": null,
      "height": null,
      "justify_content": null,
      "justify_items": null,
      "left": null,
      "margin": null,
      "max_height": null,
      "max_width": null,
      "min_height": null,
      "min_width": null,
      "object_fit": null,
      "object_position": null,
      "order": null,
      "overflow": null,
      "overflow_x": null,
      "overflow_y": null,
      "padding": null,
      "right": null,
      "top": null,
      "visibility": null,
      "width": null
     }
    },
    "3be78da738dd4d4a84add519c8709b84": {
     "model_module": "@jupyter-widgets/controls",
     "model_module_version": "1.5.0",
     "model_name": "ProgressStyleModel",
     "state": {
      "_model_module": "@jupyter-widgets/controls",
      "_model_module_version": "1.5.0",
      "_model_name": "ProgressStyleModel",
      "_view_count": null,
      "_view_module": "@jupyter-widgets/base",
      "_view_module_version": "1.2.0",
      "_view_name": "StyleView",
      "bar_color": null,
      "description_width": ""
     }
    },
    "4b8dca29a7914622b0451111c2ce079d": {
     "model_module": "@jupyter-widgets/controls",
     "model_module_version": "1.5.0",
     "model_name": "HBoxModel",
     "state": {
      "_dom_classes": [],
      "_model_module": "@jupyter-widgets/controls",
      "_model_module_version": "1.5.0",
      "_model_name": "HBoxModel",
      "_view_count": null,
      "_view_module": "@jupyter-widgets/controls",
      "_view_module_version": "1.5.0",
      "_view_name": "HBoxView",
      "box_style": "",
      "children": [
       "IPY_MODEL_7b30d87f705249bfa78ae61e5156f339",
       "IPY_MODEL_94698502b5e548aa9b8bc748a5b559c4",
       "IPY_MODEL_f4c5fd21eb5a4f5aa9c67dff5d014149"
      ],
      "layout": "IPY_MODEL_9bda2df10d20428ea3168141cc86c0b5"
     }
    },
    "54ba86fa3d3b41d3877878829f2cdaed": {
     "model_module": "@jupyter-widgets/controls",
     "model_module_version": "1.5.0",
     "model_name": "DescriptionStyleModel",
     "state": {
      "_model_module": "@jupyter-widgets/controls",
      "_model_module_version": "1.5.0",
      "_model_name": "DescriptionStyleModel",
      "_view_count": null,
      "_view_module": "@jupyter-widgets/base",
      "_view_module_version": "1.2.0",
      "_view_name": "StyleView",
      "description_width": ""
     }
    },
    "582cf6abfb14443ebbbbe0272c2d2599": {
     "model_module": "@jupyter-widgets/base",
     "model_module_version": "1.2.0",
     "model_name": "LayoutModel",
     "state": {
      "_model_module": "@jupyter-widgets/base",
      "_model_module_version": "1.2.0",
      "_model_name": "LayoutModel",
      "_view_count": null,
      "_view_module": "@jupyter-widgets/base",
      "_view_module_version": "1.2.0",
      "_view_name": "LayoutView",
      "align_content": null,
      "align_items": null,
      "align_self": null,
      "border": null,
      "bottom": null,
      "display": null,
      "flex": null,
      "flex_flow": null,
      "grid_area": null,
      "grid_auto_columns": null,
      "grid_auto_flow": null,
      "grid_auto_rows": null,
      "grid_column": null,
      "grid_gap": null,
      "grid_row": null,
      "grid_template_areas": null,
      "grid_template_columns": null,
      "grid_template_rows": null,
      "height": null,
      "justify_content": null,
      "justify_items": null,
      "left": null,
      "margin": null,
      "max_height": null,
      "max_width": null,
      "min_height": null,
      "min_width": null,
      "object_fit": null,
      "object_position": null,
      "order": null,
      "overflow": null,
      "overflow_x": null,
      "overflow_y": null,
      "padding": null,
      "right": null,
      "top": null,
      "visibility": null,
      "width": null
     }
    },
    "5f6a7413e4754c12b53be1c4bda9fc23": {
     "model_module": "@jupyter-widgets/controls",
     "model_module_version": "1.5.0",
     "model_name": "DescriptionStyleModel",
     "state": {
      "_model_module": "@jupyter-widgets/controls",
      "_model_module_version": "1.5.0",
      "_model_name": "DescriptionStyleModel",
      "_view_count": null,
      "_view_module": "@jupyter-widgets/base",
      "_view_module_version": "1.2.0",
      "_view_name": "StyleView",
      "description_width": ""
     }
    },
    "67e1fd4e9cc24f98acd943670c7776a0": {
     "model_module": "@jupyter-widgets/base",
     "model_module_version": "1.2.0",
     "model_name": "LayoutModel",
     "state": {
      "_model_module": "@jupyter-widgets/base",
      "_model_module_version": "1.2.0",
      "_model_name": "LayoutModel",
      "_view_count": null,
      "_view_module": "@jupyter-widgets/base",
      "_view_module_version": "1.2.0",
      "_view_name": "LayoutView",
      "align_content": null,
      "align_items": null,
      "align_self": null,
      "border": null,
      "bottom": null,
      "display": null,
      "flex": null,
      "flex_flow": null,
      "grid_area": null,
      "grid_auto_columns": null,
      "grid_auto_flow": null,
      "grid_auto_rows": null,
      "grid_column": null,
      "grid_gap": null,
      "grid_row": null,
      "grid_template_areas": null,
      "grid_template_columns": null,
      "grid_template_rows": null,
      "height": null,
      "justify_content": null,
      "justify_items": null,
      "left": null,
      "margin": null,
      "max_height": null,
      "max_width": null,
      "min_height": null,
      "min_width": null,
      "object_fit": null,
      "object_position": null,
      "order": null,
      "overflow": null,
      "overflow_x": null,
      "overflow_y": null,
      "padding": null,
      "right": null,
      "top": null,
      "visibility": null,
      "width": null
     }
    },
    "6d0bf93bf0b3471186674ab3064ba148": {
     "model_module": "@jupyter-widgets/base",
     "model_module_version": "1.2.0",
     "model_name": "LayoutModel",
     "state": {
      "_model_module": "@jupyter-widgets/base",
      "_model_module_version": "1.2.0",
      "_model_name": "LayoutModel",
      "_view_count": null,
      "_view_module": "@jupyter-widgets/base",
      "_view_module_version": "1.2.0",
      "_view_name": "LayoutView",
      "align_content": null,
      "align_items": null,
      "align_self": null,
      "border": null,
      "bottom": null,
      "display": null,
      "flex": null,
      "flex_flow": null,
      "grid_area": null,
      "grid_auto_columns": null,
      "grid_auto_flow": null,
      "grid_auto_rows": null,
      "grid_column": null,
      "grid_gap": null,
      "grid_row": null,
      "grid_template_areas": null,
      "grid_template_columns": null,
      "grid_template_rows": null,
      "height": null,
      "justify_content": null,
      "justify_items": null,
      "left": null,
      "margin": null,
      "max_height": null,
      "max_width": null,
      "min_height": null,
      "min_width": null,
      "object_fit": null,
      "object_position": null,
      "order": null,
      "overflow": null,
      "overflow_x": null,
      "overflow_y": null,
      "padding": null,
      "right": null,
      "top": null,
      "visibility": null,
      "width": null
     }
    },
    "7b30d87f705249bfa78ae61e5156f339": {
     "model_module": "@jupyter-widgets/controls",
     "model_module_version": "1.5.0",
     "model_name": "HTMLModel",
     "state": {
      "_dom_classes": [],
      "_model_module": "@jupyter-widgets/controls",
      "_model_module_version": "1.5.0",
      "_model_name": "HTMLModel",
      "_view_count": null,
      "_view_module": "@jupyter-widgets/controls",
      "_view_module_version": "1.5.0",
      "_view_name": "HTMLView",
      "description": "",
      "description_tooltip": null,
      "layout": "IPY_MODEL_582cf6abfb14443ebbbbe0272c2d2599",
      "placeholder": "​",
      "style": "IPY_MODEL_cac10d49cff2468ab29f99ad3476699c",
      "value": "Iterating over possible K values: 100%"
     }
    },
    "92b460a4913f4dbfaae0aa585d00e9bf": {
     "model_module": "@jupyter-widgets/controls",
     "model_module_version": "1.5.0",
     "model_name": "DescriptionStyleModel",
     "state": {
      "_model_module": "@jupyter-widgets/controls",
      "_model_module_version": "1.5.0",
      "_model_name": "DescriptionStyleModel",
      "_view_count": null,
      "_view_module": "@jupyter-widgets/base",
      "_view_module_version": "1.2.0",
      "_view_name": "StyleView",
      "description_width": ""
     }
    },
    "94698502b5e548aa9b8bc748a5b559c4": {
     "model_module": "@jupyter-widgets/controls",
     "model_module_version": "1.5.0",
     "model_name": "FloatProgressModel",
     "state": {
      "_dom_classes": [],
      "_model_module": "@jupyter-widgets/controls",
      "_model_module_version": "1.5.0",
      "_model_name": "FloatProgressModel",
      "_view_count": null,
      "_view_module": "@jupyter-widgets/controls",
      "_view_module_version": "1.5.0",
      "_view_name": "ProgressView",
      "bar_style": "success",
      "description": "",
      "description_tooltip": null,
      "layout": "IPY_MODEL_67e1fd4e9cc24f98acd943670c7776a0",
      "max": 19,
      "min": 0,
      "orientation": "horizontal",
      "style": "IPY_MODEL_c7fd9d81bb0b49b1a92b7ff542b5844f",
      "value": 19
     }
    },
    "9bda2df10d20428ea3168141cc86c0b5": {
     "model_module": "@jupyter-widgets/base",
     "model_module_version": "1.2.0",
     "model_name": "LayoutModel",
     "state": {
      "_model_module": "@jupyter-widgets/base",
      "_model_module_version": "1.2.0",
      "_model_name": "LayoutModel",
      "_view_count": null,
      "_view_module": "@jupyter-widgets/base",
      "_view_module_version": "1.2.0",
      "_view_name": "LayoutView",
      "align_content": null,
      "align_items": null,
      "align_self": null,
      "border": null,
      "bottom": null,
      "display": null,
      "flex": null,
      "flex_flow": null,
      "grid_area": null,
      "grid_auto_columns": null,
      "grid_auto_flow": null,
      "grid_auto_rows": null,
      "grid_column": null,
      "grid_gap": null,
      "grid_row": null,
      "grid_template_areas": null,
      "grid_template_columns": null,
      "grid_template_rows": null,
      "height": null,
      "justify_content": null,
      "justify_items": null,
      "left": null,
      "margin": null,
      "max_height": null,
      "max_width": null,
      "min_height": null,
      "min_width": null,
      "object_fit": null,
      "object_position": null,
      "order": null,
      "overflow": null,
      "overflow_x": null,
      "overflow_y": null,
      "padding": null,
      "right": null,
      "top": null,
      "visibility": null,
      "width": null
     }
    },
    "b4808066d033479183e3246665380e14": {
     "model_module": "@jupyter-widgets/base",
     "model_module_version": "1.2.0",
     "model_name": "LayoutModel",
     "state": {
      "_model_module": "@jupyter-widgets/base",
      "_model_module_version": "1.2.0",
      "_model_name": "LayoutModel",
      "_view_count": null,
      "_view_module": "@jupyter-widgets/base",
      "_view_module_version": "1.2.0",
      "_view_name": "LayoutView",
      "align_content": null,
      "align_items": null,
      "align_self": null,
      "border": null,
      "bottom": null,
      "display": null,
      "flex": null,
      "flex_flow": null,
      "grid_area": null,
      "grid_auto_columns": null,
      "grid_auto_flow": null,
      "grid_auto_rows": null,
      "grid_column": null,
      "grid_gap": null,
      "grid_row": null,
      "grid_template_areas": null,
      "grid_template_columns": null,
      "grid_template_rows": null,
      "height": null,
      "justify_content": null,
      "justify_items": null,
      "left": null,
      "margin": null,
      "max_height": null,
      "max_width": null,
      "min_height": null,
      "min_width": null,
      "object_fit": null,
      "object_position": null,
      "order": null,
      "overflow": null,
      "overflow_x": null,
      "overflow_y": null,
      "padding": null,
      "right": null,
      "top": null,
      "visibility": null,
      "width": null
     }
    },
    "c7fd9d81bb0b49b1a92b7ff542b5844f": {
     "model_module": "@jupyter-widgets/controls",
     "model_module_version": "1.5.0",
     "model_name": "ProgressStyleModel",
     "state": {
      "_model_module": "@jupyter-widgets/controls",
      "_model_module_version": "1.5.0",
      "_model_name": "ProgressStyleModel",
      "_view_count": null,
      "_view_module": "@jupyter-widgets/base",
      "_view_module_version": "1.2.0",
      "_view_name": "StyleView",
      "bar_color": null,
      "description_width": ""
     }
    },
    "cac10d49cff2468ab29f99ad3476699c": {
     "model_module": "@jupyter-widgets/controls",
     "model_module_version": "1.5.0",
     "model_name": "DescriptionStyleModel",
     "state": {
      "_model_module": "@jupyter-widgets/controls",
      "_model_module_version": "1.5.0",
      "_model_name": "DescriptionStyleModel",
      "_view_count": null,
      "_view_module": "@jupyter-widgets/base",
      "_view_module_version": "1.2.0",
      "_view_name": "StyleView",
      "description_width": ""
     }
    },
    "cfc3312ff7754bd7bb5525cd07c0e634": {
     "model_module": "@jupyter-widgets/base",
     "model_module_version": "1.2.0",
     "model_name": "LayoutModel",
     "state": {
      "_model_module": "@jupyter-widgets/base",
      "_model_module_version": "1.2.0",
      "_model_name": "LayoutModel",
      "_view_count": null,
      "_view_module": "@jupyter-widgets/base",
      "_view_module_version": "1.2.0",
      "_view_name": "LayoutView",
      "align_content": null,
      "align_items": null,
      "align_self": null,
      "border": null,
      "bottom": null,
      "display": null,
      "flex": null,
      "flex_flow": null,
      "grid_area": null,
      "grid_auto_columns": null,
      "grid_auto_flow": null,
      "grid_auto_rows": null,
      "grid_column": null,
      "grid_gap": null,
      "grid_row": null,
      "grid_template_areas": null,
      "grid_template_columns": null,
      "grid_template_rows": null,
      "height": null,
      "justify_content": null,
      "justify_items": null,
      "left": null,
      "margin": null,
      "max_height": null,
      "max_width": null,
      "min_height": null,
      "min_width": null,
      "object_fit": null,
      "object_position": null,
      "order": null,
      "overflow": null,
      "overflow_x": null,
      "overflow_y": null,
      "padding": null,
      "right": null,
      "top": null,
      "visibility": null,
      "width": null
     }
    },
    "d6bdaf29c3f34be8b4f6698a9c258f96": {
     "model_module": "@jupyter-widgets/controls",
     "model_module_version": "1.5.0",
     "model_name": "FloatProgressModel",
     "state": {
      "_dom_classes": [],
      "_model_module": "@jupyter-widgets/controls",
      "_model_module_version": "1.5.0",
      "_model_name": "FloatProgressModel",
      "_view_count": null,
      "_view_module": "@jupyter-widgets/controls",
      "_view_module_version": "1.5.0",
      "_view_name": "ProgressView",
      "bar_style": "success",
      "description": "",
      "description_tooltip": null,
      "layout": "IPY_MODEL_1ee274301f2a4da5ad5ea297977f1dc8",
      "max": 19,
      "min": 0,
      "orientation": "horizontal",
      "style": "IPY_MODEL_3be78da738dd4d4a84add519c8709b84",
      "value": 19
     }
    },
    "e306d81ee37b4c83bfd25ea4e80596ed": {
     "model_module": "@jupyter-widgets/controls",
     "model_module_version": "1.5.0",
     "model_name": "HBoxModel",
     "state": {
      "_dom_classes": [],
      "_model_module": "@jupyter-widgets/controls",
      "_model_module_version": "1.5.0",
      "_model_name": "HBoxModel",
      "_view_count": null,
      "_view_module": "@jupyter-widgets/controls",
      "_view_module_version": "1.5.0",
      "_view_name": "HBoxView",
      "box_style": "",
      "children": [
       "IPY_MODEL_068ba2aa78c54a8b839ee9c7b54ce25a",
       "IPY_MODEL_d6bdaf29c3f34be8b4f6698a9c258f96",
       "IPY_MODEL_0e2fe635d4904f2aa713b2d6b7ff57e7"
      ],
      "layout": "IPY_MODEL_b4808066d033479183e3246665380e14"
     }
    },
    "f4c5fd21eb5a4f5aa9c67dff5d014149": {
     "model_module": "@jupyter-widgets/controls",
     "model_module_version": "1.5.0",
     "model_name": "HTMLModel",
     "state": {
      "_dom_classes": [],
      "_model_module": "@jupyter-widgets/controls",
      "_model_module_version": "1.5.0",
      "_model_name": "HTMLModel",
      "_view_count": null,
      "_view_module": "@jupyter-widgets/controls",
      "_view_module_version": "1.5.0",
      "_view_name": "HTMLView",
      "description": "",
      "description_tooltip": null,
      "layout": "IPY_MODEL_35cab9d2da8e4c56821c913d02ce071d",
      "placeholder": "​",
      "style": "IPY_MODEL_54ba86fa3d3b41d3877878829f2cdaed",
      "value": " 19/19 [00:04&lt;00:00,  3.28it/s]"
     }
    }
   }
  }
 },
 "nbformat": 4,
 "nbformat_minor": 1
}
